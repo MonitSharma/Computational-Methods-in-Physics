{
  "nbformat": 4,
  "nbformat_minor": 0,
  "metadata": {
    "colab": {
      "provenance": [],
      "authorship_tag": "ABX9TyNH7YeFS/Wc5ef324ssZ2GJ",
      "include_colab_link": true
    },
    "kernelspec": {
      "name": "python3",
      "display_name": "Python 3"
    },
    "language_info": {
      "name": "python"
    }
  },
  "cells": [
    {
      "cell_type": "markdown",
      "metadata": {
        "id": "view-in-github",
        "colab_type": "text"
      },
      "source": [
        "<a href=\"https://colab.research.google.com/github/MonitSharma/Computational-Methods-in-Physics/blob/main/Lecture16_Monte_Carlo_Methods.ipynb\" target=\"_parent\"><img src=\"https://colab.research.google.com/assets/colab-badge.svg\" alt=\"Open In Colab\"/></a>"
      ]
    },
    {
      "cell_type": "code",
      "execution_count": 4,
      "metadata": {
        "id": "zQGtjAKzt_Om"
      },
      "outputs": [],
      "source": [
        "import math\n",
        "import random\n",
        "import numpy as np\n",
        "import matplotlib.pyplot as plt\n",
        "from scipy.special import gamma, rgamma\n",
        "from scipy import integrate\n",
        "import sympy as s"
      ]
    },
    {
      "cell_type": "markdown",
      "source": [
        "# Monte Carlo Methods: Integration\n",
        "\n",
        "The problem of dealing with high dimensional spaces is common to all kinds of situations, from **Machine Learning** to **Integration**. \n",
        "\n",
        "-----\n",
        "\n",
        "We haven't encountered this problem directly so far because we have been using small numbers of parameters. In discussing Bayesian Interference, we were mostly talking about $1$ and $2$ parameters at a time. But we saw in the case of Differential Equations with Machine Learning, how quickly the number of parameters would grow. \n",
        "\n",
        "-------\n",
        "\n",
        "Recall that one task we might want to perform on in this parameter space is **Integration**. Concretely, I need to integrate over some parameters to marginalize over their uncertainity. While easy to state, numerically integrating in high dimensional spaces is very difficult and is a window in the broader challenges one can encounter.\n",
        "\n",
        "\n",
        "------\n",
        "\n",
        "To see the problem, let's remember that the volume of a $d$-dimensional ball of radius $1$ is:\n",
        "\n",
        "$$ V_d = \\frac{\\pi^{d/2}}{ \\Gamma[\\frac{d}{2}+1]}$$\n",
        "\n",
        "\n",
        "However, if we stick this speher inside a $d$-dimensional box where the sphere touches the edges, so that each length of the box in the diamere $2$, then the volume of the enclosing box is $2^d$"
      ],
      "metadata": {
        "id": "ILKK4W0XFW32"
      }
    },
    {
      "cell_type": "code",
      "source": [
        "d = s.Symbol('d')\n",
        "vol = s.pi**(d/2)/s.gamma((d/2)+1)\n",
        "vol"
      ],
      "metadata": {
        "colab": {
          "base_uri": "https://localhost:8080/",
          "height": 64
        },
        "id": "ocX1XQ2nFWLd",
        "outputId": "1cc3a395-4502-4184-c375-baf08a9f488d"
      },
      "execution_count": 5,
      "outputs": [
        {
          "output_type": "execute_result",
          "data": {
            "text/plain": [
              "pi**(d/2)/gamma(d/2 + 1)"
            ],
            "text/latex": "$\\displaystyle \\frac{\\pi^{\\frac{d}{2}}}{\\Gamma\\left(\\frac{d}{2} + 1\\right)}$"
          },
          "metadata": {},
          "execution_count": 5
        }
      ]
    },
    {
      "cell_type": "markdown",
      "source": [
        "We can check this agrees with our expectations:"
      ],
      "metadata": {
        "id": "aXvCEj-wG-pi"
      }
    },
    {
      "cell_type": "code",
      "source": [
        "print(\"Volume for d=1 :\", vol.subs(d,1), \"\\nVolume for d=2 :\", vol.subs(d,2), \"\\nVolume for d=3 :\", vol.subs(d,3))"
      ],
      "metadata": {
        "colab": {
          "base_uri": "https://localhost:8080/"
        },
        "id": "r-36lY65G8QG",
        "outputId": "dc6a8d36-334d-45f7-8881-e781ace630c6"
      },
      "execution_count": 6,
      "outputs": [
        {
          "output_type": "stream",
          "name": "stdout",
          "text": [
            "Volume for d=1 : 2 \n",
            "Volume for d=2 : pi \n",
            "Volume for d=3 : 4*pi/3\n"
          ]
        }
      ]
    },
    {
      "cell_type": "code",
      "source": [
        "dlist = np.arange(100)\n",
        "dlist"
      ],
      "metadata": {
        "colab": {
          "base_uri": "https://localhost:8080/"
        },
        "id": "rUhzk7eSHHr-",
        "outputId": "f27ac312-b37a-41be-a6ea-34027e48664d"
      },
      "execution_count": 7,
      "outputs": [
        {
          "output_type": "execute_result",
          "data": {
            "text/plain": [
              "array([ 0,  1,  2,  3,  4,  5,  6,  7,  8,  9, 10, 11, 12, 13, 14, 15, 16,\n",
              "       17, 18, 19, 20, 21, 22, 23, 24, 25, 26, 27, 28, 29, 30, 31, 32, 33,\n",
              "       34, 35, 36, 37, 38, 39, 40, 41, 42, 43, 44, 45, 46, 47, 48, 49, 50,\n",
              "       51, 52, 53, 54, 55, 56, 57, 58, 59, 60, 61, 62, 63, 64, 65, 66, 67,\n",
              "       68, 69, 70, 71, 72, 73, 74, 75, 76, 77, 78, 79, 80, 81, 82, 83, 84,\n",
              "       85, 86, 87, 88, 89, 90, 91, 92, 93, 94, 95, 96, 97, 98, 99])"
            ]
          },
          "metadata": {},
          "execution_count": 7
        }
      ]
    },
    {
      "cell_type": "code",
      "source": [
        "plt.plot(dlist, np.pi**(dlist/2.)/gamma(dlist/2.+1.))\n",
        "plt.plot(dlist,2.**(dlist))\n",
        "plt.yscale('log')"
      ],
      "metadata": {
        "colab": {
          "base_uri": "https://localhost:8080/",
          "height": 265
        },
        "id": "xOrSeqyBHfFB",
        "outputId": "cb80e21f-2eeb-46d1-9a96-e49885a269d5"
      },
      "execution_count": 8,
      "outputs": [
        {
          "output_type": "display_data",
          "data": {
            "text/plain": [
              "<Figure size 432x288 with 1 Axes>"
            ],
            "image/png": "[encoded data removed]"
          },
          "metadata": {
            "needs_background": "light"
          }
        }
      ]
    },
    {
      "cell_type": "code",
      "source": [
        "def V_ratio(d):\n",
        "  return np.pi**(d/2.)/(2**(d)*gamma(d/2.+1.))"
      ],
      "metadata": {
        "id": "kRrWaxxhHsBr"
      },
      "execution_count": 9,
      "outputs": []
    },
    {
      "cell_type": "code",
      "source": [
        "print(V_ratio(3),V_ratio(10), V_ratio(20), V_ratio(100))"
      ],
      "metadata": {
        "colab": {
          "base_uri": "https://localhost:8080/"
        },
        "id": "2jYSScUdH9oF",
        "outputId": "2b3f76a9-2594-4506-f7f5-7a344e4d3a4d"
      },
      "execution_count": 10,
      "outputs": [
        {
          "output_type": "stream",
          "name": "stdout",
          "text": [
            "0.5235987755982989 0.00249039457019272 2.461136950494199e-08 1.8681820538375912e-70\n"
          ]
        }
      ]
    },
    {
      "cell_type": "markdown",
      "source": [
        "This tells us that by the time we reach $100$ dimensional space, the fraction of the volume taken up by our sphere is $10^{-70}$ of the total volume"
      ],
      "metadata": {
        "id": "A5NeYlYiIIwf"
      }
    },
    {
      "cell_type": "markdown",
      "source": [
        "So now imagine, I have a function that falls off like an exponential of the distance from the origin. The support of this function is going to be limited to a tiny fraction of the volume, So if we try to integrate this function, We put inside a $d$-dimensional grid and integrate as usual, so we'll spend all our time adding up exponentially small terms and will miss the region where the integrand gets it support.\n",
        "\n",
        "-------\n",
        "\n",
        "To see this, let's imagine trying to determine the volume of the $4-$sphere using nQuad Integration"
      ],
      "metadata": {
        "id": "4X_NYWn5Iamr"
      }
    },
    {
      "cell_type": "code",
      "source": [
        "def S2(x1,x2):\n",
        "  out=0\n",
        "  if (x1**2+x2**2)<=1.:\n",
        "    out = 1\n",
        "  return out\n",
        "def S3(x1,x2,x3):\n",
        "  out = 0\n",
        "  if (x1**2+ x2**2+ x3**2)<=1.:\n",
        "    out = 1\n",
        "  return out"
      ],
      "metadata": {
        "id": "gvO_9YMIIHqh"
      },
      "execution_count": 11,
      "outputs": []
    },
    {
      "cell_type": "code",
      "source": [
        "integrate.nquad(lambda x: x,[[0,1]])"
      ],
      "metadata": {
        "colab": {
          "base_uri": "https://localhost:8080/"
        },
        "id": "vrzNzDKWJQY5",
        "outputId": "e2622d47-c7fa-4445-fd13-0d86e477f43b"
      },
      "execution_count": 12,
      "outputs": [
        {
          "output_type": "execute_result",
          "data": {
            "text/plain": [
              "(0.5, 5.551115123125783e-15)"
            ]
          },
          "metadata": {},
          "execution_count": 12
        }
      ]
    },
    {
      "cell_type": "code",
      "source": [
        "integrate.nquad(S2,[[-1,1],[-1,1]])"
      ],
      "metadata": {
        "colab": {
          "base_uri": "https://localhost:8080/"
        },
        "id": "fXMf_oN4JXUg",
        "outputId": "e48e3fb4-89bb-42ad-92ab-16d70688eb41"
      },
      "execution_count": 13,
      "outputs": [
        {
          "output_type": "stream",
          "name": "stderr",
          "text": [
            "/usr/local/lib/python3.8/dist-packages/scipy/integrate/quadpack.py:879: IntegrationWarning: The maximum number of subdivisions (50) has been achieved.\n",
            "  If increasing the limit yields no improvement it is advised to analyze \n",
            "  the integrand in order to determine the difficulties.  If the position of a \n",
            "  local difficulty can be determined (singularity, discontinuity) one will \n",
            "  probably gain from splitting up the interval and calling the integrator \n",
            "  on the subranges.  Perhaps a special-purpose integrator should be used.\n",
            "  quad_r = quad(f, low, high, args=args, full_output=self.full_output,\n"
          ]
        },
        {
          "output_type": "execute_result",
          "data": {
            "text/plain": [
              "(3.1421278363209537, 0.0002045333175209052)"
            ]
          },
          "metadata": {},
          "execution_count": 13
        }
      ]
    },
    {
      "cell_type": "code",
      "source": [
        "integrate.dblquad(S2,-1,1,lambda x:-1,lambda x:1)"
      ],
      "metadata": {
        "colab": {
          "base_uri": "https://localhost:8080/"
        },
        "id": "5n9HZfHyJbII",
        "outputId": "695633df-fadb-49fa-d4f1-c55cd2159212"
      },
      "execution_count": 14,
      "outputs": [
        {
          "output_type": "execute_result",
          "data": {
            "text/plain": [
              "(3.1421278363209537, 0.0002045333175209052)"
            ]
          },
          "metadata": {},
          "execution_count": 14
        }
      ]
    },
    {
      "cell_type": "markdown",
      "source": [
        "This is quite slow, this is in part because of how we defined the function, so instead lets try using a built in `numpy` function that might work faste. So let's look some simple integrals as function of dimension:"
      ],
      "metadata": {
        "id": "Ak6imZdbJjzx"
      }
    },
    {
      "cell_type": "code",
      "source": [
        "integrate.nquad(lambda x,y,z,a:np.exp(-x**2-y**2-z**2-a**2),[[-1,1],[-1,1],[-1,1],[-1,1]])\n"
      ],
      "metadata": {
        "colab": {
          "base_uri": "https://localhost:8080/"
        },
        "id": "lYZEZu1SJiTX",
        "outputId": "5b65fb9a-1ad1-435a-d830-a0f1a887fcc4"
      },
      "execution_count": 15,
      "outputs": [
        {
          "output_type": "execute_result",
          "data": {
            "text/plain": [
              "(4.977294701166025, 5.5259071775793096e-14)"
            ]
          },
          "metadata": {},
          "execution_count": 15
        }
      ]
    },
    {
      "cell_type": "code",
      "source": [
        "import time"
      ],
      "metadata": {
        "id": "k1_V526AJ5wB"
      },
      "execution_count": 16,
      "outputs": []
    },
    {
      "cell_type": "code",
      "source": [
        "t0 = time.time()\n",
        "integrate.nquad(lambda x,y,z:np.exp(-x**2-y**2-z**2),[[-1,1],[-1,1],[-1,1]])\n",
        "t3=time.time() - t0\n",
        "print(t3)"
      ],
      "metadata": {
        "colab": {
          "base_uri": "https://localhost:8080/"
        },
        "id": "1ofVPOrgJ7hI",
        "outputId": "b2e724bb-8b88-42ec-8b50-292627e22a56"
      },
      "execution_count": 17,
      "outputs": [
        {
          "output_type": "stream",
          "name": "stdout",
          "text": [
            "0.0293426513671875\n"
          ]
        }
      ]
    },
    {
      "cell_type": "code",
      "source": [
        "t0 = time.time()\n",
        "integrate.nquad(lambda x,y,z,a:np.exp(-x**2-y**2-z**2-a**2),[[-1,1],[-1,1],[-1,1],[-1,1]])\n",
        "t4=time.time() - t0\n",
        "print(t4)"
      ],
      "metadata": {
        "colab": {
          "base_uri": "https://localhost:8080/"
        },
        "id": "RNclC9VoJ939",
        "outputId": "1b4f12d2-10aa-423f-8c26-861c96a863f8"
      },
      "execution_count": 18,
      "outputs": [
        {
          "output_type": "stream",
          "name": "stdout",
          "text": [
            "0.3457009792327881\n"
          ]
        }
      ]
    },
    {
      "cell_type": "code",
      "source": [
        "t0 = time.time()\n",
        "integrate.nquad(lambda x,y,z,a,b:np.exp(-x**2-y**2-z**2-a**2-b**2),[[-1,1],[-1,1],[-1,1],[-1,1],[-1,1]])\n",
        "t5=time.time() - t0\n",
        "print(t5)"
      ],
      "metadata": {
        "colab": {
          "base_uri": "https://localhost:8080/"
        },
        "id": "EWQ-jjZ8J_-e",
        "outputId": "332597d4-ee47-4f83-f8f3-781884658b93"
      },
      "execution_count": 19,
      "outputs": [
        {
          "output_type": "stream",
          "name": "stdout",
          "text": [
            "9.876713752746582\n"
          ]
        }
      ]
    },
    {
      "cell_type": "markdown",
      "source": [
        "It is costing us $20$ times the speed whenever we increase dimensions by one. So the running time is ${\\cal O}(20^d)$. \n",
        "\n",
        "Clearly we will have no hope if we want to work in some high dimensional space."
      ],
      "metadata": {
        "id": "_3NR2bzuKGQv"
      }
    },
    {
      "cell_type": "markdown",
      "source": [
        "**Why might it be good to use random numbers to integrate?**\n",
        "\n",
        "Random numbers are better than evenly space sampling because we don't actually know where our signal lives. When you are looking for a signal in an unknown space, doing something in a very correlated way is not good search strategy. Random means that there is at least some chance you will hit the right answer. In contrast, trying a regular grid may mae your probability zero because your signal lives between the grid points.\n",
        "\n",
        "\n",
        "----\n",
        "\n",
        "Let's start by implement the most basic possible version of **monte-carlo** integration just to find the volume of the $d$-sphere. Here we are simply going to sample $d$ numbers between $-1$ and $1$ and calculate the fraction inside the $d$-sphere. Finally the area is $2^d$ times this fraction.\n",
        "\n",
        "\n",
        "---\n",
        "\n",
        "As we have done this before to determine $\\pi$, we are going to go straight to comaring with the actual answer. We will output the answer every $100$ points so that we can check how quickly are we approaching the answer."
      ],
      "metadata": {
        "id": "WazF4KNX8gyd"
      }
    },
    {
      "cell_type": "code",
      "source": [
        "def dvol(n,d):\n",
        "    analytic=np.pi**(float(d)/2.)*rgamma(float(d)/2.+1)\n",
        "    count = 0\n",
        "    Narea=[]\n",
        "    x=np.zeros(d)\n",
        "    for j in range(n):\n",
        "        #sample x_i from -1 to 1\n",
        "        for i in range(d):\n",
        "            x[i]=2.* random.random()-1.\n",
        "        if (x*x).sum()<=1:\n",
        "            count += 1.\n",
        "        #only add the result if it is inside the cicle\n",
        "        if j%100 ==0 and j!=0:  # Now ouput the result every 100 steps\n",
        "            Narea.append((np.abs(2**(d)*float(count)/float(j)-analytic))/analytic)\n",
        "    \n",
        "    return Narea"
      ],
      "metadata": {
        "id": "Yy7PKuooKFMM"
      },
      "execution_count": 20,
      "outputs": []
    },
    {
      "cell_type": "code",
      "source": [
        "Narea={}\n",
        "for i in range(4):\n",
        "    t0 = time.time()\n",
        "    Narea[i]=dvol(10**6,i+2)\n",
        "    print(time.time()-t0)"
      ],
      "metadata": {
        "colab": {
          "base_uri": "https://localhost:8080/"
        },
        "id": "9hogdxxM97ee",
        "outputId": "3debd250-b5b8-4bba-8062-4424e580ad8e"
      },
      "execution_count": 21,
      "outputs": [
        {
          "output_type": "stream",
          "name": "stdout",
          "text": [
            "12.72217869758606\n",
            "11.071110248565674\n",
            "6.410494565963745\n",
            "5.3244733810424805\n"
          ]
        }
      ]
    },
    {
      "cell_type": "code",
      "source": [
        "points=100*(np.arange(len(Narea[0]))+1)\n",
        "for i in range(4):\n",
        "    plt.plot(points,Narea[i],label='d='+str(i++2))\n",
        "plt.yscale('log')\n",
        "plt.xscale('log')\n",
        "plt.legend()\n",
        "plt.show()"
      ],
      "metadata": {
        "colab": {
          "base_uri": "https://localhost:8080/",
          "height": 269
        },
        "id": "Iebhxltr99Xi",
        "outputId": "42924423-9ced-4110-b500-068c8b3ed3fc"
      },
      "execution_count": 22,
      "outputs": [
        {
          "output_type": "display_data",
          "data": {
            "text/plain": [
              "<Figure size 432x288 with 1 Axes>"
            ],
            "image/png": "[encoded data removed]"
          },
          "metadata": {
            "needs_background": "light"
          }
        }
      ]
    },
    {
      "cell_type": "markdown",
      "source": [
        "Here we are getting the same level of fractional error for approximately the same computing time as we increase dimension.\n",
        "\n",
        "\n",
        "-----\n",
        "\n",
        "However, we do note that the error is getting worse with dimension. This is not just random, at some point we are going to encounter our original problem: we are drawing numbers uniformly inside a$d$-dimensional box and keeping track of those that are inside the sphere. However, but we say at $d=20$, the fraction of volume in the sphere is about \n",
        "$2.5 \\times 10^{-8}$ and therefore we wouldn't expect to hit the sphere once in \n",
        "$10^{6}$ tries\n",
        "\n"
      ],
      "metadata": {
        "id": "4OhFekEc-FrI"
      }
    },
    {
      "cell_type": "markdown",
      "source": [
        "## Importance Sampling\n",
        "\n",
        "Of course, what we are really enountering is the idea random numbers can't solve the volume problem if we are drawing from a uniform distribution. Instead, we should be tailoring how to draw the random numbers to the problem we are trying to solve.\n",
        "\n",
        "------\n",
        "\n",
        "We are going to try a very basic technique called importance sampling. This will give us some intuition but will miss out of some of the complexity of more powerful tools.\n",
        "\n",
        "------\n",
        "\n",
        "\n",
        "However, the key idea that is common to all of them is that we have a probability distribution that allows us to increase the chance of finding the most important parts of parameter space. In advanced techniques, this probabilty adjust to the function itself, allowing it to find the highest points more easily. Here is will simply choose one and see how to tell when we've made a good choice.\n",
        "\n",
        "\n",
        "\n",
        "------\n",
        "\n",
        "Importance sampling is the generalization of the above when we don't pick a uniform distribution. Suppose instead that a pick points from a distribution $p(x)$ and I want to compute $\\int d^d x q(\\vec x) p(\\vec x) = \\langle q(\\vec x) \\rangle$\n",
        ". Now if we define $q(\\vec x) = f(\\vec x) / p(\\vec x)$\n",
        " this is also equivalent to $\\int d^d x f(\\vec x) \\equiv Q$\n",
        ". Now we draw from the distribution $p(\\vec x)$ \n",
        " we get\n",
        "\n",
        " $$ Q_N = V \\frac{1}{N} \\sum_{i =1}^{N} q(\\vec x_i) $$\n",
        "\n",
        "\n",
        " where $\\vec x_i$ are drawn from $p(\\vec x)$ then we again have $ Q_N \\to Q $. As long as $p(\\vec x)$ and $q(\\vec x)$ can be chosen to that they are large in the same areas, we might expect to find faster convergence to the correct answer.\n",
        "\n",
        " ------\n",
        "\n",
        "Let's start by recalculating the volume of the sphere. We are going to have \n",
        "$$ p(\\vec x) = e^{-|\\vec x|^2/(2 \\sigma^2)}/\\sqrt{2\\pi \\sigma^2}$$ and $f(\\vec x)=1$ where $x^2 \\leq 1$ and $0$ otherwise and therefore $ q(\\vec x) = f(\\vec x) / p(\\vec x) $ is $1/p(\\vec x_i)$ when $ \\vec x_i$ is inside the sphere and $0$ otherwise"
      ],
      "metadata": {
        "id": "Y0791DjIo-ec"
      }
    },
    {
      "cell_type": "code",
      "source": [
        "# We are going to pick from a gaussian distribution with some variance\n",
        "def gaussvol(n,d,sigma):\n",
        "    analytic=np.pi**(float(d)/2.)*rgamma(float(d)/2.+1)\n",
        "    count = 0\n",
        "    Narea=[]\n",
        "    x=np.zeros(d)\n",
        "    for j in range(n):\n",
        "        random.seed()\n",
        "        #sample x_i from -1 to 1\n",
        "        for i in range(d):\n",
        "            x[i]=np.random.randn()*sigma     \n",
        "        if (x*x).sum()<=1:\n",
        "            # Here we use importance sampling to weight the result\n",
        "            count+= np.sqrt(2*np.pi*sigma**2)**(d)*np.exp((x*x).sum()/(2.*sigma**2))\n",
        "        #only add the result if it is inside the cicle\n",
        "        if j%1000 ==0 and j!=0:\n",
        "            Narea.append(np.abs(float(count)/float(j)-analytic)/analytic)\n",
        "    \n",
        "    return Narea"
      ],
      "metadata": {
        "id": "OD9wkslY-DAM"
      },
      "execution_count": 23,
      "outputs": []
    },
    {
      "cell_type": "code",
      "source": [
        "npoints=10000\n",
        "dim=int(6)\n",
        "gaussvol(npoints,dim,1)\n",
        "#sigma_list=[5,1,0.5,0.3,0.2,0.1]\n",
        "#Gvol={}\n",
        "#for s in sigma_list:\n",
        "#    Gvol[s]=gaussvol(npoints,dim,s)\n",
        "#vol6flat=dvol(npoints,dim)"
      ],
      "metadata": {
        "colab": {
          "base_uri": "https://localhost:8080/"
        },
        "id": "RX_8x9h0qLIo",
        "outputId": "097a166d-8683-4961-bd1b-cfad65596383"
      },
      "execution_count": 24,
      "outputs": [
        {
          "output_type": "execute_result",
          "data": {
            "text/plain": [
              "[0.06048469194680241,\n",
              " 0.16789802213849692,\n",
              " 0.13483447861895106,\n",
              " 0.08437614661927738,\n",
              " 0.08106565456096165,\n",
              " 0.06342682307616075,\n",
              " 0.012394160425677907,\n",
              " 0.017870852067435525,\n",
              " 0.08800475510036476]"
            ]
          },
          "metadata": {},
          "execution_count": 24
        }
      ]
    },
    {
      "cell_type": "code",
      "source": [
        "# We are going to pick from a gaussian distribution with some variance\n",
        "def gaussvol_fast(n,d,sigma):\n",
        "    analytic=np.pi**(float(d)/2.)*rgamma(float(d)/2.+1)\n",
        "    count = 0\n",
        "    Narea=[]\n",
        "    X=(np.random.randn(d*n)*sigma).reshape(n,d)\n",
        "    Y=((X**2).sum(axis=1))\n",
        "    f=1000\n",
        "    factor=int(n/f)\n",
        "    out=np.zeros(factor)\n",
        "    for i in range(factor):\n",
        "        out[i]=np.abs(((Y[:(i+1)*f]<=1)*np.exp(Y[:(i+1)*f]/(2*sigma**2))).sum()*np.sqrt(2*np.pi*sigma**2)**d/((i+1)*f)-analytic)/analytic\n",
        "    #return ((Y<=1)*np.exp(Y)).sum()/n\n",
        "    return out"
      ],
      "metadata": {
        "id": "xNuxAjEsqM8R"
      },
      "execution_count": 25,
      "outputs": []
    },
    {
      "cell_type": "code",
      "source": [
        "npoints=1000000\n",
        "dim=int(6)\n",
        "sigma_list=[0.6,0.4,0.2]\n",
        "Gvol={}\n",
        "for s in sigma_list:\n",
        "    Gvol[s]=gaussvol_fast(npoints,dim,s)\n",
        "vol6flat=dvol(npoints,dim)"
      ],
      "metadata": {
        "id": "63NR2V8cqO6o"
      },
      "execution_count": 26,
      "outputs": []
    },
    {
      "cell_type": "code",
      "source": [
        "Num=np.arange(1000,npoints+1000,step=1000)\n",
        "n_old=np.arange(100,npoints,step=100)\n",
        "for s in sigma_list:\n",
        "    plt.plot(Num,Gvol[s],label=str(s))\n",
        "plt.plot(n_old,vol6flat,color='black')\n",
        "plt.yscale('log')\n",
        "#plt.xscale('log')\n",
        "plt.legend()\n",
        "plt.xlim(1000,npoints)\n",
        "plt.show()"
      ],
      "metadata": {
        "id": "umK9RtURqQxU"
      },
      "execution_count": 26,
      "outputs": []
    },
    {
      "cell_type": "markdown",
      "source": [
        "The first thing we notice is that for the same number of randomly drawn points, some of our Gaussian models are doing quite a bit better than our black line which used a uniform distribution.\n",
        "\n",
        "The second, and more important, thing to notice that the accuracy is not strictly decreasing or increasing. The best choice was 0.4, both 0.2 and 0.6 had larger errors. This is pretty easy to understand if we keep track of how often we are throwing away points:"
      ],
      "metadata": {
        "id": "PwqAYu5OqX1E"
      }
    },
    {
      "cell_type": "code",
      "source": [
        "# We are going to pick from a gaussian distribution with some variance\n",
        "def gaussvol_frac(n,d,sigma):\n",
        "    analytic=np.pi**(float(d)/2.)*rgamma(float(d)/2.+1)\n",
        "    count = 0\n",
        "    Narea=[]\n",
        "    X=(np.random.randn(d*n)*sigma).reshape(n,d)\n",
        "    Y=((X**2).sum(axis=1))\n",
        "\n",
        "    out_Vol=np.abs(((Y<=1)*np.exp(Y/(2*sigma**2))).sum()*np.sqrt(2*np.pi*sigma**2)**d/(n)-analytic)/analytic\n",
        "    out_frac=(Y<=1).sum()/n\n",
        "    return out_Vol,out_frac"
      ],
      "metadata": {
        "id": "VMPazVbzqVf-"
      },
      "execution_count": 27,
      "outputs": []
    },
    {
      "cell_type": "code",
      "source": [
        "s_r=np.logspace(-2,0.5,40)\n",
        "error=np.zeros(len(s_r))\n",
        "frac=np.zeros(len(s_r))\n",
        "for i in range(len(s_r)):\n",
        "    error[i],frac[i]=gaussvol_frac(npoints,dim,s_r[i])"
      ],
      "metadata": {
        "id": "9hCLAK0Eqas6"
      },
      "execution_count": 28,
      "outputs": []
    },
    {
      "cell_type": "code",
      "source": [
        "plt.plot(s_r,error,color='darkorange',lw=3,label='error')\n",
        "plt.plot(s_r,frac,lw=3,label='acceptance fraction')\n",
        "plt.legend()\n",
        "plt.yscale('log')\n",
        "plt.xscale('log')\n",
        "plt.show()"
      ],
      "metadata": {
        "colab": {
          "base_uri": "https://localhost:8080/",
          "height": 269
        },
        "id": "l3YLWQk4qcNw",
        "outputId": "cbc3b95f-0b56-4246-8f6c-ee6ead238f59"
      },
      "execution_count": 29,
      "outputs": [
        {
          "output_type": "display_data",
          "data": {
            "text/plain": [
              "<Figure size 432x288 with 1 Axes>"
            ],
            "image/png": "[encoded data removed]"
          },
          "metadata": {
            "needs_background": "light"
          }
        }
      ]
    },
    {
      "cell_type": "markdown",
      "source": [
        "Here we see what's going on: when $\\sigma < 0.1$, basically every point is inside the sphere. The fraction of points that pass $\\vec x^2\\leq 1$\n",
        " is basically 100 percent, but that means out points are not really sampling the shape of the function $f(x)$ . When $\\sigma > 1$ almost none of the points are passing the test and so our error also increases because we don't have enough points.\n",
        "\n",
        "-------\n",
        "\n",
        "\n",
        "This is the basic moral of monte carlo methods: they can be much more effective than other techniques, but the parameters of the probability distribution have to encode some knowledge of the function. There are lots of scheme that use the idea of throwing away random number that aren't in some range, and what we learned here is that you are trying to find a sweet spot between never throwing away your trails and always throwing them away."
      ],
      "metadata": {
        "id": "kRr3H_0wqkaM"
      }
    },
    {
      "cell_type": "code",
      "source": [
        "print(gaussvol_frac(npoints,10,0.5))\n",
        "print(gaussvol_frac(npoints,20,0.25))\n",
        "print(gaussvol_frac(npoints,50,0.15))"
      ],
      "metadata": {
        "colab": {
          "base_uri": "https://localhost:8080/"
        },
        "id": "JpGInhGUqeWf",
        "outputId": "149a1ee2-5146-46b1-aa9f-2547688d8bb9"
      },
      "execution_count": 30,
      "outputs": [
        {
          "output_type": "stream",
          "name": "stdout",
          "text": [
            "(0.00346859310205382, 0.052757)\n",
            "(0.0028324078575628804, 0.284042)\n",
            "(0.000582928513427336, 0.304763)\n"
          ]
        }
      ]
    },
    {
      "cell_type": "markdown",
      "source": [
        "But look at what we can do with this: we are calculating integration in 50 dimensions in seconds so 1/1000 accuracy. This would have been impossible the way we had started."
      ],
      "metadata": {
        "id": "bQ1Q94Fzq4Za"
      }
    },
    {
      "cell_type": "markdown",
      "source": [
        "## Application to a Generic Integral\n",
        "\n",
        "Now we want to do more than just calculate the volume but think about calculating an actual integral. Well, luckily enough for us, we have already done most of the work. If we define a function that takes a shape $(n,d)$ array and returns a length n array, then we can easily add it to the function we already have.\n",
        "\n",
        "-------\n",
        "\n",
        "Remember $f(x)$  was just implemented by the bool $Y<=1$. To make this an integral over a number function, we just swapm that piece for our function.\n",
        "\n"
      ],
      "metadata": {
        "id": "NdQuEp5oq632"
      }
    },
    {
      "cell_type": "code",
      "source": [
        "def gauss_int(f,n,d,sigma):\n",
        "    X=(np.random.randn(d*n)*sigma).reshape(n,d)\n",
        "    Y=((X**2).sum(axis=1))\n",
        "\n",
        "    out_int=(f(X)*np.exp(Y/(2*sigma**2))).sum()*np.sqrt(2*np.pi*sigma**2)**d/(n)\n",
        "    out_frac=(Y<=1).sum()/n\n",
        "    return out_int,out_frac"
      ],
      "metadata": {
        "id": "_8WBSfkuq2-j"
      },
      "execution_count": 31,
      "outputs": []
    },
    {
      "cell_type": "markdown",
      "source": [
        "As long as the function is define as describe, this will work. A simple example might be"
      ],
      "metadata": {
        "id": "YRn5L7S-rOEH"
      }
    },
    {
      "cell_type": "code",
      "source": [
        "def radial_func(X):\n",
        "    z=(X**2).sum(axis=1)\n",
        "    return np.sin(0.2*z)*np.exp(-z)"
      ],
      "metadata": {
        "id": "7CcuQQFgrMI-"
      },
      "execution_count": 32,
      "outputs": []
    },
    {
      "cell_type": "code",
      "source": [
        "gauss_int(radial_func,10000000,6,0.5)"
      ],
      "metadata": {
        "colab": {
          "base_uri": "https://localhost:8080/"
        },
        "id": "e0RrEDvArQPa",
        "outputId": "0008b312-4821-4995-9462-d9deb8cfcc4f"
      },
      "execution_count": 33,
      "outputs": [
        {
          "output_type": "execute_result",
          "data": {
            "text/plain": [
              "(16.3349915514955, 0.3231932)"
            ]
          },
          "metadata": {},
          "execution_count": 33
        }
      ]
    },
    {
      "cell_type": "markdown",
      "source": [
        "We see there is really no problem with the speed of this method. Our real challenge becomes how we test the accuracy. Since part of the challege is picking the parameters that best suite the integral, we can't rely on knowing the exact answer (otherwise why are we doing the integral!). Some basic things we can do are check convergence and sensitivity to parameters"
      ],
      "metadata": {
        "id": "sDliQWivrTck"
      }
    },
    {
      "cell_type": "code",
      "source": [
        "print(gauss_int(radial_func,100000,6,0.5))\n",
        "print(gauss_int(radial_func,1000000,6,0.5))\n",
        "print(gauss_int(radial_func,10000000,6,0.5))"
      ],
      "metadata": {
        "colab": {
          "base_uri": "https://localhost:8080/"
        },
        "id": "yedgDq9IrR2H",
        "outputId": "05660e73-8678-465f-8011-ffa02624b281"
      },
      "execution_count": 34,
      "outputs": [
        {
          "output_type": "stream",
          "name": "stdout",
          "text": [
            "(16.895485034434888, 0.32206)\n",
            "(16.376262527334685, 0.322957)\n",
            "(16.298585285415857, 0.3232081)\n"
          ]
        }
      ]
    },
    {
      "cell_type": "code",
      "source": [
        "int_val=np.zeros(len(s_r))\n",
        "int_frac=np.zeros(len(s_r))\n",
        "for i in range(len(s_r)):\n",
        "    int_val[i],int_frac[i]=gauss_int(radial_func,1000000,6,s_r[i])"
      ],
      "metadata": {
        "id": "K70EYn-VrWDh"
      },
      "execution_count": 35,
      "outputs": []
    },
    {
      "cell_type": "code",
      "source": [
        "plt.plot(s_r,int_val,color='darkorange',lw=3,label='integral')\n",
        "plt.plot(s_r,int_frac,lw=3,label='acceptance fraction')\n",
        "plt.legend()\n",
        "plt.yscale('log')\n",
        "plt.xscale('log')\n",
        "plt.show()"
      ],
      "metadata": {
        "colab": {
          "base_uri": "https://localhost:8080/",
          "height": 269
        },
        "id": "lXQN6rQKrYl5",
        "outputId": "21e91d88-61ba-4063-cc74-0b8dcce69a80"
      },
      "execution_count": 36,
      "outputs": [
        {
          "output_type": "display_data",
          "data": {
            "text/plain": [
              "<Figure size 432x288 with 1 Axes>"
            ],
            "image/png": "[encoded data removed]"
          },
          "metadata": {
            "needs_background": "light"
          }
        }
      ]
    },
    {
      "cell_type": "code",
      "source": [
        "plt.plot(s_r,int_val,color='darkorange',lw=3,label='integral')\n",
        "#plt.plot(s_r,int_frac,lw=3,label='acceptance fraction')\n",
        "#plt.legend()\n",
        "#plt.yscale('log')\n",
        "plt.xscale('log')\n",
        "plt.show()"
      ],
      "metadata": {
        "colab": {
          "base_uri": "https://localhost:8080/",
          "height": 269
        },
        "id": "4cNRq9UcraWa",
        "outputId": "b3b2350d-57fb-4976-f48b-05ad8bef56f2"
      },
      "execution_count": 37,
      "outputs": [
        {
          "output_type": "display_data",
          "data": {
            "text/plain": [
              "<Figure size 432x288 with 1 Axes>"
            ],
            "image/png": "[encoded data removed]"
          },
          "metadata": {
            "needs_background": "light"
          }
        }
      ]
    },
    {
      "cell_type": "markdown",
      "source": [
        "## Summary\n",
        "\n",
        "There are a wide range of numerical methods that use random numbers to speed up and/or improve the accuracy of the method. This is particularly important for problems with nots of parameters where uniform sampling becomes extremely inefficient. We studied the case of integration specifically, which shows many of the pros and cons of these methods in a context that is easy enough to understand.\n"
      ],
      "metadata": {
        "id": "hPHTK2dyrdJU"
      }
    }
  ]
}