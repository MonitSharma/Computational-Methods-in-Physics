{
  "nbformat": 4,
  "nbformat_minor": 0,
  "metadata": {
    "colab": {
      "provenance": [],
      "authorship_tag": "ABX9TyMHOxQAe/Ab0y9fnz6eU13v",
      "include_colab_link": true
    },
    "kernelspec": {
      "name": "python3",
      "display_name": "Python 3"
    },
    "language_info": {
      "name": "python"
    }
  },
  "cells": [
    {
      "cell_type": "markdown",
      "metadata": {
        "id": "view-in-github",
        "colab_type": "text"
      },
      "source": [
        "<a href=\"https://colab.research.google.com/github/MonitSharma/Computational-Methods-in-Physics/blob/main/Lecture08_Integration.ipynb\" target=\"_parent\"><img src=\"https://colab.research.google.com/assets/colab-badge.svg\" alt=\"Open In Colab\"/></a>"
      ]
    },
    {
      "cell_type": "markdown",
      "source": [
        "# Integration"
      ],
      "metadata": {
        "id": "UEjEvwnwzPe0"
      }
    },
    {
      "cell_type": "code",
      "execution_count": 1,
      "metadata": {
        "id": "kXFL7wY6zJJ6"
      },
      "outputs": [],
      "source": [
        "import scipy.integrate as integrate\n",
        "import scipy.special as special\n",
        "import numpy as np\n",
        "import matplotlib.pyplot as plt"
      ]
    },
    {
      "cell_type": "markdown",
      "source": [
        "The next obvious numerical tool you will encourter in numerical integration. This is also a good time to introduce special functions, because often the hardest problem is how to integrate these kinds of special functions.\n",
        "\n",
        "-----\n",
        "\n",
        "\n",
        "Let's start with just doing a basic one-dimensional integral."
      ],
      "metadata": {
        "id": "TMEMNTbXze_8"
      }
    },
    {
      "cell_type": "code",
      "source": [
        "integrate.quad(lambda x:np.sin(x), 0,2*np.pi)"
      ],
      "metadata": {
        "colab": {
          "base_uri": "https://localhost:8080/"
        },
        "id": "k8lViXzMzcoJ",
        "outputId": "35346f95-8f66-40b1-e1fc-c39b667163cc"
      },
      "execution_count": 2,
      "outputs": [
        {
          "output_type": "execute_result",
          "data": {
            "text/plain": [
              "(2.221501482512777e-16, 4.3998892617845996e-14)"
            ]
          },
          "metadata": {},
          "execution_count": 2
        }
      ]
    },
    {
      "cell_type": "markdown",
      "source": [
        "The first number it returns is the intergal. The second is the estimated error.\n",
        "\n",
        "------\n",
        "\n",
        "It doesn't seem any harder to integrate some less well-known functions. Here is a Bessel J function:"
      ],
      "metadata": {
        "id": "M2x4-NsvzpOc"
      }
    },
    {
      "cell_type": "code",
      "source": [
        "xlist=np.arange(0,10,0.01)\n",
        "plt.plot(xlist,special.jv(5,10*xlist))\n",
        "plt.show()"
      ],
      "metadata": {
        "colab": {
          "base_uri": "https://localhost:8080/",
          "height": 268
        },
        "id": "vt-d-pCLzmcn",
        "outputId": "816db30e-fe07-4b65-8a89-811a3e41eeba"
      },
      "execution_count": 3,
      "outputs": [
        {
          "output_type": "display_data",
          "data": {
            "text/plain": [
              "<Figure size 432x288 with 1 Axes>"
            ],
            "image/png": "[encoded data removed]"
          },
          "metadata": {
            "needs_background": "light"
          }
        }
      ]
    },
    {
      "cell_type": "markdown",
      "source": [
        "Here is the integral of the function"
      ],
      "metadata": {
        "id": "GZnm72_EzujD"
      }
    },
    {
      "cell_type": "code",
      "source": [
        "integrate.quad(lambda x: special.jv(5,10*x),0,10) "
      ],
      "metadata": {
        "colab": {
          "base_uri": "https://localhost:8080/"
        },
        "id": "Ad_yjQL-zs3F",
        "outputId": "49589732-8a56-445d-8cbb-62d2ac56c877"
      },
      "execution_count": 4,
      "outputs": [
        {
          "output_type": "execute_result",
          "data": {
            "text/plain": [
              "(0.09708600454893379, 2.3560111938366723e-10)"
            ]
          },
          "metadata": {},
          "execution_count": 4
        }
      ]
    },
    {
      "cell_type": "markdown",
      "source": [
        "We can even integrate all the way to $x=\\infty$:"
      ],
      "metadata": {
        "id": "kO6TRrmqz1DT"
      }
    },
    {
      "cell_type": "code",
      "source": [
        "integrate.quad(lambda x: special.jv(5,10*x),0,np.inf) "
      ],
      "metadata": {
        "colab": {
          "base_uri": "https://localhost:8080/"
        },
        "id": "nUE8eHoSzz95",
        "outputId": "faf3f4dd-956e-462f-9860-9491501b7c3b"
      },
      "execution_count": 5,
      "outputs": [
        {
          "output_type": "stream",
          "name": "stderr",
          "text": [
            "<ipython-input-5-119683264614>:1: IntegrationWarning: The integral is probably divergent, or slowly convergent.\n",
            "  integrate.quad(lambda x: special.jv(5,10*x),0,np.inf)\n"
          ]
        },
        {
          "output_type": "execute_result",
          "data": {
            "text/plain": [
              "(-5.118808731259237, 6.099584828241221)"
            ]
          },
          "metadata": {},
          "execution_count": 5
        }
      ]
    },
    {
      "cell_type": "markdown",
      "source": [
        "Notice that there estimated error is large, so we should be careful about integrating to infinity."
      ],
      "metadata": {
        "id": "Qxj6V3tDz_jf"
      }
    },
    {
      "cell_type": "markdown",
      "source": [
        "## Making your own integrator\n",
        "\n",
        "As with equation solving, we can learn a lot about the code by trying to do it ourselves.\n",
        "\n",
        "----\n",
        "\n",
        "At the end of the day, one-dimenstion intgeration is just adding up a bunch of areas"
      ],
      "metadata": {
        "id": "2FATMAbH0CXv"
      }
    },
    {
      "cell_type": "code",
      "source": [
        "def my_integrate(f,a,b,dx):\n",
        "  x = np.arange(a,b,dx)\n",
        "  y = f(x)\n",
        "  return (y.sum()-(y[0]+y[-1])/2.)*dx # here we are adding the area"
      ],
      "metadata": {
        "id": "wFGWnXLVz8Xd"
      },
      "execution_count": 6,
      "outputs": []
    },
    {
      "cell_type": "code",
      "source": [
        "my_integrate(lambda x: np.sin(x),0,2*np.pi,0.0000001)"
      ],
      "metadata": {
        "colab": {
          "base_uri": "https://localhost:8080/"
        },
        "id": "awZ_hK1z0q8s",
        "outputId": "2a13c411-71cc-4305-e56c-2fb181cf5f78"
      },
      "execution_count": 7,
      "outputs": [
        {
          "output_type": "execute_result",
          "data": {
            "text/plain": [
              "-1.1031427981055676e-14"
            ]
          },
          "metadata": {},
          "execution_count": 7
        }
      ]
    },
    {
      "cell_type": "markdown",
      "source": [
        "Let's try with a difficult integral"
      ],
      "metadata": {
        "id": "oWxOgsie1BRX"
      }
    },
    {
      "cell_type": "code",
      "source": [
        "import time"
      ],
      "metadata": {
        "id": "kF-_L5jn0-EN"
      },
      "execution_count": 8,
      "outputs": []
    },
    {
      "cell_type": "code",
      "source": [
        "t1 = time.time()\n",
        "print(my_integrate(lambda x: special.jv(5,10*x),0,10,0.000001))\n",
        "print(time.time() - t1)"
      ],
      "metadata": {
        "colab": {
          "base_uri": "https://localhost:8080/"
        },
        "id": "AOSvAioF1Hfc",
        "outputId": "952ef884-ff40-4d3a-d154-be52d3158fc4"
      },
      "execution_count": 9,
      "outputs": [
        {
          "output_type": "stream",
          "name": "stdout",
          "text": [
            "0.09708607874484464\n",
            "14.187432527542114\n"
          ]
        }
      ]
    },
    {
      "cell_type": "code",
      "source": [
        "t1 = time.time()\n",
        "print(integrate.quad(lambda x: special.jv(5,10*x),0,10))\n",
        "print(time.time() - t1)"
      ],
      "metadata": {
        "colab": {
          "base_uri": "https://localhost:8080/"
        },
        "id": "OI4uJWxw1S_y",
        "outputId": "2e057252-ddc8-432a-d541-1f011dab4016"
      },
      "execution_count": 10,
      "outputs": [
        {
          "output_type": "stream",
          "name": "stdout",
          "text": [
            "(0.09708600454893379, 2.3560111938366723e-10)\n",
            "0.0014812946319580078\n"
          ]
        }
      ]
    },
    {
      "cell_type": "markdown",
      "source": [
        "Scipy got an answer 1000 times faster. If we wanted to get an answer that fast we would lose a lot of accuracy"
      ],
      "metadata": {
        "id": "BwORMmnK1ZFx"
      }
    },
    {
      "cell_type": "code",
      "source": [
        "t1 = time.time()\n",
        "print(my_integrate(lambda x: special.jv(5,10*x),0,10,0.01))\n",
        "print(time.time() - t1)"
      ],
      "metadata": {
        "colab": {
          "base_uri": "https://localhost:8080/"
        },
        "id": "s7DzvSdr1Wco",
        "outputId": "75c8997c-8688-4abd-f3eb-37f49e37a601"
      },
      "execution_count": 11,
      "outputs": [
        {
          "output_type": "stream",
          "name": "stdout",
          "text": [
            "0.09784348811546184\n",
            "0.003149747848510742\n"
          ]
        }
      ]
    },
    {
      "cell_type": "markdown",
      "source": [
        "## Accuracy Settings\n",
        "\n",
        "We can guess that, although scipy is much faster, it must also have some kind of accuracy settings just like ours"
      ],
      "metadata": {
        "id": "nrYJQuCU1gca"
      }
    },
    {
      "cell_type": "code",
      "source": [
        "a=integrate.quad(lambda x: np.sin(100*x)*np.exp(-x**2),0,np.inf) \n",
        "a"
      ],
      "metadata": {
        "colab": {
          "base_uri": "https://localhost:8080/"
        },
        "id": "4yhnSq0-1ejj",
        "outputId": "594d5032-c053-4aa2-e77b-26478cc840cf"
      },
      "execution_count": 12,
      "outputs": [
        {
          "output_type": "stream",
          "name": "stderr",
          "text": [
            "<ipython-input-12-b7c0236b80aa>:1: IntegrationWarning: The maximum number of subdivisions (50) has been achieved.\n",
            "  If increasing the limit yields no improvement it is advised to analyze \n",
            "  the integrand in order to determine the difficulties.  If the position of a \n",
            "  local difficulty can be determined (singularity, discontinuity) one will \n",
            "  probably gain from splitting up the interval and calling the integrator \n",
            "  on the subranges.  Perhaps a special-purpose integrator should be used.\n",
            "  a=integrate.quad(lambda x: np.sin(100*x)*np.exp(-x**2),0,np.inf)\n"
          ]
        },
        {
          "output_type": "execute_result",
          "data": {
            "text/plain": [
              "(0.010002000716284378, 5.772468964950251e-07)"
            ]
          },
          "metadata": {},
          "execution_count": 12
        }
      ]
    },
    {
      "cell_type": "markdown",
      "source": [
        "The exact answer is 0.010002001201201683031..."
      ],
      "metadata": {
        "id": "wd0EhXTv1xq3"
      }
    },
    {
      "cell_type": "code",
      "source": [
        "exact = 0.01000200120120168303067014934894552744967"
      ],
      "metadata": {
        "id": "PjvCaAeb1vl4"
      },
      "execution_count": 13,
      "outputs": []
    },
    {
      "cell_type": "code",
      "source": [
        "a[0]-exact"
      ],
      "metadata": {
        "colab": {
          "base_uri": "https://localhost:8080/"
        },
        "id": "T5J9_u1U3ncr",
        "outputId": "862ec7e0-8b9c-4d26-92e0-b9a5f2f6ac7a"
      },
      "execution_count": 14,
      "outputs": [
        {
          "output_type": "execute_result",
          "data": {
            "text/plain": [
              "-4.849173059623402e-10"
            ]
          },
          "metadata": {},
          "execution_count": 14
        }
      ]
    },
    {
      "cell_type": "markdown",
      "source": [
        "The first thing we can do is to allow a finer spacing on the points used in the itegral by increasing \"limit\" (default=50)"
      ],
      "metadata": {
        "id": "JTD4S-NF3rZ4"
      }
    },
    {
      "cell_type": "code",
      "source": [
        "b=integrate.quad(lambda x: np.sin(100*x)*np.exp(-x**2),0,np.inf,limit=10000) \n",
        "b"
      ],
      "metadata": {
        "colab": {
          "base_uri": "https://localhost:8080/"
        },
        "id": "Sc3jm8rW3pMF",
        "outputId": "08594ead-49a2-4a28-800a-696d35cb2afc"
      },
      "execution_count": 15,
      "outputs": [
        {
          "output_type": "execute_result",
          "data": {
            "text/plain": [
              "(0.010002000775794492, 1.4393504053202729e-08)"
            ]
          },
          "metadata": {},
          "execution_count": 15
        }
      ]
    },
    {
      "cell_type": "code",
      "source": [
        "b[0]-exact"
      ],
      "metadata": {
        "colab": {
          "base_uri": "https://localhost:8080/"
        },
        "id": "9hKwD7Ho3uOw",
        "outputId": "7173a7ec-44dd-46f5-8f06-a083946daab1"
      },
      "execution_count": 16,
      "outputs": [
        {
          "output_type": "execute_result",
          "data": {
            "text/plain": [
              "-4.254071921117042e-10"
            ]
          },
          "metadata": {},
          "execution_count": 16
        }
      ]
    },
    {
      "cell_type": "markdown",
      "source": [
        "This helps a bit, but not by much. The next thing we can do is try to force it to tolarate less error."
      ],
      "metadata": {
        "id": "Z40wW-hI3y1e"
      }
    },
    {
      "cell_type": "code",
      "source": [
        "c=integrate.quad(lambda x: np.sin(100*x)*np.exp(-x**2),0,np.inf,limit=1000,epsabs=1.49e-14, epsrel=1.49e-14) \n",
        "c"
      ],
      "metadata": {
        "colab": {
          "base_uri": "https://localhost:8080/"
        },
        "id": "r28nQ48a3wHI",
        "outputId": "84a7df04-d4fa-441e-fafa-94d7d6050752"
      },
      "execution_count": 17,
      "outputs": [
        {
          "output_type": "execute_result",
          "data": {
            "text/plain": [
              "(0.010002001201201989, 1.4167858071836784e-14)"
            ]
          },
          "metadata": {},
          "execution_count": 17
        }
      ]
    },
    {
      "cell_type": "code",
      "source": [
        "c[0]-exact"
      ],
      "metadata": {
        "colab": {
          "base_uri": "https://localhost:8080/"
        },
        "id": "8yubdMqX31_9",
        "outputId": "0a16ab15-8b97-40d2-93a7-f958fe869c7f"
      },
      "execution_count": 18,
      "outputs": [
        {
          "output_type": "execute_result",
          "data": {
            "text/plain": [
              "3.0531133177191805e-16"
            ]
          },
          "metadata": {},
          "execution_count": 18
        }
      ]
    },
    {
      "cell_type": "markdown",
      "source": [
        "Unforunately, there are still plenty of functions that are very challenging in integrate numerically. This is particularly a problem if we have to integrate a highly oscilatory function over a lot of cycles:"
      ],
      "metadata": {
        "id": "Obbfb_ZP36ox"
      }
    },
    {
      "cell_type": "code",
      "source": [
        "fig,ax=plt.subplots(figsize=(12,6),ncols=2)\n",
        "x_in=np.linspace(0,10,10000)\n",
        "ax[0].plot(x_in,np.sin(100*x_in)*np.exp(-0.01*x_in))\n",
        "ax[1].plot(x_in,np.sin(100*x_in)*np.exp(-0.01*x_in))\n",
        "ax[1].set_xlim(0,1)"
      ],
      "metadata": {
        "colab": {
          "base_uri": "https://localhost:8080/",
          "height": 350
        },
        "id": "z66hmdsL34db",
        "outputId": "18cf9c9e-e66a-422f-fff5-c540c82ab982"
      },
      "execution_count": 19,
      "outputs": [
        {
          "output_type": "execute_result",
          "data": {
            "text/plain": [
              "(0.0, 1.0)"
            ]
          },
          "metadata": {},
          "execution_count": 19
        },
        {
          "output_type": "display_data",
          "data": {
            "text/plain": [
              "<Figure size 864x432 with 2 Axes>"
            ],
            "image/png": "[encoded data removed]"
          },
          "metadata": {
            "needs_background": "light"
          }
        }
      ]
    },
    {
      "cell_type": "markdown",
      "source": [
        "We know how to integrate this function analytically so that\n",
        "\n",
        "$$ \\int_0^\\infty dx \\sin(100 x) e^{-0.01 x}\\approx 100/(100^2+0.01^2) \\approx 0.01 $$\n",
        "\n",
        "Let's try integrating this with higher accuracy setting"
      ],
      "metadata": {
        "id": "T220R9jZ4AXW"
      }
    },
    {
      "cell_type": "code",
      "source": [
        "integrate.quad(lambda x: np.sin(100*x)*np.exp(-0.01*x),0,np.inf,limit=100000,epsabs=1.49e-14, epsrel=1.49e-14) \n"
      ],
      "metadata": {
        "colab": {
          "base_uri": "https://localhost:8080/"
        },
        "id": "0hyN6Uy539_w",
        "outputId": "87feacd0-afd3-46c2-c7b6-d8fc1828f8b3"
      },
      "execution_count": 20,
      "outputs": [
        {
          "output_type": "stream",
          "name": "stderr",
          "text": [
            "<ipython-input-20-44be41ad67ba>:1: IntegrationWarning: The occurrence of roundoff error is detected, which prevents \n",
            "  the requested tolerance from being achieved.  The error may be \n",
            "  underestimated.\n",
            "  integrate.quad(lambda x: np.sin(100*x)*np.exp(-0.01*x),0,np.inf,limit=100000,epsabs=1.49e-14, epsrel=1.49e-14)\n"
          ]
        },
        {
          "output_type": "execute_result",
          "data": {
            "text/plain": [
              "(0.007655040627821697, 0.6746958696325651)"
            ]
          },
          "metadata": {},
          "execution_count": 20
        }
      ]
    },
    {
      "cell_type": "markdown",
      "source": [
        "The answer itself is is off by 24%, but the estimated error is very large (if we didn't know the exact answer, it would be hard to use the result).\n",
        "\n",
        "-----\n",
        "\n",
        "\n",
        "One strategy we can try is splitting the integral into two regions, one finite one where we expect most of the area to lie:"
      ],
      "metadata": {
        "id": "ygA1ueMA4QoU"
      }
    },
    {
      "cell_type": "code",
      "source": [
        "integrate.quad(lambda x: np.sin(100*x)*np.exp(-0.01*x),0,10000,limit=100000,epsabs=1.49e-14, epsrel=1.49e-14) \n"
      ],
      "metadata": {
        "colab": {
          "base_uri": "https://localhost:8080/"
        },
        "id": "LoH2RA_g4Nuu",
        "outputId": "2519ff67-5c06-44d9-d89b-b6006b9ef5a4"
      },
      "execution_count": 21,
      "outputs": [
        {
          "output_type": "stream",
          "name": "stderr",
          "text": [
            "<ipython-input-21-aba0e88cd310>:1: IntegrationWarning: The occurrence of roundoff error is detected, which prevents \n",
            "  the requested tolerance from being achieved.  The error may be \n",
            "  underestimated.\n",
            "  integrate.quad(lambda x: np.sin(100*x)*np.exp(-0.01*x),0,10000,limit=100000,epsabs=1.49e-14, epsrel=1.49e-14)\n"
          ]
        },
        {
          "output_type": "execute_result",
          "data": {
            "text/plain": [
              "(0.00999999989999275, 7.362103420067024e-13)"
            ]
          },
          "metadata": {},
          "execution_count": 21
        }
      ]
    },
    {
      "cell_type": "markdown",
      "source": [
        ". and one that is small"
      ],
      "metadata": {
        "id": "H-ciwocZ4Xkh"
      }
    },
    {
      "cell_type": "code",
      "source": [
        "integrate.quad(lambda x: np.sin(100*x)*np.exp(-0.01*x),10000,np.inf,limit=100000,epsabs=1.49e-14, epsrel=1.49e-14) \n"
      ],
      "metadata": {
        "colab": {
          "base_uri": "https://localhost:8080/"
        },
        "id": "wmCHoA084Vbd",
        "outputId": "c27bf7d4-6a2d-4229-a957-c11eaa197468"
      },
      "execution_count": 22,
      "outputs": [
        {
          "output_type": "execute_result",
          "data": {
            "text/plain": [
              "(-3.669156602286988e-44, 1.6875830724635754e-42)"
            ]
          },
          "metadata": {},
          "execution_count": 22
        }
      ]
    },
    {
      "cell_type": "markdown",
      "source": [
        "For our purposes this error is totally fine (the integral is very small, which is all we need). However, we can sometimes get better performance by rescaling the intergation variable:"
      ],
      "metadata": {
        "id": "emK4cTUW4f_n"
      }
    },
    {
      "cell_type": "code",
      "source": [
        "integrate.quad(lambda x: np.sin(1000000*x)*np.exp(-100*x)/10000.,1,np.inf,limit=100000,epsabs=1.49e-14, epsrel=1.49e-14) \n"
      ],
      "metadata": {
        "colab": {
          "base_uri": "https://localhost:8080/"
        },
        "id": "5O_PURkn4dQf",
        "outputId": "2207d968-03d1-4bc7-a19d-6788ff13f34f"
      },
      "execution_count": 23,
      "outputs": [
        {
          "output_type": "execute_result",
          "data": {
            "text/plain": [
              "(-2.0027823862785398e-50, 3.6175873463225482e-50)"
            ]
          },
          "metadata": {},
          "execution_count": 23
        }
      ]
    },
    {
      "cell_type": "markdown",
      "source": [
        "This trick is only helpful when integrating to infinity. On any finite domain, we are usually doing a Riemann sum that doesn't care about the lables of your variable. When integrating to infinity, the computer is doing a bit more under the hood and so sometimes you have to trick it into doing the problem in an easier way.\n",
        "\n"
      ],
      "metadata": {
        "id": "WZBLmORD4pFj"
      }
    },
    {
      "cell_type": "markdown",
      "source": [
        "## Multi-Dimensional Integration\n",
        "\n",
        "\n",
        "Multi-dimensional integration is where we see the real need to use the lambda notation.\n",
        "\n",
        "-----\n",
        "\n",
        "Suppose we want to perform an integral\n",
        "\n",
        "$$ \\int_0^1 dx \\int_0^x dy \\sin(x y) $$\n",
        "\n",
        "\n",
        "If we thought of this as two seperate integral, the boundaries of integration in x become part of the function we integrate in y.\n"
      ],
      "metadata": {
        "id": "TBsHosah4sVh"
      }
    },
    {
      "cell_type": "code",
      "source": [
        "integrate.dblquad(lambda y,x: np.sin(y*x),0,1,lambda x:0,lambda x:x)"
      ],
      "metadata": {
        "colab": {
          "base_uri": "https://localhost:8080/"
        },
        "id": "YkSWhkY_4mPt",
        "outputId": "8ed43002-2398-45c1-bad3-7739b651d428"
      },
      "execution_count": 24,
      "outputs": [
        {
          "output_type": "execute_result",
          "data": {
            "text/plain": [
              "(0.11990587100028235, 5.074216840967778e-15)"
            ]
          },
          "metadata": {},
          "execution_count": 24
        }
      ]
    },
    {
      "cell_type": "markdown",
      "source": [
        "Okay - so we can do this kind of integral no problem. But what exactly is going on? Let's start by separating off the function we want to integrate:"
      ],
      "metadata": {
        "id": "xeFYr1QP5MIX"
      }
    },
    {
      "cell_type": "code",
      "source": [
        "def f2d(y,x):\n",
        "    return np.sin(x*y)"
      ],
      "metadata": {
        "id": "JeEkpDvn5EMB"
      },
      "execution_count": 25,
      "outputs": []
    },
    {
      "cell_type": "code",
      "source": [
        "integrate.dblquad(f2d,0,1,lambda x:0,lambda x:x)"
      ],
      "metadata": {
        "colab": {
          "base_uri": "https://localhost:8080/"
        },
        "id": "xeeNQ33L5PKE",
        "outputId": "eac3e55c-05b2-4d6f-c874-d6fb0638b6c5"
      },
      "execution_count": 26,
      "outputs": [
        {
          "output_type": "execute_result",
          "data": {
            "text/plain": [
              "(0.11990587100028235, 5.074216840967778e-15)"
            ]
          },
          "metadata": {},
          "execution_count": 26
        }
      ]
    },
    {
      "cell_type": "markdown",
      "source": [
        "Okay, so everything else has to be the limits of integration. Let's also give those names so that we have\n",
        "\n",
        "$$ \\int_a^b dx \\int_{g(x)}^{h(x)} dy \\sin(x y) $$"
      ],
      "metadata": {
        "id": "lupodmFN5S08"
      }
    },
    {
      "cell_type": "code",
      "source": [
        "a=0\n",
        "b=1\n",
        "def g(x):\n",
        "    return 0.\n",
        "def h(x):\n",
        "    return x"
      ],
      "metadata": {
        "id": "r9UYQ2OI5RD0"
      },
      "execution_count": 27,
      "outputs": []
    },
    {
      "cell_type": "code",
      "source": [
        "integrate.dblquad(f2d,a,b,g,h)"
      ],
      "metadata": {
        "colab": {
          "base_uri": "https://localhost:8080/"
        },
        "id": "-qtJSPde5Z4S",
        "outputId": "6c505990-96c1-4231-8af0-6bbde891a09e"
      },
      "execution_count": 28,
      "outputs": [
        {
          "output_type": "execute_result",
          "data": {
            "text/plain": [
              "(0.11990587100028235, 5.074216840967778e-15)"
            ]
          },
          "metadata": {},
          "execution_count": 28
        }
      ]
    },
    {
      "cell_type": "markdown",
      "source": [
        "This way of doing it makes it more clear what we are doing. In particular, y is the variable of integration that runs to enpoints that are functions of x. Therefore, we have to feed it a function, even if we only want that function to return 1. For example, to implement\n",
        "\n",
        "$$ \\int_0^1 dx \\int_{0}^{1} dy \\sin(x y) $$\n",
        "\n",
        "we still need to include either functions or lambda operators because they still could have been interesting functions of x\n"
      ],
      "metadata": {
        "id": "NoVfVhwj5eux"
      }
    },
    {
      "cell_type": "code",
      "source": [
        "integrate.dblquad(lambda y,x: np.sin(y*x),0,1,lambda x:0,lambda x:1)"
      ],
      "metadata": {
        "colab": {
          "base_uri": "https://localhost:8080/"
        },
        "id": "jnM6Wl075cPe",
        "outputId": "1040244a-1f10-4e62-b8c5-d700f212c6c2"
      },
      "execution_count": 29,
      "outputs": [
        {
          "output_type": "execute_result",
          "data": {
            "text/plain": [
              "(0.2398117420005647, 5.094460170817101e-15)"
            ]
          },
          "metadata": {},
          "execution_count": 29
        }
      ]
    },
    {
      "cell_type": "markdown",
      "source": [
        "We could have also tried to do this as two different one dimensional integrals. As one goes to higher dimensional integration, the integrals will often be too slow to calculate using some generic tool like quad and it can be more useful to precompute some of the integrals first.\n",
        "\n",
        "\n",
        "------\n",
        "\n",
        "\n",
        "Let's try this on this example by calculating the first integral at a few points:"
      ],
      "metadata": {
        "id": "8bgQD8qm5pCe"
      }
    },
    {
      "cell_type": "code",
      "source": [
        "xlist=np.arange(-0.01,1.01,0.01)\n",
        "int_x=np.zeros(len(xlist))\n",
        "for i in range(len(xlist)):\n",
        "    int_x[i]=integrate.quad(lambda y: np.sin(y*xlist[i]),0,xlist[i])[0]"
      ],
      "metadata": {
        "id": "aOndRY1C5nA3"
      },
      "execution_count": 30,
      "outputs": []
    },
    {
      "cell_type": "code",
      "source": [
        "plt.plot(xlist,int_x)\n",
        "plt.show()"
      ],
      "metadata": {
        "colab": {
          "base_uri": "https://localhost:8080/",
          "height": 265
        },
        "id": "acgyldiN5uve",
        "outputId": "653459c1-76a6-4d99-e8cd-330321f25244"
      },
      "execution_count": 31,
      "outputs": [
        {
          "output_type": "display_data",
          "data": {
            "text/plain": [
              "<Figure size 432x288 with 1 Axes>"
            ],
            "image/png": "[encoded data removed]"
          },
          "metadata": {
            "needs_background": "light"
          }
        }
      ]
    },
    {
      "cell_type": "code",
      "source": [
        "from scipy import interpolate"
      ],
      "metadata": {
        "id": "fbgYTbs85w81"
      },
      "execution_count": 32,
      "outputs": []
    },
    {
      "cell_type": "code",
      "source": [
        "int_func= interpolate.interp1d(xlist,int_x,kind='cubic')"
      ],
      "metadata": {
        "id": "oWvTu1_550YL"
      },
      "execution_count": 33,
      "outputs": []
    },
    {
      "cell_type": "code",
      "source": [
        "integrate.quad(int_func,0,1)"
      ],
      "metadata": {
        "colab": {
          "base_uri": "https://localhost:8080/"
        },
        "id": "IS-wCLZ752ho",
        "outputId": "728ea718-5d99-4933-f4da-9e2e22ec5877"
      },
      "execution_count": 34,
      "outputs": [
        {
          "output_type": "execute_result",
          "data": {
            "text/plain": [
              "(0.11990587109034648, 6.399693853478578e-12)"
            ]
          },
          "metadata": {},
          "execution_count": 34
        }
      ]
    },
    {
      "cell_type": "code",
      "source": [
        "dlbquad_sol=integrate.dblquad(f2d,0,1,lambda x:0,lambda x:x)[0]\n",
        "quad_int_sol=integrate.quad(int_func,0,1)[0]"
      ],
      "metadata": {
        "id": "UHBhix5o54df"
      },
      "execution_count": 35,
      "outputs": []
    },
    {
      "cell_type": "code",
      "source": [
        "dlbquad_sol-quad_int_sol"
      ],
      "metadata": {
        "colab": {
          "base_uri": "https://localhost:8080/"
        },
        "id": "t4PfMk7d56aD",
        "outputId": "a8880062-1d1c-4990-9d2b-1b19db1b073a"
      },
      "execution_count": 36,
      "outputs": [
        {
          "output_type": "execute_result",
          "data": {
            "text/plain": [
              "-9.006412282630549e-11"
            ]
          },
          "metadata": {},
          "execution_count": 36
        }
      ]
    },
    {
      "cell_type": "markdown",
      "source": [
        "We see that we get a surprisingly accurate answer. This is a somewhat helpful property of integration: when we calculate the area, small random errors tend to average out. In many circumstances, numerical integration is a highly effective way to find your answers."
      ],
      "metadata": {
        "id": "JlaW3mzM5-ju"
      }
    },
    {
      "cell_type": "markdown",
      "source": [
        "## Summary\n",
        "\n",
        "Numerical integration is a powerful tool that is fairly easy to use and understand. When integrating over a few variables, on a finite domain, it is often pretty straightforward to get accurate answers. We saw it is a bit trickier on infinite domains. We will see in a later lecture that it also becomes difficult when we increase the number of variables we are integrating over (dimensionality)."
      ],
      "metadata": {
        "id": "SRGpbhRC6A2-"
      }
    }
  ]
}