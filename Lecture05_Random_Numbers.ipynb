{
  "nbformat": 4,
  "nbformat_minor": 0,
  "metadata": {
    "colab": {
      "provenance": [],
      "authorship_tag": "ABX9TyNqKaYbC11vU+/kIrYuJ8DC",
      "include_colab_link": true
    },
    "kernelspec": {
      "name": "python3",
      "display_name": "Python 3"
    },
    "language_info": {
      "name": "python"
    }
  },
  "cells": [
    {
      "cell_type": "markdown",
      "metadata": {
        "id": "view-in-github",
        "colab_type": "text"
      },
      "source": [
        "<a href=\"https://colab.research.google.com/github/MonitSharma/Computational-Methods-in-Physics/blob/main/Lecture05_Random_Numbers.ipynb\" target=\"_parent\"><img src=\"https://colab.research.google.com/assets/colab-badge.svg\" alt=\"Open In Colab\"/></a>"
      ]
    },
    {
      "cell_type": "markdown",
      "source": [
        "# Mathematical Operations in Numpy\n",
        "\n",
        "Numpy has a lot of built-in flexibility when it comes to doing maths. The most obvious thing you might want to do it to treat `numpy` arrays as matrixes or vectors, depending on the circumstances. The recommended way to do this is to use the functions that specify vector multiplication:\n",
        "\n"
      ],
      "metadata": {
        "id": "dULQLurNCmlN"
      }
    },
    {
      "cell_type": "code",
      "execution_count": 1,
      "metadata": {
        "id": "msYyM6hHCfqb"
      },
      "outputs": [],
      "source": [
        "import numpy as np"
      ]
    },
    {
      "cell_type": "code",
      "source": [
        "A = np.linspace(1,9,9)\n",
        "B = A.reshape((3,3))"
      ],
      "metadata": {
        "id": "-pGV5_srDGOK"
      },
      "execution_count": 2,
      "outputs": []
    },
    {
      "cell_type": "code",
      "source": [
        "print(B)\n",
        "print(B*B) # here we do the element wise multiplication"
      ],
      "metadata": {
        "colab": {
          "base_uri": "https://localhost:8080/"
        },
        "id": "OW_k-4_SDLqe",
        "outputId": "d1112379-106b-4f0b-ed82-78c989c308c4"
      },
      "execution_count": 3,
      "outputs": [
        {
          "output_type": "stream",
          "name": "stdout",
          "text": [
            "[[1. 2. 3.]\n",
            " [4. 5. 6.]\n",
            " [7. 8. 9.]]\n",
            "[[ 1.  4.  9.]\n",
            " [16. 25. 36.]\n",
            " [49. 64. 81.]]\n"
          ]
        }
      ]
    },
    {
      "cell_type": "code",
      "source": [
        "print(np.dot(B,B)) # here we do the matrix multiplication"
      ],
      "metadata": {
        "colab": {
          "base_uri": "https://localhost:8080/"
        },
        "id": "xkKNYBf-DQ4I",
        "outputId": "0c384478-586c-4c58-cabc-43828ac6d2fd"
      },
      "execution_count": 4,
      "outputs": [
        {
          "output_type": "stream",
          "name": "stdout",
          "text": [
            "[[ 30.  36.  42.]\n",
            " [ 66.  81.  96.]\n",
            " [102. 126. 150.]]\n"
          ]
        }
      ]
    },
    {
      "cell_type": "code",
      "source": [
        "print(np.dot(A,A)) # vector dot product"
      ],
      "metadata": {
        "colab": {
          "base_uri": "https://localhost:8080/"
        },
        "id": "LMHFTs49DVfK",
        "outputId": "cdbe5e1a-3217-4da8-c668-3a3927d5cf61"
      },
      "execution_count": 5,
      "outputs": [
        {
          "output_type": "stream",
          "name": "stdout",
          "text": [
            "285.0\n"
          ]
        }
      ]
    },
    {
      "cell_type": "code",
      "source": [
        "print(np.dot(np.array((1,2,3)), B)) # left matrix multiplication"
      ],
      "metadata": {
        "colab": {
          "base_uri": "https://localhost:8080/"
        },
        "id": "0XQ7771QDeJf",
        "outputId": "ebb83d81-433a-4716-bdf8-c82e807ecae4"
      },
      "execution_count": 6,
      "outputs": [
        {
          "output_type": "stream",
          "name": "stdout",
          "text": [
            "[30. 36. 42.]\n"
          ]
        }
      ]
    },
    {
      "cell_type": "code",
      "source": [
        "print(np.dot(B, np.array((1,2,3)))) # right multiplication"
      ],
      "metadata": {
        "colab": {
          "base_uri": "https://localhost:8080/"
        },
        "id": "aEM5vwIVDlT2",
        "outputId": "d0e5fa44-f4a1-4900-c847-7324d27798b9"
      },
      "execution_count": 7,
      "outputs": [
        {
          "output_type": "stream",
          "name": "stdout",
          "text": [
            "[14. 32. 50.]\n"
          ]
        }
      ]
    },
    {
      "cell_type": "code",
      "source": [
        "C = B+np.identity(3) # matrix addition acts as usual\n",
        "\n",
        "print(C)"
      ],
      "metadata": {
        "colab": {
          "base_uri": "https://localhost:8080/"
        },
        "id": "2jevJ3O3DsnW",
        "outputId": "1c3efdb6-ca81-4601-cb30-45a61a428b2e"
      },
      "execution_count": 8,
      "outputs": [
        {
          "output_type": "stream",
          "name": "stdout",
          "text": [
            "[[ 2.  2.  3.]\n",
            " [ 4.  6.  6.]\n",
            " [ 7.  8. 10.]]\n"
          ]
        }
      ]
    },
    {
      "cell_type": "code",
      "source": [
        "np.dot(C, np.linalg.inv(C))"
      ],
      "metadata": {
        "colab": {
          "base_uri": "https://localhost:8080/"
        },
        "id": "R92-ZjFdD0t9",
        "outputId": "fc9a1da6-8924-4a5b-a29b-6eaa5db03952"
      },
      "execution_count": 9,
      "outputs": [
        {
          "output_type": "execute_result",
          "data": {
            "text/plain": [
              "array([[ 1.00000000e+00, -3.33066907e-16,  6.66133815e-16],\n",
              "       [-5.32907052e-15,  1.00000000e+00,  1.33226763e-15],\n",
              "       [-1.77635684e-15, -1.11022302e-15,  1.00000000e+00]])"
            ]
          },
          "metadata": {},
          "execution_count": 9
        }
      ]
    },
    {
      "cell_type": "markdown",
      "source": [
        "## Random Numbers\n",
        "\n",
        "Generating random numbers is an extremely useful tool in scientific computing. We will see some applications in a second, but let's just get the syntax.\n",
        "\n",
        "\n",
        "-----\n",
        "\n",
        "The first thing you might want is a random number drawn from a uniform probability between $0$ and $1$"
      ],
      "metadata": {
        "id": "umuK4TFZEC_P"
      }
    },
    {
      "cell_type": "code",
      "source": [
        "np.random.rand()"
      ],
      "metadata": {
        "colab": {
          "base_uri": "https://localhost:8080/"
        },
        "id": "LF52ltc7EBTQ",
        "outputId": "48fe57fb-1f55-4455-c92b-4173d706a1b0"
      },
      "execution_count": 10,
      "outputs": [
        {
          "output_type": "execute_result",
          "data": {
            "text/plain": [
              "0.9364363627444482"
            ]
          },
          "metadata": {},
          "execution_count": 10
        }
      ]
    },
    {
      "cell_type": "markdown",
      "source": [
        "This function actually will give you a bunch of random numbers in any shape."
      ],
      "metadata": {
        "id": "bBpIFNmFEZBU"
      }
    },
    {
      "cell_type": "code",
      "source": [
        "np.random.rand(10)"
      ],
      "metadata": {
        "colab": {
          "base_uri": "https://localhost:8080/"
        },
        "id": "Z27rOgitEWpB",
        "outputId": "83d80814-5c7d-4312-b00b-dd4c6f9f0c5d"
      },
      "execution_count": 11,
      "outputs": [
        {
          "output_type": "execute_result",
          "data": {
            "text/plain": [
              "array([0.66503376, 0.18556123, 0.66901048, 0.11084154, 0.8679818 ,\n",
              "       0.94987479, 0.18319166, 0.55419005, 0.88653254, 0.81304748])"
            ]
          },
          "metadata": {},
          "execution_count": 11
        }
      ]
    },
    {
      "cell_type": "code",
      "source": [
        "np.random.rand(2,2,2)"
      ],
      "metadata": {
        "colab": {
          "base_uri": "https://localhost:8080/"
        },
        "id": "9_EI8jL9EgBY",
        "outputId": "e440919d-ef87-4f46-eee2-e611a7ad2fc2"
      },
      "execution_count": 12,
      "outputs": [
        {
          "output_type": "execute_result",
          "data": {
            "text/plain": [
              "array([[[0.81066867, 0.51840196],\n",
              "        [0.58857379, 0.28347615]],\n",
              "\n",
              "       [[0.9803307 , 0.28988763],\n",
              "        [0.32737379, 0.8205811 ]]])"
            ]
          },
          "metadata": {},
          "execution_count": 12
        }
      ]
    },
    {
      "cell_type": "markdown",
      "source": [
        "**Given such a distribution, we can make our own function to cover any uniform distribution**"
      ],
      "metadata": {
        "id": "Qri9_76pEjkz"
      }
    },
    {
      "cell_type": "code",
      "source": [
        "def my_uniform(low, high, number):\n",
        "  out = np.random.rand(number)\n",
        "  out*=(high-low)\n",
        "  out+=low\n",
        "  return out\n",
        "                       "
      ],
      "metadata": {
        "id": "H1dsiuaAEhxC"
      },
      "execution_count": 13,
      "outputs": []
    },
    {
      "cell_type": "code",
      "source": [
        "my_uniform(10,11,20)"
      ],
      "metadata": {
        "colab": {
          "base_uri": "https://localhost:8080/"
        },
        "id": "J6mHildME-iw",
        "outputId": "238a5c79-1ba4-4318-cd08-0833344768ee"
      },
      "execution_count": 14,
      "outputs": [
        {
          "output_type": "execute_result",
          "data": {
            "text/plain": [
              "array([10.44485518, 10.81921525, 10.00817599, 10.04636235, 10.98710723,\n",
              "       10.11789364, 10.87517581, 10.08210443, 10.59360307, 10.63244386,\n",
              "       10.64709209, 10.86159323, 10.21548154, 10.1747779 , 10.93240613,\n",
              "       10.96396505, 10.92818643, 10.24995178, 10.99454162, 10.18288187])"
            ]
          },
          "metadata": {},
          "execution_count": 14
        }
      ]
    },
    {
      "cell_type": "code",
      "source": [
        "my_uniform(-102.3,99.2,20)"
      ],
      "metadata": {
        "colab": {
          "base_uri": "https://localhost:8080/"
        },
        "id": "ZtzdkCOOFLRw",
        "outputId": "74b89b80-b116-49b3-d9cf-89c4c1bbbf70"
      },
      "execution_count": 15,
      "outputs": [
        {
          "output_type": "execute_result",
          "data": {
            "text/plain": [
              "array([ 19.41496173,  61.2398182 ,  64.53599322, -79.50291611,\n",
              "         9.31108734,  18.08930156, -42.52812713,  33.41080643,\n",
              "        78.48046916,  38.04371605, -16.58784649, -84.56397761,\n",
              "       -19.59402468,  45.16382214,   6.86266966,  21.63332538,\n",
              "         4.49516393, -70.7928011 ,  66.09737088,   9.23962214])"
            ]
          },
          "metadata": {},
          "execution_count": 15
        }
      ]
    },
    {
      "cell_type": "markdown",
      "source": [
        "Naturally `numpy` has their own version for the same function"
      ],
      "metadata": {
        "id": "VsENetAfFTRc"
      }
    },
    {
      "cell_type": "code",
      "source": [
        "np.random.uniform(-102.3,99.2,20)"
      ],
      "metadata": {
        "colab": {
          "base_uri": "https://localhost:8080/"
        },
        "id": "vMVEM2NtFRpF",
        "outputId": "8c1d6b8a-9507-4a0a-fa4a-4e7708f026e4"
      },
      "execution_count": 16,
      "outputs": [
        {
          "output_type": "execute_result",
          "data": {
            "text/plain": [
              "array([ 42.51861304, -50.57849682,  -3.42092501,  35.81621977,\n",
              "        32.68774111,  51.48771698, -73.87933702, -36.64656804,\n",
              "       -95.10882575,  16.310547  ,  68.12116312,  54.48194281,\n",
              "       -86.37073741,  80.17183218,  85.15978691,  97.28762653,\n",
              "       -83.95894534, -88.62035819, -92.4926925 , -64.04282766])"
            ]
          },
          "metadata": {},
          "execution_count": 16
        }
      ]
    },
    {
      "cell_type": "markdown",
      "source": [
        "It is important to realize that once you have a source of random numbers, you can mold it to do other things you want.\n",
        "\n",
        "\n",
        "------\n",
        "\n",
        "\n",
        "The other common kind of random number you want is one drawn from a normal distribution. This means that the probability density of drawing the number `x` is \n",
        "$$ P(x) = e^{-(x-\\mu)^2/2\\sigma^2}/\\sqrt{2\\pi \\sigma^2} $$\n",
        "\n",
        "The number $\\mu$ is called the mean and $\\sigma$ is the variance.\n",
        "\n",
        "---------\n",
        "\n",
        "Python has a nice way of generating numbers with $\\mu=0$ and $\\sigma=1$"
      ],
      "metadata": {
        "id": "QLTfxbnCFhDc"
      }
    },
    {
      "cell_type": "code",
      "source": [
        "np.random.randn(10)"
      ],
      "metadata": {
        "colab": {
          "base_uri": "https://localhost:8080/"
        },
        "id": "gKex0vbuFa0Z",
        "outputId": "43d16e42-e56c-4c04-a0a5-a996303a3484"
      },
      "execution_count": 17,
      "outputs": [
        {
          "output_type": "execute_result",
          "data": {
            "text/plain": [
              "array([ 2.05664013,  0.97541087,  0.43781921, -0.27368105,  1.00171526,\n",
              "        0.16865747,  0.75375289,  1.40993338,  0.00240816, -0.75028019])"
            ]
          },
          "metadata": {},
          "execution_count": 17
        }
      ]
    },
    {
      "cell_type": "markdown",
      "source": [
        "Let's make a histogram to see what this is doing"
      ],
      "metadata": {
        "id": "uJGC-fSZGED2"
      }
    },
    {
      "cell_type": "code",
      "source": [
        "import matplotlib.pyplot as plt"
      ],
      "metadata": {
        "id": "b-Lj9d5IGDGE"
      },
      "execution_count": 18,
      "outputs": []
    },
    {
      "cell_type": "code",
      "source": [
        "plt.hist(np.random.randn(100000), bins= np.linspace(-3,3,1000))\n",
        "plt.show()"
      ],
      "metadata": {
        "colab": {
          "base_uri": "https://localhost:8080/",
          "height": 265
        },
        "id": "FAl-bkU1GJdl",
        "outputId": "db64fd4c-ece0-4448-bb36-f96731c859eb"
      },
      "execution_count": 19,
      "outputs": [
        {
          "output_type": "display_data",
          "data": {
            "text/plain": [
              "<Figure size 432x288 with 1 Axes>"
            ],
            "image/png": "[encoded data removed]"
          },
          "metadata": {
            "needs_background": "light"
          }
        }
      ]
    },
    {
      "cell_type": "code",
      "source": [
        "np.random.randint(3,size=100)"
      ],
      "metadata": {
        "colab": {
          "base_uri": "https://localhost:8080/"
        },
        "id": "XYSmIU8FGRdZ",
        "outputId": "1ce4d602-2036-4e00-88d0-b6b13140b391"
      },
      "execution_count": 20,
      "outputs": [
        {
          "output_type": "execute_result",
          "data": {
            "text/plain": [
              "array([1, 0, 0, 2, 0, 2, 2, 2, 2, 1, 1, 0, 1, 1, 2, 0, 2, 1, 2, 1, 2, 1,\n",
              "       0, 1, 0, 0, 2, 2, 0, 1, 0, 0, 2, 2, 2, 1, 2, 1, 1, 1, 1, 2, 2, 0,\n",
              "       1, 1, 0, 1, 1, 0, 2, 2, 1, 1, 1, 1, 2, 1, 2, 0, 2, 2, 2, 2, 1, 0,\n",
              "       0, 0, 1, 2, 1, 2, 1, 2, 1, 0, 1, 0, 1, 2, 1, 2, 2, 2, 2, 2, 0, 2,\n",
              "       1, 0, 1, 1, 2, 0, 0, 1, 2, 1, 1, 2])"
            ]
          },
          "metadata": {},
          "execution_count": 20
        }
      ]
    },
    {
      "cell_type": "code",
      "source": [
        "np.random.randint(2, size=10).sum()"
      ],
      "metadata": {
        "id": "yt4nI5ucGVnl",
        "outputId": "cb5c4816-f5e3-4537-8331-6061586cc053",
        "colab": {
          "base_uri": "https://localhost:8080/"
        }
      },
      "execution_count": 21,
      "outputs": [
        {
          "output_type": "execute_result",
          "data": {
            "text/plain": [
              "4"
            ]
          },
          "metadata": {},
          "execution_count": 21
        }
      ]
    },
    {
      "cell_type": "code",
      "source": [
        "number_of_flips=10\n",
        "number_of_tails=1000\n",
        "\n",
        "results=np.zeros(number_of_tails)\n",
        "\n",
        "for i in range(number_of_tails):\n",
        "  results[i] = np.random.randint(2, size=number_of_flips).sum()/float(number_of_flips)\n"
      ],
      "metadata": {
        "id": "Q5_6G9jSGbX8"
      },
      "execution_count": 22,
      "outputs": []
    },
    {
      "cell_type": "code",
      "source": [
        "plt.hist(results,bins=np.linspace(0,1,10))\n",
        "plt.show()"
      ],
      "metadata": {
        "id": "K7DZbbHyG01G",
        "outputId": "5bdc96da-6e50-4e2a-9e15-62a712cf2eed",
        "colab": {
          "base_uri": "https://localhost:8080/",
          "height": 265
        }
      },
      "execution_count": 23,
      "outputs": [
        {
          "output_type": "display_data",
          "data": {
            "text/plain": [
              "<Figure size 432x288 with 1 Axes>"
            ],
            "image/png": "[encoded data removed]"
          },
          "metadata": {
            "needs_background": "light"
          }
        }
      ]
    },
    {
      "cell_type": "markdown",
      "source": [
        "## Demonstration: Calculating the value of $\\pi$\n",
        "\n",
        "\n",
        "To get a quick sense of why this is useful, we can demonstrate how we can calculate $\\pi$  using what we have just learned. This will actually serve as an important example of a much broader and more powerful set of techniques later in the course, but for now it is just to give you a taste of how these things can work for you.\n",
        "\n",
        "\n",
        "------\n",
        "\n",
        "The idea is the following: image you pick a point randomly inside a square of length 2 on each side. The area of this square is 4. A circle placed within the square with radius 1 has area $\\pi$. \n",
        "\n",
        "If a random draw numbers that land inside the square with a uniform probability, then $\\pi/4$ of them (on average) should also be inside the circle. Said different, after picking a point in the square, we ask if it is also in the circle and keep track. At the end we take number in circle / total we have caculated $\\pi/4$\n",
        "\n"
      ],
      "metadata": {
        "id": "zVEhabpkHRXd"
      }
    },
    {
      "cell_type": "code",
      "source": [
        "def pi_calculator(N):\n",
        "    x=np.random.uniform(-1,1,N)  # make a list of N random numbers of x-axis of box\n",
        "    y=np.random.uniform(-1,1,N) # make a list of N random numbers of y-axis of box\n",
        "    z=(x**2+y**2<1) # make a list of every time x^2 + y^2 < 1 (inside the cicle)\n",
        "    return z.sum()/float(N)*4 # add all the points in the circle up and return 4*cicle/N\n"
      ],
      "metadata": {
        "id": "kBV8dCl_HPKF"
      },
      "execution_count": 24,
      "outputs": []
    },
    {
      "cell_type": "code",
      "source": [
        "pi_calculator(10**7)"
      ],
      "metadata": {
        "id": "WgKpbNjEH5ru",
        "outputId": "7d7799dd-43d2-4ffa-fc42-0e3e897f3120",
        "colab": {
          "base_uri": "https://localhost:8080/"
        }
      },
      "execution_count": 25,
      "outputs": [
        {
          "output_type": "execute_result",
          "data": {
            "text/plain": [
              "3.1417844"
            ]
          },
          "metadata": {},
          "execution_count": 25
        }
      ]
    },
    {
      "cell_type": "code",
      "source": [
        "pi_calculator(10**8)"
      ],
      "metadata": {
        "id": "_3XYXX5UH8d0",
        "outputId": "c037f579-2d41-4bbb-d133-02e031404a71",
        "colab": {
          "base_uri": "https://localhost:8080/"
        }
      },
      "execution_count": 26,
      "outputs": [
        {
          "output_type": "execute_result",
          "data": {
            "text/plain": [
              "3.14160448"
            ]
          },
          "metadata": {},
          "execution_count": 26
        }
      ]
    },
    {
      "cell_type": "code",
      "source": [
        "x=np.random.uniform(-1,1,5)\n",
        "y=np.random.uniform(-1,1,5)\n",
        "z=(x**2+y**2<1)"
      ],
      "metadata": {
        "id": "eJTePwiwICgI"
      },
      "execution_count": 28,
      "outputs": []
    },
    {
      "cell_type": "code",
      "source": [
        "print(x,y)\n",
        "print(x**2+y**2)\n",
        "print(z)"
      ],
      "metadata": {
        "id": "Kl8QG-LBIFB6",
        "outputId": "413de176-f017-4775-dda8-131762f65815",
        "colab": {
          "base_uri": "https://localhost:8080/"
        }
      },
      "execution_count": 29,
      "outputs": [
        {
          "output_type": "stream",
          "name": "stdout",
          "text": [
            "[ 0.55429166 -0.03910426  0.74299396 -0.99613475  0.3985026 ] [-0.67333891 -0.86080518  0.79884906 -0.92173576 -0.95164009]\n",
            "[0.76062453 0.74251471 1.19019984 1.84188125 1.06442319]\n",
            "[ True  True False False False]\n"
          ]
        }
      ]
    },
    {
      "cell_type": "code",
      "source": [
        "z.sum()"
      ],
      "metadata": {
        "id": "by78zRf5IHpH",
        "outputId": "41c4f3ae-5d8e-42c7-84e3-dd1878f65fed",
        "colab": {
          "base_uri": "https://localhost:8080/"
        }
      },
      "execution_count": 30,
      "outputs": [
        {
          "output_type": "execute_result",
          "data": {
            "text/plain": [
              "2"
            ]
          },
          "metadata": {},
          "execution_count": 30
        }
      ]
    },
    {
      "cell_type": "markdown",
      "source": [
        "To see, how this is working, let's write a slower version to see the steps."
      ],
      "metadata": {
        "id": "otqlUbFmIKGf"
      }
    },
    {
      "cell_type": "code",
      "source": [
        "def pi_slow(N):\n",
        "    circle=0\n",
        "    for i in range(N):\n",
        "        x=np.random.uniform(-1,1,1)  # pick a x coordinate in the box\n",
        "        y=np.random.uniform(-1,1,1) # pick a y coordinate in the box\n",
        "        if x**2+y**2<1: # make a list of every time x^2 + y^2 < 1 (inside the cicle)\n",
        "            circle+=1 \n",
        "    return 4*circle/N # add all the points in the circle up and return 4*cicle/N\n"
      ],
      "metadata": {
        "id": "h-FTZSneIIuY"
      },
      "execution_count": 31,
      "outputs": []
    },
    {
      "cell_type": "code",
      "source": [
        "pi_slow(10**6)\n"
      ],
      "metadata": {
        "id": "4a9vjxvZIR4w",
        "outputId": "31c8c0b7-2c6a-42b1-ccd6-ef7b7a318403",
        "colab": {
          "base_uri": "https://localhost:8080/"
        }
      },
      "execution_count": 32,
      "outputs": [
        {
          "output_type": "execute_result",
          "data": {
            "text/plain": [
              "3.14154"
            ]
          },
          "metadata": {},
          "execution_count": 32
        }
      ]
    },
    {
      "cell_type": "markdown",
      "source": [
        "The slow implementation makes it clear what we are doing, but it clearly takes much longer."
      ],
      "metadata": {
        "id": "70LC9RK8IkiI"
      }
    },
    {
      "cell_type": "code",
      "source": [
        "import time"
      ],
      "metadata": {
        "id": "y4-exi29IUCM"
      },
      "execution_count": 33,
      "outputs": []
    },
    {
      "cell_type": "code",
      "source": [
        "t1 = time.time()\n",
        "pi_slow(1000000)\n",
        "print(time.time() - t1)"
      ],
      "metadata": {
        "id": "6tjhHpfeIndq",
        "outputId": "9289a738-9467-467f-9c3a-5c3808ce80d8",
        "colab": {
          "base_uri": "https://localhost:8080/"
        }
      },
      "execution_count": 34,
      "outputs": [
        {
          "output_type": "stream",
          "name": "stdout",
          "text": [
            "13.578989744186401\n"
          ]
        }
      ]
    },
    {
      "cell_type": "code",
      "source": [
        "t1 = time.time()\n",
        "pi_calculator(1000000)\n",
        "print(time.time() - t1)"
      ],
      "metadata": {
        "id": "Slzww6SMIwTW",
        "outputId": "7bcc0a0a-567d-4ed4-9727-7551849f0027",
        "colab": {
          "base_uri": "https://localhost:8080/"
        }
      },
      "execution_count": 35,
      "outputs": [
        {
          "output_type": "stream",
          "name": "stdout",
          "text": [
            "0.03968214988708496\n"
          ]
        }
      ]
    },
    {
      "cell_type": "markdown",
      "source": [
        "Let's see how our error in the measurement of $\\pi$ scales with the number of random points we pick"
      ],
      "metadata": {
        "id": "kdIVzS5kJWdA"
      }
    },
    {
      "cell_type": "code",
      "source": [
        "short=int(10**5)\n",
        "medium=int(10**6)\n",
        "Long=int(10**(7))\n",
        "trials=100\n",
        "pi_list_short=np.zeros(trials)\n",
        "pi_list_medium=np.zeros(trials)\n",
        "pi_list_Long=np.zeros(trials)\n",
        "for i in range(trials):\n",
        "    pi_list_short[i]=pi_calculator(short)\n",
        "    pi_list_medium[i]=pi_calculator(medium)\n",
        "    pi_list_Long[i]=pi_calculator(Long)"
      ],
      "metadata": {
        "id": "CONma16gJRpB"
      },
      "execution_count": 36,
      "outputs": []
    },
    {
      "cell_type": "code",
      "source": [
        "fig, ax = plt.subplots()\n",
        "p1=ax.hist(pi_list_short,bins=np.linspace(3.13,3.15,100),label='$10^5$')\n",
        "p2=ax.hist(pi_list_medium,bins=np.linspace(3.13,3.15,100),label='$10^6$')\n",
        "p3=ax.hist(pi_list_Long,bins=np.linspace(3.13,3.15,100),label='$10^7$')\n",
        "ax.plot([np.pi,np.pi],[0,40])\n",
        "plt.ylim(0,40)\n",
        "plt.xlim(3.1375,3.145)\n",
        "leg = ax.legend()\n",
        "plt.show()"
      ],
      "metadata": {
        "id": "6Mi_nEuHJlpG",
        "outputId": "508f0e25-bdfb-4e6e-f726-744f3bddb18e",
        "colab": {
          "base_uri": "https://localhost:8080/",
          "height": 269
        }
      },
      "execution_count": 37,
      "outputs": [
        {
          "output_type": "display_data",
          "data": {
            "text/plain": [
              "<Figure size 432x288 with 1 Axes>"
            ],
            "image/png": "[encoded data removed]"
          },
          "metadata": {
            "needs_background": "light"
          }
        }
      ]
    },
    {
      "cell_type": "markdown",
      "source": [
        "By eye, it looks like the blue is a approximately 10 times wider than the green. This would make sense if the error on the value of $\\pi$ decreased by $1/\\sqrt{N}$ where $N$  is the number of random points used in the calculation. This is indeed what is going on and is a much more general fact about random numbers."
      ],
      "metadata": {
        "id": "ahiasuAsJzWJ"
      }
    },
    {
      "cell_type": "markdown",
      "source": [
        "## Summary\n",
        "\n",
        "Numpy has a number of basic math operations we will make a lot of use off. Random numbers are a particularly valuable tool that is employed in all areas of science and engineering. E.g. simulating the behavior of any measurement involves adding random numbers to you signal. We can always use the output of the random number library to create the type of noise we want for a given application.\n"
      ],
      "metadata": {
        "id": "m6u4G7stJ_Cn"
      }
    }
  ]
}