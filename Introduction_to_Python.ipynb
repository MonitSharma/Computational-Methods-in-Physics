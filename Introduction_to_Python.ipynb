{
  "nbformat": 4,
  "nbformat_minor": 0,
  "metadata": {
    "colab": {
      "provenance": [],
      "authorship_tag": "ABX9TyNy/PgMTCfeEfpAjOZ46Q11",
      "include_colab_link": true
    },
    "kernelspec": {
      "name": "python3",
      "display_name": "Python 3"
    },
    "language_info": {
      "name": "python"
    }
  },
  "cells": [
    {
      "cell_type": "markdown",
      "metadata": {
        "id": "view-in-github",
        "colab_type": "text"
      },
      "source": [
        "<a href=\"https://colab.research.google.com/github/MonitSharma/Computational-Methods-in-Physics/blob/main/Introduction_to_Python.ipynb\" target=\"_parent\"><img src=\"https://colab.research.google.com/assets/colab-badge.svg\" alt=\"Open In Colab\"/></a>"
      ]
    },
    {
      "cell_type": "markdown",
      "source": [
        "# Introduction to Python\n",
        "\n",
        "\n"
      ],
      "metadata": {
        "id": "t4k4oExcKehh"
      }
    },
    {
      "cell_type": "markdown",
      "source": [
        "## What this course is about?\n",
        "Computer programing / coding is a part of life for almost everyone working a STEM or STEM-adjacent fields. Of course, this is true in science for calculating things, analyzing and visualizing data (things you will likely need for future courses). But this is increasingly true in non-academic jobs of all kinds. The world is overflowing with data to the point that just collecting information and organizing it is a task for a computer. Familiarity with the basic tools and language around programming will get you a long way.\n",
        "\n",
        "\n",
        "----\n",
        "\n",
        "\n",
        "In many ways, the role of computers in STEM is similiar to the importance of reading and writing more generally. You don't have to be a professional author for it be useful to be able to write a clear and succinct email (for example). A great writer may also be able to craft an beautiful essay that if beyond your capability, but you can still understand what it means and write a something that means the same thing, even if it doesn't have the same elegance. We find ourselves in the exact same situation when it comes to writing code: an expert will be able to manipulate the (programing) language in ways that you can't envision, but that doesn't mean that you can't understand what they are doing or write a piece of code that does what you need.\n",
        "\n",
        "\n",
        "----\n",
        "\n",
        "Computers are incredibly powerful tools, but only if we can get it to do what we want. Just like sending a clear set of instructions in writing to someone else (e.g. like a recipe), we have to make sure we write in a way that doesn't confuse our target. The reality of computer programming is that anything you will do will be built on enormous amounts of code written by someone else. As a result, the first step to doing anything usually requires that we understand how someone else built the language / function / package so that we can use it ourselves. Unfortunately, people can make fairly illogical decisions and so there is sometimes no rhyme or reason to why the syntax of a particular language is written in a particularly way.\n",
        "\n",
        "\n",
        "----\n",
        "\n",
        "Fortunately, unlike people, computers are perfectly logical. While the person who wrote a particular piece of code might have done something for no particularly good reason, what the computer is doing underneath is often more rigid. If the computer is trying to solve an equation, regardless of the syntax of the code, the computer is probably implementing one of a handful of basic algorithms. Even though we might not know exactly what the computer is doing in detail, we can learn a lot about what our code is doing just by understanding a bit about the basics of how a computer operates.\n",
        "\n",
        "\n",
        "\n",
        "\n"
      ],
      "metadata": {
        "id": "S0Svv7wLKiyI"
      }
    },
    {
      "cell_type": "markdown",
      "source": [
        "## What are the Goals?\n",
        "\n",
        "A bit of programing knowledge will open a lot of doors for you. The key skill we are trying to develop as physicist is how to think and process information. However, at this stage of your career, many of your best opportunities will come from combining your own thinking skills with some basic computer skills. My goal is to teach you enough about the tools available to your (with python) that you can figure out the rest when you need it.\n",
        "\n",
        "\n",
        "----\n",
        "\n",
        "\n",
        "E.g. you have probably spent a lot of time learning how to solve integrals by hand. However, a computer can do a lot of that work for you:\n"
      ],
      "metadata": {
        "id": "DwBKyC2tK2mH"
      }
    },
    {
      "cell_type": "code",
      "execution_count": 1,
      "metadata": {
        "id": "vv-JD6SyKZcE"
      },
      "outputs": [],
      "source": [
        "import sympy"
      ]
    },
    {
      "cell_type": "markdown",
      "source": [
        "We will start by integrating:\n",
        "\n",
        "$$ \\int x^3 \\sin(x)  dx$$"
      ],
      "metadata": {
        "id": "aIRgZVFMLTfm"
      }
    },
    {
      "cell_type": "code",
      "source": [
        "sympy.init_printing()\n",
        "x = sympy.Symbol(\"x\")\n",
        "# we will find the integration of x^3 sin(x) with respect to x\n",
        "sympy.integrate(x**3*sympy.sin(x),x)"
      ],
      "metadata": {
        "colab": {
          "base_uri": "https://localhost:8080/",
          "height": 39
        },
        "id": "-LeAij4QLAbH",
        "outputId": "155ec72b-65e7-40fe-c0a7-619442b70494"
      },
      "execution_count": 2,
      "outputs": [
        {
          "output_type": "execute_result",
          "data": {
            "text/plain": [
              "   3             2                               \n",
              "- x ⋅cos(x) + 3⋅x ⋅sin(x) + 6⋅x⋅cos(x) - 6⋅sin(x)"
            ],
            "image/png": "[encoded data removed]",
            "text/latex": "$\\displaystyle - x^{3} \\cos{\\left(x \\right)} + 3 x^{2} \\sin{\\left(x \\right)} + 6 x \\cos{\\left(x \\right)} - 6 \\sin{\\left(x \\right)}$"
          },
          "metadata": {},
          "execution_count": 2
        }
      ]
    },
    {
      "cell_type": "markdown",
      "source": [
        "Now try integrate within some bounds:\n",
        "\n",
        "$$ ∫_{0}^{1} x^3 \\sin(x) dx $$"
      ],
      "metadata": {
        "id": "ahj6-jnCLcn9"
      }
    },
    {
      "cell_type": "code",
      "source": [
        "sympy.integrate(x**3*sympy.sin(x), (x,0,1))"
      ],
      "metadata": {
        "colab": {
          "base_uri": "https://localhost:8080/",
          "height": 37
        },
        "id": "oA_LLmpGLK48",
        "outputId": "dc24fddd-75e7-4b30-a4c6-c3032818d29d"
      },
      "execution_count": 3,
      "outputs": [
        {
          "output_type": "execute_result",
          "data": {
            "text/plain": [
              "-3⋅sin(1) + 5⋅cos(1)"
            ],
            "image/png": "[encoded data removed]",
            "text/latex": "$\\displaystyle - 3 \\sin{\\left(1 \\right)} + 5 \\cos{\\left(1 \\right)}$"
          },
          "metadata": {},
          "execution_count": 3
        }
      ]
    },
    {
      "cell_type": "markdown",
      "source": [
        "and if we want the exact value of the above integral:"
      ],
      "metadata": {
        "id": "oIveFeaFLuv4"
      }
    },
    {
      "cell_type": "code",
      "source": [
        "sympy.integrate(x**3*sympy.sin(x), (x,0,1)).evalf()"
      ],
      "metadata": {
        "colab": {
          "base_uri": "https://localhost:8080/",
          "height": 37
        },
        "id": "9zbjfKIdLr8m",
        "outputId": "8a5a5d21-156d-4289-ad71-f82dc2ae6612"
      },
      "execution_count": 4,
      "outputs": [
        {
          "output_type": "execute_result",
          "data": {
            "text/plain": [
              "0.177098574917009"
            ],
            "image/png": "[encoded data removed]",
            "text/latex": "$\\displaystyle 0.177098574917009$"
          },
          "metadata": {},
          "execution_count": 4
        }
      ]
    },
    {
      "cell_type": "markdown",
      "source": [
        "#### We can also evaluate the integrals numerically:"
      ],
      "metadata": {
        "id": "Coynao1eL3KW"
      }
    },
    {
      "cell_type": "code",
      "source": [
        "from scipy.integrate import quad\n",
        "import numpy as np"
      ],
      "metadata": {
        "id": "lSFE6yiKL1v1"
      },
      "execution_count": 5,
      "outputs": []
    },
    {
      "cell_type": "code",
      "source": [
        "quad(lambda y:y**3*np.sin(y), 0,1)"
      ],
      "metadata": {
        "colab": {
          "base_uri": "https://localhost:8080/",
          "height": 38
        },
        "id": "3wtTLKu7L_NJ",
        "outputId": "51b95d95-3dd0-4743-b5ec-fb4895eb2f23"
      },
      "execution_count": 6,
      "outputs": [
        {
          "output_type": "execute_result",
          "data": {
            "text/plain": [
              "(0.17709857491700906, 1.9661891550116667e-15)"
            ],
            "image/png": "[encoded data removed]",
            "text/latex": "$\\displaystyle \\left( 0.177098574917009, \\  1.96618915501167 \\cdot 10^{-15}\\right)$"
          },
          "metadata": {},
          "execution_count": 6
        }
      ]
    },
    {
      "cell_type": "markdown",
      "source": [
        "Well, knowing how to integrate is still very important, it is pretty hard to debug a computer, if you don't understand what it is trying to do. \n",
        "\n",
        "Instead, the value of the computer is that it can dramatically enhance or speed you ability to solve problems by giving the computers the more difficult or time consuming tasks.\n",
        "\n",
        "\n",
        "--------\n",
        "\n",
        "What you'll achieve at the end of the course:\n",
        "1. you will be able to make a piece of python code do some basic things for you: read/sort/analyze data, calculate things you care about (integrals, solve algebraic or differential equations), make figures, etc.\n",
        "\n",
        "\n",
        "2. you will be sufficiently comfortable with python that when a piece of code is not working, you can debug the problem and get it to do what you want. Debugging problems is really the key step that you will need to suceed.\n",
        "\n",
        "\n",
        "------\n",
        "\n",
        "**No one ever writes code that works the first time** so identifying and fixing your own mistakes is essential to succeeding on your own. \n",
        "\n",
        "\n",
        "------\n",
        "\n",
        "Every mistake is unique, so it isn't about memorizing a list of possible errors and checking them, but it is building the confidence that you can figure out the problem yourself."
      ],
      "metadata": {
        "id": "1irA7z20MIht"
      }
    },
    {
      "cell_type": "markdown",
      "source": [
        "## Why Python ?\n",
        "\n",
        "1. It is easy to read and write\n",
        "2. It's free / open source\n",
        "3. It is used by LOTS of people in both industry and academia\n",
        "4. It is versatile\n",
        "\n"
      ],
      "metadata": {
        "id": "JE0iZkFlNoOM"
      }
    },
    {
      "cell_type": "markdown",
      "source": [
        "Here's an example. Let's say I just want to add some numbers:"
      ],
      "metadata": {
        "id": "8nHhm2PFN9X8"
      }
    },
    {
      "cell_type": "code",
      "source": [
        "1+2+4+10+100"
      ],
      "metadata": {
        "colab": {
          "base_uri": "https://localhost:8080/",
          "height": 37
        },
        "id": "IVBcUNk2MFV8",
        "outputId": "fbabce6b-44d9-4dc2-9136-d03dd1c7bcce"
      },
      "execution_count": 7,
      "outputs": [
        {
          "output_type": "execute_result",
          "data": {
            "text/plain": [
              "117"
            ],
            "image/png": "[encoded data removed]",
            "text/latex": "$\\displaystyle 117$"
          },
          "metadata": {},
          "execution_count": 7
        }
      ]
    },
    {
      "cell_type": "markdown",
      "source": [
        "Let's say I want to add a really big sum:\n",
        "\n",
        "$$ \\sum_{n=1}^{1000} 1/n^2 $$"
      ],
      "metadata": {
        "id": "U_YkvT3BOFEA"
      }
    },
    {
      "cell_type": "code",
      "source": [
        "sum = 0 \n",
        "for i in range(1000):\n",
        "  sum+= 1/(i+1)**2\n",
        "print(sum)"
      ],
      "metadata": {
        "colab": {
          "base_uri": "https://localhost:8080/"
        },
        "id": "IiIjpnF3ODRq",
        "outputId": "b4eb16bd-0928-4bfa-9dab-29e13f0d5701"
      },
      "execution_count": 8,
      "outputs": [
        {
          "output_type": "stream",
          "name": "stdout",
          "text": [
            "1.6439345666815615\n"
          ]
        }
      ]
    },
    {
      "cell_type": "markdown",
      "source": [
        "This was really easy in Python, while using C++ it would have taken a lot of work."
      ],
      "metadata": {
        "id": "RF7q9vozOVVN"
      }
    },
    {
      "cell_type": "markdown",
      "source": [
        "## What is wrong with Python?\n",
        "\n",
        "It is slow. If you need to do a very hard and time consuming calculating, python will probably be too slow. Relatedly, if you are using some big code someone else developed to solve a hard problem, it probably isn't written in python.\n",
        "\n",
        "------\n",
        "\n",
        "\n",
        "This weakness of python is really a very tiny problem: the most time consuming part of solving most problems is writing and testing the code. Python makes this part (the human part) way easier. If you reach the point that your ability to solve interesting problems is limited by python itself and not your coding and debugging skills, then I am also confident that you will have no problem learning the tools you need to speed it up using another language (there are also tools to run pieces of code written in other languages inside python so that only the part of your code that needs to be blazing fast is written in something other than python).\n"
      ],
      "metadata": {
        "id": "VgSlG5cdOeFD"
      }
    }
  ]
}