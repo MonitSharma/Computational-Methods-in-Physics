{
  "nbformat": 4,
  "nbformat_minor": 0,
  "metadata": {
    "colab": {
      "provenance": [],
      "authorship_tag": "ABX9TyPeN92DxpOa6hCf9tVS2/NL",
      "include_colab_link": true
    },
    "kernelspec": {
      "name": "python3",
      "display_name": "Python 3"
    },
    "language_info": {
      "name": "python"
    }
  },
  "cells": [
    {
      "cell_type": "markdown",
      "metadata": {
        "id": "view-in-github",
        "colab_type": "text"
      },
      "source": [
        "<a href=\"https://colab.research.google.com/github/MonitSharma/Computational-Methods-in-Physics/blob/main/Lecture13_Classes.ipynb\" target=\"_parent\"><img src=\"https://colab.research.google.com/assets/colab-badge.svg\" alt=\"Open In Colab\"/></a>"
      ]
    },
    {
      "cell_type": "markdown",
      "source": [
        "# Classes\n"
      ],
      "metadata": {
        "id": "nK6LDfUlhSyO"
      }
    },
    {
      "cell_type": "code",
      "execution_count": 1,
      "metadata": {
        "id": "73hGF0RLhI7I"
      },
      "outputs": [],
      "source": [
        "import numpy as np\n",
        "import matplotlib.pyplot as plt"
      ]
    },
    {
      "cell_type": "markdown",
      "source": [
        "So far, we have used python mostly as a set of one-use pieces of code that we use to solve problems. Our one exception to this rule was the function, which allowed us to reuse pieces of code for multiple purposes.\n",
        "\n",
        "--------\n",
        "\n",
        "However, when we load libraries, like numpy, we encounter more sophisticated use to python code. Think, for example, of how the numpy array is an object that is useful on its own, but also has a unique set of functions and operations that use this object. In this sense, python is capable of creating environments of new objects and operations that work together to enable a host of manipulations.\n",
        "\n",
        "------\n",
        "\n",
        "Let's remember how this works in numpy:"
      ],
      "metadata": {
        "id": "TpJIgA-UhY5e"
      }
    },
    {
      "cell_type": "code",
      "source": [
        "Arr=np.array([1,2,3])"
      ],
      "metadata": {
        "id": "qutUjZDFhXp-"
      },
      "execution_count": 2,
      "outputs": []
    },
    {
      "cell_type": "markdown",
      "source": [
        "Properties of the array are given by things like:"
      ],
      "metadata": {
        "id": "y3ubVQ5khe-I"
      }
    },
    {
      "cell_type": "code",
      "source": [
        "Arr.shape"
      ],
      "metadata": {
        "colab": {
          "base_uri": "https://localhost:8080/"
        },
        "id": "t1KV_PyvhdZ4",
        "outputId": "6b9ac6e8-c559-44cb-98e4-76a972318947"
      },
      "execution_count": 3,
      "outputs": [
        {
          "output_type": "execute_result",
          "data": {
            "text/plain": [
              "(3,)"
            ]
          },
          "metadata": {},
          "execution_count": 3
        }
      ]
    },
    {
      "cell_type": "markdown",
      "source": [
        "Notice there are you parenthese like a function. A function can also act on this array, like `sum()`:"
      ],
      "metadata": {
        "id": "QUqVCsThhik0"
      }
    },
    {
      "cell_type": "code",
      "source": [
        "Arr.sum()"
      ],
      "metadata": {
        "colab": {
          "base_uri": "https://localhost:8080/"
        },
        "id": "xavyrmWwhhRE",
        "outputId": "95047e02-c137-4579-804c-9e5fb07973fb"
      },
      "execution_count": 4,
      "outputs": [
        {
          "output_type": "execute_result",
          "data": {
            "text/plain": [
              "6"
            ]
          },
          "metadata": {},
          "execution_count": 4
        }
      ]
    },
    {
      "cell_type": "markdown",
      "source": [
        "In this way, sum is a function that acts on the array like sum(Arr). Of course, there are functions defined in the way we have been using already that just act on the objects themselfs:"
      ],
      "metadata": {
        "id": "8sU9tR4uhmxU"
      }
    },
    {
      "cell_type": "code",
      "source": [
        "np.sum(Arr)"
      ],
      "metadata": {
        "colab": {
          "base_uri": "https://localhost:8080/"
        },
        "id": "0f_L6aRRhlLf",
        "outputId": "d8e352cb-f9c7-46ad-ed86-e1e94790ed9e"
      },
      "execution_count": 5,
      "outputs": [
        {
          "output_type": "execute_result",
          "data": {
            "text/plain": [
              "6"
            ]
          },
          "metadata": {},
          "execution_count": 5
        }
      ]
    },
    {
      "cell_type": "markdown",
      "source": [
        "numpy is a useful example of a \"class\" in python. A \"class\" is a python tool that enables this kind of object-function relationship. Here we will explore how it works, at a basic level, so that we get the essense of how a class works."
      ],
      "metadata": {
        "id": "jbrZr63chqvt"
      }
    },
    {
      "cell_type": "markdown",
      "source": [
        "## Basic Class Use\n",
        "The basic idea behind a class is that there is a special object and some set of operations we can use on that object. Let's start with defining a class with the following properties:\n",
        "\n",
        "#### Object\n",
        "\n",
        "1. a person with a name and student number\n",
        "\n",
        "\n",
        "#### Functions\n",
        "\n",
        "1. says \"Hi\" using the persons name\n",
        "2. returns the student number (with text explaining it is the student ID number)\n",
        "3. change the name\n",
        "4.change the student number\n",
        "\n",
        "\n",
        "Let's see how to implement this:\n"
      ],
      "metadata": {
        "id": "8ig7s4I_hsgQ"
      }
    },
    {
      "cell_type": "code",
      "source": [
        "class student:\n",
        "    # There is a special function that defines the basic object called __init__\n",
        "    def __init__(self,name,student_number):\n",
        "        self.name=name\n",
        "        self.ID=student_number\n",
        "        self.description = '' # we are leaving this empty to be defined later\n",
        "        \n",
        "    def hi_name(self):\n",
        "        return 'Hi '+self.name\n",
        "    \n",
        "    def my_ID(self):\n",
        "        return 'My student ID number is '+str(self.ID)\n",
        "        \n",
        "    def change_name(self,new_name):\n",
        "        self.name=new_name\n",
        "    \n",
        "    def change_number(self,new_number):\n",
        "        self.ID=new_number"
      ],
      "metadata": {
        "id": "s8rOgmJXhpVD"
      },
      "execution_count": 6,
      "outputs": []
    },
    {
      "cell_type": "markdown",
      "source": [
        "Now let's see how this works. In the back of your mind should the idea of how we create a numpy array. I define an object in this class by calling student with the requested information but ignoring the entry \"self\""
      ],
      "metadata": {
        "id": "UKAnZUg4iA4O"
      }
    },
    {
      "cell_type": "code",
      "source": [
        "me=student('Prof White',111)"
      ],
      "metadata": {
        "id": "CMdBcNePh-gy"
      },
      "execution_count": 7,
      "outputs": []
    },
    {
      "cell_type": "markdown",
      "source": [
        "We can ask for the basic properties of this object as follows:"
      ],
      "metadata": {
        "id": "Vx_x2T0EiFxg"
      }
    },
    {
      "cell_type": "code",
      "source": [
        "me.name"
      ],
      "metadata": {
        "colab": {
          "base_uri": "https://localhost:8080/",
          "height": 36
        },
        "id": "MfCGcQXWiESj",
        "outputId": "66695a09-5fe1-4886-dbb6-9a33297889a9"
      },
      "execution_count": 8,
      "outputs": [
        {
          "output_type": "execute_result",
          "data": {
            "text/plain": [
              "'Prof White'"
            ],
            "application/vnd.google.colaboratory.intrinsic+json": {
              "type": "string"
            }
          },
          "metadata": {},
          "execution_count": 8
        }
      ]
    },
    {
      "cell_type": "code",
      "source": [
        "me.ID"
      ],
      "metadata": {
        "colab": {
          "base_uri": "https://localhost:8080/"
        },
        "id": "45tHYeGqiH74",
        "outputId": "a8fea2cc-dd2a-439b-e06f-59519f98d777"
      },
      "execution_count": 9,
      "outputs": [
        {
          "output_type": "execute_result",
          "data": {
            "text/plain": [
              "111"
            ]
          },
          "metadata": {},
          "execution_count": 9
        }
      ]
    },
    {
      "cell_type": "markdown",
      "source": [
        "Now, we call the functions that act on the object the same way we use .sum() or other functions that act on arrays. Our first two functions didn't use any input (again, we ignore \"self\"), so it looks the same:"
      ],
      "metadata": {
        "id": "gvEdNB0ciJvU"
      }
    },
    {
      "cell_type": "code",
      "source": [
        "me.hi_name()"
      ],
      "metadata": {
        "colab": {
          "base_uri": "https://localhost:8080/",
          "height": 36
        },
        "id": "-KPVoV9jiIeo",
        "outputId": "f6f929d5-b1df-481e-c1ba-51e94be6b4df"
      },
      "execution_count": 10,
      "outputs": [
        {
          "output_type": "execute_result",
          "data": {
            "text/plain": [
              "'Hi Prof White'"
            ],
            "application/vnd.google.colaboratory.intrinsic+json": {
              "type": "string"
            }
          },
          "metadata": {},
          "execution_count": 10
        }
      ]
    },
    {
      "cell_type": "code",
      "source": [
        "me.my_ID()"
      ],
      "metadata": {
        "colab": {
          "base_uri": "https://localhost:8080/",
          "height": 36
        },
        "id": "QgBOOVtaiMAx",
        "outputId": "d16343ca-d6ac-4728-bc54-717de3456855"
      },
      "execution_count": 11,
      "outputs": [
        {
          "output_type": "execute_result",
          "data": {
            "text/plain": [
              "'My student ID number is 111'"
            ],
            "application/vnd.google.colaboratory.intrinsic+json": {
              "type": "string"
            }
          },
          "metadata": {},
          "execution_count": 11
        }
      ]
    },
    {
      "cell_type": "markdown",
      "source": [
        "Our next two functions required input."
      ],
      "metadata": {
        "id": "0i35mpyAiOyO"
      }
    },
    {
      "cell_type": "code",
      "source": [
        "me.change_number(222)\n",
        "print(me.ID)"
      ],
      "metadata": {
        "colab": {
          "base_uri": "https://localhost:8080/"
        },
        "id": "r5d5UxdfiNgM",
        "outputId": "178b802e-0889-410b-cbed-0a693355a656"
      },
      "execution_count": 12,
      "outputs": [
        {
          "output_type": "stream",
          "name": "stdout",
          "text": [
            "222\n"
          ]
        }
      ]
    },
    {
      "cell_type": "markdown",
      "source": [
        "Okay, so we see we have accomplished our minimal goal: we have defined an object with attributes and functions that act on those attributes"
      ],
      "metadata": {
        "id": "GCHiX1CXiSis"
      }
    },
    {
      "cell_type": "markdown",
      "source": [
        "## Defining Functions that Use Objects\n",
        "\n",
        "When we think of how numpy works, we can tell that one can use of the class method in much more interesting ways. Concretely, think about the following operation in numpy:"
      ],
      "metadata": {
        "id": "k52hQO3QiTt-"
      }
    },
    {
      "cell_type": "code",
      "source": [
        "a=np.array([1.,2.,3.])\n",
        "b=np.array([1,4,-1])\n",
        "print(a+b,a-b,a*b,a/b,a**b)"
      ],
      "metadata": {
        "colab": {
          "base_uri": "https://localhost:8080/"
        },
        "id": "2yIg9rFKiQ9v",
        "outputId": "50b76cb4-e7fa-49bb-b3fa-cb52074b8b9b"
      },
      "execution_count": 13,
      "outputs": [
        {
          "output_type": "stream",
          "name": "stdout",
          "text": [
            "[2. 6. 2.] [ 0. -2.  4.] [ 1.  8. -3.] [ 1.   0.5 -3. ] [ 1.         16.          0.33333333]\n"
          ]
        }
      ]
    },
    {
      "cell_type": "markdown",
      "source": [
        "There are two interesting aspects of what we see\n",
        "\n",
        "1. These operations take two objects in the class (a,b) and return a new object in the class\n",
        "\n",
        "2. The functions have borrowed the existing math operations and defined them for this class\n",
        "\n",
        "-------\n",
        "\n",
        "\n",
        "Our goal is to see how to accomplish these steps in our own class, although we will get there in steps.\n",
        "\n",
        "In order to see how this works, we will define a class of rectangles. We want to define an rectable by\n",
        "\n",
        "1. hight (store as h)\n",
        "2. width (store as w)\n",
        "\n",
        "\n",
        "-------\n",
        "\n",
        "We will will also define three functions:\n",
        "\n",
        "1. return the area of the rectangle\n",
        "2. return the perimeter of the rectangle\n",
        "3. rescale the size of the rectangle"
      ],
      "metadata": {
        "id": "IyRV7HSRia9v"
      }
    },
    {
      "cell_type": "code",
      "source": [
        "class rect:\n",
        "    def __init__(self,hight,width):\n",
        "        self.h=hight\n",
        "        self.w=width\n",
        "        \n",
        "    def area(self):\n",
        "        return self.h*self.w\n",
        "    \n",
        "    def perimeter(self):\n",
        "        return 2*self.h+2*self.w\n",
        "    \n",
        "    def rescale(self,factor):\n",
        "        self.h*=factor\n",
        "        self.w*=factor"
      ],
      "metadata": {
        "id": "2s6IRYfoiZIg"
      },
      "execution_count": 14,
      "outputs": []
    },
    {
      "cell_type": "markdown",
      "source": [
        "Let's see that this does the job we set out to do:"
      ],
      "metadata": {
        "id": "eli3o83ximME"
      }
    },
    {
      "cell_type": "code",
      "source": [
        "A=rect(10,5)\n",
        "print(A.h,A.w)"
      ],
      "metadata": {
        "colab": {
          "base_uri": "https://localhost:8080/"
        },
        "id": "LWwBqi1eikmC",
        "outputId": "0dc63e52-b991-40e9-9ca5-dfe0d285ebeb"
      },
      "execution_count": 15,
      "outputs": [
        {
          "output_type": "stream",
          "name": "stdout",
          "text": [
            "10 5\n"
          ]
        }
      ]
    },
    {
      "cell_type": "code",
      "source": [
        "print(A.area(),A.perimeter())"
      ],
      "metadata": {
        "colab": {
          "base_uri": "https://localhost:8080/"
        },
        "id": "yXZdZXkEioYK",
        "outputId": "159e3b1b-0a60-4de7-99ed-62af56dec827"
      },
      "execution_count": 16,
      "outputs": [
        {
          "output_type": "stream",
          "name": "stdout",
          "text": [
            "50 30\n"
          ]
        }
      ]
    },
    {
      "cell_type": "code",
      "source": [
        "A.rescale(2)\n",
        "print(A.h,A.w)"
      ],
      "metadata": {
        "colab": {
          "base_uri": "https://localhost:8080/"
        },
        "id": "O95sXvS7ipzE",
        "outputId": "1d8117d9-9bf2-4341-9405-fd2ddd9886a0"
      },
      "execution_count": 17,
      "outputs": [
        {
          "output_type": "stream",
          "name": "stdout",
          "text": [
            "20 10\n"
          ]
        }
      ]
    },
    {
      "cell_type": "markdown",
      "source": [
        "This is looking pretty good, we have defined some basic mathematical information we might want to calculate about this function.\n",
        "\n",
        "-------\n",
        "\n",
        "Now, let use define the opeation of addition: if I have a rectangle A and I add rectangle B, I want to return a new rectangle (don't distroy the rectanges A or B) that has hight A.h+B.h and a width A.w+B.w.\n",
        "\n",
        "------\n",
        "\n",
        "To start, we will simply define a function call \"add\". We can assume the arguments in \"add\" are rectangles and then we use the class itself to return a new object in the class:"
      ],
      "metadata": {
        "id": "HOK2jTj_is2s"
      }
    },
    {
      "cell_type": "code",
      "source": [
        "def add_rect(r1,r2):\n",
        "    return rect(r1.h+r2.h,r1.w+r2.w)\n",
        "    "
      ],
      "metadata": {
        "id": "tP1tzYDAirNa"
      },
      "execution_count": 18,
      "outputs": []
    },
    {
      "cell_type": "code",
      "source": [
        "B=rect(1,9)\n",
        "C=add_rect(A,B)\n",
        "print(C.h,C.w)"
      ],
      "metadata": {
        "colab": {
          "base_uri": "https://localhost:8080/"
        },
        "id": "ktKJdHVNix3Q",
        "outputId": "aa555e69-68a5-42cb-cedf-0ffd24940d1e"
      },
      "execution_count": 19,
      "outputs": [
        {
          "output_type": "stream",
          "name": "stdout",
          "text": [
            "21 19\n"
          ]
        }
      ]
    },
    {
      "cell_type": "markdown",
      "source": [
        "The next step is to move this function inside the class. We can still call it in exactly the same way, but now we remember that it is going to act on the first object via r1.add(r2):"
      ],
      "metadata": {
        "id": "Y2Se8teOi0iz"
      }
    },
    {
      "cell_type": "code",
      "source": [
        "class rect_add:\n",
        "    def __init__(self,hight,width):\n",
        "        self.h=hight\n",
        "        self.w=width\n",
        "        \n",
        "    def area(self):\n",
        "        return self.h*self.w\n",
        "    \n",
        "    def perimeter(self):\n",
        "        return 2*self.h+2*self.w\n",
        "    \n",
        "    def rescale(self,factor):\n",
        "        self.h*=factor\n",
        "        self.w*=factor\n",
        "    \n",
        "    def add(self,other):\n",
        "        return rect_add(self.h+other.h,self.w+other.w)"
      ],
      "metadata": {
        "id": "k1tSJDFyizHa"
      },
      "execution_count": 20,
      "outputs": []
    },
    {
      "cell_type": "markdown",
      "source": [
        "Let's see how this works:"
      ],
      "metadata": {
        "id": "xsWU9FAdi4mx"
      }
    },
    {
      "cell_type": "code",
      "source": [
        "D=rect_add(10,9)\n",
        "E=rect_add(1,2)\n",
        "F=D.add(E)"
      ],
      "metadata": {
        "id": "Q3CptEPEi3Lk"
      },
      "execution_count": 21,
      "outputs": []
    },
    {
      "cell_type": "code",
      "source": [
        "print(F.h,F.w)"
      ],
      "metadata": {
        "colab": {
          "base_uri": "https://localhost:8080/"
        },
        "id": "7TeplgbNi6g8",
        "outputId": "8d3cb40b-e3e4-4935-c5f5-7dae2e251714"
      },
      "execution_count": 22,
      "outputs": [
        {
          "output_type": "stream",
          "name": "stdout",
          "text": [
            "11 11\n"
          ]
        }
      ]
    },
    {
      "cell_type": "markdown",
      "source": [
        "So our last step is that we want to change the way we call the addition functino from D.add(E) to D+E. So here we need to know there is a special list of operations that we can reuse inside of a class. We can start with addition:"
      ],
      "metadata": {
        "id": "KOzYk7YYi9Tv"
      }
    },
    {
      "cell_type": "code",
      "source": [
        "class rect_add2:\n",
        "    def __init__(self,hight,width):\n",
        "        self.h=hight\n",
        "        self.w=width\n",
        "        \n",
        "    def area(self):\n",
        "        return self.h*self.w\n",
        "    \n",
        "    def perimeter(self):\n",
        "        return 2*self.h+2*self.w\n",
        "    \n",
        "    def rescale(self,factor):\n",
        "        self.h*=factor\n",
        "        self.w*=factor\n",
        "    \n",
        "    def __add__(self,other):\n",
        "        return rect_add(self.h+other.h,self.w+other.w)"
      ],
      "metadata": {
        "id": "rTRosiNZi70a"
      },
      "execution_count": 23,
      "outputs": []
    },
    {
      "cell_type": "markdown",
      "source": [
        "This special syntax converts our add function to something we call with the + symbol:"
      ],
      "metadata": {
        "id": "IvxPqYoMjCGm"
      }
    },
    {
      "cell_type": "code",
      "source": [
        "G=rect_add2(12,0)\n",
        "H=rect_add2(0,3)\n",
        "I=G+H\n",
        "print(I.h,I.w)"
      ],
      "metadata": {
        "colab": {
          "base_uri": "https://localhost:8080/"
        },
        "id": "Bbjz2DQXi_37",
        "outputId": "fecfea38-6548-438f-851e-760d2473a7d6"
      },
      "execution_count": 24,
      "outputs": [
        {
          "output_type": "stream",
          "name": "stdout",
          "text": [
            "12 3\n"
          ]
        }
      ]
    },
    {
      "cell_type": "markdown",
      "source": [
        "So we can see how we can make a very useful set of shortcuts to perform various tasks in a simplified way.\n",
        "\n",
        "As a final example, we can define numbers modulo an integer (a mod n). The most obvious example of modulo addition is a clock, which for a 12 hour clock we would say is a mod 12 number. E.g. 11+6= 5 mod 12 means the same thing as 11am + 6 hours = 5 pm. Fortunately for us, modulo 12 just means : the remainder after dividing by 12 which has an easy python implementation with the % symbol:"
      ],
      "metadata": {
        "id": "So86lKDbjGl2"
      }
    },
    {
      "cell_type": "code",
      "source": [
        "(11+6)%12"
      ],
      "metadata": {
        "colab": {
          "base_uri": "https://localhost:8080/"
        },
        "id": "5Z6zk5HPjEgV",
        "outputId": "d96519b3-1c34-4fd8-ccb4-a0b7bdcdc924"
      },
      "execution_count": 25,
      "outputs": [
        {
          "output_type": "execute_result",
          "data": {
            "text/plain": [
              "5"
            ]
          },
          "metadata": {},
          "execution_count": 25
        }
      ]
    },
    {
      "cell_type": "code",
      "source": [
        "class modn:\n",
        "    def __init__(self,num,n):\n",
        "        self.num=num%n\n",
        "        self.n=n\n",
        "    \n",
        "    def __add__(self,other):\n",
        "        if self.n==other.n:\n",
        "            return modn(self.num+other.num,self.n)\n",
        "        else:\n",
        "            return 'not compatible numbers'\n",
        "    \n",
        "    def __mul__(self,other):\n",
        "        if self.n==other.n:\n",
        "            return modn(self.num*other.num,self.n)\n",
        "        else:\n",
        "            return 'not compatible numbers'\n",
        "    def __sub__(self,other):\n",
        "        if self.n==other.n:\n",
        "            return modn(self.num-other.num,self.n)\n",
        "        else:\n",
        "            return 'not compatible numbers'\n",
        "    def __truediv__(self,other):\n",
        "        if self.n==other.n:\n",
        "            return modn(self.num/other.num,self.n)\n",
        "        else:\n",
        "            return 'not compatible numbers'\n",
        "    def __pow__(self,other):\n",
        "        if self.n==other.n:\n",
        "            return modn(self.num**other.num,self.n)\n",
        "        else:\n",
        "            return 'not compatible numbers'\n",
        "    def __str__(self):\n",
        "        return str(self.num)\n",
        "    def __repr__(self):\n",
        "        return str(self.num)"
      ],
      "metadata": {
        "id": "4tNYZvPGjI7h"
      },
      "execution_count": 26,
      "outputs": []
    },
    {
      "cell_type": "markdown",
      "source": [
        "We have now constructed an entirely new kind of number, with all the basic operations applied to it. Notice that the last definition, str, tells the computer what to show when I write print()."
      ],
      "metadata": {
        "id": "h6PT01YTjM5I"
      }
    },
    {
      "cell_type": "code",
      "source": [
        "a=modn(11,12)\n",
        "b=modn(6,12)\n",
        "print((a+b))\n",
        "print((a*b))\n",
        "print((a/b))\n",
        "print((a-b))\n",
        "print((a**b))"
      ],
      "metadata": {
        "colab": {
          "base_uri": "https://localhost:8080/"
        },
        "id": "60cDa6lXjLVd",
        "outputId": "49768eaa-ab8b-4e14-da18-763c375e45ba"
      },
      "execution_count": 27,
      "outputs": [
        {
          "output_type": "stream",
          "name": "stdout",
          "text": [
            "5\n",
            "6\n",
            "1.8333333333333333\n",
            "5\n",
            "1\n"
          ]
        }
      ]
    },
    {
      "cell_type": "markdown",
      "source": [
        "The final line \"repr\" is what tells the computer what to print on the screen to represent the answer of a claculation"
      ],
      "metadata": {
        "id": "14_QdKV7jRTt"
      }
    },
    {
      "cell_type": "code",
      "source": [
        "a+b"
      ],
      "metadata": {
        "colab": {
          "base_uri": "https://localhost:8080/"
        },
        "id": "3AAb9wW9jPUU",
        "outputId": "865bbcad-ed38-4b87-922b-cade67cd3468"
      },
      "execution_count": 28,
      "outputs": [
        {
          "output_type": "execute_result",
          "data": {
            "text/plain": [
              "5"
            ]
          },
          "metadata": {},
          "execution_count": 28
        }
      ]
    },
    {
      "cell_type": "markdown",
      "source": [
        "## Summary\n",
        "\n",
        "The class method is a elegant tool to add to your coding skill-set. It expands the idea of functions into something far more powerful. Having seen how it works, we can now understand that I lot of the special objects we have used in libraries like matplotlib or numpy as just build on the class framework. If you are in the habit of repeating the same kinds of tasks on the same kinds of objects, it is useful to organize your work into the class framework to simplify what you are doing into a bunch of simple commands. That said, this isn't the way you should write your first piece of code, but it is a nice way to take code that is working an move it out of sight."
      ],
      "metadata": {
        "id": "fQBOTpRcjUKw"
      }
    }
  ]
}