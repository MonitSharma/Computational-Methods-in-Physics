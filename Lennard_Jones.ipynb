{
  "nbformat": 4,
  "nbformat_minor": 0,
  "metadata": {
    "colab": {
      "name": "Lennard Jones.ipynb",
      "provenance": [],
      "authorship_tag": "ABX9TyO7FxWYzICsJ0u7qqCeqjyd",
      "include_colab_link": true
    },
    "kernelspec": {
      "name": "python3",
      "display_name": "Python 3"
    },
    "language_info": {
      "name": "python"
    }
  },
  "cells": [
    {
      "cell_type": "markdown",
      "metadata": {
        "id": "view-in-github",
        "colab_type": "text"
      },
      "source": [
        "<a href=\"https://colab.research.google.com/github/MonitSharma/Computational-Methods-in-Physics/blob/main/Lennard_Jones.ipynb\" target=\"_parent\"><img src=\"https://colab.research.google.com/assets/colab-badge.svg\" alt=\"Open In Colab\"/></a>"
      ]
    },
    {
      "cell_type": "markdown",
      "metadata": {
        "id": "WVnv9piE7F3w"
      },
      "source": [
        "## The Lennard-Jones Potential\n",
        "\n",
        "### The Model Fluid\n",
        "\n",
        "The topic of the fundamental molecular dynamics of non-bonded interactions is studied using a soft-disk fluid simulation, which is an implementation of the Equation of Motion in which a spherical particle (atoms) interact with one another. Interactions between pairs of atoms are calculated for providing the two principal features of interatomic forces:\n",
        "\n",
        "<li>      Repulsive forces: resistance to compression.\n",
        "\n",
        "<li> Attractive forces: mutual attraction of pairs of particles over a range of separations (dipole-dipole, dipole-induced dipole, van der Waals forces encompassing London dispersion forces).\n",
        "\n",
        "\n",
        "The genral equation that calculates these features is the Lennard-Jones potential (LJP)."
      ]
    },
    {
      "cell_type": "markdown",
      "metadata": {
        "id": "9UcYk3kb7q9V"
      },
      "source": [
        "This potential governs the strength of the interaction and repulsion for a pair of atoms $i$ and $j$ located at $r_i$ and $r_j$ positions. It calculates their accelerations and forces based on their distance of separation $r$.\n",
        "\n",
        "$ u(r_{ij}) = 4ϵ \\bigg[ \\bigg( \\frac{\\sigma}{r_{ij}}\\bigg)^{12} - \\bigg(\\frac{\\sigma}{r_{ij}}\\bigg)^{6} \\bigg]$ \n",
        "\n",
        "\n",
        "\n",
        "The LJP model is composed of two components: the repulsive $(σ/r)¹²$ and the attractive term $(σ/r)⁶$, which respectively denote repulsive and attractive forces. The parameter $r$ is the distance between the two atoms (in $Å$ units);\n",
        "\n",
        "$σ$ is a length scale representing the distance at which the intermolecular potential between the two atoms is $= 0$ (in $Å$ units), and $ε$ governs the strength of the interaction (in $eV$ units). In essence, it’s a measure of how strongly two atoms attract each other.\n",
        "\n",
        "Finally, $u$ is the intermolecular potential between the two particles. The interaction repels at close range, then attracts, and is cut off at some limiting separation $r_c$: as the parameter $r$ increases towards $r_c$, the force drops to $0$."
      ]
    },
    {
      "cell_type": "markdown",
      "metadata": {
        "id": "bV0m3ZZ885or"
      },
      "source": [
        "### The LJP Curve"
      ]
    },
    {
      "cell_type": "code",
      "metadata": {
        "colab": {
          "base_uri": "https://localhost:8080/",
          "height": 279
        },
        "id": "1mUrfeNe6UzE",
        "outputId": "c714ebba-72be-4295-d0d4-107a34c23c50"
      },
      "source": [
        "import numpy as np\n",
        "import matplotlib.pyplot as plt\n",
        "\n",
        "def potential(r, epsilon, sigma):\n",
        "\n",
        "  return 48 * epsilon * np.power(sigma, 12) / np.power(r, 13)- 24 * epsilon * np.power(sigma, 6) / np.power(r, 7)\n",
        "\n",
        "\n",
        "\n",
        "r = np.linspace(3.5, 8, 300)\n",
        "plt.plot(r,potential(r, 0.0103, 3.34))\n",
        "plt.xlabel('distance')\n",
        "plt.ylabel('energy')\n",
        "plt.show()"
      ],
      "execution_count": 1,
      "outputs": [
        {
          "output_type": "display_data",
          "data": {
            "image/png": "[encoded data removed]",
            "text/plain": [
              "<Figure size 432x288 with 1 Axes>"
            ]
          },
          "metadata": {
            "needs_background": "light"
          }
        }
      ]
    },
    {
      "cell_type": "markdown",
      "metadata": {
        "id": "ZWIitbV1_oHI"
      },
      "source": [
        "For computational simplicity, Rapaport has modified the LJP in the example reported in Chapter Two, simplifying the interaction by ignoring the attractive tail represented by the van der Waals forces. Moreover, $ε$ and $σ$ are set to $1$.\n",
        "\n",
        "The Limiting separation is:     \n",
        "\n",
        "$ r_{ij} < r_{c} = 2^{1/6} σ$\n",
        "\n",
        "If we construct the model fluid with this kind of potential, the simulation will look like a little more than a collection of $\\textbf{colliding softballs}$"
      ]
    },
    {
      "cell_type": "markdown",
      "metadata": {
        "id": "-FoBFPzFAVSK"
      },
      "source": [
        "### Including Newtonian Mechanics\n",
        "Considering Newton's second law of motion, where $F$ is the force for each pair of particles at a position $r$.\n",
        "The Equation becomes:     \n",
        "\n",
        "$ F_{i}(r_{ij}) = 48 ϵ \\bigg[ \\bigg( \\frac{\\sigma^{12}}{r_{ij}^{13}}\\bigg) - 24 ϵ \\bigg(\\frac{\\sigma^6}{r_{ij}^7}\\bigg) \\bigg]$ \n",
        "\n",
        "\n",
        "Also, Newton’s third law implies that $F_{ji}$ is equal to -$F_{ij}$, so the force on particle $i$ from the pairwise interaction $u(r_{ij})$ has the opposite direction of the force on particle $j$. The calculation of forces will need to be numerically integrated, and it will allow us to derives coordinates, velocities, and accelerations of each atom within the simulation."
      ]
    },
    {
      "cell_type": "markdown",
      "metadata": {
        "id": "cui2MppkBdwl"
      },
      "source": [
        "## Soft-Disk Fluid Algorithm for a 2-Dimension\n",
        "\n",
        "\n",
        "\n",
        "1. The Main coordinates the flux, firstly calling \n",
        "```SetParams```  and ```SetupJob``` that are two functions for the program initialization. ```SetParams``` serves to set many global parameters, while ```SetupJob``` embodies ```InitCoords```, ```InitVels```, and ```InitAccels```, which are functions for the initialization of the coordinates, the velocities, and the accelerations of all the atoms, respectively.\n",
        "\n",
        "\n",
        "2.   Everything Main has to do will be calling ```SingleStep```, which represents the function that handles the whole process. ```SingleStep``` will call ```LeapFrogStep```, which performs the integration of Equation of Motion using a simple numerical technique: the leapfrog method. This method has excellent energy conservation properties, integrating the coordinates and velocities of the particles. The LeapFrogStep appears twice in the listing of ```SingleStep```, with the argument 1 or 2 that determines which portion of the two-step leapfrog process is to be performed. Finally, ```SingleStep``` encompasses ```ComputeForces```, which implements the LJP and the forces and updates atom accelerations, and two functions for the properties measurements: ```EvalProps``` and ```AccumProps```   \n",
        "\n",
        "\n"
      ]
    },
    {
      "cell_type": "code",
      "metadata": {
        "id": "_ONYtexIDZzP"
      },
      "source": [
        "import pandas as pd\n",
        "import math\n",
        "import os\n",
        "import matplotlib.pyplot as plt\n",
        "plt.style.use('seaborn-whitegrid')\n",
        "import numpy as np\n",
        "from PIL import Image\n",
        "import glob\n",
        "import moviepy.editor as mp\n",
        "from datetime import datetime\n",
        "import time"
      ],
      "execution_count": 2,
      "outputs": []
    },
    {
      "cell_type": "markdown",
      "metadata": {
        "id": "wcIHJ7HVLwaD"
      },
      "source": [
        "Introducing one Python class for the molecule definition (class Mol) and one for the properties (class Prop)."
      ]
    },
    {
      "cell_type": "code",
      "metadata": {
        "id": "6gSWdwWaDcDA"
      },
      "source": [
        "class Mol():\n",
        "    def __init__(self, r, rv, ra):\n",
        "        self.r = np.asarray([0.0, 0.0]) \n",
        "        self.rv = np.asarray([0.0, 0.0])\n",
        "        self.ra = np.asarray([0.0, 0.0])\n",
        "        \n",
        "        \n",
        "class Prop():\n",
        "    def __init__(self, val, sum1, sum2 ):\n",
        "        self.val=val\n",
        "        self.sum1=sum1\n",
        "        self.sum2=sum2   "
      ],
      "execution_count": 3,
      "outputs": []
    },
    {
      "cell_type": "markdown",
      "metadata": {
        "id": "0GDWC04sMOkb"
      },
      "source": [
        "Replacing all the functions for the vector operations with linear algebra functions from NumPy. Also, written all the necessary functions for the randomness and for updating the coordinates in periodic boundaries"
      ]
    },
    {
      "cell_type": "code",
      "metadata": {
        "id": "VMrqJl1xDe8N"
      },
      "source": [
        "# BASIC FUNCTIONS\n",
        "\n",
        "# Sqr and Cube functions:\n",
        "\n",
        "def Sqr(x):\n",
        "    return (x * x) \n",
        "\n",
        "def Cube(x):\n",
        "    return ((x) * (x) * (x))\n",
        "\n",
        "  \n",
        "# Randomness functions: \n",
        "\n",
        "def RandR():\n",
        "    global randSeedP\n",
        "    randSeedP = (randSeedP * IMUL + IADD) & MASK\n",
        "    return (randSeedP * SCALE)\n",
        "\n",
        "def VRand(p):\n",
        "    s: float\n",
        "    s = 2. * math.pi * RandR()\n",
        "    p[0] = math.cos(s)\n",
        "    p[1] = math.sin(s)\n",
        "    return p\n",
        "\n",
        "\n",
        "# Toroidal functions:\n",
        "def VWrapAll(v):\n",
        "    if v[0] >= 0.5 * region[0]:\n",
        "        v[0] -= region[0]\n",
        "    elif v[0] < -0.5 * region[0]:\n",
        "        v[0] += region[0]\n",
        "        \n",
        "    if v[1] >= 0.5 * region[1]:\n",
        "        v[1] -= region[1]\n",
        "    elif v[1] < -0.5 * region[1]:\n",
        "        v[1] += region[1]        \n",
        "        \n",
        "    \n",
        "# This function updates coordinates taking care of periodic boundaries    \n",
        "def ApplyBoundaryCond():\n",
        "    for n in range(nMol):\n",
        "        VWrapAll(mol[n].r)"
      ],
      "execution_count": 4,
      "outputs": []
    },
    {
      "cell_type": "markdown",
      "metadata": {
        "id": "sQLLWWq9MfE_"
      },
      "source": [
        "The initialization functions for coordinates, velocities, and accelerations, are included in the following code"
      ]
    },
    {
      "cell_type": "code",
      "metadata": {
        "id": "ys0MZ2zxDhwJ"
      },
      "source": [
        "# INITIALIZE COORDINATES.\n",
        "# Here a simple square lattice (with the option of unequal edge lenghts) is used,\n",
        "# so that each cell contains just one atom and the system is centered about the origin\n",
        "def InitCoords():\n",
        "\n",
        "    c = np.asarray([0.0, 0.0]) # Coords\n",
        "    gap = np.divide(region, initUcell)\n",
        "    n = 0\n",
        "    for ny in range(0, int(initUcell[1])):\n",
        "        for nx in range(0, int(initUcell[0])):\n",
        "            \n",
        "            #c = np.asarray([nx+0.5, ny+0.5])\n",
        "            #c = np.multiply(c, gap)\n",
        "            #c = np.add(c, np.multiply(-0.5, region))\n",
        "            #mol[n].r = c   \n",
        "            \n",
        "            mol[n].r = np.add(np.multiply(np.asarray([nx+0.5, ny+0.5]), gap), np.multiply(-0.5, region)) \n",
        "            n = n+1\n",
        "            \n",
        "            \n",
        "# INITIALIZE VELOCITIES.\n",
        "# The initial velocities are set to fixed magnitude (velMag)\n",
        "# that depends on the temperature. After assigning random velocity directions\n",
        "# the velocoties are adjusted to ensure that the center of mass is stationary.\n",
        "# The function vRand serves as a source of uniformly distribuited radnom unit vectors.\n",
        "def InitVels():\n",
        "    \n",
        "    global vSum\n",
        "    vSum = np.zeros(vSum.shape)    \n",
        "    \n",
        "    for n in range(nMol):\n",
        "        VRand(mol[n].rv)\n",
        "        mol[n].rv = np.multiply(mol[n].rv, velMag)                \n",
        "        vSum = np.add(vSum, mol[n].rv)\n",
        "\n",
        "\n",
        "    for n in range(nMol):\n",
        "        mol[n].rv = np.add(mol[n].rv, np.multiply((- 1.0 / nMol),  vSum))\n",
        "        \n",
        "        \n",
        "# INITIALIZE ACCELERATIONS.\n",
        "# The accelerations are initilized to zero\n",
        "def InitAccels():\n",
        "    for n in range(nMol):\n",
        "        mol[n].ra = np.zeros(mol[n].ra.shape)"
      ],
      "execution_count": 5,
      "outputs": []
    },
    {
      "cell_type": "markdown",
      "metadata": {
        "id": "n61ik3opMqHM"
      },
      "source": [
        "The two functions ```SetParams``` and ```SetupJob``` are presented"
      ]
    },
    {
      "cell_type": "code",
      "metadata": {
        "id": "IO0Z2Cm-Dkhz"
      },
      "source": [
        "# Set parameters\n",
        "def SetParams():\n",
        "\n",
        "    global rCut\n",
        "    global region\n",
        "    global velMag # velocity magnitude\n",
        "    \n",
        "    rCut = math.pow(2., 1./6. * sigma)\n",
        "    # Define the region\n",
        "    region = np.multiply( 1./math.sqrt(density), initUcell)    \n",
        "    nMol = len(mol) \n",
        "    #velocity magnitude depends on the temperature\n",
        "    velMag = math.sqrt(NDIM * (1. -1. /nMol) * temperature)\n",
        "\n",
        "        \n",
        "# Setup Job\n",
        "def SetupJob():\n",
        "    \n",
        "    global stepCount #  timestep counter \n",
        "\n",
        "    stepCount = 0 \n",
        "    InitCoords()\n",
        "    InitVels()\n",
        "    InitAccels()\n",
        "    AccumProps(0)"
      ],
      "execution_count": 6,
      "outputs": []
    },
    {
      "cell_type": "markdown",
      "metadata": {
        "id": "hzslGXbSOV4m"
      },
      "source": [
        "Introducing the attractive tail represented by the van der Waals forces"
      ]
    },
    {
      "cell_type": "code",
      "metadata": {
        "id": "4lPSGtS5Dm-f"
      },
      "source": [
        "# FORCES COMPUTATION\n",
        "'''\n",
        "ComputeForces\n",
        "ComputeForces is responsible for the interaction computations, and the interactions occur between pairs of atoms. \n",
        "The function implements the LJP, and calculates the accelerations and the forces for each pairs of atoms i and j \n",
        "located at ri and rj.\n",
        "rCut = Limiting separation cutoff (rc), and it is: rCut = math.pow(2., 1./6.)\n",
        "As r increases towards rCut, the force drops to 0.\n",
        "Newton's third law inplies that fji = -fij, so each atom pair need only be examined once.\n",
        "The amount of work is proportional to N^2.\n",
        "'''\n",
        "\n",
        "def ComputeForces():\n",
        "    \n",
        "    global virSum\n",
        "    global uSum \n",
        "    fcVal = 0 #  The force that atom j exerts on atom i\n",
        " \n",
        "    # rCut: Rc\n",
        "    rrCut = Sqr(rCut)\n",
        "    for n in range(nMol):\n",
        "        mol[n].ra = np.zeros(mol[n].ra.shape)\n",
        "    uSum = 0.\n",
        "    virSum = 0.\n",
        "\n",
        "    n = 0\n",
        "    for j1 in range(nMol-1):\n",
        "        for j2 in range(j1+1, nMol):\n",
        "            \n",
        "            # Make DeltaRij: (sum of squared RJ1-RJ2)\n",
        "            dr = np.subtract(mol[j1].r, mol[j2].r) # dr contains the delta between Rj1 and Rj2\n",
        "            VWrapAll(dr) # toroidal function\n",
        "            rr= (dr[0] * dr[0] + dr[1] * dr[1]) # dr2\n",
        "            r= np.sqrt(rr) #dr\n",
        "            \n",
        "            # if dr2 < Rc^2 \n",
        "            if (rr < rrCut):\n",
        "                rri = sigma / rr                \n",
        "                rri3 = Cube(rri)\n",
        "                \n",
        "                # Forces calculation by Lennard-Jones potential (original from Rapaport)\n",
        "                # fcVal = 48. * rri3 * (rri3 - 0.5) * rri\n",
        "                # Forces calculated with the completed Lennard-Jones.\n",
        "                fcVal = 48 * epsilon * np.power(sigma, 12) / np.power(r, 13) - 24 * epsilon * np.power(sigma, 6) / np.power(r, 7) \n",
        "\n",
        "                # Update the accelerations multiplying force for DeltaRij\n",
        "                mol[j1].ra = np.add(mol[j1].ra, np.multiply(fcVal, dr))\n",
        "                mol[j2].ra = np.add(mol[j2].ra, np.multiply(-fcVal, dr))\n",
        "                \n",
        "                # Lennard-Jones potential (original from Rapaport)\n",
        "                # uSum += 4. * rri3 * (rri3 - 1.) +1. \n",
        "                # The completed Lennard-Jones.\n",
        "                uSum += 4 * epsilon * np.power(sigma/r, 12)/r - np.power(sigma/r, 6) # balanced              \n",
        "\n",
        "\n",
        "\n",
        "                virSum += fcVal * rr"
      ],
      "execution_count": 7,
      "outputs": []
    },
    {
      "cell_type": "markdown",
      "metadata": {
        "id": "8qnJHC3LOgzA"
      },
      "source": [
        " Below code includes the leapfrog method for the Integration of the Equation of Motion"
      ]
    },
    {
      "cell_type": "code",
      "metadata": {
        "id": "K-kzvPnQDpyb"
      },
      "source": [
        "# INTEGRATION\n",
        "'''\n",
        "INTEGRATION OF COORDINATES AND VELOCITIES.\n",
        "Integration of Equation of Motion uses a simple numerical techniques: the leapfrog method.\n",
        "The method has excellent energy conservation properties.\n",
        "LeapfrogStep integrates the coordinates and velocities. It appears twice in the listing of\n",
        "SingleStep, with the argument part determinating which portion of the two-step leapfrog process\n",
        "is to be performed:\n",
        "vix(t + h/2) = vix(t) + (h/2)aix(t)\n",
        "rix(t + h) = rix(t) + hvix (t + h/2)\n",
        "'''\n",
        "def LeapfrogStep(part):\n",
        "    \n",
        "    if part == 1:\n",
        "        for n in range(nMol):\n",
        "            mol[n].rv = np.add(mol[n].rv, np.multiply(0.5 * deltaT, mol[n].ra))            \n",
        "            mol[n].r = np.add(mol[n].r, np.multiply(deltaT, mol[n].rv))                        \n",
        "            \n",
        "    else :\n",
        "        for n in range(nMol):\n",
        "            mol[n].rv = np.add(mol[n].rv, np.multiply(0.5 * deltaT, mol[n].ra))   "
      ],
      "execution_count": 8,
      "outputs": []
    },
    {
      "cell_type": "markdown",
      "metadata": {
        "id": "R-AcWHqvOlWr"
      },
      "source": [
        "Below code provides all the functions for the properties measurements (Temperature, Energy, and Pressure)."
      ]
    },
    {
      "cell_type": "code",
      "metadata": {
        "id": "J3O0q3zEDsVu"
      },
      "source": [
        "# PROPERTIES MEASUREMENTS\n",
        "\n",
        "def EvalProps():\n",
        "    \n",
        "    global vSum\n",
        "    vvSum = 0.\n",
        "    vSum = np.zeros(vSum.shape)\n",
        "    \n",
        "    global kinEnergy\n",
        "    global totEnergy\n",
        "    global pressure\n",
        "    \n",
        "    \n",
        "    for n in range(nMol):\n",
        "        vSum=np.add(vSum, mol[n].rv)\n",
        "        vv= (mol[n].rv[0] * mol[n].rv[0] + mol[n].rv[1] * mol[n].rv[1])\n",
        "        vvSum += vv\n",
        "        \n",
        "    kinEnergy.val = (0.5 * vvSum) / nMol\n",
        "    totEnergy.val = kinEnergy.val + (uSum / nMol)\n",
        "    pressure.val = density * (vvSum + virSum) / (nMol * NDIM)\n",
        "    \n",
        "    \n",
        "    \n",
        "# AccumProps functions\n",
        "\n",
        "def PropZero(v):\n",
        "    v.sum1 = v.sum2 = 0.\n",
        "    return v    \n",
        "    \n",
        "def PropAccum(v):\n",
        "    v.sum1 += v.val\n",
        "    v.sum2 += Sqr(v.val)\n",
        "    return v    \n",
        "    \n",
        "def PropAvg(v, n):\n",
        "    v.sum1 /= n\n",
        "    v.sum2 = math.sqrt(max(v.sum2 / n - Sqr(v.sum1), 0.)) \n",
        "    return v    \n",
        "    \n",
        "\n",
        "# AccumProps: collects results of the measurements and evaluates means and standard deviation\n",
        "def AccumProps(icode):\n",
        "    \n",
        "    \n",
        "    if icode == 0:\n",
        "        PropZero(totEnergy)\n",
        "        PropZero(kinEnergy)\n",
        "        PropZero(pressure) \n",
        "    if icode == 1:\n",
        "        PropAccum(totEnergy)\n",
        "        PropAccum(kinEnergy)\n",
        "        PropAccum(pressure)    \n",
        "    if icode == 2:\n",
        "        PropAvg(totEnergy, stepAvg)\n",
        "        PropAvg(kinEnergy, stepAvg)\n",
        "        PropAvg(pressure, stepAvg) "
      ],
      "execution_count": 9,
      "outputs": []
    },
    {
      "cell_type": "markdown",
      "metadata": {
        "id": "WbaQEo75O4Jw"
      },
      "source": [
        "Function for plotting the trajectories of the atoms (plotMolCoo), which makes all the plots step by step, and a second function that creates an mp4 video from all the coordinates plot tiles. The two functions have to work together. Also,including GraphOutput, a function for printing properties in a pandas dataframe shape."
      ]
    },
    {
      "cell_type": "code",
      "metadata": {
        "id": "tagO4SH6Dvnz"
      },
      "source": [
        "# OUTPUT FUNCTIONS:\n",
        "\n",
        "def plotMolCoo(mol, workdir, n):\n",
        "    \n",
        "    import matplotlib.patches as mpatches\n",
        "    import matplotlib.pyplot as plt\n",
        "\n",
        "    Time = timeNow\n",
        "    Sigma_v = \"{0:.4f}\".format(vSum[0] / nMol)\n",
        "    E = \"{0:.4f}\".format(totEnergy.sum1)\n",
        "    Sigma_E = \"{0:.4f}\".format(totEnergy.sum2)\n",
        "    Ek = \"{0:.4f}\".format(kinEnergy.sum1)\n",
        "    Sigma_Ek = \"{0:.4f}\".format(kinEnergy.sum2)\n",
        "    P_1 = \"{0:.4f}\".format(pressure.sum1)\n",
        "    P_2 = \"{0:.4f}\".format(pressure.sum2)    \n",
        "    \n",
        "    \n",
        "    %matplotlib inline\n",
        "    \n",
        "    TileName = (workdir+'coo/'+str(n)+'.png')\n",
        "\n",
        "    x = []\n",
        "    y = []\n",
        "    \n",
        "    for n in range(len(mol)):\n",
        "        x.append(mol[n].r[0])\n",
        "        y.append(mol[n].r[1])\n",
        "        \n",
        "    mark_1 = int(len(mol)/2 + len(mol)/8)\n",
        "    mark_2 = int(len(mol)/2 + len(mol)/8 + 1)\n",
        "    \n",
        "    plt.plot(x, y, 'o', color='black')\n",
        "    plt.plot(x[mark_1], y[mark_1], 'o', color='red')\n",
        "    plt.plot(x[mark_2], y[mark_2], 'o', color='yellow')  \n",
        "    \n",
        "\n",
        "    plt.title('timestep:'+\"{0:.4f}\".format(timeNow)+'; '+\\\n",
        "              '$\\Sigma v$:'+Sigma_v+'; '+\\\n",
        "              'E:'+E+'; '+\\\n",
        "              '$\\sigma E$:'+Sigma_E+';\\n'+\\\n",
        "              'Ek:'+Ek+'; ' +\\\n",
        "              '$\\sigma Ek$:'+Sigma_Ek+'; '+\\\n",
        "              'P.sum1:'+P_1+'; '+\\\n",
        "              'P.sum2:'+P_2+'; ', loc='left')\n",
        "    \n",
        "    #plt.rcParams[\"figure.figsize\"] = (200,3)\n",
        "    plt.savefig(TileName, dpi=100)\n",
        "    \n",
        "    \n",
        "def makeMov():\n",
        "    # For more information about the use of the glob package with Python, and for the convertion from \n",
        "    # gif to mp4 video formats visit the documentation   \n",
        "    \n",
        "    \n",
        "    t = time.localtime()\n",
        "    current_time = time.strftime(\"%D:%H:%M:%S\", t)\n",
        "    current_time = current_time.replace('/','-')\n",
        "\n",
        "\n",
        "    # Create the frames\n",
        "    frames = []\n",
        "    imgs = sorted(glob.glob('coo/*.png'), key=os.path.getmtime)\n",
        "    for i in imgs:\n",
        "        temp = Image.open(i)\n",
        "        keep = temp.copy()\n",
        "        frames.append(keep)\n",
        "        temp.close()\n",
        "    for i in imgs:\n",
        "        os.remove(i)        \n",
        "\n",
        "    # Save into a GIF file that loops forever\n",
        "    frames[0].save('coo/coordinates.gif', format='GIF',\n",
        "                   append_images=frames[1:],\n",
        "                   save_all=True,\n",
        "                   duration=30, loop=0)\n",
        "\n",
        "\n",
        "    clip = mp.VideoFileClip(\"coo/coordinates.gif\")\n",
        "    clip.write_videofile(\"coo/\"+\"coordinates_\"+current_time+\".mp4\")\n",
        "    os.remove(\"coo/coordinates.gif\")\n",
        "\n",
        "\n",
        "\n",
        "def PrintSummary():\n",
        "\n",
        "    print(stepCount, \\\n",
        "          \"{0:.4f}\".format(timeNow), \\\n",
        "          \"{0:.4f}\".format(vSum[0] / nMol) ,\\\n",
        "          \"{0:.4f}\".format(totEnergy.sum1),\\\n",
        "          \"{0:.4f}\".format(totEnergy.sum2), \\\n",
        "          \"{0:.4f}\".format(kinEnergy.sum1), \\\n",
        "          \"{0:.4f}\".format(kinEnergy.sum2),\\\n",
        "          \"{0:.4f}\".format(pressure.sum1),\\\n",
        "          \"{0:.4f}\".format(pressure.sum2))\n",
        "    \n",
        "    return (stepCount, \\\n",
        "          timeNow, \\\n",
        "          (vSum[0] / nMol) ,\\\n",
        "          totEnergy.sum1,\\\n",
        "          totEnergy.sum2, \\\n",
        "          kinEnergy.sum1, \\\n",
        "          kinEnergy.sum2,\\\n",
        "          pressure.sum1,\\\n",
        "          pressure.sum2)    \n",
        "\n",
        "\n",
        "def GraphOutput():\n",
        "\n",
        "    ax = \\\n",
        "    df_systemParams.plot(x=\"timestep\", y='$\\Sigma v$', kind=\"line\")\n",
        "    df_systemParams.plot(x=\"timestep\", y='E', kind=\"line\", ax=ax, color=\"C1\")\n",
        "    df_systemParams.plot(x=\"timestep\", y='$\\sigma E$', kind=\"line\", ax=ax, color=\"C2\")\n",
        "    df_systemParams.plot(x=\"timestep\",  y='Ek', kind=\"line\", ax=ax, color=\"C3\")\n",
        "    df_systemParams.plot(x=\"timestep\", y='$\\sigma Ek$', kind=\"line\", ax=ax, color=\"C4\")\n",
        "    df_systemParams.plot(x=\"timestep\", y='P_1', kind=\"line\", ax=ax, color=\"C9\")\n",
        "    df_systemParams.plot(x=\"timestep\", y='P_2', kind=\"line\", ax=ax, color=\"C9\")\n",
        "\n",
        "    plt.show()\n",
        "    #plt.savefig('plot.jpg', dpi=300)"
      ],
      "execution_count": 10,
      "outputs": []
    },
    {
      "cell_type": "markdown",
      "metadata": {
        "id": "GCOY2lgBPLFI"
      },
      "source": [
        "Here, the SingleStep function: the real gear of the whole algorithm."
      ]
    },
    {
      "cell_type": "code",
      "metadata": {
        "id": "fCgfIXTJD1Vj"
      },
      "source": [
        "# HANDLING FUNCTION (SingleStep())\n",
        "'''\n",
        "SingleStep: Is the function that handles the processing for a single timestep, including: \n",
        "1) the force evaluation\n",
        "2) integration of the equation of motion, \n",
        "3) adjustments required by periodic boundaries, and\n",
        "4) property measurements\n",
        "'''\n",
        "def SingleStep():\n",
        "    \n",
        "    global stepCount #  timestep counter\n",
        "    global timeNow    \n",
        "\n",
        "    stepCount +=1\n",
        "    timeNow = stepCount * deltaT\n",
        "    LeapfrogStep(1)\n",
        "    ApplyBoundaryCond()\n",
        "    ComputeForces() # 1) The force evaluation\n",
        "    LeapfrogStep(2) # 2) Integration of coordinates and velocities\n",
        "    EvalProps()\n",
        "    AccumProps(1) # Accumulate properties\n",
        "\n",
        "    if (stepCount % stepAvg == 0):\n",
        "        AccumProps(2) # Calculate averages\n",
        "        systemParams.append(PrintSummary())\n",
        "        AccumProps(0) # Set to zero all the properties."
      ],
      "execution_count": 11,
      "outputs": []
    },
    {
      "cell_type": "markdown",
      "metadata": {
        "id": "mDZnCaZqPN-8"
      },
      "source": [
        "And the Main Loop"
      ]
    },
    {
      "cell_type": "code",
      "metadata": {
        "colab": {
          "base_uri": "https://localhost:8080/",
          "height": 1000
        },
        "id": "rO2N-xU9D3Nb",
        "outputId": "226b4079-f8f2-478a-b317-27285ebed23b"
      },
      "source": [
        "# 2D SOFT-DISK SIMULATION: THE MAIN LOOP\n",
        "\n",
        "# Import libraries for system operations\n",
        "import os.path\n",
        "from os import path\n",
        "import shutil\n",
        "\n",
        "# PARAMETERS\n",
        "mov = 1 # set mov=1 if you want make a video\n",
        "\n",
        "# Set a working directory for all the png and videos\n",
        "workdir = str(os.getcwd()+'/')\n",
        "\n",
        "# If the /coo directory doesn't exist make it, else remove /coo (and its contents) and \n",
        "# create a new /coo directory.\n",
        "if path.exists(str(workdir+'coo'))==False:\n",
        "    os.makedirs(str(workdir+'coo'))\n",
        "else:\n",
        "    shutil.rmtree(str(workdir+'coo'))\n",
        "    os.makedirs(str(workdir+'coo'))\n",
        "\n",
        "# Load the input parameter file\n",
        "df_params = pd.read_csv('Rap_3_LJP1.in', sep='\\t', header=None, names=['parameter', 'value'])\n",
        "\n",
        "NDIM = 2 # Two-Dimension setting\n",
        "vSum = np.asarray([0.0, 0.0]) # velocity sum\n",
        "kinEnergy =Prop(0.0, 0.0, 0.0) #Ek (and average)\n",
        "totEnergy =Prop(0.0, 0.0, 0.0) #E (and average)\n",
        "pressure  =Prop(0.0, 0.0, 0.0) #P (and average) \n",
        "\n",
        "systemParams = []\n",
        "\n",
        "IADD = 453806245\n",
        "IMUL = 314159269\n",
        "MASK = 2147483647\n",
        "SCALE = 0.4656612873e-9\n",
        "randSeedP = 17\n",
        "\n",
        "deltaT = float(df_params.values[0][1])\n",
        "density = float(df_params.values[1][1])\n",
        "\n",
        "initUcell = np.asarray([0.0, 0.0]) # initialize cell\n",
        "initUcell[0] = int(df_params.values[2][1])\n",
        "initUcell[1] = int(df_params.values[3][1])\n",
        "\n",
        "stepAvg = int(df_params.values[4][1])\n",
        "stepEquil = float(df_params.values[5][1])\n",
        "stepLimit = float(df_params.values[6][1])\n",
        "temperature = float(df_params.values[7][1])\n",
        "float(df_params.values[7][1])\n",
        "\n",
        "#Define an array of Mol\n",
        "mol = [Mol(np.asarray([0.0, 0.0]), \\\n",
        "           np.asarray([0.0, 0.0]), \\\n",
        "           np.asarray([0.0, 0.0])) for i in range(int(initUcell[0]*initUcell[1]))]\n",
        "\n",
        "\n",
        "# Define the number of molecules\n",
        "global nMol\n",
        "nMol = len(mol)\n",
        "\n",
        "# LJP parameters:\n",
        "epsilon =  1\n",
        "sigma = 1\n",
        "\n",
        "\n",
        "# START THE MAIN LOOP\n",
        "SetParams()\n",
        "SetupJob()\n",
        "moreCycles = 1\n",
        "\n",
        "n = 0\n",
        "while moreCycles:\n",
        "    SingleStep()\n",
        "    if mov==1:\n",
        "        plotMolCoo(mol, workdir, n) # Make a graph of the coordinates\n",
        "    n += 1\n",
        "    if stepCount >= stepLimit:\n",
        "        moreCycles = 0\n",
        "        \n",
        "\n",
        "columns = ['timestep','timeNow', '$\\Sigma v$', 'E', '$\\sigma E$', 'Ek', '$\\sigma Ek$', 'P_1', 'P_2']\n",
        "df_systemParams = pd.DataFrame(systemParams, columns=columns)        \n",
        "\n",
        "# Make a video\n",
        "if mov==1:\n",
        "    makeMov()\n",
        "\n",
        "GraphOutput()"
      ],
      "execution_count": 12,
      "outputs": [
        {
          "output_type": "stream",
          "name": "stdout",
          "text": [
            "100 0.5800 0.0000 3.4273 0.0984 0.7558 0.1015 9.0259 0.7083\n",
            "200 1.1600 -0.0000 3.3557 0.0257 0.7849 0.0150 8.6759 0.1304\n",
            "300 1.7400 -0.0000 3.3084 0.0219 0.8068 0.0168 8.4562 0.1252\n",
            "400 2.3200 -0.0000 3.3087 0.0142 0.8046 0.0137 8.4627 0.0940\n",
            "500 2.9000 -0.0000 3.2974 0.0219 0.8172 0.0162 8.3811 0.1241\n",
            "600 3.4800 -0.0000 3.2912 0.0178 0.8103 0.0174 8.3927 0.1222\n",
            "700 4.0600 -0.0000 3.3133 0.0128 0.8094 0.0144 8.4617 0.0933\n",
            "800 4.6400 -0.0000 3.2776 0.0150 0.8164 0.0165 8.3338 0.1025\n",
            "900 5.2200 -0.0000 3.2810 0.0191 0.8244 0.0154 8.2994 0.1155\n",
            "1000 5.8000 -0.0000 3.3174 0.0140 0.7995 0.0123 8.5067 0.0822\n",
            "1100 6.3800 -0.0000 3.2717 0.0197 0.8221 0.0102 8.2881 0.0857\n",
            "1200 6.9600 -0.0000 3.2613 0.0163 0.8215 0.0168 8.2647 0.1118\n",
            "1300 7.5400 -0.0000 3.2632 0.0130 0.8272 0.0132 8.2355 0.0823\n",
            "1400 8.1200 -0.0000 3.2800 0.0127 0.8187 0.0121 8.3133 0.0730\n",
            "1500 8.7000 -0.0000 3.2702 0.0228 0.8267 0.0227 8.2666 0.1508\n",
            "1600 9.2800 -0.0000 3.2783 0.0203 0.8222 0.0161 8.2975 0.1230\n",
            "1700 9.8600 -0.0000 3.2603 0.0233 0.8307 0.0149 8.2181 0.1219\n",
            "1800 10.4400 -0.0000 3.2683 0.0247 0.8274 0.0196 8.2499 0.1412\n",
            "1900 11.0200 -0.0000 3.2653 0.0196 0.8314 0.0150 8.2292 0.1129\n",
            "2000 11.6000 -0.0000 3.2699 0.0226 0.8262 0.0164 8.2602 0.1273\n",
            "[MoviePy] >>>> Building video coo/coordinates_11-18-21:19:07:46.mp4\n",
            "[MoviePy] Writing video coo/coordinates_11-18-21:19:07:46.mp4\n"
          ]
        },
        {
          "output_type": "stream",
          "name": "stderr",
          "text": [
            "100%|██████████| 2000/2000 [00:33<00:00, 59.58it/s]\n"
          ]
        },
        {
          "output_type": "stream",
          "name": "stdout",
          "text": [
            "[MoviePy] Done.\n",
            "[MoviePy] >>>> Video ready: coo/coordinates_11-18-21:19:07:46.mp4 \n",
            "\n"
          ]
        },
        {
          "output_type": "display_data",
          "data": {
            "image/png": "[encoded data removed]",
            "text/plain": [
              "<Figure size 432x288 with 1 Axes>"
            ]
          },
          "metadata": {
            "needs_background": "light"
          }
        },
        {
          "output_type": "display_data",
          "data": {
            "image/png": "[encoded data removed]",
            "text/plain": [
              "<Figure size 432x288 with 1 Axes>"
            ]
          },
          "metadata": {
            "needs_background": "light"
          }
        }
      ]
    },
    {
      "cell_type": "markdown",
      "metadata": {
        "id": "ImXLxM6zPaOB"
      },
      "source": [
        "A Soft-Disk fluid simulation based on the Lennard-Jones Potential represents a microscopic model of a fluid or gas. It is based on spherical particles simulating atoms that interact among them. The interactions occur between pairs of particles exploiting repulsive and attractive forces. As seen in the video, after 500 timesteps, the two colored atoms, which initially were close, tend to move in different directions."
      ]
    }
  ]
}