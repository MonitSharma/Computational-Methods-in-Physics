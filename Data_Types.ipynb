{
  "nbformat": 4,
  "nbformat_minor": 0,
  "metadata": {
    "colab": {
      "provenance": [],
      "authorship_tag": "ABX9TyMcmjidn0XjKD2bGnpwrrvi",
      "include_colab_link": true
    },
    "kernelspec": {
      "name": "python3",
      "display_name": "Python 3"
    },
    "language_info": {
      "name": "python"
    }
  },
  "cells": [
    {
      "cell_type": "markdown",
      "metadata": {
        "id": "view-in-github",
        "colab_type": "text"
      },
      "source": [
        "<a href=\"https://colab.research.google.com/github/MonitSharma/Computational-Methods-in-Physics/blob/main/Data_Types.ipynb\" target=\"_parent\"><img src=\"https://colab.research.google.com/assets/colab-badge.svg\" alt=\"Open In Colab\"/></a>"
      ]
    },
    {
      "cell_type": "markdown",
      "source": [
        "# Basics of Python\n",
        "\n",
        "This is a jupyter notebook. It is a coding enviroment that is useful for developing, testing code, doing short caluclations, making figures etc. We will start doing everything here so that we can see what we are doing as we go along. Later in the course, we will talk about how to write you code into python scripts that live outside of jupyter.\n",
        "\n",
        "\n",
        "-----\n",
        "\n",
        "A juypter notebook works the same as any python code but you can run small pieces of it at a time. There is also the markdown option so that you can write explainations in latex (like this one). You can also comment your code directly in line,"
      ],
      "metadata": {
        "id": "AuCskUf6O63U"
      }
    },
    {
      "cell_type": "code",
      "execution_count": 1,
      "metadata": {
        "colab": {
          "base_uri": "https://localhost:8080/"
        },
        "id": "yZeL2j_lO2no",
        "outputId": "9f453c5f-feac-4467-bc2a-bb9d9d6a0ad4"
      },
      "outputs": [
        {
          "output_type": "stream",
          "name": "stdout",
          "text": [
            "hi\n"
          ]
        }
      ],
      "source": [
        "print(\"hi\") # this is a comment inside of piece of code"
      ]
    },
    {
      "cell_type": "markdown",
      "source": [
        "The notebook format is useful because you run just bits of code and you can keep trying it until it works. Unlike a script, it will also output some of the results, even if you don't ask it to print them. E.g."
      ],
      "metadata": {
        "id": "ZxLc86kvPIfB"
      }
    },
    {
      "cell_type": "code",
      "source": [
        "5+55"
      ],
      "metadata": {
        "colab": {
          "base_uri": "https://localhost:8080/"
        },
        "id": "5eISIDQnPGgN",
        "outputId": "31db8412-ef28-4f37-c02e-78021d58a115"
      },
      "execution_count": 2,
      "outputs": [
        {
          "output_type": "execute_result",
          "data": {
            "text/plain": [
              "60"
            ]
          },
          "metadata": {},
          "execution_count": 2
        }
      ]
    },
    {
      "cell_type": "markdown",
      "source": [
        "We can run what is in each box by pressing `\"shift-enter\"` (at same time). You can also go to `\"Cell\"` a run that cell, a few cells or the entire notebook.\n",
        "\n",
        "------\n",
        "\n",
        "\n",
        "There is one big danger of notebooks that doesn't happen in a script: the computer is running it in the order you choose, not the order on the page. This means you might accidently redefine a variable without noticing. It also means that you code could be working fine and then when you try to rerun it, it doesn't work anymore. E.g."
      ],
      "metadata": {
        "id": "WbiVmHQ2PNcs"
      }
    },
    {
      "cell_type": "code",
      "source": [
        "a = 5\n",
        "b = 6\n",
        "c = 7"
      ],
      "metadata": {
        "id": "WcVUuEqcPJ8V"
      },
      "execution_count": 3,
      "outputs": []
    },
    {
      "cell_type": "code",
      "source": [
        "a+b+c # the number to the left of this box tells you what order I ran it in"
      ],
      "metadata": {
        "colab": {
          "base_uri": "https://localhost:8080/"
        },
        "id": "j3s7HF7HPWZf",
        "outputId": "602de5ab-a470-447a-fb8d-68bec2e1cb0a"
      },
      "execution_count": 4,
      "outputs": [
        {
          "output_type": "execute_result",
          "data": {
            "text/plain": [
              "18"
            ]
          },
          "metadata": {},
          "execution_count": 4
        }
      ]
    },
    {
      "cell_type": "code",
      "source": [
        "c = 0"
      ],
      "metadata": {
        "id": "tCtHlIYtPcYX"
      },
      "execution_count": 5,
      "outputs": []
    },
    {
      "cell_type": "markdown",
      "source": [
        "The way we can avoid this problem is if \n",
        "1. you are careful to pick good names and not repeat them \n",
        "2. document your code so that you know what you are doing and why at each step. \n",
        "\n",
        "--------\n",
        "\n",
        "\n",
        "Alternatively, if you are just using a variable temporarily, you can delete the variable name after you use it"
      ],
      "metadata": {
        "id": "AqTb_n02Pga8"
      }
    },
    {
      "cell_type": "code",
      "source": [
        "del a\n",
        "del b \n",
        "del c"
      ],
      "metadata": {
        "id": "OR98NSsnPd2z"
      },
      "execution_count": 6,
      "outputs": []
    },
    {
      "cell_type": "code",
      "source": [
        "a"
      ],
      "metadata": {
        "colab": {
          "base_uri": "https://localhost:8080/",
          "height": 165
        },
        "id": "t29rDXj_PrSB",
        "outputId": "1aa6cccb-ca6a-4e60-af17-78a006b5eae0"
      },
      "execution_count": 7,
      "outputs": [
        {
          "output_type": "error",
          "ename": "NameError",
          "evalue": "ignored",
          "traceback": [
            "\u001b[0;31m---------------------------------------------------------------------------\u001b[0m",
            "\u001b[0;31mNameError\u001b[0m                                 Traceback (most recent call last)",
            "\u001b[0;32m<ipython-input-7-3f786850e387>\u001b[0m in \u001b[0;36m<module>\u001b[0;34m\u001b[0m\n\u001b[0;32m----> 1\u001b[0;31m \u001b[0ma\u001b[0m\u001b[0;34m\u001b[0m\u001b[0;34m\u001b[0m\u001b[0m\n\u001b[0m",
            "\u001b[0;31mNameError\u001b[0m: name 'a' is not defined"
          ]
        }
      ]
    },
    {
      "cell_type": "markdown",
      "source": [
        "## Basic Objects\n",
        "\n",
        "### Data Types\n",
        "\n",
        "The most basic data types we can use throughout python are the integers (int) , floating point numbers (float) , strings (str) , and complex\n",
        "\n",
        "\n",
        "-------\n",
        "\n",
        "\n",
        "Here are some integeres (int)"
      ],
      "metadata": {
        "id": "R_mghIBDPt-J"
      }
    },
    {
      "cell_type": "code",
      "source": [
        "a = 2\n",
        "b = 3"
      ],
      "metadata": {
        "id": "yG4VqyklPrtg"
      },
      "execution_count": 8,
      "outputs": []
    },
    {
      "cell_type": "markdown",
      "source": [
        "Here are some floating point numbers (float) , think of these as number represented as a decimal"
      ],
      "metadata": {
        "id": "uyJgCfKTP-0c"
      }
    },
    {
      "cell_type": "code",
      "source": [
        "c = 2.\n",
        "d = 3.\n",
        "e = 3.14"
      ],
      "metadata": {
        "id": "rG0zQI9sP99V"
      },
      "execution_count": 9,
      "outputs": []
    },
    {
      "cell_type": "markdown",
      "source": [
        "Here are some strings (str), basically anything we want to treat like words:"
      ],
      "metadata": {
        "id": "7-aYDMv3QIsA"
      }
    },
    {
      "cell_type": "code",
      "source": [
        "f = '2'\n",
        "g = 'hi'\n",
        "h = 'hello'"
      ],
      "metadata": {
        "id": "r3jS6GF1QHSG"
      },
      "execution_count": 10,
      "outputs": []
    },
    {
      "cell_type": "markdown",
      "source": [
        "What makes these structures different is how basic operations in python treat them. We can start with basic math operations. \n",
        "\n",
        "\n",
        "------\n",
        "\n",
        "Let's start with integer operations"
      ],
      "metadata": {
        "id": "atxhVtNaQRUi"
      }
    },
    {
      "cell_type": "code",
      "source": [
        "print(a/b)\n",
        "print(a+b)\n",
        "print(a-b)\n",
        "print(a*b)\n",
        "print(a/(a+b))"
      ],
      "metadata": {
        "colab": {
          "base_uri": "https://localhost:8080/"
        },
        "id": "5XbCKG0_QQKJ",
        "outputId": "deb6e42c-49f3-4987-c764-d80c0c9692e8"
      },
      "execution_count": 11,
      "outputs": [
        {
          "output_type": "stream",
          "name": "stdout",
          "text": [
            "0.6666666666666666\n",
            "5\n",
            "-1\n",
            "6\n",
            "0.4\n"
          ]
        }
      ]
    },
    {
      "cell_type": "code",
      "source": [
        "print(c/d)\n",
        "print(c+d)\n",
        "print(c-d)\n",
        "print(c*d)\n",
        "print(c/(c+d))"
      ],
      "metadata": {
        "colab": {
          "base_uri": "https://localhost:8080/"
        },
        "id": "atAONZUyQeMi",
        "outputId": "daf94e25-719a-4ed5-ced7-fd60374b3881"
      },
      "execution_count": 12,
      "outputs": [
        {
          "output_type": "stream",
          "name": "stdout",
          "text": [
            "0.6666666666666666\n",
            "5.0\n",
            "-1.0\n",
            "6.0\n",
            "0.4\n"
          ]
        }
      ]
    },
    {
      "cell_type": "markdown",
      "source": [
        "At this point, there isn't much difference between a float and integer. However, other objects inn python care about the type of data, that you feed them and won't accept a float in place of an `int`.\n",
        "\n",
        "-------\n",
        "\n",
        "E.G : here have a list of objects"
      ],
      "metadata": {
        "id": "m35wUaD_QkNP"
      }
    },
    {
      "cell_type": "code",
      "source": [
        "\n",
        "list = ['this', 'is', 'a', 'list'] # this is a list"
      ],
      "metadata": {
        "id": "LvRQrmsrQjF4"
      },
      "execution_count": 13,
      "outputs": []
    },
    {
      "cell_type": "markdown",
      "source": [
        "Let's see what happens when we ask for an element of this list using a `int` or a `float`."
      ],
      "metadata": {
        "id": "W5kh3oaSRAH5"
      }
    },
    {
      "cell_type": "code",
      "source": [
        "print(b,d) # b and d are noth 3 but one is an int and the other is a float"
      ],
      "metadata": {
        "colab": {
          "base_uri": "https://localhost:8080/"
        },
        "id": "7RGv4wQgQ8Sv",
        "outputId": "5185a748-1c85-46e4-d371-ec74f237623d"
      },
      "execution_count": 14,
      "outputs": [
        {
          "output_type": "stream",
          "name": "stdout",
          "text": [
            "3 3.0\n"
          ]
        }
      ]
    },
    {
      "cell_type": "markdown",
      "source": [
        "Now. let's ask to see an entry in our list"
      ],
      "metadata": {
        "id": "35pYquObRVfV"
      }
    },
    {
      "cell_type": "code",
      "source": [
        "list[b]"
      ],
      "metadata": {
        "colab": {
          "base_uri": "https://localhost:8080/",
          "height": 36
        },
        "id": "6TghnYXmRUMa",
        "outputId": "1c9a84f6-8238-40a4-d0db-c493c3420f4c"
      },
      "execution_count": 15,
      "outputs": [
        {
          "output_type": "execute_result",
          "data": {
            "text/plain": [
              "'list'"
            ],
            "application/vnd.google.colaboratory.intrinsic+json": {
              "type": "string"
            }
          },
          "metadata": {},
          "execution_count": 15
        }
      ]
    },
    {
      "cell_type": "code",
      "source": [
        "list[d]"
      ],
      "metadata": {
        "colab": {
          "base_uri": "https://localhost:8080/",
          "height": 165
        },
        "id": "PqDyx7TTRZra",
        "outputId": "b4435966-4f4e-4021-cabc-ccf4663724da"
      },
      "execution_count": 16,
      "outputs": [
        {
          "output_type": "error",
          "ename": "TypeError",
          "evalue": "ignored",
          "traceback": [
            "\u001b[0;31m---------------------------------------------------------------------------\u001b[0m",
            "\u001b[0;31mTypeError\u001b[0m                                 Traceback (most recent call last)",
            "\u001b[0;32m<ipython-input-16-308b61691e9c>\u001b[0m in \u001b[0;36m<module>\u001b[0;34m\u001b[0m\n\u001b[0;32m----> 1\u001b[0;31m \u001b[0mlist\u001b[0m\u001b[0;34m[\u001b[0m\u001b[0md\u001b[0m\u001b[0;34m]\u001b[0m\u001b[0;34m\u001b[0m\u001b[0;34m\u001b[0m\u001b[0m\n\u001b[0m",
            "\u001b[0;31mTypeError\u001b[0m: list indices must be integers or slices, not float"
          ]
        }
      ]
    },
    {
      "cell_type": "markdown",
      "source": [
        "We see why it was important that `b` is an integer: the list knew it was an integer so it knows what entry `3` means, not `3.0`\n",
        "\n",
        "\n",
        "-----\n",
        "\n",
        "We can solve this issue by forcing `d` to be an integer"
      ],
      "metadata": {
        "id": "CmmOUmlMRfNq"
      }
    },
    {
      "cell_type": "code",
      "source": [
        "list[int(d)]"
      ],
      "metadata": {
        "colab": {
          "base_uri": "https://localhost:8080/",
          "height": 36
        },
        "id": "06eiMG_IRcS2",
        "outputId": "f04a5545-4723-4bec-d498-c39329a9e6fc"
      },
      "execution_count": 17,
      "outputs": [
        {
          "output_type": "execute_result",
          "data": {
            "text/plain": [
              "'list'"
            ],
            "application/vnd.google.colaboratory.intrinsic+json": {
              "type": "string"
            }
          },
          "metadata": {},
          "execution_count": 17
        }
      ]
    },
    {
      "cell_type": "code",
      "source": [
        "print(int(d), int(3.12), int(3.91))"
      ],
      "metadata": {
        "colab": {
          "base_uri": "https://localhost:8080/"
        },
        "id": "KW3oRmCGRuxW",
        "outputId": "0b877ab7-07d1-4ec8-a285-86b6c7a322db"
      },
      "execution_count": 18,
      "outputs": [
        {
          "output_type": "stream",
          "name": "stdout",
          "text": [
            "3 3 3\n"
          ]
        }
      ]
    },
    {
      "cell_type": "markdown",
      "source": [
        "This maybe isn't quite what you expected, it just strips off all the decimals, but it does return an integer.\n",
        "\n",
        "\n"
      ],
      "metadata": {
        "id": "pILcF3JuR1_p"
      }
    },
    {
      "cell_type": "code",
      "source": [
        "999//1000"
      ],
      "metadata": {
        "colab": {
          "base_uri": "https://localhost:8080/"
        },
        "id": "j04D6RWqR0le",
        "outputId": "6eaa21ec-8421-4732-df7a-f533691f9fcd"
      },
      "execution_count": 19,
      "outputs": [
        {
          "output_type": "execute_result",
          "data": {
            "text/plain": [
              "0"
            ]
          },
          "metadata": {},
          "execution_count": 19
        }
      ]
    },
    {
      "cell_type": "markdown",
      "source": [
        "We can also force on type to become another type"
      ],
      "metadata": {
        "id": "sMN2B8ZFSNqG"
      }
    },
    {
      "cell_type": "code",
      "source": [
        "print(a+float(b))\n",
        "print(a+float(f))  # remember f is a string that happens to be a number\n",
        "print(a+int(f))"
      ],
      "metadata": {
        "colab": {
          "base_uri": "https://localhost:8080/"
        },
        "id": "8DBxagjWSBSQ",
        "outputId": "6f08350b-6846-44e6-ac91-cf0014d0c2aa"
      },
      "execution_count": 20,
      "outputs": [
        {
          "output_type": "stream",
          "name": "stdout",
          "text": [
            "5.0\n",
            "4.0\n",
            "4\n"
          ]
        }
      ]
    },
    {
      "cell_type": "markdown",
      "source": [
        "Of Course, it can't work miracles"
      ],
      "metadata": {
        "id": "OftagyhASTmt"
      }
    },
    {
      "cell_type": "code",
      "source": [
        "float(g) # g = 'hi' can't become a float"
      ],
      "metadata": {
        "colab": {
          "base_uri": "https://localhost:8080/",
          "height": 165
        },
        "id": "UTSIbJdnSSSx",
        "outputId": "08e56361-dfee-4c2b-e26e-264294077eb3"
      },
      "execution_count": 21,
      "outputs": [
        {
          "output_type": "error",
          "ename": "ValueError",
          "evalue": "ignored",
          "traceback": [
            "\u001b[0;31m---------------------------------------------------------------------------\u001b[0m",
            "\u001b[0;31mValueError\u001b[0m                                Traceback (most recent call last)",
            "\u001b[0;32m<ipython-input-21-6290f46f6955>\u001b[0m in \u001b[0;36m<module>\u001b[0;34m\u001b[0m\n\u001b[0;32m----> 1\u001b[0;31m \u001b[0mfloat\u001b[0m\u001b[0;34m(\u001b[0m\u001b[0mg\u001b[0m\u001b[0;34m)\u001b[0m \u001b[0;31m# g = 'hi' can't become a float\u001b[0m\u001b[0;34m\u001b[0m\u001b[0;34m\u001b[0m\u001b[0m\n\u001b[0m",
            "\u001b[0;31mValueError\u001b[0m: could not convert string to float: 'hi'"
          ]
        }
      ]
    },
    {
      "cell_type": "markdown",
      "source": [
        "Now, when you mix `floats` and `integers` you always get `float` out:"
      ],
      "metadata": {
        "id": "Jjt7tl9cSd9E"
      }
    },
    {
      "cell_type": "code",
      "source": [
        "print(a/d)\n",
        "print(a+d)\n",
        "print(a-d)\n",
        "print(a*d)\n",
        "print(a/(c+b))"
      ],
      "metadata": {
        "colab": {
          "base_uri": "https://localhost:8080/"
        },
        "id": "-BX-15u9Sctv",
        "outputId": "ea8f3ea4-714a-4827-9657-2dfb64c98138"
      },
      "execution_count": 22,
      "outputs": [
        {
          "output_type": "stream",
          "name": "stdout",
          "text": [
            "0.6666666666666666\n",
            "5.0\n",
            "-1.0\n",
            "6.0\n",
            "0.4\n"
          ]
        }
      ]
    },
    {
      "cell_type": "markdown",
      "source": [
        "I have taken it as self evident what a string (word) and an integer are. This is probably a good time to pause and ask, what is a floating point number? From the looks of it, it is some kind of number with decimals. Of course, in math a decimal can go on forever. Our computer, as a default, does not give unlimited space to store numbers.\n",
        "\n",
        "-------\n",
        "\n",
        "\n",
        "Let me prove to you that for a float, the computer is only storing some of the digits:"
      ],
      "metadata": {
        "id": "233-2yUcSrF7"
      }
    },
    {
      "cell_type": "code",
      "source": [
        "x=12.+0.000000000000000001"
      ],
      "metadata": {
        "id": "24uLeX9iSoS1"
      },
      "execution_count": 23,
      "outputs": []
    },
    {
      "cell_type": "code",
      "source": [
        "print((x-12.)*100000000000000000000000000000)"
      ],
      "metadata": {
        "colab": {
          "base_uri": "https://localhost:8080/"
        },
        "id": "FWZnv3eQSvsd",
        "outputId": "aa8fed0e-2c7f-4b65-afcb-c462b050b44d"
      },
      "execution_count": 24,
      "outputs": [
        {
          "output_type": "stream",
          "name": "stdout",
          "text": [
            "0.0\n"
          ]
        }
      ]
    },
    {
      "cell_type": "markdown",
      "source": [
        "But a floating point number can remember small numbers"
      ],
      "metadata": {
        "id": "PDNUxKXISyT-"
      }
    },
    {
      "cell_type": "code",
      "source": [
        "0.000000000000000000000000000000001"
      ],
      "metadata": {
        "colab": {
          "base_uri": "https://localhost:8080/"
        },
        "id": "RMUiwbYcSxDX",
        "outputId": "1225f9a6-d704-4841-9857-242a10a42f20"
      },
      "execution_count": 25,
      "outputs": [
        {
          "output_type": "execute_result",
          "data": {
            "text/plain": [
              "1e-33"
            ]
          },
          "metadata": {},
          "execution_count": 25
        }
      ]
    },
    {
      "cell_type": "code",
      "source": [
        "0.000000000000000000000000000000001*100000000000000000000000000000000000000"
      ],
      "metadata": {
        "colab": {
          "base_uri": "https://localhost:8080/"
        },
        "id": "zm6CuOKGS4ZL",
        "outputId": "abb50858-05eb-4cbb-e2eb-78256d408ad1"
      },
      "execution_count": 26,
      "outputs": [
        {
          "output_type": "execute_result",
          "data": {
            "text/plain": [
              "100000.0"
            ]
          },
          "metadata": {},
          "execution_count": 26
        }
      ]
    },
    {
      "cell_type": "markdown",
      "source": [
        "Clearly the problem is not the size of the number but how many decimal places. We can figure this out for ourselves"
      ],
      "metadata": {
        "id": "_Y9jrxOXS8No"
      }
    },
    {
      "cell_type": "code",
      "source": [
        "x=1.+0.000000000000001\n",
        "(x-1.)*100000000000000000000"
      ],
      "metadata": {
        "colab": {
          "base_uri": "https://localhost:8080/"
        },
        "id": "eyv9LCbfS6CT",
        "outputId": "0ad16375-e3f6-49bf-e331-f683ffec87a1"
      },
      "execution_count": 27,
      "outputs": [
        {
          "output_type": "execute_result",
          "data": {
            "text/plain": [
              "111022.30246251565"
            ]
          },
          "metadata": {},
          "execution_count": 27
        }
      ]
    },
    {
      "cell_type": "code",
      "source": [
        "x=1.+0.0000000000000001\n",
        "(x-1.)*1000000000000000000000000"
      ],
      "metadata": {
        "colab": {
          "base_uri": "https://localhost:8080/"
        },
        "id": "tstEfWCXS-IH",
        "outputId": "12a8db13-6fa0-4f50-f73f-22d8d1d98986"
      },
      "execution_count": 28,
      "outputs": [
        {
          "output_type": "execute_result",
          "data": {
            "text/plain": [
              "0.0"
            ]
          },
          "metadata": {},
          "execution_count": 28
        }
      ]
    },
    {
      "cell_type": "markdown",
      "source": [
        "By my count, this fails when I move it to the 16th decimal place. Since the leading number is 1 that means a float is carrying 16 digits, and when I move the number to the 17th digit, it effectively vanishes. \n",
        "\n",
        "-------\n",
        "\n",
        "This correct: a float is bascially a 16 digit number in scientific notation (i.e. we store 16 digits times a power of 10)"
      ],
      "metadata": {
        "id": "oTNuQTsxTCko"
      }
    },
    {
      "cell_type": "code",
      "source": [
        "x1=12.+0.000000000000001\n",
        "x2=12.+0.0000000000000001"
      ],
      "metadata": {
        "id": "cXRrymnwS_uI"
      },
      "execution_count": 29,
      "outputs": []
    },
    {
      "cell_type": "code",
      "source": [
        "print((x1-12.)*100000000000000000000000000000)\n",
        "print((x2-12.)*100000000000000000000000000000)"
      ],
      "metadata": {
        "colab": {
          "base_uri": "https://localhost:8080/"
        },
        "id": "ec2-F0YKTG-g",
        "outputId": "262b08a0-c1b3-46d7-b937-2c6d66030498"
      },
      "execution_count": 30,
      "outputs": [
        {
          "output_type": "stream",
          "name": "stdout",
          "text": [
            "177635683940025.03\n",
            "0.0\n"
          ]
        }
      ]
    },
    {
      "cell_type": "markdown",
      "source": [
        "Finally, a string is like a word, math operations don't work on it except addition, which just joins the letters"
      ],
      "metadata": {
        "id": "voXX8dYXTKkf"
      }
    },
    {
      "cell_type": "code",
      "source": [
        "f+g+h"
      ],
      "metadata": {
        "colab": {
          "base_uri": "https://localhost:8080/",
          "height": 36
        },
        "id": "KQQ1_BUUTIbc",
        "outputId": "d1d88249-5041-4cb0-b89c-ae55afc3ce64"
      },
      "execution_count": 31,
      "outputs": [
        {
          "output_type": "execute_result",
          "data": {
            "text/plain": [
              "'2hihello'"
            ],
            "application/vnd.google.colaboratory.intrinsic+json": {
              "type": "string"
            }
          },
          "metadata": {},
          "execution_count": 31
        }
      ]
    },
    {
      "cell_type": "code",
      "source": [
        "str(a)+g"
      ],
      "metadata": {
        "colab": {
          "base_uri": "https://localhost:8080/",
          "height": 36
        },
        "id": "dxrModeWTN2v",
        "outputId": "0016c9f6-0583-48a9-9b49-cbc58e238a25"
      },
      "execution_count": 32,
      "outputs": [
        {
          "output_type": "execute_result",
          "data": {
            "text/plain": [
              "'2hi'"
            ],
            "application/vnd.google.colaboratory.intrinsic+json": {
              "type": "string"
            }
          },
          "metadata": {},
          "execution_count": 32
        }
      ]
    },
    {
      "cell_type": "code",
      "source": [
        "for _ in range(10):\n",
        "  print(\"Hi number \"+str(_)+'.txt')"
      ],
      "metadata": {
        "colab": {
          "base_uri": "https://localhost:8080/"
        },
        "id": "BK493troTPHb",
        "outputId": "34f05dbe-9573-4a01-a1bf-648db6997069"
      },
      "execution_count": 35,
      "outputs": [
        {
          "output_type": "stream",
          "name": "stdout",
          "text": [
            "Hi number 0.txt\n",
            "Hi number 1.txt\n",
            "Hi number 2.txt\n",
            "Hi number 3.txt\n",
            "Hi number 4.txt\n",
            "Hi number 5.txt\n",
            "Hi number 6.txt\n",
            "Hi number 7.txt\n",
            "Hi number 8.txt\n",
            "Hi number 9.txt\n"
          ]
        }
      ]
    },
    {
      "cell_type": "markdown",
      "source": [
        "Lastly, there are complex numbers, which act like two floats for the real and imaginary parts. It uses the engineering notation of `j` instead of `i`:"
      ],
      "metadata": {
        "id": "8VjyZoGvTdKZ"
      }
    },
    {
      "cell_type": "code",
      "source": [
        "z1 = 1+2j"
      ],
      "metadata": {
        "id": "iaP-UKasTViP"
      },
      "execution_count": 36,
      "outputs": []
    },
    {
      "cell_type": "code",
      "source": [
        "z1/3"
      ],
      "metadata": {
        "colab": {
          "base_uri": "https://localhost:8080/"
        },
        "id": "gUHKr-UATi7e",
        "outputId": "2de00238-01d7-4b5d-93e3-1177c8000c50"
      },
      "execution_count": 37,
      "outputs": [
        {
          "output_type": "execute_result",
          "data": {
            "text/plain": [
              "(0.3333333333333333+0.6666666666666666j)"
            ]
          },
          "metadata": {},
          "execution_count": 37
        }
      ]
    },
    {
      "cell_type": "markdown",
      "source": [
        "If this bothers you, yoy can also define them by"
      ],
      "metadata": {
        "id": "KOvQwn_fTkrZ"
      }
    },
    {
      "cell_type": "code",
      "source": [
        "z2 = complex(1,2)"
      ],
      "metadata": {
        "id": "ylyBl3xzTjgB"
      },
      "execution_count": 38,
      "outputs": []
    },
    {
      "cell_type": "code",
      "source": [
        "z1/z2"
      ],
      "metadata": {
        "colab": {
          "base_uri": "https://localhost:8080/"
        },
        "id": "vQb6BacCTrVn",
        "outputId": "72db4568-0c55-4cf4-ac75-bccb50dee739"
      },
      "execution_count": 39,
      "outputs": [
        {
          "output_type": "execute_result",
          "data": {
            "text/plain": [
              "(1+0j)"
            ]
          },
          "metadata": {},
          "execution_count": 39
        }
      ]
    },
    {
      "cell_type": "code",
      "source": [
        "z1*z1"
      ],
      "metadata": {
        "colab": {
          "base_uri": "https://localhost:8080/"
        },
        "id": "fYfOk9mTTsiP",
        "outputId": "a1df58d6-77dd-47a6-e708-182d2a93525a"
      },
      "execution_count": 40,
      "outputs": [
        {
          "output_type": "execute_result",
          "data": {
            "text/plain": [
              "(-3+4j)"
            ]
          },
          "metadata": {},
          "execution_count": 40
        }
      ]
    },
    {
      "cell_type": "markdown",
      "source": [
        "## Lists, Tuples and Dictionaries\n",
        "\n",
        "In a large number of situations, we will want more than just a single number, word, etc but collections of pieces of information (data) organized in various ways. The basic structures in python are lists, tuples and dictionaries.\n",
        "\n",
        "------\n",
        "\n",
        "### Lists\n",
        "\n",
        "A list is an ordered group of objects,. They can really be anything\n"
      ],
      "metadata": {
        "id": "SYKQHKqPTuzs"
      }
    },
    {
      "cell_type": "code",
      "source": [
        "list1=[1,2,3,'hi',4,5,6,7]"
      ],
      "metadata": {
        "id": "grgf6y0mTtr0"
      },
      "execution_count": 41,
      "outputs": []
    },
    {
      "cell_type": "markdown",
      "source": [
        "That being said, it is generally a good idea to make your lists out of a single common data type.\n",
        "\n",
        "\n",
        "-------\n",
        "\n",
        "Now we reach the point where we have to talk about how python organizes lists, which is somethign that drives may people crazy. You can isolate a single element using square brackes:"
      ],
      "metadata": {
        "id": "18VNBkG6T-ee"
      }
    },
    {
      "cell_type": "code",
      "source": [
        "print(list1[0],list1[3])"
      ],
      "metadata": {
        "colab": {
          "base_uri": "https://localhost:8080/"
        },
        "id": "CmcZiXQtT7Bc",
        "outputId": "8ae261a3-03da-4641-a020-b45f3bdd30c9"
      },
      "execution_count": 43,
      "outputs": [
        {
          "output_type": "stream",
          "name": "stdout",
          "text": [
            "1 hi\n"
          ]
        }
      ]
    },
    {
      "cell_type": "markdown",
      "source": [
        "Notice that the entry is counted starting at $0$. I.e. the nth entry is listed by `list1[n-1]`. This takes some getting used to. You can also run through the elements of a list as follows"
      ],
      "metadata": {
        "id": "Snv9Tv6zUFP3"
      }
    },
    {
      "cell_type": "code",
      "source": [
        "for item in list1:\n",
        "    print(item) # notice that the stuff inside the loop is indented with a tab"
      ],
      "metadata": {
        "colab": {
          "base_uri": "https://localhost:8080/"
        },
        "id": "K-gmTbwpUCBr",
        "outputId": "47090242-30c3-44fc-cc70-4769b608efa9"
      },
      "execution_count": 44,
      "outputs": [
        {
          "output_type": "stream",
          "name": "stdout",
          "text": [
            "1\n",
            "2\n",
            "3\n",
            "hi\n",
            "4\n",
            "5\n",
            "6\n",
            "7\n"
          ]
        }
      ]
    },
    {
      "cell_type": "markdown",
      "source": [
        "This is our first encounter with the \"`for` loop\" and the indented structure. Python understands order of operations by the formating. Notice that there is a tab/indent for the thing we want to do as it runs through elements of the list. We can nest loops inside of each other too"
      ],
      "metadata": {
        "id": "zU3xvA3MUMED"
      }
    },
    {
      "cell_type": "code",
      "source": [
        "list2=[1,'b',3]\n",
        "for item1 in list2:\n",
        "    for item2 in list2:  # notice the tap\n",
        "        print('item 1 and 2: '+str(item1)+' '+str(item2))\n",
        "    print('item 1: '+str(item1)) \n",
        "print('all done')"
      ],
      "metadata": {
        "colab": {
          "base_uri": "https://localhost:8080/"
        },
        "id": "waWQFJ2DUKQ5",
        "outputId": "ad92c567-6eec-4817-ab19-bdb6f6a16695"
      },
      "execution_count": 45,
      "outputs": [
        {
          "output_type": "stream",
          "name": "stdout",
          "text": [
            "item 1 and 2: 1 1\n",
            "item 1 and 2: 1 b\n",
            "item 1 and 2: 1 3\n",
            "item 1: 1\n",
            "item 1 and 2: b 1\n",
            "item 1 and 2: b b\n",
            "item 1 and 2: b 3\n",
            "item 1: b\n",
            "item 1 and 2: 3 1\n",
            "item 1 and 2: 3 b\n",
            "item 1 and 2: 3 3\n",
            "item 1: 3\n",
            "all done\n"
          ]
        }
      ]
    },
    {
      "cell_type": "markdown",
      "source": [
        "You can pick out some of the elements in a list a few different ways. You can pick a range you want"
      ],
      "metadata": {
        "id": "eRDFXRpKUW6J"
      }
    },
    {
      "cell_type": "code",
      "source": [
        "print(list1[2:5],list1[5]) # notice that is starts at list1[2] but ends without including list[5]\n"
      ],
      "metadata": {
        "colab": {
          "base_uri": "https://localhost:8080/"
        },
        "id": "SWN-dsh_UTWZ",
        "outputId": "26d2240a-4ac4-456b-cfab-b08a14080df6"
      },
      "execution_count": 46,
      "outputs": [
        {
          "output_type": "stream",
          "name": "stdout",
          "text": [
            "[3, 'hi', 4] 5\n"
          ]
        }
      ]
    },
    {
      "cell_type": "markdown",
      "source": [
        "We notice also that `list1[2:5]` returns the output as a new list. I.e. only when we isolate a single element does it return it as something other than a list.\n",
        "\n",
        "------\n",
        "\n",
        "\n",
        "You can also go from the beginning to a given number or a given point to then end"
      ],
      "metadata": {
        "id": "kb4ohqCnUcGH"
      }
    },
    {
      "cell_type": "code",
      "source": [
        "print(list1[:5])\n",
        "print(list1[3:])"
      ],
      "metadata": {
        "colab": {
          "base_uri": "https://localhost:8080/"
        },
        "id": "nACbpZOEUamH",
        "outputId": "38bc8481-1046-46e3-a483-e621865794b3"
      },
      "execution_count": 47,
      "outputs": [
        {
          "output_type": "stream",
          "name": "stdout",
          "text": [
            "[1, 2, 3, 'hi', 4]\n",
            "['hi', 4, 5, 6, 7]\n"
          ]
        }
      ]
    },
    {
      "cell_type": "markdown",
      "source": [
        "We can also pick every `n`th elements using:"
      ],
      "metadata": {
        "id": "lrR5nauwUk1r"
      }
    },
    {
      "cell_type": "code",
      "source": [
        "print(list1[::2])\n",
        "print(list1[::3])\n",
        "print(list1[2::3])"
      ],
      "metadata": {
        "colab": {
          "base_uri": "https://localhost:8080/"
        },
        "id": "RiIOc-ZJUj3k",
        "outputId": "2c0f0123-9af1-4e6d-9b3e-3c7b9ec8a10f"
      },
      "execution_count": 48,
      "outputs": [
        {
          "output_type": "stream",
          "name": "stdout",
          "text": [
            "[1, 3, 4, 6]\n",
            "[1, 'hi', 6]\n",
            "[3, 5]\n"
          ]
        }
      ]
    },
    {
      "cell_type": "markdown",
      "source": [
        "You can also count from the end using negative numbers"
      ],
      "metadata": {
        "id": "_vbfQXmFUsU6"
      }
    },
    {
      "cell_type": "code",
      "source": [
        "print(list1[-1])\n",
        "print(list1[-2])\n",
        "print(list1[2:-2])"
      ],
      "metadata": {
        "colab": {
          "base_uri": "https://localhost:8080/"
        },
        "id": "RAPCYZRzUqp4",
        "outputId": "dd28ba18-b6a5-4607-9dc4-552cecd4ad0f"
      },
      "execution_count": 49,
      "outputs": [
        {
          "output_type": "stream",
          "name": "stdout",
          "text": [
            "7\n",
            "6\n",
            "[3, 'hi', 4, 5]\n"
          ]
        }
      ]
    },
    {
      "cell_type": "markdown",
      "source": [
        "This also gives us a funny way to print a list backwards"
      ],
      "metadata": {
        "id": "Xx6cE7WjUwxD"
      }
    },
    {
      "cell_type": "code",
      "source": [
        "print(list1[::-1])\n",
        "print(list1[::-2])"
      ],
      "metadata": {
        "colab": {
          "base_uri": "https://localhost:8080/"
        },
        "id": "6nHEwZoJUuyV",
        "outputId": "d2f2d87b-95e1-428b-9724-0838beabde7d"
      },
      "execution_count": 50,
      "outputs": [
        {
          "output_type": "stream",
          "name": "stdout",
          "text": [
            "[7, 6, 5, 4, 'hi', 3, 2, 1]\n",
            "[7, 5, 'hi', 2]\n"
          ]
        }
      ]
    },
    {
      "cell_type": "markdown",
      "source": [
        "One key aspect of lists is that they can be changed:"
      ],
      "metadata": {
        "id": "YDMqBzjUU1c5"
      }
    },
    {
      "cell_type": "code",
      "source": [
        "list1[0]='k'\n",
        "print(list1)"
      ],
      "metadata": {
        "colab": {
          "base_uri": "https://localhost:8080/"
        },
        "id": "-0RWsbvyUykO",
        "outputId": "ddc452de-6e8e-4a6a-a53c-c794d15077cf"
      },
      "execution_count": 51,
      "outputs": [
        {
          "output_type": "stream",
          "name": "stdout",
          "text": [
            "['k', 2, 3, 'hi', 4, 5, 6, 7]\n"
          ]
        }
      ]
    },
    {
      "cell_type": "markdown",
      "source": [
        "Now comes the scary part of the fact that lists can change: if you make a list equal to another list, you are just telling the computer to point to the first list. This is best shown with an example:"
      ],
      "metadata": {
        "id": "Rz5ynvc8U7wZ"
      }
    },
    {
      "cell_type": "code",
      "source": [
        "list3=list1 # make list3=list1\n",
        "print(list3) # see they are equal"
      ],
      "metadata": {
        "colab": {
          "base_uri": "https://localhost:8080/"
        },
        "id": "dLx5y8D4U5i4",
        "outputId": "a1f343bd-45dc-4519-d843-a6b24e80148c"
      },
      "execution_count": 52,
      "outputs": [
        {
          "output_type": "stream",
          "name": "stdout",
          "text": [
            "['k', 2, 3, 'hi', 4, 5, 6, 7]\n"
          ]
        }
      ]
    },
    {
      "cell_type": "markdown",
      "source": [
        "If you want to save a record of list1 before you change it, you need to make a copy. One way to do this is to tell it you want the list to be equal to the elements of the list. This also shows us that if we take only a subset of elements in the list, we also won't have this pointing issue. If you are using the full list, you can also use copy:"
      ],
      "metadata": {
        "id": "h3qFL1rNVA5z"
      }
    },
    {
      "cell_type": "code",
      "source": [
        "list4=list1[:]\n",
        "list5=list1.copy()\n",
        "print(list4,list5)"
      ],
      "metadata": {
        "colab": {
          "base_uri": "https://localhost:8080/"
        },
        "id": "uByPMSEBU-Wl",
        "outputId": "901365cc-5c3d-4aab-cf17-720f86b073c9"
      },
      "execution_count": 53,
      "outputs": [
        {
          "output_type": "stream",
          "name": "stdout",
          "text": [
            "['k', 2, 3, 'hi', 4, 5, 6, 7] ['k', 2, 3, 'hi', 4, 5, 6, 7]\n"
          ]
        }
      ]
    },
    {
      "cell_type": "code",
      "source": [
        "list1[0]='hello'\n",
        "print(list1,list4,list5)"
      ],
      "metadata": {
        "colab": {
          "base_uri": "https://localhost:8080/"
        },
        "id": "Zbh9SkUXVDci",
        "outputId": "9efbe28a-f361-4eb6-ddcc-d1f32182b7b8"
      },
      "execution_count": 54,
      "outputs": [
        {
          "output_type": "stream",
          "name": "stdout",
          "text": [
            "['hello', 2, 3, 'hi', 4, 5, 6, 7] ['k', 2, 3, 'hi', 4, 5, 6, 7] ['k', 2, 3, 'hi', 4, 5, 6, 7]\n"
          ]
        }
      ]
    },
    {
      "cell_type": "markdown",
      "source": [
        "You can combine lists using addition, so that"
      ],
      "metadata": {
        "id": "mNtnTfB8VHbZ"
      }
    },
    {
      "cell_type": "code",
      "source": [
        "list4+[8,9,10]"
      ],
      "metadata": {
        "colab": {
          "base_uri": "https://localhost:8080/"
        },
        "id": "CI4bgenYVFNt",
        "outputId": "9a9a66f6-fb4c-43f7-cdb3-ec37abaca51f"
      },
      "execution_count": 55,
      "outputs": [
        {
          "output_type": "execute_result",
          "data": {
            "text/plain": [
              "['k', 2, 3, 'hi', 4, 5, 6, 7, 8, 9, 10]"
            ]
          },
          "metadata": {},
          "execution_count": 55
        }
      ]
    },
    {
      "cell_type": "markdown",
      "source": [
        "This does not change list4, it just output the combined list. If you want to keep this list you need to give it a new name.\n",
        "\n",
        "------\n",
        "\n",
        "You might have a number or string you want to add to a list without making a new list, in which case append is more useful"
      ],
      "metadata": {
        "id": "Elsnb_cRVL_t"
      }
    },
    {
      "cell_type": "code",
      "source": [
        "list4.append(11)\n",
        "print(list4)"
      ],
      "metadata": {
        "colab": {
          "base_uri": "https://localhost:8080/"
        },
        "id": "mi46JBTZVKDT",
        "outputId": "b6f17d83-6a86-4845-e3f2-5e7858f701c1"
      },
      "execution_count": 56,
      "outputs": [
        {
          "output_type": "stream",
          "name": "stdout",
          "text": [
            "['k', 2, 3, 'hi', 4, 5, 6, 7, 11]\n"
          ]
        }
      ]
    },
    {
      "cell_type": "markdown",
      "source": [
        "We can also remove entries in the list as follows:"
      ],
      "metadata": {
        "id": "oAs7M4RJVTfU"
      }
    },
    {
      "cell_type": "code",
      "source": [
        "print(list1)\n",
        "del list1[3]\n",
        "print(list1)"
      ],
      "metadata": {
        "colab": {
          "base_uri": "https://localhost:8080/"
        },
        "id": "-sbCwiMmVR_K",
        "outputId": "e24e3f38-9de0-4490-ebed-a1525510d08b"
      },
      "execution_count": 57,
      "outputs": [
        {
          "output_type": "stream",
          "name": "stdout",
          "text": [
            "['hello', 2, 3, 'hi', 4, 5, 6, 7]\n",
            "['hello', 2, 3, 4, 5, 6, 7]\n"
          ]
        }
      ]
    },
    {
      "cell_type": "markdown",
      "source": [
        "There are lots of other useful tools we have. For example, you might like to know the length of a list, it largest or smallest values, etc"
      ],
      "metadata": {
        "id": "waLU62kfVXjc"
      }
    },
    {
      "cell_type": "code",
      "source": [
        "print(len(list4),min([2,5,1,11]),max([2,5,1,11]))"
      ],
      "metadata": {
        "colab": {
          "base_uri": "https://localhost:8080/"
        },
        "id": "0dojgK3OVWHl",
        "outputId": "bb7e38cd-c614-43fb-e3a2-7faee2de6ed6"
      },
      "execution_count": 58,
      "outputs": [
        {
          "output_type": "stream",
          "name": "stdout",
          "text": [
            "9 1 11\n"
          ]
        }
      ]
    },
    {
      "cell_type": "markdown",
      "source": [
        "The elements of a list can be lists themselves. When we start using some of pythons mode powerful computational tools, this structure will we be very important"
      ],
      "metadata": {
        "id": "U6h976PvVbsl"
      }
    },
    {
      "cell_type": "code",
      "source": [
        "listarray=[[1,2],[3,4]]"
      ],
      "metadata": {
        "id": "tR3H3WTBVaCJ"
      },
      "execution_count": 59,
      "outputs": []
    },
    {
      "cell_type": "code",
      "source": [
        "listarray[1]"
      ],
      "metadata": {
        "colab": {
          "base_uri": "https://localhost:8080/"
        },
        "id": "Kk-dkLsPVeAi",
        "outputId": "88f2a0af-81ac-40cb-8b38-801b2b4c2189"
      },
      "execution_count": 60,
      "outputs": [
        {
          "output_type": "execute_result",
          "data": {
            "text/plain": [
              "[3, 4]"
            ]
          },
          "metadata": {},
          "execution_count": 60
        }
      ]
    },
    {
      "cell_type": "code",
      "source": [
        "listarray[1][1]"
      ],
      "metadata": {
        "colab": {
          "base_uri": "https://localhost:8080/"
        },
        "id": "Ldt1zB0GVfgE",
        "outputId": "9838f75a-a2a1-4bfe-f1f0-8a411d1c4651"
      },
      "execution_count": 61,
      "outputs": [
        {
          "output_type": "execute_result",
          "data": {
            "text/plain": [
              "4"
            ]
          },
          "metadata": {},
          "execution_count": 61
        }
      ]
    },
    {
      "cell_type": "markdown",
      "source": [
        "Might like this to work like a matrix, but we will have to way for numpy array for that. I.e. lists don't treat columns and rows in the same way"
      ],
      "metadata": {
        "id": "6cALc6LaVimr"
      }
    },
    {
      "cell_type": "code",
      "source": [
        "print(listarray[0][:],listarray[:][0])"
      ],
      "metadata": {
        "colab": {
          "base_uri": "https://localhost:8080/"
        },
        "id": "qJgyZEAtVhFf",
        "outputId": "3901803d-0c04-4d54-be95-d09ba1caabea"
      },
      "execution_count": 62,
      "outputs": [
        {
          "output_type": "stream",
          "name": "stdout",
          "text": [
            "[1, 2] [1, 2]\n"
          ]
        }
      ]
    },
    {
      "cell_type": "markdown",
      "source": [
        "**Range and enumerate**\n",
        " This is one very special kind of list you will use a lot called `range(N)` where $N$ is a positive integer. It just the list of numbers from $0$ to $N-1$."
      ],
      "metadata": {
        "id": "tZU8TXEmVmZe"
      }
    },
    {
      "cell_type": "code",
      "source": [
        "for i in range(10):\n",
        "    print(i)"
      ],
      "metadata": {
        "colab": {
          "base_uri": "https://localhost:8080/"
        },
        "id": "CLgvCPMiVlPy",
        "outputId": "fbf3c61b-11f2-4c57-a4d8-b638ad02a394"
      },
      "execution_count": 63,
      "outputs": [
        {
          "output_type": "stream",
          "name": "stdout",
          "text": [
            "0\n",
            "1\n",
            "2\n",
            "3\n",
            "4\n",
            "5\n",
            "6\n",
            "7\n",
            "8\n",
            "9\n"
          ]
        }
      ]
    },
    {
      "cell_type": "markdown",
      "source": [
        "But range is kind of a weird, because you need this list so often, it saves it in a weird way, so that it doesn't really look like a list until you start running though it."
      ],
      "metadata": {
        "id": "Xmyu3wHPVx4r"
      }
    },
    {
      "cell_type": "code",
      "source": [
        "range(10)"
      ],
      "metadata": {
        "colab": {
          "base_uri": "https://localhost:8080/"
        },
        "id": "Ln76-RjyVwNi",
        "outputId": "115bf1db-fa6d-4798-a0cc-6da5520b8c0b"
      },
      "execution_count": 64,
      "outputs": [
        {
          "output_type": "execute_result",
          "data": {
            "text/plain": [
              "range(0, 10)"
            ]
          },
          "metadata": {},
          "execution_count": 64
        }
      ]
    },
    {
      "cell_type": "markdown",
      "source": [
        "It is very useful to use with other lists."
      ],
      "metadata": {
        "id": "tyLjOY5XV12q"
      }
    },
    {
      "cell_type": "code",
      "source": [
        "for i in range(len(list1)):\n",
        "    print(list1[i])"
      ],
      "metadata": {
        "colab": {
          "base_uri": "https://localhost:8080/"
        },
        "id": "nsJZsAUCV0Jf",
        "outputId": "18b89ea7-4e72-4672-d414-55e985502f3a"
      },
      "execution_count": 65,
      "outputs": [
        {
          "output_type": "stream",
          "name": "stdout",
          "text": [
            "hello\n",
            "2\n",
            "3\n",
            "4\n",
            "5\n",
            "6\n",
            "7\n"
          ]
        }
      ]
    },
    {
      "cell_type": "markdown",
      "source": [
        "Range is often useful when we are running of a list but we need to keep track of which enter we are using (the reason will be obvious later). We can also do this with enumerate"
      ],
      "metadata": {
        "id": "FEidZFl4V5aB"
      }
    },
    {
      "cell_type": "code",
      "source": [
        "list5=['dog','cat','mouse']\n",
        "for i,item in enumerate(list5):\n",
        "    print(i)\n",
        "    print(item)"
      ],
      "metadata": {
        "colab": {
          "base_uri": "https://localhost:8080/"
        },
        "id": "PeWEFeo8V35x",
        "outputId": "00ee89e9-804d-4400-b8b8-6ba9bf48ea4a"
      },
      "execution_count": 66,
      "outputs": [
        {
          "output_type": "stream",
          "name": "stdout",
          "text": [
            "0\n",
            "dog\n",
            "1\n",
            "cat\n",
            "2\n",
            "mouse\n"
          ]
        }
      ]
    },
    {
      "cell_type": "markdown",
      "source": [
        "### Tuple\n",
        "\n",
        "Now we come to the tuple. This is very much like a list but we used () instead of []"
      ],
      "metadata": {
        "id": "ne3Da53zV9g-"
      }
    },
    {
      "cell_type": "code",
      "source": [
        "tuple1=(1,2,3,'hi')"
      ],
      "metadata": {
        "id": "5zryAJVKV8dH"
      },
      "execution_count": 67,
      "outputs": []
    },
    {
      "cell_type": "code",
      "source": [
        "print(tuple1[0])\n",
        "print(tuple1[::2])"
      ],
      "metadata": {
        "colab": {
          "base_uri": "https://localhost:8080/"
        },
        "id": "sk4y0ZKaWCE6",
        "outputId": "025582de-8ceb-40c8-fd16-b2ce989978bf"
      },
      "execution_count": 68,
      "outputs": [
        {
          "output_type": "stream",
          "name": "stdout",
          "text": [
            "1\n",
            "(1, 3)\n"
          ]
        }
      ]
    },
    {
      "cell_type": "markdown",
      "source": [
        "But the key difference is that you can't change the individual entries"
      ],
      "metadata": {
        "id": "5Uyz5nMMWFTE"
      }
    },
    {
      "cell_type": "code",
      "source": [
        "tuple1[0]=5"
      ],
      "metadata": {
        "colab": {
          "base_uri": "https://localhost:8080/",
          "height": 165
        },
        "id": "_iWxfbbcWDnj",
        "outputId": "1738debc-2667-4041-9ffe-58a3203045d8"
      },
      "execution_count": 69,
      "outputs": [
        {
          "output_type": "error",
          "ename": "TypeError",
          "evalue": "ignored",
          "traceback": [
            "\u001b[0;31m---------------------------------------------------------------------------\u001b[0m",
            "\u001b[0;31mTypeError\u001b[0m                                 Traceback (most recent call last)",
            "\u001b[0;32m<ipython-input-69-fc4f18bf36df>\u001b[0m in \u001b[0;36m<module>\u001b[0;34m\u001b[0m\n\u001b[0;32m----> 1\u001b[0;31m \u001b[0mtuple1\u001b[0m\u001b[0;34m[\u001b[0m\u001b[0;36m0\u001b[0m\u001b[0;34m]\u001b[0m\u001b[0;34m=\u001b[0m\u001b[0;36m5\u001b[0m\u001b[0;34m\u001b[0m\u001b[0;34m\u001b[0m\u001b[0m\n\u001b[0m",
            "\u001b[0;31mTypeError\u001b[0m: 'tuple' object does not support item assignment"
          ]
        }
      ]
    },
    {
      "cell_type": "markdown",
      "source": [
        "The tuple is useful for the reason I mentioned above with lists - it is scary that you might accidently change the values in your list in the middle of your code. The tuple has some inherent value just from the fact that you can't accidently erase your data.\n",
        "\n",
        "\n",
        "------\n",
        "\n",
        "\n",
        "Finally, we come to dictionaries. These are interesting objects because want to organize information by name. There are a few ways to define a dictionary:"
      ],
      "metadata": {
        "id": "SFSx1RHxWJpP"
      }
    },
    {
      "cell_type": "code",
      "source": [
        "dict1={'bob': 12,'alice': 2}"
      ],
      "metadata": {
        "id": "SkEBZ7UzWHz2"
      },
      "execution_count": 70,
      "outputs": []
    },
    {
      "cell_type": "code",
      "source": [
        "dict2={}\n",
        "dict2['bob']=[1,2,3]\n",
        "dict2['alice']=[4,5,6]"
      ],
      "metadata": {
        "id": "8VNjZ131WM0L"
      },
      "execution_count": 71,
      "outputs": []
    },
    {
      "cell_type": "code",
      "source": [
        "dict2"
      ],
      "metadata": {
        "colab": {
          "base_uri": "https://localhost:8080/"
        },
        "id": "-OzgkWqfWOes",
        "outputId": "a75b4021-86fc-47ef-a33c-eb902355bfdc"
      },
      "execution_count": 72,
      "outputs": [
        {
          "output_type": "execute_result",
          "data": {
            "text/plain": [
              "{'bob': [1, 2, 3], 'alice': [4, 5, 6]}"
            ]
          },
          "metadata": {},
          "execution_count": 72
        }
      ]
    },
    {
      "cell_type": "markdown",
      "source": [
        "The list of names are called the keys, and we can recover them by"
      ],
      "metadata": {
        "id": "6dnQwh-pWRyw"
      }
    },
    {
      "cell_type": "code",
      "source": [
        "dict2.keys()"
      ],
      "metadata": {
        "colab": {
          "base_uri": "https://localhost:8080/"
        },
        "id": "WTRV-NMhWQK0",
        "outputId": "64cbd2d4-9e27-4564-e059-717762027ad5"
      },
      "execution_count": 73,
      "outputs": [
        {
          "output_type": "execute_result",
          "data": {
            "text/plain": [
              "dict_keys(['bob', 'alice'])"
            ]
          },
          "metadata": {},
          "execution_count": 73
        }
      ]
    },
    {
      "cell_type": "markdown",
      "source": [
        "This is a very helpful tool when you get to large data sets. Some programs will output data in the form of a dictionary with a huge numbers of keys. Being able to make a list of just the keys quickly and easily is a suprisingly useful tool.\n",
        "\n",
        "\n",
        "------\n",
        "\n",
        "\n",
        "Every entry in a dictionary can be a unique type of data. It is just a way of grouping things together:"
      ],
      "metadata": {
        "id": "r1-Pro02WWBI"
      }
    },
    {
      "cell_type": "code",
      "source": [
        "dict3={'bob': [1,2,3], 'alice':'my name is alice','number':41}"
      ],
      "metadata": {
        "id": "yqxA46sYWUJf"
      },
      "execution_count": 74,
      "outputs": []
    },
    {
      "cell_type": "code",
      "source": [
        "for key in dict3.keys():\n",
        "    print(dict3[key])"
      ],
      "metadata": {
        "colab": {
          "base_uri": "https://localhost:8080/"
        },
        "id": "OcY9EITwWZWN",
        "outputId": "edf23f73-33fa-489e-b6af-32c83728b7af"
      },
      "execution_count": 75,
      "outputs": [
        {
          "output_type": "stream",
          "name": "stdout",
          "text": [
            "[1, 2, 3]\n",
            "my name is alice\n",
            "41\n"
          ]
        }
      ]
    },
    {
      "cell_type": "markdown",
      "source": [
        "## Summary\n",
        "\n",
        "We introduced the basic objects that python employs to read in and output information. We also saw the most basic mathematical operations and how they work on these different objects. The next step is to fill out the set of operators so that we can start doing more exciting stuff."
      ],
      "metadata": {
        "id": "C4VuF0E3Wcsp"
      }
    }
  ]
}