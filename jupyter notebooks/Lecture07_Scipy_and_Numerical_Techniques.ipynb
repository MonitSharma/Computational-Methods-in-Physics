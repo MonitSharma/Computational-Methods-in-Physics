{
  "nbformat": 4,
  "nbformat_minor": 0,
  "metadata": {
    "colab": {
      "provenance": [],
      "authorship_tag": "ABX9TyOa0J+s2DhWyh0yzYvQo/L+",
      "include_colab_link": true
    },
    "kernelspec": {
      "name": "python3",
      "display_name": "Python 3"
    },
    "language_info": {
      "name": "python"
    }
  },
  "cells": [
    {
      "cell_type": "markdown",
      "metadata": {
        "id": "view-in-github",
        "colab_type": "text"
      },
      "source": [
        "<a href=\"https://colab.research.google.com/github/MonitSharma/Computational-Methods-in-Physics/blob/main/Lecture07_Scipy_and_Numerical_Techniques.ipynb\" target=\"_parent\"><img src=\"https://colab.research.google.com/assets/colab-badge.svg\" alt=\"Open In Colab\"/></a>"
      ]
    },
    {
      "cell_type": "markdown",
      "source": [
        "# Scipy and Numerical Techniques\n",
        "\n"
      ],
      "metadata": {
        "id": "1K99ZzeXTM-U"
      }
    },
    {
      "cell_type": "code",
      "execution_count": 1,
      "metadata": {
        "id": "1yUDI8kfTEvE"
      },
      "outputs": [],
      "source": [
        "import numpy as np\n",
        "import matplotlib.pyplot as plt"
      ]
    },
    {
      "cell_type": "markdown",
      "source": [
        "We are now ready to apply some of our basic know how to basic numerical problems like finding solutions of equations **ODEs** and integrating\n",
        "\n",
        "\n",
        "-------\n",
        "\n",
        "Before we get started with examples, we have to learn a useful trick involving **lambda** functions. There is some deep origin of this idea in computer science, but our superficial level, they give us a way of defining a function while we are doing something else.\n",
        "\n",
        "\n",
        "-------\n",
        "\n",
        "Here for example, is a function that adds `x` and `y`"
      ],
      "metadata": {
        "id": "uDvHsN3MTU91"
      }
    },
    {
      "cell_type": "code",
      "source": [
        "def add(x,y):\n",
        "  return x+y\n",
        "\n",
        "add(34567,9876543)"
      ],
      "metadata": {
        "colab": {
          "base_uri": "https://localhost:8080/"
        },
        "id": "0lTvTlYTTUWx",
        "outputId": "8ee272d3-f461-44bc-c20b-8489f7577f0e"
      },
      "execution_count": 2,
      "outputs": [
        {
          "output_type": "execute_result",
          "data": {
            "text/plain": [
              "9911110"
            ]
          },
          "metadata": {},
          "execution_count": 2
        }
      ]
    },
    {
      "cell_type": "markdown",
      "source": [
        "We can do this same with a `lambda` function"
      ],
      "metadata": {
        "id": "_SP8peEUUHBT"
      }
    },
    {
      "cell_type": "code",
      "source": [
        "lambda x,y:x+y"
      ],
      "metadata": {
        "colab": {
          "base_uri": "https://localhost:8080/"
        },
        "id": "ELpmzqA1UFaZ",
        "outputId": "cc98aa83-1235-47b0-c8af-220181eea6b1"
      },
      "execution_count": 3,
      "outputs": [
        {
          "output_type": "execute_result",
          "data": {
            "text/plain": [
              "<function __main__.<lambda>(x, y)>"
            ]
          },
          "metadata": {},
          "execution_count": 3
        }
      ]
    },
    {
      "cell_type": "markdown",
      "source": [
        "How to act on it?"
      ],
      "metadata": {
        "id": "jimgdqhwUO26"
      }
    },
    {
      "cell_type": "code",
      "source": [
        "(lambda x,y:x+y)(2345678,59876543)"
      ],
      "metadata": {
        "colab": {
          "base_uri": "https://localhost:8080/"
        },
        "id": "r77bbpMPUMF4",
        "outputId": "41c8f6b6-e51c-4a9c-9219-6a82b0b665e4"
      },
      "execution_count": 4,
      "outputs": [
        {
          "output_type": "execute_result",
          "data": {
            "text/plain": [
              "62222221"
            ]
          },
          "metadata": {},
          "execution_count": 4
        }
      ]
    },
    {
      "cell_type": "markdown",
      "source": [
        "So we can think of `lambda x,y:` as the same thing as `add(x,y)`, but we never defined it.\n",
        "\n",
        "-----\n",
        "\n",
        "When it comes to solve the equations, the arguements of our numerical technique is a function! We integrate function and minimize functions, for example, If we have a code that does that, the input is a function, not a piece of data, `lambda` let us do this easily"
      ],
      "metadata": {
        "id": "XHma1vW7UVjS"
      }
    },
    {
      "cell_type": "markdown",
      "source": [
        "## Newton's Method\n",
        "\n",
        "The best way to understand both how these libraries work and what they do is to try to solve a simple equation numerically.\n",
        "\n",
        "----\n",
        "\n",
        "For example.let's solve the quadratic equation \n",
        "$$ x^2 +2x +1 =0 $$\n",
        "\n"
      ],
      "metadata": {
        "id": "ajocKsBgU1lq"
      }
    },
    {
      "cell_type": "code",
      "source": [
        "from scipy import optimize"
      ],
      "metadata": {
        "id": "qpa_iHc3UUAY"
      },
      "execution_count": 5,
      "outputs": []
    },
    {
      "cell_type": "code",
      "source": [
        "def f(x):\n",
        "  return x**2+2*x+1"
      ],
      "metadata": {
        "id": "1ZO0utamVKkT"
      },
      "execution_count": 6,
      "outputs": []
    },
    {
      "cell_type": "code",
      "source": [
        "optimize.newton(f,1)"
      ],
      "metadata": {
        "colab": {
          "base_uri": "https://localhost:8080/"
        },
        "id": "H41yXlRKVOWH",
        "outputId": "a161113b-ac02-4463-a25d-07329890d840"
      },
      "execution_count": 7,
      "outputs": [
        {
          "output_type": "execute_result",
          "data": {
            "text/plain": [
              "-0.9999999805834525"
            ]
          },
          "metadata": {},
          "execution_count": 7
        }
      ]
    },
    {
      "cell_type": "markdown",
      "source": [
        "This finds the solution pretty well, let's retry this with the `lambda` function this time"
      ],
      "metadata": {
        "id": "EmKYjU8PVR4H"
      }
    },
    {
      "cell_type": "code",
      "source": [
        "optimize.newton(lambda x:x**2+2*x+1,1)"
      ],
      "metadata": {
        "colab": {
          "base_uri": "https://localhost:8080/"
        },
        "id": "Y1IxSfzSVQDt",
        "outputId": "e9326610-dcb8-4615-990f-7570431b3860"
      },
      "execution_count": 8,
      "outputs": [
        {
          "output_type": "execute_result",
          "data": {
            "text/plain": [
              "-0.9999999805834525"
            ]
          },
          "metadata": {},
          "execution_count": 8
        }
      ]
    },
    {
      "cell_type": "markdown",
      "source": [
        "This is why it is nice to have these `lambda` functions. We save our functions for things that are actually useful.\n",
        "\n",
        "------\n",
        "\n",
        "What do we think of this answer? This is a pretty simple equation and while we are close, this is not just some machine precision error, since there are many incorrect digits. What is going on and how can we do better?\n",
        "\n",
        "\n",
        "-----\n",
        "\n",
        "Let's make our own Newton's method code and see what's going on. "
      ],
      "metadata": {
        "id": "kw1NCHQwVcfp"
      }
    },
    {
      "cell_type": "code",
      "source": [
        "def test_func(func): # func is the name of some function that takes two inputs\n",
        "  return func(1,2)"
      ],
      "metadata": {
        "id": "DvJYVxBkVbRa"
      },
      "execution_count": 9,
      "outputs": []
    },
    {
      "cell_type": "code",
      "source": [
        "test_func(add)"
      ],
      "metadata": {
        "colab": {
          "base_uri": "https://localhost:8080/"
        },
        "id": "FgMC2HSTWA5x",
        "outputId": "67e7aea7-f0ff-4e2c-dc47-2146a6aa8b26"
      },
      "execution_count": 10,
      "outputs": [
        {
          "output_type": "execute_result",
          "data": {
            "text/plain": [
              "3"
            ]
          },
          "metadata": {},
          "execution_count": 10
        }
      ]
    },
    {
      "cell_type": "markdown",
      "source": [
        "When one function uses another function as its argument, that is when we can use the lambda function instead."
      ],
      "metadata": {
        "id": "YeMWUbWIWF_A"
      }
    },
    {
      "cell_type": "code",
      "source": [
        "test_func(lambda x,y:x**2+100*y)"
      ],
      "metadata": {
        "colab": {
          "base_uri": "https://localhost:8080/"
        },
        "id": "oV-M2XWcWCec",
        "outputId": "8a0d9d78-f328-4223-e63c-8c1f65f5abed"
      },
      "execution_count": 11,
      "outputs": [
        {
          "output_type": "execute_result",
          "data": {
            "text/plain": [
              "201"
            ]
          },
          "metadata": {},
          "execution_count": 11
        }
      ]
    },
    {
      "cell_type": "markdown",
      "source": [
        "So, now we know how to feed a function to another function. But what exactly are we trying to do?\n",
        "\n",
        "Newton's method is supposed to take our function and approximate it as a line based on the point start from $x_0$:\n",
        "\n",
        "$$ y = f'(x_0)(x-x_0) + f(x_0) $$\n",
        "\n",
        "it then finds the point $y=0$ we'll call that $x_1$ , whose solution is:\n",
        "\n",
        "$$ x_1 = x_0 - f(x_0)/f'(x_0) $$\n",
        "\n",
        "\n",
        "\n",
        "----\n",
        "\n",
        "We can guess this is probably close to the solution, than where we started, so let's repeat with $ x_1 → x_0$\n",
        "\n",
        "------\n",
        "\n",
        "*Note: If I want to make a code that does this, I need to tell it when it stops. otherwise, it will just repeat forever. So stop when the answer is close enough or stop after some steps of iterations"
      ],
      "metadata": {
        "id": "Tl8PEV4vWSNh"
      }
    },
    {
      "cell_type": "code",
      "source": [
        "def my_newton(f, fprime, x0, err):\n",
        "  x1=x0-f(x0)/float(fprime(x0)) # new point according to newton\n",
        "  if abs(f(x1))>err: # we need the absolute value here\n",
        "    print(f(x1))\n",
        "    return my_newton(f,fprime,x1,err) # repeat if the error is big\n",
        "  else:\n",
        "    return x1 # only return when everything goes well"
      ],
      "metadata": {
        "id": "UH_MO2IrWQBy"
      },
      "execution_count": 12,
      "outputs": []
    },
    {
      "cell_type": "code",
      "source": [
        "my_newton(f,lambda x:2*x+2,10,0.000000001)"
      ],
      "metadata": {
        "colab": {
          "base_uri": "https://localhost:8080/"
        },
        "id": "q6yoVuyiXqpM",
        "outputId": "7fcb85c2-0fcf-499b-cd29-73cf54ec0374"
      },
      "execution_count": 18,
      "outputs": [
        {
          "output_type": "stream",
          "name": "stdout",
          "text": [
            "30.25\n",
            "7.5625\n",
            "1.890625\n",
            "0.47265625\n",
            "0.1181640625\n",
            "0.029541015625\n",
            "0.00738525390625\n",
            "0.0018463134765625\n",
            "0.000461578369140625\n",
            "0.00011539459228515625\n",
            "2.8848648071289062e-05\n",
            "7.212162017822266e-06\n",
            "1.8030405044555664e-06\n",
            "4.507601261138916e-07\n",
            "1.126900315284729e-07\n",
            "2.8172507882118225e-08\n",
            "7.043126970529556e-09\n",
            "1.760781742632389e-09\n"
          ]
        },
        {
          "output_type": "execute_result",
          "data": {
            "text/plain": [
              "-0.9999790191650391"
            ]
          },
          "metadata": {},
          "execution_count": 18
        }
      ]
    },
    {
      "cell_type": "markdown",
      "source": [
        "This method needs two things that we didn't feed the scipy function: \n",
        "1. the derivative of $f$ and \n",
        "2. a measure of when to stop.\n",
        "\n",
        "Presumably those are options inside the function that we didn't use?\n",
        "\n",
        "-----\n",
        "\n",
        "`Scipy` isn't going to calculate derivatives for us, so it must be approximating the derivative some other way. \n",
        "\n",
        "Indeed that is what's happening: if you don't provide it with the derivative, it uses something called the secant method. To use the true Newton's method, you need to give it the derivative as well:"
      ],
      "metadata": {
        "id": "SujOa6OXXy8Q"
      }
    },
    {
      "cell_type": "code",
      "source": [
        "newton1=optimize.newton(lambda x:x**2+2*x+1,10,fprime=lambda x:2*x+2)\n",
        "print(newton1)"
      ],
      "metadata": {
        "colab": {
          "base_uri": "https://localhost:8080/"
        },
        "id": "_qfhnQf1XvwS",
        "outputId": "2bbbce3f-dc00-4d96-dc05-53e2609377c0"
      },
      "execution_count": 19,
      "outputs": [
        {
          "output_type": "stream",
          "name": "stdout",
          "text": [
            "-0.9999999893281472\n"
          ]
        }
      ]
    },
    {
      "cell_type": "code",
      "source": [
        "noprime1=optimize.newton(lambda x:x**2+2*x+1,10)\n",
        "print(noprime1)"
      ],
      "metadata": {
        "colab": {
          "base_uri": "https://localhost:8080/"
        },
        "id": "TGF95OTbYRYA",
        "outputId": "48176d22-a256-479f-edf4-b5caac1f9dc9"
      },
      "execution_count": 20,
      "outputs": [
        {
          "output_type": "stream",
          "name": "stdout",
          "text": [
            "-0.999999984901414\n"
          ]
        }
      ]
    },
    {
      "cell_type": "code",
      "source": [
        "abs(newton1-noprime1)"
      ],
      "metadata": {
        "colab": {
          "base_uri": "https://localhost:8080/"
        },
        "id": "K1QPX8FjYToD",
        "outputId": "1bf7322c-1082-4feb-a74a-df30c849d959"
      },
      "execution_count": 21,
      "outputs": [
        {
          "output_type": "execute_result",
          "data": {
            "text/plain": [
              "4.426733202222977e-09"
            ]
          },
          "metadata": {},
          "execution_count": 21
        }
      ]
    },
    {
      "cell_type": "markdown",
      "source": [
        "Let's make a guess that the error is set at $10^{-16}$ because we are using $16$ bit numbers:"
      ],
      "metadata": {
        "id": "ZOCgYICdYX2C"
      }
    },
    {
      "cell_type": "code",
      "source": [
        "myresult=my_newton(f,lambda x:2*x+2,10,10**(-16))\n",
        "print(myresult)"
      ],
      "metadata": {
        "colab": {
          "base_uri": "https://localhost:8080/"
        },
        "id": "-5S1Wa-KYWVR",
        "outputId": "a0fb8abe-7158-48ea-bfcd-c3857d549c7e"
      },
      "execution_count": 22,
      "outputs": [
        {
          "output_type": "stream",
          "name": "stdout",
          "text": [
            "30.25\n",
            "7.5625\n",
            "1.890625\n",
            "0.47265625\n",
            "0.1181640625\n",
            "0.029541015625\n",
            "0.00738525390625\n",
            "0.0018463134765625\n",
            "0.000461578369140625\n",
            "0.00011539459228515625\n",
            "2.8848648071289062e-05\n",
            "7.212162017822266e-06\n",
            "1.8030405044555664e-06\n",
            "4.507601261138916e-07\n",
            "1.126900315284729e-07\n",
            "2.8172507882118225e-08\n",
            "7.043126970529556e-09\n",
            "1.760781742632389e-09\n",
            "4.4019543565809727e-10\n",
            "1.1004885891452432e-10\n",
            "2.751221472863108e-11\n",
            "6.87805368215777e-12\n",
            "1.7195134205394424e-12\n",
            "4.298783551348606e-13\n",
            "1.0746958878371515e-13\n",
            "2.6867397195928788e-14\n",
            "6.661338147750939e-15\n",
            "1.6653345369377348e-15\n",
            "4.440892098500626e-16\n",
            "1.1102230246251565e-16\n",
            "-0.9999999945297885\n"
          ]
        }
      ]
    },
    {
      "cell_type": "code",
      "source": [
        "newton1-myresult"
      ],
      "metadata": {
        "colab": {
          "base_uri": "https://localhost:8080/"
        },
        "id": "PgOCQwHtYk2Q",
        "outputId": "4c3dd021-5b34-464e-a0a4-f3c5955fae34"
      },
      "execution_count": 23,
      "outputs": [
        {
          "output_type": "execute_result",
          "data": {
            "text/plain": [
              "5.201641339880325e-09"
            ]
          },
          "metadata": {},
          "execution_count": 23
        }
      ]
    },
    {
      "cell_type": "markdown",
      "source": [
        "\n",
        "This seems like a good guess, but when we look at the documention, it seems more like what they did was stop when the difference between $x_1$ and $x_0$ gets small. It takes an optional input called \"tol\" whose default is $1.48 \\times 10^{-8}$. Let's see what happens if we do that instead:"
      ],
      "metadata": {
        "id": "IXPgDgc2Yp3V"
      }
    },
    {
      "cell_type": "code",
      "source": [
        "def my_newton2(f,fprime,x0,err):\n",
        "    x1=x0-f(x0)/float(fprime(x0)) # new point according to newton\n",
        "    if abs(x1-x0)>err:  # need the absolute value here\n",
        "        print(f(x1))\n",
        "        return my_newton2(f,fprime,x1,err) # repeat if the error is too large\n",
        "    else:\n",
        "        return x1"
      ],
      "metadata": {
        "id": "MRj5kaDtYnxq"
      },
      "execution_count": 24,
      "outputs": []
    },
    {
      "cell_type": "code",
      "source": [
        "myresult2=my_newton2(f,lambda x:2*x+2,10,1.48e-08)\n",
        "print(myresult2)"
      ],
      "metadata": {
        "colab": {
          "base_uri": "https://localhost:8080/"
        },
        "id": "wvwoVRPZY2Il",
        "outputId": "82979e9a-7391-4d33-ef8f-975f8d0a0187"
      },
      "execution_count": 25,
      "outputs": [
        {
          "output_type": "stream",
          "name": "stdout",
          "text": [
            "30.25\n",
            "7.5625\n",
            "1.890625\n",
            "0.47265625\n",
            "0.1181640625\n",
            "0.029541015625\n",
            "0.00738525390625\n",
            "0.0018463134765625\n",
            "0.000461578369140625\n",
            "0.00011539459228515625\n",
            "2.8848648071289062e-05\n",
            "7.212162017822266e-06\n",
            "1.8030405044555664e-06\n",
            "4.507601261138916e-07\n",
            "1.126900315284729e-07\n",
            "2.8172507882118225e-08\n",
            "7.043126970529556e-09\n",
            "1.760781742632389e-09\n",
            "4.4019543565809727e-10\n",
            "1.1004885891452432e-10\n",
            "2.751221472863108e-11\n",
            "6.87805368215777e-12\n",
            "1.7195134205394424e-12\n",
            "4.298783551348606e-13\n",
            "1.0746958878371515e-13\n",
            "2.6867397195928788e-14\n",
            "6.661338147750939e-15\n",
            "1.6653345369377348e-15\n",
            "4.440892098500626e-16\n",
            "-0.9999999893281472\n"
          ]
        }
      ]
    },
    {
      "cell_type": "code",
      "source": [
        "newton1"
      ],
      "metadata": {
        "colab": {
          "base_uri": "https://localhost:8080/"
        },
        "id": "l6xAYkUQY4vO",
        "outputId": "79e0fe07-2c91-42c6-ada2-4aa6c90abb4a"
      },
      "execution_count": 26,
      "outputs": [
        {
          "output_type": "execute_result",
          "data": {
            "text/plain": [
              "-0.9999999893281472"
            ]
          },
          "metadata": {},
          "execution_count": 26
        }
      ]
    },
    {
      "cell_type": "code",
      "source": [
        "newton1-myresult2"
      ],
      "metadata": {
        "colab": {
          "base_uri": "https://localhost:8080/"
        },
        "id": "NS5CzVvmY61i",
        "outputId": "79cf32d5-4ae3-4013-a63d-a1ad1f43e803"
      },
      "execution_count": 27,
      "outputs": [
        {
          "output_type": "execute_result",
          "data": {
            "text/plain": [
              "0.0"
            ]
          },
          "metadata": {},
          "execution_count": 27
        }
      ]
    },
    {
      "cell_type": "markdown",
      "source": [
        "We hit exactly the same number as Scipy! We can even get back to our old answer in scipy by replacing"
      ],
      "metadata": {
        "id": "O8MXHk2oY9ze"
      }
    },
    {
      "cell_type": "code",
      "source": [
        "newton2=optimize.newton(lambda x:x**2+2*x+1,10,fprime=lambda x:2*x+2,tol=10**(-16))\n",
        "newton2"
      ],
      "metadata": {
        "colab": {
          "base_uri": "https://localhost:8080/"
        },
        "id": "JkhzjskVY8So",
        "outputId": "3f6fb41b-1a5c-483e-e9fa-5e9db4651331"
      },
      "execution_count": 29,
      "outputs": [
        {
          "output_type": "execute_result",
          "data": {
            "text/plain": [
              "-0.9999999945297885"
            ]
          },
          "metadata": {},
          "execution_count": 29
        }
      ]
    },
    {
      "cell_type": "code",
      "source": [
        "newton2-myresult\n"
      ],
      "metadata": {
        "colab": {
          "base_uri": "https://localhost:8080/"
        },
        "id": "69sJTdBMZBhm",
        "outputId": "87864517-fadb-492a-f169-76e065f25416"
      },
      "execution_count": 30,
      "outputs": [
        {
          "output_type": "execute_result",
          "data": {
            "text/plain": [
              "0.0"
            ]
          },
          "metadata": {},
          "execution_count": 30
        }
      ]
    },
    {
      "cell_type": "markdown",
      "source": [
        "Now the one thing that is nice about scipy is that it has more methods built in. We have a pretty good idea of what scipy is doing, although it is definitely coded up in a better way that is probably faster and can handle situations where we don't actually converge (e.g. scipy has a max number of iterations so it doesn't get stuck in an infinite loop). Yet, based on what we have seen, we can imagine that if we gave it more information about the function, it could probably do better. For example, we could improve Newton's method to use the second derivative too! Scipy has this built in for us"
      ],
      "metadata": {
        "id": "6Vwv7-1OZJjR"
      }
    },
    {
      "cell_type": "code",
      "source": [
        "fprime2=optimize.newton(lambda x:x**2+2*x+1,10,fprime=lambda x:2*x+2,fprime2=lambda x:2.,tol=10**(-16))\n",
        "print(fprime2)"
      ],
      "metadata": {
        "colab": {
          "base_uri": "https://localhost:8080/"
        },
        "id": "KuS3Oc_5ZFUv",
        "outputId": "d99829d4-e1d9-4358-9acb-88c18513b215"
      },
      "execution_count": 31,
      "outputs": [
        {
          "output_type": "stream",
          "name": "stdout",
          "text": [
            "-0.9999999957639969\n"
          ]
        }
      ]
    },
    {
      "cell_type": "code",
      "source": [
        "print(fprime2+1)\n",
        "print(newton1+1)"
      ],
      "metadata": {
        "colab": {
          "base_uri": "https://localhost:8080/"
        },
        "id": "w2jzGPcaZMLo",
        "outputId": "4ba583ee-bd2b-4651-9d87-f42bbe2d29f7"
      },
      "execution_count": 32,
      "outputs": [
        {
          "output_type": "stream",
          "name": "stdout",
          "text": [
            "4.236003103841313e-09\n",
            "1.0671852845867136e-08\n"
          ]
        }
      ]
    },
    {
      "cell_type": "markdown",
      "source": [
        "For all our effort, it seems like we have hit a wall. We can't do much better than what we have. What's the problem? Right now we have hit the point where the difference between $x_1$ and $x_0$ is $10^{-16}$ which is around the machine error for generic floating point numbers. \n",
        "\n",
        "------\n",
        "\n",
        "Presumably if we want to do better, we are going to have to make the working precision higher."
      ],
      "metadata": {
        "id": "T9_xotVkZQ3E"
      }
    },
    {
      "cell_type": "code",
      "source": [
        "my_newton2(f,lambda x:2*x+2,10,1.48e-64)"
      ],
      "metadata": {
        "colab": {
          "base_uri": "https://localhost:8080/"
        },
        "id": "uz7ixKb0ZOI5",
        "outputId": "bda82f37-d637-4de6-a3b5-93dcd37826a4"
      },
      "execution_count": 33,
      "outputs": [
        {
          "output_type": "stream",
          "name": "stdout",
          "text": [
            "30.25\n",
            "7.5625\n",
            "1.890625\n",
            "0.47265625\n",
            "0.1181640625\n",
            "0.029541015625\n",
            "0.00738525390625\n",
            "0.0018463134765625\n",
            "0.000461578369140625\n",
            "0.00011539459228515625\n",
            "2.8848648071289062e-05\n",
            "7.212162017822266e-06\n",
            "1.8030405044555664e-06\n",
            "4.507601261138916e-07\n",
            "1.126900315284729e-07\n",
            "2.8172507882118225e-08\n",
            "7.043126970529556e-09\n",
            "1.760781742632389e-09\n",
            "4.4019543565809727e-10\n",
            "1.1004885891452432e-10\n",
            "2.751221472863108e-11\n",
            "6.87805368215777e-12\n",
            "1.7195134205394424e-12\n",
            "4.298783551348606e-13\n",
            "1.0746958878371515e-13\n",
            "2.6867397195928788e-14\n",
            "6.661338147750939e-15\n",
            "1.6653345369377348e-15\n",
            "4.440892098500626e-16\n",
            "1.1102230246251565e-16\n",
            "0.0\n"
          ]
        },
        {
          "output_type": "execute_result",
          "data": {
            "text/plain": [
              "-0.9999999945297885"
            ]
          },
          "metadata": {},
          "execution_count": 33
        }
      ]
    },
    {
      "cell_type": "markdown",
      "source": [
        "Let's try increasing the working precision of our code using high precision numbers"
      ],
      "metadata": {
        "id": "efkywao7Zd2r"
      }
    },
    {
      "cell_type": "code",
      "source": [
        "from decimal import Decimal"
      ],
      "metadata": {
        "id": "ktCKxmQSZa3F"
      },
      "execution_count": 34,
      "outputs": []
    },
    {
      "cell_type": "code",
      "source": [
        "Decimal(0.1)"
      ],
      "metadata": {
        "colab": {
          "base_uri": "https://localhost:8080/"
        },
        "id": "jvY3Eyz7Zgmf",
        "outputId": "df155e65-4958-47f1-c92c-1bdf274da100"
      },
      "execution_count": 35,
      "outputs": [
        {
          "output_type": "execute_result",
          "data": {
            "text/plain": [
              "Decimal('0.1000000000000000055511151231257827021181583404541015625')"
            ]
          },
          "metadata": {},
          "execution_count": 35
        }
      ]
    },
    {
      "cell_type": "code",
      "source": [
        "def my_newton3(f,fprime,x0,err):\n",
        "    xs=Decimal(x0)\n",
        "    x1=xs-Decimal(f(xs))/Decimal(fprime(xs)) # new point according to newton\n",
        "    if abs(Decimal(f(x1)))>Decimal(err):  # need the absolute value here\n",
        "        print(Decimal(f(x1)))\n",
        "        return my_newton3(f,fprime,x1,err) # repeat if the error is too large\n",
        "    else:\n",
        "        return x1"
      ],
      "metadata": {
        "id": "fKTk8yGQZiVE"
      },
      "execution_count": 36,
      "outputs": []
    },
    {
      "cell_type": "code",
      "source": [
        "my_newton3(f,lambda x:2*x+2,10,1.48e-64)"
      ],
      "metadata": {
        "colab": {
          "base_uri": "https://localhost:8080/"
        },
        "id": "miu95XlvZkT9",
        "outputId": "b7cbb452-34cb-40ad-c201-fb432c029555"
      },
      "execution_count": 37,
      "outputs": [
        {
          "output_type": "stream",
          "name": "stdout",
          "text": [
            "30.25\n",
            "7.5625\n",
            "1.890625\n",
            "0.47265625\n",
            "0.1181640625\n",
            "0.029541015625\n",
            "0.00738525390625\n",
            "0.0018463134765625\n",
            "0.000461578369140625\n",
            "0.00011539459228515625\n",
            "0.0000288486480712890625\n",
            "0.000007212162017822265625\n",
            "0.00000180304050445556640625\n",
            "4.507601261138916015625E-7\n",
            "1.126900315284729003906E-7\n",
            "2.81725078821182250973E-8\n",
            "7.0431269705295562748E-9\n",
            "1.7607817426323890684E-9\n",
            "4.401954356580972670E-10\n",
            "1.100488589145243165E-10\n",
            "2.75122147286310790E-11\n",
            "6.8780536821577699E-12\n",
            "1.7195134205394430E-12\n",
            "4.298783551348607E-13\n",
            "1.074695887837150E-13\n",
            "2.68673971959283E-14\n",
            "6.7168492989822E-15\n",
            "1.6792123247455E-15\n",
            "4.198030811861E-16\n",
            "1.049507702966E-16\n",
            "2.62376925747E-17\n",
            "6.5594231434E-18\n",
            "1.6398557855E-18\n",
            "4.099639466E-19\n",
            "1.024909865E-19\n",
            "2.56227470E-20\n",
            "6.4056866E-21\n",
            "1.6014220E-21\n",
            "4.003550E-22\n",
            "1.000887E-22\n",
            "2.50223E-23\n",
            "6.2560E-24\n",
            "1.5641E-24\n",
            "3.905E-25\n",
            "9.78E-26\n",
            "2.46E-26\n",
            "5.6E-27\n",
            "1.5E-27\n",
            "6E-28\n"
          ]
        },
        {
          "output_type": "execute_result",
          "data": {
            "text/plain": [
              "Decimal('-0.9999999999999890669998056123')"
            ]
          },
          "metadata": {},
          "execution_count": 37
        }
      ]
    },
    {
      "cell_type": "code",
      "source": [
        "Decimal(newton1+1)"
      ],
      "metadata": {
        "colab": {
          "base_uri": "https://localhost:8080/"
        },
        "id": "u3H9BUUeZmvu",
        "outputId": "7c83a22e-4db6-4b2e-be85-ac1f539615cf"
      },
      "execution_count": 38,
      "outputs": [
        {
          "output_type": "execute_result",
          "data": {
            "text/plain": [
              "Decimal('1.067185284586713578391936607658863067626953125E-8')"
            ]
          },
          "metadata": {},
          "execution_count": 38
        }
      ]
    },
    {
      "cell_type": "code",
      "source": [
        "Decimal('-0.9999999999999890669998056123')-Decimal(-1)"
      ],
      "metadata": {
        "colab": {
          "base_uri": "https://localhost:8080/"
        },
        "id": "MUjPJ4S2ZpEr",
        "outputId": "c4b4c1db-f1fb-4ba4-a2cd-a0d7ae357bbe"
      },
      "execution_count": 39,
      "outputs": [
        {
          "output_type": "execute_result",
          "data": {
            "text/plain": [
              "Decimal('1.09330001943877E-14')"
            ]
          },
          "metadata": {},
          "execution_count": 39
        }
      ]
    },
    {
      "cell_type": "markdown",
      "source": [
        "1. Even though you may not know exactly how things are coded inside numpy or scipy, you should be able to get a pretty good idea how they work\n",
        "\n",
        "2. Numerical techniques always have some error associated with them. You can learn a lot about a code by understanding what controls the size of the error and trying to make it smaller.\n",
        "\n",
        "\n",
        "3. There are lots more options built into a scipy solver than you would want to code yourself. But, the simplest implementations are often pretty close to what you do know how to code up yourself. The complicated options are usually just the simple idea extended to higher order (more derivatives, more grid points, higher order polynomial extrolations, etc)"
      ],
      "metadata": {
        "id": "NR48FOIoZsn1"
      }
    },
    {
      "cell_type": "markdown",
      "source": [
        "## Interpolation"
      ],
      "metadata": {
        "id": "7U14W9IFZ2Gh"
      }
    },
    {
      "cell_type": "code",
      "source": [
        "from scipy import interpolate"
      ],
      "metadata": {
        "id": "2fRZUXFnZqoN"
      },
      "execution_count": 40,
      "outputs": []
    },
    {
      "cell_type": "markdown",
      "source": [
        "Sometimes you don't actually have the analytic form of a function you want to use. Instead you might have some raw data. Alternatively, you have the function but calculating it is so slow you need to pre-compute it at a bunch of points before you can use it in some other applications (like integrating, equation solving, etc).\n",
        "\n",
        "\n",
        "-------\n",
        "\n",
        "\n",
        "This is when interpolation is super helpful. Interpolation is just a rule for filling in the gaps in your function based on the data you have."
      ],
      "metadata": {
        "id": "geDADn2lZ7zx"
      }
    },
    {
      "cell_type": "code",
      "source": [
        "xI=np.linspace(0,np.pi,40)\n",
        "yI=np.sin(2*xI**2)"
      ],
      "metadata": {
        "id": "LhbgUXWXZ519"
      },
      "execution_count": 41,
      "outputs": []
    },
    {
      "cell_type": "code",
      "source": [
        "plt.plot(xI,yI)\n",
        "plt.show()"
      ],
      "metadata": {
        "colab": {
          "base_uri": "https://localhost:8080/",
          "height": 265
        },
        "id": "h7IYnLxVZ_2C",
        "outputId": "ee75aea4-6357-4a77-a6c0-495465731de8"
      },
      "execution_count": 42,
      "outputs": [
        {
          "output_type": "display_data",
          "data": {
            "text/plain": [
              "<Figure size 432x288 with 1 Axes>"
            ],
            "image/png": "[encoded data removed]"
          },
          "metadata": {
            "needs_background": "light"
          }
        }
      ]
    },
    {
      "cell_type": "markdown",
      "source": [
        "So that is our data. Now we want to make a function that is defined on the entire range between the endpoints of our data\n",
        "\n",
        "------\n",
        "\n",
        "\n",
        "Let's just try the `1d` interpolate function out of the box and see what it does"
      ],
      "metadata": {
        "id": "BtURlbuRaEW4"
      }
    },
    {
      "cell_type": "code",
      "source": [
        "f_try = interpolate.interp1d(xI, yI)"
      ],
      "metadata": {
        "id": "arc41QAzaBoM"
      },
      "execution_count": 43,
      "outputs": []
    },
    {
      "cell_type": "code",
      "source": [
        "x_fine=np.linspace(0,np.pi,400)"
      ],
      "metadata": {
        "id": "VgB-Nk0AaJMJ"
      },
      "execution_count": 44,
      "outputs": []
    },
    {
      "cell_type": "code",
      "source": [
        "plt.plot(xI,yI)\n",
        "plt.plot(x_fine,f_try(x_fine))\n",
        "plt.show()\n"
      ],
      "metadata": {
        "colab": {
          "base_uri": "https://localhost:8080/",
          "height": 265
        },
        "id": "LLZN6pvgaKo4",
        "outputId": "a00a6248-9262-4513-e734-83e09dec4d49"
      },
      "execution_count": 45,
      "outputs": [
        {
          "output_type": "display_data",
          "data": {
            "text/plain": [
              "<Figure size 432x288 with 1 Axes>"
            ],
            "image/png": "[encoded data removed]"
          },
          "metadata": {
            "needs_background": "light"
          }
        }
      ]
    },
    {
      "cell_type": "markdown",
      "source": [
        "Okay - so it looks like our default function is just drawing straight lines between the points. This is exaclty what our plot is doing, and so we get the same sharp corners. But if we fit with a polynomial between several points, we will get a smoother looking result. E.g. using a cubic polynomial:"
      ],
      "metadata": {
        "id": "J3qn6voMaO7_"
      }
    },
    {
      "cell_type": "code",
      "source": [
        "f_cube= interpolate.interp1d(xI, yI,kind='cubic')"
      ],
      "metadata": {
        "id": "vO87WJcOaMu2"
      },
      "execution_count": 46,
      "outputs": []
    },
    {
      "cell_type": "code",
      "source": [
        "plt.plot(xI,yI)\n",
        "plt.plot(x_fine,f_cube(x_fine))\n",
        "plt.show()"
      ],
      "metadata": {
        "colab": {
          "base_uri": "https://localhost:8080/",
          "height": 265
        },
        "id": "GG2KpYLKaR4S",
        "outputId": "a122a82f-d18f-4d49-d17f-67611badc0d4"
      },
      "execution_count": 47,
      "outputs": [
        {
          "output_type": "display_data",
          "data": {
            "text/plain": [
              "<Figure size 432x288 with 1 Axes>"
            ],
            "image/png": "[encoded data removed]"
          },
          "metadata": {
            "needs_background": "light"
          }
        }
      ]
    },
    {
      "cell_type": "code",
      "source": [
        "plt.plot(x_fine,f_try(x_fine)-np.sin(2*x_fine**2))\n",
        "plt.plot(x_fine,f_cube(x_fine)-np.sin(2*x_fine**2),color='darkorange')\n",
        "plt.show()"
      ],
      "metadata": {
        "colab": {
          "base_uri": "https://localhost:8080/",
          "height": 265
        },
        "id": "fMSeAaAZaTvh",
        "outputId": "fce3bb2c-7cde-4be6-c50a-466b27d7aa0c"
      },
      "execution_count": 48,
      "outputs": [
        {
          "output_type": "display_data",
          "data": {
            "text/plain": [
              "<Figure size 432x288 with 1 Axes>"
            ],
            "image/png": "[encoded data removed]"
          },
          "metadata": {
            "needs_background": "light"
          }
        }
      ]
    },
    {
      "cell_type": "code",
      "source": [
        "plt.plot(x_fine,f_cube(x_fine)-np.sin(2*x_fine**2),color='darkorange')\n",
        "plt.show()"
      ],
      "metadata": {
        "colab": {
          "base_uri": "https://localhost:8080/",
          "height": 265
        },
        "id": "6crzdZNcaWCy",
        "outputId": "8c4275ba-37be-4ce7-a1e3-f6757215dcb2"
      },
      "execution_count": 49,
      "outputs": [
        {
          "output_type": "display_data",
          "data": {
            "text/plain": [
              "<Figure size 432x288 with 1 Axes>"
            ],
            "image/png": "[encoded data removed]"
          },
          "metadata": {
            "needs_background": "light"
          }
        }
      ]
    },
    {
      "cell_type": "markdown",
      "source": [
        "So we see that our initial function was making about a 10% error. Using a cubic instead, we get less than 1%. In fact, for the early points we do really well:"
      ],
      "metadata": {
        "id": "uj2fLDM7aZqe"
      }
    },
    {
      "cell_type": "code",
      "source": [
        "plt.plot(x_fine,np.abs(f_cube(x_fine)-np.sin(2*x_fine**2)))\n",
        "plt.yscale('log')\n",
        "plt.show()"
      ],
      "metadata": {
        "colab": {
          "base_uri": "https://localhost:8080/",
          "height": 265
        },
        "id": "SURNgC5haX3b",
        "outputId": "f4344b28-abd7-40e5-8ff3-69658e0d190d"
      },
      "execution_count": 50,
      "outputs": [
        {
          "output_type": "display_data",
          "data": {
            "text/plain": [
              "<Figure size 432x288 with 1 Axes>"
            ],
            "image/png": "[encoded data removed]"
          },
          "metadata": {
            "needs_background": "light"
          }
        }
      ]
    },
    {
      "cell_type": "markdown",
      "source": [
        "So we are getting $1$ part in a $100,000$ up to about $x=1$ using only $40$ data points for the full range of $[0,\\pi]$\n",
        "\n",
        "Notice that the interpolation is a function. So we can also use this function inside of our solving code:"
      ],
      "metadata": {
        "id": "WKkWS87zaehn"
      }
    },
    {
      "cell_type": "code",
      "source": [
        "optimize.newton(f_cube,1)"
      ],
      "metadata": {
        "colab": {
          "base_uri": "https://localhost:8080/"
        },
        "id": "AJosr5mPacrF",
        "outputId": "d46bdb2b-a22c-4621-ae6f-4a705d22031f"
      },
      "execution_count": 51,
      "outputs": [
        {
          "output_type": "execute_result",
          "data": {
            "text/plain": [
              "1.2532996656450621"
            ]
          },
          "metadata": {},
          "execution_count": 51
        }
      ]
    },
    {
      "cell_type": "code",
      "source": [
        "np.sin(2*1.2532996656450606**2)"
      ],
      "metadata": {
        "colab": {
          "base_uri": "https://localhost:8080/"
        },
        "id": "68-J3BahapRc",
        "outputId": "7a4b23bd-09f0-4f52-e10d-d908f9552e8e"
      },
      "execution_count": 52,
      "outputs": [
        {
          "output_type": "execute_result",
          "data": {
            "text/plain": [
              "7.254977768854082e-05"
            ]
          },
          "metadata": {},
          "execution_count": 52
        }
      ]
    },
    {
      "cell_type": "markdown",
      "source": [
        "The interpolating function we created can be defined beyond the region of our data. After all, we are just fitting a polynomial, so the polynomial itself can be used anywhere. We can use this to extrapolate beyond the points we originally took our data as follows:"
      ],
      "metadata": {
        "id": "kxnWQWb1asWB"
      }
    },
    {
      "cell_type": "code",
      "source": [
        "f_ext=interpolate.interp1d(xI,yI,fill_value='extrapolate',kind='cubic')"
      ],
      "metadata": {
        "id": "hvKcM0hbaqvp"
      },
      "execution_count": 53,
      "outputs": []
    },
    {
      "cell_type": "markdown",
      "source": [
        "Let's see what happens when we go to negative values of  given that we only used positive values initially:"
      ],
      "metadata": {
        "id": "eouxNXCkawrq"
      }
    },
    {
      "cell_type": "code",
      "source": [
        "x_neg=np.linspace(-np.pi,np.pi,400)"
      ],
      "metadata": {
        "id": "J9NqHVbcau3w"
      },
      "execution_count": 54,
      "outputs": []
    },
    {
      "cell_type": "code",
      "source": [
        "plt.plot(x_neg,f_ext(x_neg),color='blue')\n",
        "plt.plot(x_neg,np.sin(2*x_neg**2),color='darkorange')\n",
        "plt.show()"
      ],
      "metadata": {
        "colab": {
          "base_uri": "https://localhost:8080/",
          "height": 265
        },
        "id": "Ar_Sb6NWaz4S",
        "outputId": "679edfad-21bd-482b-a540-970952ae897c"
      },
      "execution_count": 55,
      "outputs": [
        {
          "output_type": "display_data",
          "data": {
            "text/plain": [
              "<Figure size 432x288 with 1 Axes>"
            ],
            "image/png": "[encoded data removed]"
          },
          "metadata": {
            "needs_background": "light"
          }
        }
      ]
    },
    {
      "cell_type": "code",
      "source": [
        "plt.plot(x_neg,abs(f_ext(x_neg)-np.sin(2*x_neg**2)),color='darkorange')\n",
        "plt.yscale('log')\n",
        "plt.xlim(-0.5,1)\n",
        "plt.show()"
      ],
      "metadata": {
        "colab": {
          "base_uri": "https://localhost:8080/",
          "height": 265
        },
        "id": "SoobuFWta1v-",
        "outputId": "d20d9635-a77e-4d93-dd8d-de564674e89a"
      },
      "execution_count": 56,
      "outputs": [
        {
          "output_type": "display_data",
          "data": {
            "text/plain": [
              "<Figure size 432x288 with 1 Axes>"
            ],
            "image/png": "[encoded data removed]"
          },
          "metadata": {
            "needs_background": "light"
          }
        }
      ]
    },
    {
      "cell_type": "markdown",
      "source": [
        "We see pretty good agreement for some negative values of $x$ before the true answer and our intepolation diverge."
      ],
      "metadata": {
        "id": "TueAqI4Ta6K6"
      }
    },
    {
      "cell_type": "markdown",
      "source": [
        "## Operations on functions / interpolations\n",
        "\n",
        "One of the central reasons to use a spline is to a approximate a quantity we don't know exactly. For example, Scipy has a built in function that computes a numerical derivative"
      ],
      "metadata": {
        "id": "gjEpfGR7a9v5"
      }
    },
    {
      "cell_type": "code",
      "source": [
        "from scipy.misc import derivative"
      ],
      "metadata": {
        "id": "_xTvvQwma39q"
      },
      "execution_count": 57,
      "outputs": []
    },
    {
      "cell_type": "code",
      "source": [
        "def g(x):\n",
        "    return x**3"
      ],
      "metadata": {
        "id": "yscc21m1bHEO"
      },
      "execution_count": 58,
      "outputs": []
    },
    {
      "cell_type": "code",
      "source": [
        "derivative(g,1,dx=1e-5)"
      ],
      "metadata": {
        "colab": {
          "base_uri": "https://localhost:8080/"
        },
        "id": "stKrb_n6bI9d",
        "outputId": "d2c4e8dc-b5df-462e-942d-bcc8a468ba8c"
      },
      "execution_count": 59,
      "outputs": [
        {
          "output_type": "execute_result",
          "data": {
            "text/plain": [
              "3.000000000097369"
            ]
          },
          "metadata": {},
          "execution_count": 59
        }
      ]
    },
    {
      "cell_type": "markdown",
      "source": [
        "We could make our own very simple version:"
      ],
      "metadata": {
        "id": "Ymj5VcFabMED"
      }
    },
    {
      "cell_type": "code",
      "source": [
        "def my_derivative(g,x0,dx):\n",
        "    return (g(x0+dx)-g(x0-dx))/(2*dx)"
      ],
      "metadata": {
        "id": "rqDvxr-CbKfK"
      },
      "execution_count": 60,
      "outputs": []
    },
    {
      "cell_type": "code",
      "source": [
        "my_derivative(g,1,dx=1e-5)"
      ],
      "metadata": {
        "colab": {
          "base_uri": "https://localhost:8080/"
        },
        "id": "wNcF0etxbOYc",
        "outputId": "ce3e9ee0-d924-4f8e-fa44-daa6a51ecaf3"
      },
      "execution_count": 61,
      "outputs": [
        {
          "output_type": "execute_result",
          "data": {
            "text/plain": [
              "3.000000000097369"
            ]
          },
          "metadata": {},
          "execution_count": 61
        }
      ]
    },
    {
      "cell_type": "markdown",
      "source": [
        "We matched the result exactly. Of course, that is just the default, derivative has many ways to improve. E.g. we can include more than just the difference of two poitns but include more points:"
      ],
      "metadata": {
        "id": "pXoV62lrbSSt"
      }
    },
    {
      "cell_type": "code",
      "source": [
        "derivative(g,1,dx=1e-5,order=7)"
      ],
      "metadata": {
        "colab": {
          "base_uri": "https://localhost:8080/"
        },
        "id": "p7lL4OowbP1X",
        "outputId": "bb943eb6-488c-4743-ab58-a570acb5f6a6"
      },
      "execution_count": 62,
      "outputs": [
        {
          "output_type": "execute_result",
          "data": {
            "text/plain": [
              "3.0000000000075104"
            ]
          },
          "metadata": {},
          "execution_count": 62
        }
      ]
    },
    {
      "cell_type": "markdown",
      "source": [
        "Of course, we notice that this just returns a number for a single point. However, if we wanted the derivative as a function we could just take a bunch of derivatives and make an interpolating function:"
      ],
      "metadata": {
        "id": "DWVqojJqbW9p"
      }
    },
    {
      "cell_type": "code",
      "source": [
        "def h(x):\n",
        "    return np.sin(2*x**2)"
      ],
      "metadata": {
        "id": "HFM0dEplbU4r"
      },
      "execution_count": 63,
      "outputs": []
    },
    {
      "cell_type": "code",
      "source": [
        "dh=np.zeros(len(xI))\n",
        "for i in range(len(xI)):\n",
        "    dh[i]=derivative(h,xI[i],dx=1e-5,order=7)\n",
        "dh_fnc=interpolate.interp1d(xI,dh,kind='cubic')"
      ],
      "metadata": {
        "id": "7cCBP-7SbZWk"
      },
      "execution_count": 64,
      "outputs": []
    },
    {
      "cell_type": "code",
      "source": [
        "plt.plot(xI,h(xI))\n",
        "plt.plot(xI,dh_fnc(xI),color='red')"
      ],
      "metadata": {
        "colab": {
          "base_uri": "https://localhost:8080/",
          "height": 282
        },
        "id": "hMgcTl-fbbK6",
        "outputId": "df02590b-33cc-4acb-ee8b-e1185b9e9d71"
      },
      "execution_count": 65,
      "outputs": [
        {
          "output_type": "execute_result",
          "data": {
            "text/plain": [
              "[<matplotlib.lines.Line2D at 0x7f84dcce09d0>]"
            ]
          },
          "metadata": {},
          "execution_count": 65
        },
        {
          "output_type": "display_data",
          "data": {
            "text/plain": [
              "<Figure size 432x288 with 1 Axes>"
            ],
            "image/png": "[encoded data removed]"
          },
          "metadata": {
            "needs_background": "light"
          }
        }
      ]
    },
    {
      "cell_type": "markdown",
      "source": [
        "Now we can look for maxima"
      ],
      "metadata": {
        "id": "4YPEvm9ebfEA"
      }
    },
    {
      "cell_type": "code",
      "source": [
        "max_h=optimize.newton(dh_fnc,1.2)\n",
        "print(max_h)"
      ],
      "metadata": {
        "colab": {
          "base_uri": "https://localhost:8080/"
        },
        "id": "qPc6SzTjbdHl",
        "outputId": "e173c598-0fbd-4224-f5e0-5b522275b8ab"
      },
      "execution_count": 66,
      "outputs": [
        {
          "output_type": "stream",
          "name": "stdout",
          "text": [
            "0.8862269058150533\n"
          ]
        }
      ]
    },
    {
      "cell_type": "code",
      "source": [
        "plt.plot(xI,h(xI))\n",
        "plt.plot([max_h,max_h],[-1,1.5])\n",
        "plt.xlim(0.5,1.1)\n",
        "plt.ylim(0.5,1.1)\n",
        "plt.show()"
      ],
      "metadata": {
        "colab": {
          "base_uri": "https://localhost:8080/",
          "height": 269
        },
        "id": "67Plu8JNbhw3",
        "outputId": "4f05828e-6c9b-4c6d-f3f5-346232eeae2d"
      },
      "execution_count": 67,
      "outputs": [
        {
          "output_type": "display_data",
          "data": {
            "text/plain": [
              "<Figure size 432x288 with 1 Axes>"
            ],
            "image/png": "[encoded data removed]"
          },
          "metadata": {
            "needs_background": "light"
          }
        }
      ]
    },
    {
      "cell_type": "markdown",
      "source": [
        "## Special Functions\n",
        "\n",
        "A common thing one encounters in physics is the need to use special functions. Many of these are implemented in scipy for us"
      ],
      "metadata": {
        "id": "0lTqLbcNblOV"
      }
    },
    {
      "cell_type": "code",
      "source": [
        "from scipy import special as sp"
      ],
      "metadata": {
        "id": "v_Mbt-5YbkHS"
      },
      "execution_count": 68,
      "outputs": []
    },
    {
      "cell_type": "code",
      "source": [
        "x=np.linspace(-10,1,102)\n",
        "plt.plot(x,sp.gamma(x))"
      ],
      "metadata": {
        "colab": {
          "base_uri": "https://localhost:8080/",
          "height": 282
        },
        "id": "Iq1Muoo1btlg",
        "outputId": "51b2be14-18e0-4c99-b855-ce095dcc3929"
      },
      "execution_count": 69,
      "outputs": [
        {
          "output_type": "execute_result",
          "data": {
            "text/plain": [
              "[<matplotlib.lines.Line2D at 0x7f84df05d070>]"
            ]
          },
          "metadata": {},
          "execution_count": 69
        },
        {
          "output_type": "display_data",
          "data": {
            "text/plain": [
              "<Figure size 432x288 with 1 Axes>"
            ],
            "image/png": "[encoded data removed]"
          },
          "metadata": {
            "needs_background": "light"
          }
        }
      ]
    },
    {
      "cell_type": "code",
      "source": [
        "x=np.linspace(0,100,102)\n",
        "plt.plot(x,sp.y0(x))"
      ],
      "metadata": {
        "colab": {
          "base_uri": "https://localhost:8080/",
          "height": 282
        },
        "id": "2WsvxhgxbvZq",
        "outputId": "2e0b8fe4-8c50-43c2-d89f-6b2962d5da24"
      },
      "execution_count": 70,
      "outputs": [
        {
          "output_type": "execute_result",
          "data": {
            "text/plain": [
              "[<matplotlib.lines.Line2D at 0x7f84dcc4c9d0>]"
            ]
          },
          "metadata": {},
          "execution_count": 70
        },
        {
          "output_type": "display_data",
          "data": {
            "text/plain": [
              "<Figure size 432x288 with 1 Axes>"
            ],
            "image/png": "[encoded data removed]"
          },
          "metadata": {
            "needs_background": "light"
          }
        }
      ]
    },
    {
      "cell_type": "markdown",
      "source": [
        "We don't have a particular use for them right now, but this is something you will need in most scientific applications.\n",
        "\n",
        "It is also worth noting that these functions are defined in terms of complex arguments as well"
      ],
      "metadata": {
        "id": "O55uefBmbza_"
      }
    },
    {
      "cell_type": "code",
      "source": [
        "sp.gamma(-1+0.1j)"
      ],
      "metadata": {
        "colab": {
          "base_uri": "https://localhost:8080/"
        },
        "id": "eLpNwntnbxcw",
        "outputId": "6dff052f-5265-4c2a-ba53-4b2e84cedad8"
      },
      "execution_count": 71,
      "outputs": [
        {
          "output_type": "execute_result",
          "data": {
            "text/plain": [
              "(-0.4177906356943205+9.86028723231441j)"
            ]
          },
          "metadata": {},
          "execution_count": 71
        }
      ]
    },
    {
      "cell_type": "markdown",
      "source": [
        "The behavior of functions for complex arguments is a very important subject"
      ],
      "metadata": {
        "id": "DBAyGb3Eb5BV"
      }
    },
    {
      "cell_type": "code",
      "source": [
        "x=y=np.linspace(-1,1,102)\n",
        "X,Y=np.meshgrid(x,y)\n",
        "plt.pcolor(X,Y,np.real(sp.hankel1(0.2,X+(0+1j)*Y)),cmap='RdBu')"
      ],
      "metadata": {
        "colab": {
          "base_uri": "https://localhost:8080/",
          "height": 286
        },
        "id": "tyTP7HY3b2yK",
        "outputId": "9839a5e4-da7f-4c37-f7d3-86af3ddc3207"
      },
      "execution_count": 73,
      "outputs": [
        {
          "output_type": "execute_result",
          "data": {
            "text/plain": [
              "<matplotlib.collections.PolyCollection at 0x7f84dca02ac0>"
            ]
          },
          "metadata": {},
          "execution_count": 73
        },
        {
          "output_type": "display_data",
          "data": {
            "text/plain": [
              "<Figure size 432x288 with 1 Axes>"
            ],
            "image/png": "[encoded data removed]"
          },
          "metadata": {
            "needs_background": "light"
          }
        }
      ]
    },
    {
      "cell_type": "markdown",
      "source": [
        "Scipy does not define all special functions for complex values:"
      ],
      "metadata": {
        "id": "swVsQQ4LcAu-"
      }
    },
    {
      "cell_type": "markdown",
      "source": [
        "# Summary\n",
        "\n",
        "We are going to see that scipy has a lot of built in code that is extremely powerful. It is essentially built on top of numpy so they tend to work very well together. What we hopefully learned in these examples is that there are really two things going on inside scipy: (1) an algorithm and (2) an implementation of the algorithm in terms of code. The algorithm works on some premise that we can and should understand. We can try our own version of the algorithm to get a deeper understanding of what scipy is doing. Fundamentally, scipy is not doing anything deeper or more sophisticed than what we can code ourselves. What scipy has really done is code it in a very fast way (probably using some neat python/C tricks we don't know) and with lots of built in options that would be time consuming for us to do ourselves."
      ],
      "metadata": {
        "id": "g0evdN4dcCwb"
      }
    }
  ]
}