{
  "nbformat": 4,
  "nbformat_minor": 0,
  "metadata": {
    "colab": {
      "provenance": [],
      "authorship_tag": "ABX9TyPOGU8ynun9i0XKIB1iqV1x",
      "include_colab_link": true
    },
    "kernelspec": {
      "name": "python3",
      "display_name": "Python 3"
    },
    "language_info": {
      "name": "python"
    }
  },
  "cells": [
    {
      "cell_type": "markdown",
      "metadata": {
        "id": "view-in-github",
        "colab_type": "text"
      },
      "source": [
        "<a href=\"https://colab.research.google.com/github/MonitSharma/Computational-Methods-in-Physics/blob/main/Functions_and_Operations.ipynb\" target=\"_parent\"><img src=\"https://colab.research.google.com/assets/colab-badge.svg\" alt=\"Open In Colab\"/></a>"
      ]
    },
    {
      "cell_type": "markdown",
      "source": [
        "# Functions and Basic Operations\n",
        "\n",
        "\n"
      ],
      "metadata": {
        "id": "T2uERkQMNkDw"
      }
    },
    {
      "cell_type": "markdown",
      "source": [
        "## Basics Operations\n",
        "\n",
        "Now that we know the basic data structures, now what can we do with them?\n",
        "\n",
        "\n",
        "------\n",
        "\n",
        "There are some basic logic structures that are useful"
      ],
      "metadata": {
        "id": "bEmbYnsJNphW"
      }
    },
    {
      "cell_type": "code",
      "execution_count": 1,
      "metadata": {
        "id": "qdoc0PcqNbeG"
      },
      "outputs": [],
      "source": [
        "listtest = [i for i in range(10)]"
      ]
    },
    {
      "cell_type": "code",
      "source": [
        "listtest"
      ],
      "metadata": {
        "colab": {
          "base_uri": "https://localhost:8080/"
        },
        "id": "Z9_uy6ujN5W7",
        "outputId": "48ce2894-336b-45ca-c9a2-92e3c9256e52"
      },
      "execution_count": 2,
      "outputs": [
        {
          "output_type": "execute_result",
          "data": {
            "text/plain": [
              "[0, 1, 2, 3, 4, 5, 6, 7, 8, 9]"
            ]
          },
          "metadata": {},
          "execution_count": 2
        }
      ]
    },
    {
      "cell_type": "markdown",
      "source": [
        "#### Are things equal?"
      ],
      "metadata": {
        "id": "Tiz8fZcqOE9g"
      }
    },
    {
      "cell_type": "code",
      "source": [
        "5==4"
      ],
      "metadata": {
        "colab": {
          "base_uri": "https://localhost:8080/"
        },
        "id": "2p2aA4uhN6lj",
        "outputId": "933a3ea3-ea1c-4021-fc19-79700b6b0f29"
      },
      "execution_count": 3,
      "outputs": [
        {
          "output_type": "execute_result",
          "data": {
            "text/plain": [
              "False"
            ]
          },
          "metadata": {},
          "execution_count": 3
        }
      ]
    },
    {
      "cell_type": "code",
      "source": [
        "5==5"
      ],
      "metadata": {
        "colab": {
          "base_uri": "https://localhost:8080/"
        },
        "id": "1PXvKXcLN8nW",
        "outputId": "20de8360-4db7-4233-866e-9c6e81e77def"
      },
      "execution_count": 4,
      "outputs": [
        {
          "output_type": "execute_result",
          "data": {
            "text/plain": [
              "True"
            ]
          },
          "metadata": {},
          "execution_count": 4
        }
      ]
    },
    {
      "cell_type": "code",
      "source": [
        "[1,2,3]==[3,2,1]"
      ],
      "metadata": {
        "colab": {
          "base_uri": "https://localhost:8080/"
        },
        "id": "nRMAFj-DN9RH",
        "outputId": "1ee6a7bb-9f46-49a9-edf8-4b083380d522"
      },
      "execution_count": 5,
      "outputs": [
        {
          "output_type": "execute_result",
          "data": {
            "text/plain": [
              "False"
            ]
          },
          "metadata": {},
          "execution_count": 5
        }
      ]
    },
    {
      "cell_type": "code",
      "source": [
        "[1,2,3]==[1,2,3]"
      ],
      "metadata": {
        "colab": {
          "base_uri": "https://localhost:8080/"
        },
        "id": "8hH9M3vhOACM",
        "outputId": "cedf3c7a-0c18-413e-b7a1-3f582acd62c0"
      },
      "execution_count": 6,
      "outputs": [
        {
          "output_type": "execute_result",
          "data": {
            "text/plain": [
              "True"
            ]
          },
          "metadata": {},
          "execution_count": 6
        }
      ]
    },
    {
      "cell_type": "markdown",
      "source": [
        "#### Inequalities are also very useful?"
      ],
      "metadata": {
        "id": "5uVVOn1ROIz-"
      }
    },
    {
      "cell_type": "code",
      "source": [
        "print(5>3, 5>5, 5>=5, 5<=5)"
      ],
      "metadata": {
        "colab": {
          "base_uri": "https://localhost:8080/"
        },
        "id": "Md6AAaEIOC4o",
        "outputId": "3dae9287-64f7-4e43-b3e3-c9471b9513a0"
      },
      "execution_count": 7,
      "outputs": [
        {
          "output_type": "stream",
          "name": "stdout",
          "text": [
            "True False True True\n"
          ]
        }
      ]
    },
    {
      "cell_type": "markdown",
      "source": [
        "The value of the equals operation shall be pretty clear when you start running over long lists of numbers looking for something in particular.\n",
        "\n",
        "-----\n",
        "\n",
        "The simplest possible version is `if` statement, which can be understood as `if True:`\n",
        "  `do something`"
      ],
      "metadata": {
        "id": "4nSISSKYOSib"
      }
    },
    {
      "cell_type": "code",
      "source": [
        "is_my_hair_too_long = True\n",
        "if is_my_hair_too_long:\n",
        "  print(\"Get a Hair Cut\")\n",
        "else:\n",
        "  print(\"Carry on\")"
      ],
      "metadata": {
        "colab": {
          "base_uri": "https://localhost:8080/"
        },
        "id": "yfgOyFlsOQs_",
        "outputId": "08c55088-866f-4b4d-9d31-1df4378f28b0"
      },
      "execution_count": 8,
      "outputs": [
        {
          "output_type": "stream",
          "name": "stdout",
          "text": [
            "Get a Hair Cut\n"
          ]
        }
      ]
    },
    {
      "cell_type": "markdown",
      "source": [
        "We also have our basic `and/or` statements:"
      ],
      "metadata": {
        "id": "4w7EImsFO_zy"
      }
    },
    {
      "cell_type": "code",
      "source": [
        "print(1==1 and 2==2)\n",
        "print(1==1 and 2==1)\n",
        "print(1==1 or 2==1)\n",
        "print(1==1 or 2==2)"
      ],
      "metadata": {
        "colab": {
          "base_uri": "https://localhost:8080/"
        },
        "id": "iPG1TP4lO9Gh",
        "outputId": "8fb9432a-ee42-4023-c713-1e0a2bf708c0"
      },
      "execution_count": 9,
      "outputs": [
        {
          "output_type": "stream",
          "name": "stdout",
          "text": [
            "True\n",
            "False\n",
            "True\n",
            "True\n"
          ]
        }
      ]
    },
    {
      "cell_type": "markdown",
      "source": [
        "Truth statements are particularly useful in `if` statements in combination with loops. \n",
        "\n",
        "For example, we can run through a list of objects but then do something only under certain conditions."
      ],
      "metadata": {
        "id": "bt6g55MoQ-VN"
      }
    },
    {
      "cell_type": "code",
      "source": [
        "list1 = range(1,10) # this makes a list of 1,9"
      ],
      "metadata": {
        "id": "4q4TMKKjPx_j"
      },
      "execution_count": 11,
      "outputs": []
    },
    {
      "cell_type": "markdown",
      "source": [
        "To see how this works, let's just make a `for` loop and print what is happening:"
      ],
      "metadata": {
        "id": "Bmw_p1e9RR4L"
      }
    },
    {
      "cell_type": "code",
      "source": [
        "for item in list1:\n",
        "  print(item)"
      ],
      "metadata": {
        "colab": {
          "base_uri": "https://localhost:8080/"
        },
        "id": "eAthN9DTRlZV",
        "outputId": "d2d0ec94-7d1e-4fe9-9414-273801cd060e"
      },
      "execution_count": 12,
      "outputs": [
        {
          "output_type": "stream",
          "name": "stdout",
          "text": [
            "1\n",
            "2\n",
            "3\n",
            "4\n",
            "5\n",
            "6\n",
            "7\n",
            "8\n",
            "9\n"
          ]
        }
      ]
    },
    {
      "cell_type": "markdown",
      "source": [
        "So our `for` loop just picks an element from the list, one at a time and then lets us do something with it. Now, let's see when we put an `if` statement inside the loop:"
      ],
      "metadata": {
        "id": "xnq80ujKRrmr"
      }
    },
    {
      "cell_type": "code",
      "source": [
        "for item in list1:\n",
        "  if item==3:\n",
        "    print('Yay!')\n",
        "  else:\n",
        "    print('Nay')\n"
      ],
      "metadata": {
        "colab": {
          "base_uri": "https://localhost:8080/"
        },
        "id": "wGHG0491RlSU",
        "outputId": "c67511f1-c600-48f2-d3e0-86443df9e052"
      },
      "execution_count": 13,
      "outputs": [
        {
          "output_type": "stream",
          "name": "stdout",
          "text": [
            "Nay\n",
            "Nay\n",
            "Yay!\n",
            "Nay\n",
            "Nay\n",
            "Nay\n",
            "Nay\n",
            "Nay\n",
            "Nay\n"
          ]
        }
      ]
    },
    {
      "cell_type": "code",
      "source": [
        "for item in list1:\n",
        "  if item>4:\n",
        "    print(\"Carry On\")\n",
        "  elif item>2:\n",
        "    print(\"Well\")\n",
        "  else:\n",
        "    print(\"Start It\") "
      ],
      "metadata": {
        "colab": {
          "base_uri": "https://localhost:8080/"
        },
        "id": "Zh2uW2UkRMNi",
        "outputId": "29b32e35-41fd-4136-ac13-7d2e1aeb6cf0"
      },
      "execution_count": 14,
      "outputs": [
        {
          "output_type": "stream",
          "name": "stdout",
          "text": [
            "Start It\n",
            "Start It\n",
            "Well\n",
            "Well\n",
            "Carry On\n",
            "Carry On\n",
            "Carry On\n",
            "Carry On\n",
            "Carry On\n"
          ]
        }
      ]
    },
    {
      "cell_type": "markdown",
      "source": [
        "Interestingly, `True` and `False` can also be added together like they are equivalent to $0$ or $1$."
      ],
      "metadata": {
        "id": "tBvlNdAjTk2d"
      }
    },
    {
      "cell_type": "code",
      "source": [
        "print(True+True, True+False)"
      ],
      "metadata": {
        "colab": {
          "base_uri": "https://localhost:8080/"
        },
        "id": "sj-cbBAlTiN3",
        "outputId": "a91b06e8-3ed1-4cf4-8145-bc3688591ed5"
      },
      "execution_count": 15,
      "outputs": [
        {
          "output_type": "stream",
          "name": "stdout",
          "text": [
            "2 1\n"
          ]
        }
      ]
    },
    {
      "cell_type": "markdown",
      "source": [
        "This is helpful when we are doing things like counting"
      ],
      "metadata": {
        "id": "Lv0oJxyVT6eO"
      }
    },
    {
      "cell_type": "code",
      "source": [
        "animals = ['cat','dog','dog','cat','dog','bird','dog','bird','cat']\n",
        "cats = 0\n",
        "for item in animals:\n",
        "  cats = cats+(item=='cat')\n",
        "print(cats)"
      ],
      "metadata": {
        "colab": {
          "base_uri": "https://localhost:8080/"
        },
        "id": "P80Qq_dwTzk4",
        "outputId": "f25ec883-a263-4289-f8a9-630ce0073245"
      },
      "execution_count": 16,
      "outputs": [
        {
          "output_type": "stream",
          "name": "stdout",
          "text": [
            "3\n"
          ]
        }
      ]
    },
    {
      "cell_type": "markdown",
      "source": [
        "We also have a bunch of basic math operations. The least obvious is powers:"
      ],
      "metadata": {
        "id": "Yr5PrjxpVC6k"
      }
    },
    {
      "cell_type": "code",
      "source": [
        "print(2**4, 2**(12), 2**12) # using brackets with ** isn't necessary "
      ],
      "metadata": {
        "colab": {
          "base_uri": "https://localhost:8080/"
        },
        "id": "bn5xrE_FUP9y",
        "outputId": "15e7436f-76d2-49d4-89a8-00d26c7b8f81"
      },
      "execution_count": 17,
      "outputs": [
        {
          "output_type": "stream",
          "name": "stdout",
          "text": [
            "16 4096 4096\n"
          ]
        }
      ]
    },
    {
      "cell_type": "code",
      "source": [
        "print(2**(1/2.))"
      ],
      "metadata": {
        "colab": {
          "base_uri": "https://localhost:8080/"
        },
        "id": "yBlL3WV8V1lK",
        "outputId": "33f09e8d-c3ad-4b4e-b429-14d93809a2dd"
      },
      "execution_count": 18,
      "outputs": [
        {
          "output_type": "stream",
          "name": "stdout",
          "text": [
            "1.4142135623730951\n"
          ]
        }
      ]
    },
    {
      "cell_type": "markdown",
      "source": [
        "There are also some nice tricks built for tasks you will use a lot. For example if we want to add up something, we can do $+=$ instead of $x=x+y$ "
      ],
      "metadata": {
        "id": "W6nP5MxEV67P"
      }
    },
    {
      "cell_type": "code",
      "source": [
        "costs=[1.2,3.4,4.5,4.,6.]\n",
        "total = 0\n",
        "for cost in costs:\n",
        "  total+=cost\n",
        "print(total)"
      ],
      "metadata": {
        "colab": {
          "base_uri": "https://localhost:8080/"
        },
        "id": "3ktZjqe_V44W",
        "outputId": "a24d85f2-e474-466b-80a7-15d858010a5e"
      },
      "execution_count": 19,
      "outputs": [
        {
          "output_type": "stream",
          "name": "stdout",
          "text": [
            "19.1\n"
          ]
        }
      ]
    },
    {
      "cell_type": "markdown",
      "source": [
        "We can also do the same with subtraction, multiplication or divisions"
      ],
      "metadata": {
        "id": "CGQfDSyGWaPf"
      }
    },
    {
      "cell_type": "code",
      "source": [
        "cash = 100\n",
        "for cost in costs:\n",
        "  cash-=cost\n",
        "print(cash)"
      ],
      "metadata": {
        "colab": {
          "base_uri": "https://localhost:8080/"
        },
        "id": "GMyG18pEWUd7",
        "outputId": "42f18d11-3986-4d16-e5c0-c4bfedf021b5"
      },
      "execution_count": 20,
      "outputs": [
        {
          "output_type": "stream",
          "name": "stdout",
          "text": [
            "80.89999999999999\n"
          ]
        }
      ]
    },
    {
      "cell_type": "markdown",
      "source": [
        "*Notice that we have a nice example of numerical error here! It should have been $80.1$ but because of the way our floating point number is stored it isn't.*"
      ],
      "metadata": {
        "id": "ajbSeq3gWpZd"
      }
    },
    {
      "cell_type": "code",
      "source": [
        "19.1-19"
      ],
      "metadata": {
        "colab": {
          "base_uri": "https://localhost:8080/"
        },
        "id": "52_ObnPAWmZI",
        "outputId": "1b202963-a7eb-44db-8d8c-592a76452721"
      },
      "execution_count": 21,
      "outputs": [
        {
          "output_type": "execute_result",
          "data": {
            "text/plain": [
              "0.10000000000000142"
            ]
          },
          "metadata": {},
          "execution_count": 21
        }
      ]
    },
    {
      "cell_type": "markdown",
      "source": [
        "What is happening here?\n",
        "\n",
        "A pretty good guess is that your computer wants to store information in binary form, which means that it works in powers of $2$ , i.e $1 = 2^0, 2 = 2^1, 3 = 2^1 + 2^0, 4 = 2^2$.\n",
        "\n",
        "For decimals, then we might expect it is storing it in terms of fractions $1/2 = 2^{-1}, 1/4 =2^{-2}$. So we can check that is what is happening if we pick nine fractions of $2$ written as a decimal.\n"
      ],
      "metadata": {
        "id": "EIdrlgEMXFR8"
      }
    },
    {
      "cell_type": "code",
      "source": [
        "19.5-19"
      ],
      "metadata": {
        "colab": {
          "base_uri": "https://localhost:8080/"
        },
        "id": "5E-BX5GTW36B",
        "outputId": "5a07363b-da0a-4b4a-d212-74d65cd9e142"
      },
      "execution_count": 22,
      "outputs": [
        {
          "output_type": "execute_result",
          "data": {
            "text/plain": [
              "0.5"
            ]
          },
          "metadata": {},
          "execution_count": 22
        }
      ]
    },
    {
      "cell_type": "code",
      "source": [
        "19.25-19"
      ],
      "metadata": {
        "colab": {
          "base_uri": "https://localhost:8080/"
        },
        "id": "tAA_ZdHEXwYn",
        "outputId": "201e4ac3-ba38-4e5a-8ce8-129205ef8d27"
      },
      "execution_count": 23,
      "outputs": [
        {
          "output_type": "execute_result",
          "data": {
            "text/plain": [
              "0.25"
            ]
          },
          "metadata": {},
          "execution_count": 23
        }
      ]
    },
    {
      "cell_type": "code",
      "source": [
        "19.125-19"
      ],
      "metadata": {
        "colab": {
          "base_uri": "https://localhost:8080/"
        },
        "id": "zlaZklfaXynE",
        "outputId": "52b89cf6-7abd-47cd-f49d-e957f4cc536b"
      },
      "execution_count": 24,
      "outputs": [
        {
          "output_type": "execute_result",
          "data": {
            "text/plain": [
              "0.125"
            ]
          },
          "metadata": {},
          "execution_count": 24
        }
      ]
    },
    {
      "cell_type": "markdown",
      "source": [
        "Now we can look up the definition of a floating point number in python and find out that it is a 64 bit number, meaning that it contains 64 binary numbers or can represent from $1$ to $2^{63}$ "
      ],
      "metadata": {
        "id": "rGHzz_IjYDZ6"
      }
    },
    {
      "cell_type": "code",
      "source": [
        "2**(64)/10**19"
      ],
      "metadata": {
        "colab": {
          "base_uri": "https://localhost:8080/"
        },
        "id": "Ar01K6oUXzxS",
        "outputId": "c7da1f05-4444-4740-dac8-21965e88c8d4"
      },
      "execution_count": 25,
      "outputs": [
        {
          "output_type": "execute_result",
          "data": {
            "text/plain": [
              "1.8446744073709551"
            ]
          },
          "metadata": {},
          "execution_count": 25
        }
      ]
    },
    {
      "cell_type": "markdown",
      "source": [
        "We see it is pretty close to our 16 decimal places from before. To udnerstand why it isn't exactly 16, we should also remember that we need to store the overall power as well (because it can store numbers much bigger or smaller than $2^{64}$, so it must be using some of the 64 bits for that as well. There is clearly a bit more going on under the hood too"
      ],
      "metadata": {
        "id": "oxf_6DckYlrC"
      }
    },
    {
      "cell_type": "code",
      "source": [
        "2**(1000)"
      ],
      "metadata": {
        "colab": {
          "base_uri": "https://localhost:8080/"
        },
        "id": "WZsTtoTZYQci",
        "outputId": "a058f86f-2587-4515-94a4-7522da51afb4"
      },
      "execution_count": 26,
      "outputs": [
        {
          "output_type": "execute_result",
          "data": {
            "text/plain": [
              "10715086071862673209484250490600018105614048117055336074437503883703510511249361224931983788156958581275946729175531468251871452856923140435984577574698574803934567774824230985421074605062371141877954182153046474983581941267398767559165543946077062914571196477686542167660429831652624386837205668069376"
            ]
          },
          "metadata": {},
          "execution_count": 26
        }
      ]
    },
    {
      "cell_type": "markdown",
      "source": [
        "Now, for multiplication and division, we have to be very careful not to accidently multiply or divide by zero:"
      ],
      "metadata": {
        "id": "wED18PLCY0em"
      }
    },
    {
      "cell_type": "code",
      "source": [
        "factorial = 1\n",
        "for i in range(5):\n",
        "  factorial*=i\n",
        "print(factorial)"
      ],
      "metadata": {
        "colab": {
          "base_uri": "https://localhost:8080/"
        },
        "id": "fOdpGRuZYxqz",
        "outputId": "7abce66e-4ab6-4d2a-807c-f28b70bb2ef3"
      },
      "execution_count": 27,
      "outputs": [
        {
          "output_type": "stream",
          "name": "stdout",
          "text": [
            "0\n"
          ]
        }
      ]
    },
    {
      "cell_type": "code",
      "source": [
        "factorial=1\n",
        "for i in range(5):\n",
        "  factorial*=i+1\n",
        "print(factorial)"
      ],
      "metadata": {
        "colab": {
          "base_uri": "https://localhost:8080/"
        },
        "id": "DNlB6QNaZRC3",
        "outputId": "d171b916-c94e-42bb-f63b-33d2f7173715"
      },
      "execution_count": 28,
      "outputs": [
        {
          "output_type": "stream",
          "name": "stdout",
          "text": [
            "120\n"
          ]
        }
      ]
    },
    {
      "cell_type": "markdown",
      "source": [
        "For division, we have to worry about division by zero:"
      ],
      "metadata": {
        "id": "mAurpJzmYz9X"
      }
    },
    {
      "cell_type": "code",
      "source": [
        "inverse_factorial=1\n",
        "for i in range(5):\n",
        "  inverse_factorial/=i\n",
        "print(inverse_factorial)"
      ],
      "metadata": {
        "colab": {
          "base_uri": "https://localhost:8080/",
          "height": 217
        },
        "id": "IGBBNPLJZmv5",
        "outputId": "007e85e6-b3f4-43ee-98a1-6f237164c61e"
      },
      "execution_count": 30,
      "outputs": [
        {
          "output_type": "error",
          "ename": "ZeroDivisionError",
          "evalue": "ignored",
          "traceback": [
            "\u001b[0;31m---------------------------------------------------------------------------\u001b[0m",
            "\u001b[0;31mZeroDivisionError\u001b[0m                         Traceback (most recent call last)",
            "\u001b[0;32m<ipython-input-30-dccb07d74cdc>\u001b[0m in \u001b[0;36m<module>\u001b[0;34m\u001b[0m\n\u001b[1;32m      1\u001b[0m \u001b[0minverse_factorial\u001b[0m\u001b[0;34m=\u001b[0m\u001b[0;36m1\u001b[0m\u001b[0;34m\u001b[0m\u001b[0;34m\u001b[0m\u001b[0m\n\u001b[1;32m      2\u001b[0m \u001b[0;32mfor\u001b[0m \u001b[0mi\u001b[0m \u001b[0;32min\u001b[0m \u001b[0mrange\u001b[0m\u001b[0;34m(\u001b[0m\u001b[0;36m5\u001b[0m\u001b[0;34m)\u001b[0m\u001b[0;34m:\u001b[0m\u001b[0;34m\u001b[0m\u001b[0;34m\u001b[0m\u001b[0m\n\u001b[0;32m----> 3\u001b[0;31m   \u001b[0minverse_factorial\u001b[0m\u001b[0;34m/=\u001b[0m\u001b[0mi\u001b[0m\u001b[0;34m\u001b[0m\u001b[0;34m\u001b[0m\u001b[0m\n\u001b[0m\u001b[1;32m      4\u001b[0m \u001b[0mprint\u001b[0m\u001b[0;34m(\u001b[0m\u001b[0minverse_factorial\u001b[0m\u001b[0;34m)\u001b[0m\u001b[0;34m\u001b[0m\u001b[0;34m\u001b[0m\u001b[0m\n",
            "\u001b[0;31mZeroDivisionError\u001b[0m: division by zero"
          ]
        }
      ]
    },
    {
      "cell_type": "code",
      "source": [
        "inverse_factorial=1\n",
        "for i in range(5):\n",
        "    inverse_factorial/=(i+1)\n",
        "print(inverse_factorial,1/inverse_factorial)"
      ],
      "metadata": {
        "colab": {
          "base_uri": "https://localhost:8080/"
        },
        "id": "gBl4H0iOZw0X",
        "outputId": "6fff0d8f-29a2-4c15-f3ed-90b708b51c35"
      },
      "execution_count": 31,
      "outputs": [
        {
          "output_type": "stream",
          "name": "stdout",
          "text": [
            "0.008333333333333333 120.0\n"
          ]
        }
      ]
    },
    {
      "cell_type": "markdown",
      "source": [
        "Range is often useful when you running through things in a list"
      ],
      "metadata": {
        "id": "p0lY9wPKZ7AT"
      }
    },
    {
      "cell_type": "code",
      "source": [
        "short_list=['box','car','keys']\n",
        "for i in range(3):\n",
        "  print(short_list[i])\n"
      ],
      "metadata": {
        "colab": {
          "base_uri": "https://localhost:8080/"
        },
        "id": "b6jamD6UZ4Kq",
        "outputId": "81c7e35a-7043-4154-b48e-4aab84da7824"
      },
      "execution_count": 32,
      "outputs": [
        {
          "output_type": "stream",
          "name": "stdout",
          "text": [
            "box\n",
            "car\n",
            "keys\n"
          ]
        }
      ]
    },
    {
      "cell_type": "markdown",
      "source": [
        "Now , if you wanted the elements in the list, you can also just call them one by one:"
      ],
      "metadata": {
        "id": "-loLvbyvaPXR"
      }
    },
    {
      "cell_type": "code",
      "source": [
        "for item in short_list:\n",
        "  print(item)"
      ],
      "metadata": {
        "colab": {
          "base_uri": "https://localhost:8080/"
        },
        "id": "MGBdxs7NaMcn",
        "outputId": "ed366466-dde8-4e64-da0c-322a501324e1"
      },
      "execution_count": 33,
      "outputs": [
        {
          "output_type": "stream",
          "name": "stdout",
          "text": [
            "box\n",
            "car\n",
            "keys\n"
          ]
        }
      ]
    },
    {
      "cell_type": "markdown",
      "source": [
        "And, sometimes you want both: you want the item in the list but you also want to know the element it came from. For that , you have enumerate:"
      ],
      "metadata": {
        "id": "KNWCjuLqabSE"
      }
    },
    {
      "cell_type": "code",
      "source": [
        "for i, item in enumerate(short_list):\n",
        "  print(i, i**2, i+1)\n",
        "  print(item)"
      ],
      "metadata": {
        "colab": {
          "base_uri": "https://localhost:8080/"
        },
        "id": "ZM0A2U7jaaOg",
        "outputId": "eeed5e94-7ef3-4dda-ceec-832b2006c857"
      },
      "execution_count": 34,
      "outputs": [
        {
          "output_type": "stream",
          "name": "stdout",
          "text": [
            "0 0 1\n",
            "box\n",
            "1 1 2\n",
            "car\n",
            "2 4 3\n",
            "keys\n"
          ]
        }
      ]
    },
    {
      "cell_type": "markdown",
      "source": [
        "## Functions\n",
        "\n",
        "The basic setup is as follows: we define it using `def` and put in some information we want to use in the function "
      ],
      "metadata": {
        "id": "UZKTiI4ya2UX"
      }
    },
    {
      "cell_type": "code",
      "source": [
        "def say_hi(name):\n",
        "  print('Hi '+name)"
      ],
      "metadata": {
        "id": "uK-kbQ__a0H-"
      },
      "execution_count": 35,
      "outputs": []
    },
    {
      "cell_type": "code",
      "source": [
        "say_hi(\"Mr. Bond, James Bond\")"
      ],
      "metadata": {
        "colab": {
          "base_uri": "https://localhost:8080/"
        },
        "id": "B0A2-zw7bGuJ",
        "outputId": "4f15eecb-18cc-4cb4-bbef-17e97cefaf83"
      },
      "execution_count": 36,
      "outputs": [
        {
          "output_type": "stream",
          "name": "stdout",
          "text": [
            "Hi Mr. Bond, James Bond\n"
          ]
        }
      ]
    },
    {
      "cell_type": "markdown",
      "source": [
        "As written, the above function looks fine, but will not work if we don't put the exact right kind of input."
      ],
      "metadata": {
        "id": "t-5Jh9seb2AT"
      }
    },
    {
      "cell_type": "code",
      "source": [
        "say_hi(5)"
      ],
      "metadata": {
        "colab": {
          "base_uri": "https://localhost:8080/",
          "height": 235
        },
        "id": "kt8hUK0SbMNw",
        "outputId": "03319266-8058-45ea-fd81-4f8ad5686283"
      },
      "execution_count": 37,
      "outputs": [
        {
          "output_type": "error",
          "ename": "TypeError",
          "evalue": "ignored",
          "traceback": [
            "\u001b[0;31m---------------------------------------------------------------------------\u001b[0m",
            "\u001b[0;31mTypeError\u001b[0m                                 Traceback (most recent call last)",
            "\u001b[0;32m<ipython-input-37-28a3af9cc5d5>\u001b[0m in \u001b[0;36m<module>\u001b[0;34m\u001b[0m\n\u001b[0;32m----> 1\u001b[0;31m \u001b[0msay_hi\u001b[0m\u001b[0;34m(\u001b[0m\u001b[0;36m5\u001b[0m\u001b[0;34m)\u001b[0m\u001b[0;34m\u001b[0m\u001b[0;34m\u001b[0m\u001b[0m\n\u001b[0m",
            "\u001b[0;32m<ipython-input-35-94bdcdf3c865>\u001b[0m in \u001b[0;36msay_hi\u001b[0;34m(name)\u001b[0m\n\u001b[1;32m      1\u001b[0m \u001b[0;32mdef\u001b[0m \u001b[0msay_hi\u001b[0m\u001b[0;34m(\u001b[0m\u001b[0mname\u001b[0m\u001b[0;34m)\u001b[0m\u001b[0;34m:\u001b[0m\u001b[0;34m\u001b[0m\u001b[0;34m\u001b[0m\u001b[0m\n\u001b[0;32m----> 2\u001b[0;31m   \u001b[0mprint\u001b[0m\u001b[0;34m(\u001b[0m\u001b[0;34m'Hi '\u001b[0m\u001b[0;34m+\u001b[0m\u001b[0mname\u001b[0m\u001b[0;34m)\u001b[0m\u001b[0;34m\u001b[0m\u001b[0;34m\u001b[0m\u001b[0m\n\u001b[0m",
            "\u001b[0;31mTypeError\u001b[0m: can only concatenate str (not \"int\") to str"
          ]
        }
      ]
    },
    {
      "cell_type": "markdown",
      "source": [
        "It is usually a good habit to either\n",
        "1. force the data to be the kind we want\n",
        "2. send a warning"
      ],
      "metadata": {
        "id": "U7cmtcMZcESH"
      }
    },
    {
      "cell_type": "code",
      "source": [
        "def say_hi_2(name):\n",
        "  print(\"hi \"+str(name))\n",
        "\n",
        "def say_hi_3(name):\n",
        "  if type(name)==str:\n",
        "    print('Hi '+name)\n",
        "\n",
        "  else:\n",
        "    print(\"Error: Not a String\")"
      ],
      "metadata": {
        "id": "kAO7li-DcBg7"
      },
      "execution_count": 38,
      "outputs": []
    },
    {
      "cell_type": "code",
      "source": [
        "say_hi_2(5)\n",
        "say_hi_3(5)"
      ],
      "metadata": {
        "colab": {
          "base_uri": "https://localhost:8080/"
        },
        "id": "3xOzV26JcilY",
        "outputId": "5d6861df-e8cf-49ef-af1e-ed44033e2e07"
      },
      "execution_count": 39,
      "outputs": [
        {
          "output_type": "stream",
          "name": "stdout",
          "text": [
            "hi 5\n",
            "Error: Not a String\n"
          ]
        }
      ]
    },
    {
      "cell_type": "markdown",
      "source": [
        "Now, let's try anpother example: we saw above that we can make our own version of a factorial. So we can define a function that does this automatically"
      ],
      "metadata": {
        "id": "yIvvFq8qcpf9"
      }
    },
    {
      "cell_type": "code",
      "source": [
        "def factorial(n):\n",
        "    out=1\n",
        "    if n>0: # We are going to force n>0 so that it is well defined\n",
        "        for i in range(int(n)): ## notice that I am forcing n to be an integer to avoid problems\n",
        "            out*=(i+1)\n",
        "\n",
        "    return out\n",
        "        "
      ],
      "metadata": {
        "id": "8hyi-yT4cmnE"
      },
      "execution_count": 40,
      "outputs": []
    },
    {
      "cell_type": "code",
      "source": [
        "print(factorial(5), factorial(7), factorial(-6.6))"
      ],
      "metadata": {
        "colab": {
          "base_uri": "https://localhost:8080/"
        },
        "id": "jUhtP9kudTMh",
        "outputId": "82b22745-f9b3-4ddb-8a73-199052944cc9"
      },
      "execution_count": 41,
      "outputs": [
        {
          "output_type": "stream",
          "name": "stdout",
          "text": [
            "120 5040 1\n"
          ]
        }
      ]
    },
    {
      "cell_type": "markdown",
      "source": [
        "We notice a few things in this way I have implemented the code: it allows me to input non-integers but gives a integer answer. I also wrote it in this slightly awkward way of multiplying everything in a loop.\n",
        "\n",
        "-----\n",
        "\n",
        "Now here is where we get to some of the fun of coding! Just like writing, there can be more than one way to write something that accomplishes the same basic goals, but one might be far better or more elegant than the other.\n",
        "\n",
        "-----\n",
        "\n",
        "We can think about factorial by a different definition. In fact, it is the same defining feature of the Gamma function\n",
        "\n",
        "$$ \\Gamma[x] = (x-1) \\Gamma[x-1] $$\n",
        "and \n",
        "$$ \\Gamma[1]=1 $$\n",
        "\n",
        "so that  $$\\Gamma(n) = (n-1)! $$\n",
        "\n"
      ],
      "metadata": {
        "id": "XAFJWtXsdZu2"
      }
    },
    {
      "cell_type": "code",
      "source": [
        "def Gamma(n):\n",
        "  \n",
        "  if n<=1:\n",
        "      #If n=0, or any value it can't determine, set to 1\n",
        "    return 1\n",
        "  else:\n",
        "      #If it is greater than one, call again iteratively by definition\n",
        "    return (n-1)*Gamma(n-1)"
      ],
      "metadata": {
        "id": "q75vgPjydWiV"
      },
      "execution_count": 42,
      "outputs": []
    },
    {
      "cell_type": "code",
      "source": [
        "print(Gamma(5),Gamma(3.2))"
      ],
      "metadata": {
        "colab": {
          "base_uri": "https://localhost:8080/"
        },
        "id": "zO_Rs9z2drto",
        "outputId": "d2facda5-dcab-430e-9f87-391e95a7315c"
      },
      "execution_count": 43,
      "outputs": [
        {
          "output_type": "stream",
          "name": "stdout",
          "text": [
            "24 0.5280000000000006\n"
          ]
        }
      ]
    },
    {
      "cell_type": "markdown",
      "source": [
        "Note that this isn't actually the true gamma function because we defined $\\Gamma(x<1) =1$ rather than just $\\Gamma(1)=1$ .\n",
        "\n",
        "\n",
        "------\n",
        "\n",
        "Regardless, this is a clever implementation, because it defines the factorial recursively, rather than by brute force.\n",
        "\n",
        "As our last example, we are going to make a sorting function. We want to take a list of numbers are reorder them from largest to smallest."
      ],
      "metadata": {
        "id": "5nPwjd0JdyKN"
      }
    },
    {
      "cell_type": "code",
      "source": [
        "def dumb_sort(alist):\n",
        "    b=[] # I am making a place to put my numbers in order\n",
        "    \n",
        "    c=alist[:] # I am making a copy of the list so that I don't ruin my original list\n",
        "    \n",
        "    while len(c)>0: # I am going to loop over c and remove the largest each time.  I stop when there is nothing left\n",
        "        \n",
        "        largest=c[0] # assume the first element is the largest\n",
        "        \n",
        "        for item in c: #now run over all the elements in the remaining list \n",
        "            if item>largest: # and check if any are bigger\n",
        "                largest=item # when you get somethign bigger, store it the biggest and continue\n",
        "        \n",
        "        b.append(largest) # after running through all the elements, add the largest to the output list\n",
        "        \n",
        "        c.pop(c.index(largest)) #remove the largest from c and repeat\n",
        "    \n",
        "    return b #when you have all the numbers in b, c=[] and the while loop will end.  Output b\n"
      ],
      "metadata": {
        "id": "GuabcFeAdvo-"
      },
      "execution_count": 44,
      "outputs": []
    },
    {
      "cell_type": "code",
      "source": [
        "unordered=[3,5,1,5,2,4,5,2,1]"
      ],
      "metadata": {
        "id": "xHmkjTgZeB-c"
      },
      "execution_count": 45,
      "outputs": []
    },
    {
      "cell_type": "code",
      "source": [
        "dumb_sort(unordered)"
      ],
      "metadata": {
        "colab": {
          "base_uri": "https://localhost:8080/"
        },
        "id": "jFtZrYp3eDbo",
        "outputId": "3edf49d9-a488-421f-f872-986a2a64fa7f"
      },
      "execution_count": 46,
      "outputs": [
        {
          "output_type": "execute_result",
          "data": {
            "text/plain": [
              "[5, 5, 5, 4, 3, 2, 2, 1, 1]"
            ]
          },
          "metadata": {},
          "execution_count": 46
        }
      ]
    },
    {
      "cell_type": "markdown",
      "source": [
        "I called the \"dumb_sort\" for a reason: it is really inefficient. I had to make multiple copies of my list and looped over the elements a lot of times. If I have a list of lenght N, I would take at least 3N space in memory and would run look at roughy N^2/2 elements in the list (I keep looking at them over and over again to compare them to the new biggest number)."
      ],
      "metadata": {
        "id": "zYxyudVUeI-f"
      }
    },
    {
      "cell_type": "code",
      "source": [
        "def mysort(a):\n",
        "    for n in range(1,len(a)):\n",
        "    #Read in one element at a time, starting with second (first is sorted)\n",
        "        value=a[n]\n",
        "    #set marker for previous\n",
        "        i=n-1\n",
        "        while i>=0 and (value > a[i]):\n",
        "        #if i is not past the first element, but value > previous element swith the two\n",
        "            a[i+1]=a[i]\n",
        "            a[i] = value\n",
        "      #now move the marker one to the left and repeat\n",
        "            i-=1\n",
        "#1st element is sorted.  When we get to the nth element, the n-1 previous elements are sorted.  Just need to place it in the right spot\n",
        "\n",
        "b=[1,5,7,8,1,9,2]\n",
        "mysort(b)\n",
        "print(b)"
      ],
      "metadata": {
        "colab": {
          "base_uri": "https://localhost:8080/"
        },
        "id": "dxE6Sg1LeFxg",
        "outputId": "b7eea7fd-e25a-4749-b394-b50afeb57723"
      },
      "execution_count": 47,
      "outputs": [
        {
          "output_type": "stream",
          "name": "stdout",
          "text": [
            "[9, 8, 7, 5, 2, 1, 1]\n"
          ]
        }
      ]
    },
    {
      "cell_type": "markdown",
      "source": [
        "Notice that if we give it an ordered list, it only has to check N-numbers instead of N^2/2. I.e. once we sort part of the list, we don't keep checking it.\n",
        "\n",
        "------\n",
        "\n",
        "\n",
        "A very useful thing about functions is that you can given them options that come with defaults. To see this in action, suppose we want to know the position of a particle subject to an constant external force:"
      ],
      "metadata": {
        "id": "uvkczp2QeREA"
      }
    },
    {
      "cell_type": "code",
      "source": [
        "def position(t,x0,v,a):\n",
        "    pos=x0+v*t+a*t**2/2. # solution for motion under constant acceleration\n",
        "    return pos # return position"
      ],
      "metadata": {
        "id": "p2jR8oGqeOjJ"
      },
      "execution_count": 48,
      "outputs": []
    },
    {
      "cell_type": "code",
      "source": [
        "position(10,0,0,9.8)"
      ],
      "metadata": {
        "colab": {
          "base_uri": "https://localhost:8080/"
        },
        "id": "xf3iOrYteVzL",
        "outputId": "cb22f213-fc69-4d67-8d1d-d5f71719b616"
      },
      "execution_count": 49,
      "outputs": [
        {
          "output_type": "execute_result",
          "data": {
            "text/plain": [
              "490.00000000000006"
            ]
          },
          "metadata": {},
          "execution_count": 49
        }
      ]
    },
    {
      "cell_type": "markdown",
      "source": [
        "But maybe there are some standard choices we like, e.g. $a=9.8 m/s^2$ or $x_0=0$. If that is a case we consider a lot, maybe we just want to assume those values, unless otherwise stated:"
      ],
      "metadata": {
        "id": "ctiRX2Koeasx"
      }
    },
    {
      "cell_type": "code",
      "source": [
        "def pos_short(t,x0=0,v=0,a=9.8):\n",
        "    pos=x0+v*t+a*t**2/2. # solution for motion under constant acceleration\n",
        "    return pos"
      ],
      "metadata": {
        "id": "ZYsU08s3eYYG"
      },
      "execution_count": 50,
      "outputs": []
    },
    {
      "cell_type": "code",
      "source": [
        "pos_short(10)"
      ],
      "metadata": {
        "colab": {
          "base_uri": "https://localhost:8080/"
        },
        "id": "Rrv-aSRhei80",
        "outputId": "b908ba5e-e8d5-4a43-a458-91e77e8b81cd"
      },
      "execution_count": 51,
      "outputs": [
        {
          "output_type": "execute_result",
          "data": {
            "text/plain": [
              "490.00000000000006"
            ]
          },
          "metadata": {},
          "execution_count": 51
        }
      ]
    },
    {
      "cell_type": "markdown",
      "source": [
        "The good part about doing it this way is that I can always put back the values if I want"
      ],
      "metadata": {
        "id": "NbwUPrGDen1q"
      }
    },
    {
      "cell_type": "code",
      "source": [
        "pos_short(10,x0=15)"
      ],
      "metadata": {
        "colab": {
          "base_uri": "https://localhost:8080/"
        },
        "id": "T-pvr_mUelj6",
        "outputId": "45688433-0755-47ed-8963-555cd1748290"
      },
      "execution_count": 52,
      "outputs": [
        {
          "output_type": "execute_result",
          "data": {
            "text/plain": [
              "505.00000000000006"
            ]
          },
          "metadata": {},
          "execution_count": 52
        }
      ]
    },
    {
      "cell_type": "markdown",
      "source": [
        "## Summary\n",
        "\n",
        "We have run through a lot of the basic functionality of python. At this level, you have all the functionality you need to do anything. You have all the basic logical and mathematical operations at your disposal and all the objects you need to store the input and output.\n",
        "\n",
        "\n",
        "-------\n",
        "\n",
        "\n",
        "Now, in practice, converting these basic operations into more advanced algorithms is a lot of work. You have the power to do it, but it would run very slow and take a lot of your time. Luckily, more skilled users of python have written a lot of that code using more advanced and elegant techniques. They probably do the same basic thing that you might, but it will run way faster and have a lot more versality (and is already debugged). From here, we are going to start learning about some of these software packages and how to understand what they are doing and why they are useful.\n"
      ],
      "metadata": {
        "id": "ChL6NUL_gBbB"
      }
    },
    {
      "cell_type": "code",
      "source": [],
      "metadata": {
        "id": "0eRNWkKxgGvB"
      },
      "execution_count": null,
      "outputs": []
    }
  ]
}