{
  "nbformat": 4,
  "nbformat_minor": 0,
  "metadata": {
    "colab": {
      "provenance": [],
      "authorship_tag": "ABX9TyMKs6vCjgAXJpIshzVCBY9o",
      "include_colab_link": true
    },
    "kernelspec": {
      "name": "python3",
      "display_name": "Python 3"
    },
    "language_info": {
      "name": "python"
    }
  },
  "cells": [
    {
      "cell_type": "markdown",
      "metadata": {
        "id": "view-in-github",
        "colab_type": "text"
      },
      "source": [
        "<a href=\"https://colab.research.google.com/github/MonitSharma/Computational-Methods-in-Physics/blob/main/Lecture15_SymPy.ipynb\" target=\"_parent\"><img src=\"https://colab.research.google.com/assets/colab-badge.svg\" alt=\"Open In Colab\"/></a>"
      ]
    },
    {
      "cell_type": "markdown",
      "source": [
        "# Symbolic Computing"
      ],
      "metadata": {
        "id": "h8ubez39fNOJ"
      }
    },
    {
      "cell_type": "code",
      "execution_count": 1,
      "metadata": {
        "id": "N0n4mhI_fHL0"
      },
      "outputs": [],
      "source": [
        "import sympy\n",
        "sympy.init_printing()\n",
        "import numpy as np"
      ]
    },
    {
      "cell_type": "markdown",
      "source": [
        "The emphasis in this course has been the use of computers for manipulting data or using numerical techniques to solve problems. These are central problems in scientific computing and are good windows into how computers work.\n",
        "\n",
        "\n",
        "----------\n",
        "\n",
        "\n",
        "Of course, computers can be designed to do much more complex tasks and we should use computers when they are available to simplify/speed up/check our work. Symbolic computing is an excellent example of a computer resource that can assist in solving problems that we might usually associate with a human and a piece of paper. Fundamentally, the computer can do a lot of our math for us, so we should use it to check our results at the very least.\n",
        "\n",
        "----\n",
        "\n",
        "\n",
        "Sympy is a python library that can do a lot of math for us, in this way. It is similar to mathematica in both function and design, but is freely available. One of the most basic sources of confusion is that these symbolic tools try to avoid making any assumptions:"
      ],
      "metadata": {
        "id": "ATE-f9zffTPD"
      }
    },
    {
      "cell_type": "code",
      "source": [
        "x=sympy.Symbol('x')"
      ],
      "metadata": {
        "id": "eJ2M-s3FfRN5"
      },
      "execution_count": 2,
      "outputs": []
    },
    {
      "cell_type": "code",
      "source": [
        "sympy.sqrt(x**2)"
      ],
      "metadata": {
        "colab": {
          "base_uri": "https://localhost:8080/",
          "height": 39
        },
        "id": "2E185IT4fYp0",
        "outputId": "b47930c9-5a22-45a7-a0f2-9a1af6393401"
      },
      "execution_count": 3,
      "outputs": [
        {
          "output_type": "execute_result",
          "data": {
            "text/plain": [
              "   ____\n",
              "  ╱  2 \n",
              "╲╱  x  "
            ],
            "image/png": "[encoded data removed]",
            "text/latex": "$\\displaystyle \\sqrt{x^{2}}$"
          },
          "metadata": {},
          "execution_count": 3
        }
      ]
    },
    {
      "cell_type": "markdown",
      "source": [
        "Sympy does not know how to simplify this expression. What if $x$ is a complex number? We will get different answers depending on our assumptions:"
      ],
      "metadata": {
        "id": "iEDWKI7-fdvw"
      }
    },
    {
      "cell_type": "code",
      "source": [
        "y=sympy.Symbol('y',real=True)"
      ],
      "metadata": {
        "id": "dSpf_beDfaRB"
      },
      "execution_count": 4,
      "outputs": []
    },
    {
      "cell_type": "code",
      "source": [
        "sympy.sqrt(y**2)"
      ],
      "metadata": {
        "colab": {
          "base_uri": "https://localhost:8080/",
          "height": 39
        },
        "id": "SkUvpPqsflC9",
        "outputId": "18758562-672f-4bec-bd50-46aa3bb4f840"
      },
      "execution_count": 5,
      "outputs": [
        {
          "output_type": "execute_result",
          "data": {
            "text/plain": [
              "│y│"
            ],
            "image/png": "[encoded data removed]",
            "text/latex": "$\\displaystyle \\left|{y}\\right|$"
          },
          "metadata": {},
          "execution_count": 5
        }
      ]
    },
    {
      "cell_type": "code",
      "source": [
        "y=sympy.Symbol('y',positive=True)\n"
      ],
      "metadata": {
        "id": "-7JGidhzfm7e"
      },
      "execution_count": 6,
      "outputs": []
    },
    {
      "cell_type": "code",
      "source": [
        "sympy.sqrt(y**2)"
      ],
      "metadata": {
        "colab": {
          "base_uri": "https://localhost:8080/",
          "height": 39
        },
        "id": "aD5kw1P9fo3X",
        "outputId": "53411e8f-64fd-467e-d985-b5b94fb48e75"
      },
      "execution_count": 7,
      "outputs": [
        {
          "output_type": "execute_result",
          "data": {
            "text/plain": [
              "y"
            ],
            "image/png": "[encoded data removed]",
            "text/latex": "$\\displaystyle y$"
          },
          "metadata": {},
          "execution_count": 7
        }
      ]
    },
    {
      "cell_type": "code",
      "source": [
        "n1=sympy.Symbol('n1',integer=True)\n",
        "n2=sympy.Symbol('n2',odd=True)"
      ],
      "metadata": {
        "id": "l7zv-DrQfqzu"
      },
      "execution_count": 8,
      "outputs": []
    },
    {
      "cell_type": "code",
      "source": [
        "sympy.cos(sympy.pi*n1)"
      ],
      "metadata": {
        "colab": {
          "base_uri": "https://localhost:8080/",
          "height": 37
        },
        "id": "X-fNATl8fsn4",
        "outputId": "6d94eaec-f420-4fad-d8fe-454d513029ae"
      },
      "execution_count": 9,
      "outputs": [
        {
          "output_type": "execute_result",
          "data": {
            "text/plain": [
              "    n₁\n",
              "(-1)  "
            ],
            "image/png": "[encoded data removed]",
            "text/latex": "$\\displaystyle \\left(-1\\right)^{n_{1}}$"
          },
          "metadata": {},
          "execution_count": 9
        }
      ]
    },
    {
      "cell_type": "code",
      "source": [
        "sympy.cos(sympy.pi*n2)"
      ],
      "metadata": {
        "colab": {
          "base_uri": "https://localhost:8080/",
          "height": 37
        },
        "id": "fvfvybC8fusF",
        "outputId": "1a75d6da-9901-4c48-cbd9-36d05faa4b44"
      },
      "execution_count": 10,
      "outputs": [
        {
          "output_type": "execute_result",
          "data": {
            "text/plain": [
              "-1"
            ],
            "image/png": "[encoded data removed]",
            "text/latex": "$\\displaystyle -1$"
          },
          "metadata": {},
          "execution_count": 10
        }
      ]
    },
    {
      "cell_type": "markdown",
      "source": [
        "## Manipulating Expressions\n",
        "\n",
        "We can define expressions you might want to work with"
      ],
      "metadata": {
        "id": "oo9hzkSWfxW_"
      }
    },
    {
      "cell_type": "code",
      "source": [
        "exp=x**2+x*(x*2+x*2)+x*(x+1)+3"
      ],
      "metadata": {
        "id": "LZzoJSI4fwSg"
      },
      "execution_count": 11,
      "outputs": []
    },
    {
      "cell_type": "code",
      "source": [
        "exp"
      ],
      "metadata": {
        "colab": {
          "base_uri": "https://localhost:8080/",
          "height": 39
        },
        "id": "MUj_hKPwf3ym",
        "outputId": "3bd34d07-3ea8-4d0b-a293-f1e487a00b73"
      },
      "execution_count": 12,
      "outputs": [
        {
          "output_type": "execute_result",
          "data": {
            "text/plain": [
              "   2                \n",
              "5⋅x  + x⋅(x + 1) + 3"
            ],
            "image/png": "[encoded data removed]",
            "text/latex": "$\\displaystyle 5 x^{2} + x \\left(x + 1\\right) + 3$"
          },
          "metadata": {},
          "execution_count": 12
        }
      ]
    },
    {
      "cell_type": "markdown",
      "source": [
        "We can simplify these expressions two ways:"
      ],
      "metadata": {
        "id": "EicQ7FMaf6H5"
      }
    },
    {
      "cell_type": "code",
      "source": [
        "sympy.simplify(exp)"
      ],
      "metadata": {
        "colab": {
          "base_uri": "https://localhost:8080/",
          "height": 39
        },
        "id": "4S16wEahf4dw",
        "outputId": "e4b3423d-dc1b-4684-ba35-e34d7cb4965e"
      },
      "execution_count": 13,
      "outputs": [
        {
          "output_type": "execute_result",
          "data": {
            "text/plain": [
              "   2        \n",
              "6⋅x  + x + 3"
            ],
            "image/png": "[encoded data removed]",
            "text/latex": "$\\displaystyle 6 x^{2} + x + 3$"
          },
          "metadata": {},
          "execution_count": 13
        }
      ]
    },
    {
      "cell_type": "code",
      "source": [
        "exp.simplify()"
      ],
      "metadata": {
        "colab": {
          "base_uri": "https://localhost:8080/",
          "height": 39
        },
        "id": "-Ij0_wq5f8gF",
        "outputId": "2861570c-0702-4f8e-e8aa-ed43201d7717"
      },
      "execution_count": 14,
      "outputs": [
        {
          "output_type": "execute_result",
          "data": {
            "text/plain": [
              "   2        \n",
              "6⋅x  + x + 3"
            ],
            "image/png": "[encoded data removed]",
            "text/latex": "$\\displaystyle 6 x^{2} + x + 3$"
          },
          "metadata": {},
          "execution_count": 14
        }
      ]
    },
    {
      "cell_type": "markdown",
      "source": [
        "Similarly we can factor expressions"
      ],
      "metadata": {
        "id": "11t0ulPVgAJV"
      }
    },
    {
      "cell_type": "code",
      "source": [
        "exp2=x**2+2*x+1"
      ],
      "metadata": {
        "id": "QaXma4txf-Wy"
      },
      "execution_count": 15,
      "outputs": []
    },
    {
      "cell_type": "code",
      "source": [
        "exp2"
      ],
      "metadata": {
        "colab": {
          "base_uri": "https://localhost:8080/",
          "height": 39
        },
        "id": "QxROfj38gCfw",
        "outputId": "4379da93-9eaa-4e4c-bd7f-ecc5ae4d815b"
      },
      "execution_count": 16,
      "outputs": [
        {
          "output_type": "execute_result",
          "data": {
            "text/plain": [
              " 2          \n",
              "x  + 2⋅x + 1"
            ],
            "image/png": "[encoded data removed]",
            "text/latex": "$\\displaystyle x^{2} + 2 x + 1$"
          },
          "metadata": {},
          "execution_count": 16
        }
      ]
    },
    {
      "cell_type": "code",
      "source": [
        "sympy.factor(exp2)"
      ],
      "metadata": {
        "colab": {
          "base_uri": "https://localhost:8080/",
          "height": 40
        },
        "id": "I39x0YSMgDkp",
        "outputId": "fcc37c00-d6e2-4b81-d1ae-48d9c807adb1"
      },
      "execution_count": 17,
      "outputs": [
        {
          "output_type": "execute_result",
          "data": {
            "text/plain": [
              "       2\n",
              "(x + 1) "
            ],
            "image/png": "[encoded data removed]",
            "text/latex": "$\\displaystyle \\left(x + 1\\right)^{2}$"
          },
          "metadata": {},
          "execution_count": 17
        }
      ]
    },
    {
      "cell_type": "code",
      "source": [
        "\n",
        "exp2.factor()\n"
      ],
      "metadata": {
        "colab": {
          "base_uri": "https://localhost:8080/",
          "height": 40
        },
        "id": "6h6BSha3gF4M",
        "outputId": "6d358de1-704d-4593-a991-f4887b2b9597"
      },
      "execution_count": 18,
      "outputs": [
        {
          "output_type": "execute_result",
          "data": {
            "text/plain": [
              "       2\n",
              "(x + 1) "
            ],
            "image/png": "[encoded data removed]",
            "text/latex": "$\\displaystyle \\left(x + 1\\right)^{2}$"
          },
          "metadata": {},
          "execution_count": 18
        }
      ]
    },
    {
      "cell_type": "code",
      "source": [
        "# or expand it\n",
        "\n",
        "((x+2)**5).expand()"
      ],
      "metadata": {
        "colab": {
          "base_uri": "https://localhost:8080/",
          "height": 39
        },
        "id": "dvnOPVNZgHY9",
        "outputId": "f4911748-6b7b-42c5-85db-b90d4e630bdf"
      },
      "execution_count": 19,
      "outputs": [
        {
          "output_type": "execute_result",
          "data": {
            "text/plain": [
              " 5       4       3       2            \n",
              "x  + 10⋅x  + 40⋅x  + 80⋅x  + 80⋅x + 32"
            ],
            "image/png": "[encoded data removed]",
            "text/latex": "$\\displaystyle x^{5} + 10 x^{4} + 40 x^{3} + 80 x^{2} + 80 x + 32$"
          },
          "metadata": {},
          "execution_count": 19
        }
      ]
    },
    {
      "cell_type": "code",
      "source": [
        "sympy.sin(x+y).expand(trig=True)"
      ],
      "metadata": {
        "colab": {
          "base_uri": "https://localhost:8080/",
          "height": 39
        },
        "id": "MZgUT1skgK2_",
        "outputId": "b6e0a290-59d4-4f2f-c11b-56cdd925f473"
      },
      "execution_count": 20,
      "outputs": [
        {
          "output_type": "execute_result",
          "data": {
            "text/plain": [
              "sin(x)⋅cos(y) + sin(y)⋅cos(x)"
            ],
            "image/png": "[encoded data removed]",
            "text/latex": "$\\displaystyle \\sin{\\left(x \\right)} \\cos{\\left(y \\right)} + \\sin{\\left(y \\right)} \\cos{\\left(x \\right)}$"
          },
          "metadata": {},
          "execution_count": 20
        }
      ]
    },
    {
      "cell_type": "markdown",
      "source": [
        "## Evaluating Expressions\n",
        "\n",
        "In a lot of situations, we need to combine our symbolic work with something numerical. Sometimes, this means we just want to force the computer to return a demical instead of a symbolic expression for the number:"
      ],
      "metadata": {
        "id": "QDQEjBV2gOKz"
      }
    },
    {
      "cell_type": "code",
      "source": [
        "sympy.N(sympy.pi)"
      ],
      "metadata": {
        "colab": {
          "base_uri": "https://localhost:8080/",
          "height": 37
        },
        "id": "m8zecREvgNOc",
        "outputId": "76e88a45-d1d3-457f-9f79-00094423c0c8"
      },
      "execution_count": 21,
      "outputs": [
        {
          "output_type": "execute_result",
          "data": {
            "text/plain": [
              "3.14159265358979"
            ],
            "image/png": "[encoded data removed]",
            "text/latex": "$\\displaystyle 3.14159265358979$"
          },
          "metadata": {},
          "execution_count": 21
        }
      ]
    },
    {
      "cell_type": "code",
      "source": [
        "sympy.N(sympy.pi,50) # tell it you want 50 decimal places"
      ],
      "metadata": {
        "colab": {
          "base_uri": "https://localhost:8080/",
          "height": 37
        },
        "id": "ZVp3iAmEgTxu",
        "outputId": "a6bdc794-4cfd-4c82-d901-958cece1521e"
      },
      "execution_count": 22,
      "outputs": [
        {
          "output_type": "execute_result",
          "data": {
            "text/plain": [
              "3.1415926535897932384626433832795028841971693993751"
            ],
            "image/png": "[encoded data removed]",
            "text/latex": "$\\displaystyle 3.1415926535897932384626433832795028841971693993751$"
          },
          "metadata": {},
          "execution_count": 22
        }
      ]
    },
    {
      "cell_type": "code",
      "source": [
        "sympy.cos(1)"
      ],
      "metadata": {
        "colab": {
          "base_uri": "https://localhost:8080/",
          "height": 37
        },
        "id": "Z-oEFO1cgV3F",
        "outputId": "79fb4a44-9a05-4ee9-b8e3-f016ce6ed90e"
      },
      "execution_count": 23,
      "outputs": [
        {
          "output_type": "execute_result",
          "data": {
            "text/plain": [
              "cos(1)"
            ],
            "image/png": "[encoded data removed]",
            "text/latex": "$\\displaystyle \\cos{\\left(1 \\right)}$"
          },
          "metadata": {},
          "execution_count": 23
        }
      ]
    },
    {
      "cell_type": "code",
      "source": [
        "sympy.N(sympy.cos(1))"
      ],
      "metadata": {
        "colab": {
          "base_uri": "https://localhost:8080/",
          "height": 37
        },
        "id": "uAtHfBN-gXDV",
        "outputId": "2c626090-1efa-46d6-9a6c-ef5585281107"
      },
      "execution_count": 24,
      "outputs": [
        {
          "output_type": "execute_result",
          "data": {
            "text/plain": [
              "0.540302305868140"
            ],
            "image/png": "[encoded data removed]",
            "text/latex": "$\\displaystyle 0.54030230586814$"
          },
          "metadata": {},
          "execution_count": 24
        }
      ]
    },
    {
      "cell_type": "markdown",
      "source": [
        "In other situations, we have found a function that we want to be able to evaluate numerically"
      ],
      "metadata": {
        "id": "gFCr_eAjga-E"
      }
    },
    {
      "cell_type": "code",
      "source": [
        "exp"
      ],
      "metadata": {
        "colab": {
          "base_uri": "https://localhost:8080/",
          "height": 39
        },
        "id": "DllGl6dpgYbT",
        "outputId": "83ac2eec-e764-4cff-f74f-832f99b0be17"
      },
      "execution_count": 25,
      "outputs": [
        {
          "output_type": "execute_result",
          "data": {
            "text/plain": [
              "   2                \n",
              "5⋅x  + x⋅(x + 1) + 3"
            ],
            "image/png": "[encoded data removed]",
            "text/latex": "$\\displaystyle 5 x^{2} + x \\left(x + 1\\right) + 3$"
          },
          "metadata": {},
          "execution_count": 25
        }
      ]
    },
    {
      "cell_type": "markdown",
      "source": [
        "We can just substitute $x$ with a number (or another variable) if we like"
      ],
      "metadata": {
        "id": "Ok9Vd28sgewF"
      }
    },
    {
      "cell_type": "code",
      "source": [
        "exp.subs(x,10)"
      ],
      "metadata": {
        "colab": {
          "base_uri": "https://localhost:8080/",
          "height": 37
        },
        "id": "FoYQyFrEgdO_",
        "outputId": "83a6553a-74ca-4fe1-e3fe-1aa6ca65960f"
      },
      "execution_count": 26,
      "outputs": [
        {
          "output_type": "execute_result",
          "data": {
            "text/plain": [
              "613"
            ],
            "image/png": "[encoded data removed]",
            "text/latex": "$\\displaystyle 613$"
          },
          "metadata": {},
          "execution_count": 26
        }
      ]
    },
    {
      "cell_type": "markdown",
      "source": [
        "But we can also define an actual function we can use as normal with lambdify"
      ],
      "metadata": {
        "id": "8-IfgNTdgjvC"
      }
    },
    {
      "cell_type": "code",
      "source": [
        "exp_fnc=sympy.lambdify(x,exp)"
      ],
      "metadata": {
        "id": "6GMpboJigiC5"
      },
      "execution_count": 27,
      "outputs": []
    },
    {
      "cell_type": "code",
      "source": [
        "exp_fnc(10)"
      ],
      "metadata": {
        "colab": {
          "base_uri": "https://localhost:8080/",
          "height": 37
        },
        "id": "Q-KQ9eBcgmM8",
        "outputId": "74b33c7d-4d5d-4842-cbbc-5fad5fbb704e"
      },
      "execution_count": 28,
      "outputs": [
        {
          "output_type": "execute_result",
          "data": {
            "text/plain": [
              "613"
            ],
            "image/png": "[encoded data removed]",
            "text/latex": "$\\displaystyle 613$"
          },
          "metadata": {},
          "execution_count": 28
        }
      ]
    },
    {
      "cell_type": "code",
      "source": [
        "x_array=np.linspace(1,10,10)"
      ],
      "metadata": {
        "id": "NGKXDCtEgoFh"
      },
      "execution_count": 29,
      "outputs": []
    },
    {
      "cell_type": "code",
      "source": [
        "exp_fnc(x_array)"
      ],
      "metadata": {
        "colab": {
          "base_uri": "https://localhost:8080/"
        },
        "id": "ou_iPLz4gp3t",
        "outputId": "494c1cda-7d07-43bf-bd4f-f5179b87523b"
      },
      "execution_count": 30,
      "outputs": [
        {
          "output_type": "execute_result",
          "data": {
            "text/plain": [
              "array([ 10.,  29.,  60., 103., 158., 225., 304., 395., 498., 613.])"
            ]
          },
          "metadata": {},
          "execution_count": 30
        }
      ]
    },
    {
      "cell_type": "code",
      "source": [
        "exp3=sympy.sin(x**2)"
      ],
      "metadata": {
        "id": "wbnk0IJDgsy9"
      },
      "execution_count": 31,
      "outputs": []
    },
    {
      "cell_type": "code",
      "source": [
        "exp_fnc3=sympy.lambdify(x,exp3)"
      ],
      "metadata": {
        "id": "34OdCvSdgyhe"
      },
      "execution_count": 32,
      "outputs": []
    },
    {
      "cell_type": "code",
      "source": [
        "exp_fnc3(x_array)"
      ],
      "metadata": {
        "colab": {
          "base_uri": "https://localhost:8080/"
        },
        "id": "va4RckOng0VR",
        "outputId": "6fbbff44-8842-4d77-8e92-ee5ce7ff0620"
      },
      "execution_count": 33,
      "outputs": [
        {
          "output_type": "execute_result",
          "data": {
            "text/plain": [
              "array([ 0.84147098, -0.7568025 ,  0.41211849, -0.28790332, -0.13235175,\n",
              "       -0.99177885, -0.95375265,  0.92002604, -0.62988799, -0.50636564])"
            ]
          },
          "metadata": {},
          "execution_count": 33
        }
      ]
    },
    {
      "cell_type": "markdown",
      "source": [
        "## Solving Equations\n",
        "\n",
        "Not suprisingly, sympy is pretty good at solving equations"
      ],
      "metadata": {
        "id": "3QO1Wxg9g3Yf"
      }
    },
    {
      "cell_type": "code",
      "source": [
        "sympy.solve(x**2-1)"
      ],
      "metadata": {
        "colab": {
          "base_uri": "https://localhost:8080/",
          "height": 37
        },
        "id": "JzGAe6xQg2NC",
        "outputId": "c19eb73c-9fb3-4634-fe1f-a7ff93fa52b9"
      },
      "execution_count": 34,
      "outputs": [
        {
          "output_type": "execute_result",
          "data": {
            "text/plain": [
              "[-1, 1]"
            ],
            "image/png": "[encoded data removed]",
            "text/latex": "$\\displaystyle \\left[ -1, \\  1\\right]$"
          },
          "metadata": {},
          "execution_count": 34
        }
      ]
    },
    {
      "cell_type": "code",
      "source": [
        "sympy.solve(sympy.sin(x))"
      ],
      "metadata": {
        "colab": {
          "base_uri": "https://localhost:8080/",
          "height": 39
        },
        "id": "Cln_pQ84g-x3",
        "outputId": "6a196c79-bc61-4e72-d9c1-2053028a92d4"
      },
      "execution_count": 35,
      "outputs": [
        {
          "output_type": "execute_result",
          "data": {
            "text/plain": [
              "[0, π]"
            ],
            "image/png": "[encoded data removed]",
            "text/latex": "$\\displaystyle \\left[ 0, \\  \\pi\\right]$"
          },
          "metadata": {},
          "execution_count": 35
        }
      ]
    },
    {
      "cell_type": "code",
      "source": [
        "sympy.solve([x+y+1,x+2*y],[x,y])"
      ],
      "metadata": {
        "colab": {
          "base_uri": "https://localhost:8080/",
          "height": 39
        },
        "id": "pmbz6bGUhA2x",
        "outputId": "30a2aa2f-c304-41d5-e89e-6c34c89af0b9"
      },
      "execution_count": 36,
      "outputs": [
        {
          "output_type": "execute_result",
          "data": {
            "text/plain": [
              "{x: -2, y: 1}"
            ],
            "image/png": "[encoded data removed]",
            "text/latex": "$\\displaystyle \\left\\{ x : -2, \\  y : 1\\right\\}$"
          },
          "metadata": {},
          "execution_count": 36
        }
      ]
    },
    {
      "cell_type": "markdown",
      "source": [
        "## Calculus\n",
        "\n",
        "Calculus is one of the symbolic tools that tends to be very powerful and reliable. In some cases it would be enormously difficult to do it yourself yet the computer seems to find a nice answer quickly.\n"
      ],
      "metadata": {
        "id": "UuxTw535hE5o"
      }
    },
    {
      "cell_type": "markdown",
      "source": [
        "#### Derivatives"
      ],
      "metadata": {
        "id": "MVLELCa6hJ9C"
      }
    },
    {
      "cell_type": "code",
      "source": [
        "exp4=sympy.sin(x*sympy.cos(x**2 +x+2))\n",
        "exp4"
      ],
      "metadata": {
        "colab": {
          "base_uri": "https://localhost:8080/",
          "height": 39
        },
        "id": "_5Bmvj4-hDTA",
        "outputId": "9e622bf7-1d56-40db-e79c-267650b7afaa"
      },
      "execution_count": 37,
      "outputs": [
        {
          "output_type": "execute_result",
          "data": {
            "text/plain": [
              "   ⎛     ⎛ 2        ⎞⎞\n",
              "sin⎝x⋅cos⎝x  + x + 2⎠⎠"
            ],
            "image/png": "[encoded data removed]",
            "text/latex": "$\\displaystyle \\sin{\\left(x \\cos{\\left(x^{2} + x + 2 \\right)} \\right)}$"
          },
          "metadata": {},
          "execution_count": 37
        }
      ]
    },
    {
      "cell_type": "code",
      "source": [
        "sympy.diff(exp4)"
      ],
      "metadata": {
        "colab": {
          "base_uri": "https://localhost:8080/",
          "height": 39
        },
        "id": "ikKdNSGphNAN",
        "outputId": "5b3d92ef-9d78-4df5-b0b3-b93e3f558ecb"
      },
      "execution_count": 38,
      "outputs": [
        {
          "output_type": "execute_result",
          "data": {
            "text/plain": [
              "⎛                 ⎛ 2        ⎞      ⎛ 2        ⎞⎞    ⎛     ⎛ 2        ⎞⎞\n",
              "⎝- x⋅(2⋅x + 1)⋅sin⎝x  + x + 2⎠ + cos⎝x  + x + 2⎠⎠⋅cos⎝x⋅cos⎝x  + x + 2⎠⎠"
            ],
            "image/png": "[encoded data removed]",
            "text/latex": "$\\displaystyle \\left(- x \\left(2 x + 1\\right) \\sin{\\left(x^{2} + x + 2 \\right)} + \\cos{\\left(x^{2} + x + 2 \\right)}\\right) \\cos{\\left(x \\cos{\\left(x^{2} + x + 2 \\right)} \\right)}$"
          },
          "metadata": {},
          "execution_count": 38
        }
      ]
    },
    {
      "cell_type": "code",
      "source": [
        "exp4.diff(x)"
      ],
      "metadata": {
        "colab": {
          "base_uri": "https://localhost:8080/",
          "height": 39
        },
        "id": "H_N39EmlhPNh",
        "outputId": "6f9a3d0d-6fcb-4d7b-e84c-ce846b827172"
      },
      "execution_count": 39,
      "outputs": [
        {
          "output_type": "execute_result",
          "data": {
            "text/plain": [
              "⎛                 ⎛ 2        ⎞      ⎛ 2        ⎞⎞    ⎛     ⎛ 2        ⎞⎞\n",
              "⎝- x⋅(2⋅x + 1)⋅sin⎝x  + x + 2⎠ + cos⎝x  + x + 2⎠⎠⋅cos⎝x⋅cos⎝x  + x + 2⎠⎠"
            ],
            "image/png": "[encoded data removed]",
            "text/latex": "$\\displaystyle \\left(- x \\left(2 x + 1\\right) \\sin{\\left(x^{2} + x + 2 \\right)} + \\cos{\\left(x^{2} + x + 2 \\right)}\\right) \\cos{\\left(x \\cos{\\left(x^{2} + x + 2 \\right)} \\right)}$"
          },
          "metadata": {},
          "execution_count": 39
        }
      ]
    },
    {
      "cell_type": "code",
      "source": [
        "exp4.diff(x,x).simplify()"
      ],
      "metadata": {
        "colab": {
          "base_uri": "https://localhost:8080/",
          "height": 92
        },
        "id": "7EOJPQzMhQ6m",
        "outputId": "da823000-67b4-44c8-ca4e-6841ebac2a23"
      },
      "execution_count": 40,
      "outputs": [
        {
          "output_type": "execute_result",
          "data": {
            "text/plain": [
              "                                                 2                            \n",
              "  ⎛               ⎛ 2        ⎞      ⎛ 2        ⎞⎞     ⎛     ⎛ 2        ⎞⎞   ⎛ \n",
              "- ⎝x⋅(2⋅x + 1)⋅sin⎝x  + x + 2⎠ - cos⎝x  + x + 2⎠⎠ ⋅sin⎝x⋅cos⎝x  + x + 2⎠⎠ - ⎝x\n",
              "\n",
              "                                                                              \n",
              "          2    ⎛ 2        ⎞          ⎛ 2        ⎞                ⎛ 2        ⎞⎞\n",
              "⋅(2⋅x + 1) ⋅cos⎝x  + x + 2⎠ + 2⋅x⋅sin⎝x  + x + 2⎠ + (4⋅x + 2)⋅sin⎝x  + x + 2⎠⎠\n",
              "\n",
              "                       \n",
              "    ⎛     ⎛ 2        ⎞⎞\n",
              "⋅cos⎝x⋅cos⎝x  + x + 2⎠⎠"
            ],
            "image/png": "[encoded data removed]",
            "text/latex": "$\\displaystyle - \\left(x \\left(2 x + 1\\right) \\sin{\\left(x^{2} + x + 2 \\right)} - \\cos{\\left(x^{2} + x + 2 \\right)}\\right)^{2} \\sin{\\left(x \\cos{\\left(x^{2} + x + 2 \\right)} \\right)} - \\left(x \\left(2 x + 1\\right)^{2} \\cos{\\left(x^{2} + x + 2 \\right)} + 2 x \\sin{\\left(x^{2} + x + 2 \\right)} + \\left(4 x + 2\\right) \\sin{\\left(x^{2} + x + 2 \\right)}\\right) \\cos{\\left(x \\cos{\\left(x^{2} + x + 2 \\right)} \\right)}$"
          },
          "metadata": {},
          "execution_count": 40
        }
      ]
    },
    {
      "cell_type": "code",
      "source": [
        "exp5=x**2*y+y**3*x+x+3*y"
      ],
      "metadata": {
        "id": "6tYSlPZHhSq8"
      },
      "execution_count": 41,
      "outputs": []
    },
    {
      "cell_type": "code",
      "source": [
        "exp5.diff(y)"
      ],
      "metadata": {
        "colab": {
          "base_uri": "https://localhost:8080/",
          "height": 39
        },
        "id": "bg-DVVmMhVab",
        "outputId": "d85e9e36-2474-4223-9b88-8295b790c7ad"
      },
      "execution_count": 42,
      "outputs": [
        {
          "output_type": "execute_result",
          "data": {
            "text/plain": [
              " 2        2    \n",
              "x  + 3⋅x⋅y  + 3"
            ],
            "image/png": "[encoded data removed]",
            "text/latex": "$\\displaystyle x^{2} + 3 x y^{2} + 3$"
          },
          "metadata": {},
          "execution_count": 42
        }
      ]
    },
    {
      "cell_type": "code",
      "source": [
        "exp5.diff(x)"
      ],
      "metadata": {
        "colab": {
          "base_uri": "https://localhost:8080/",
          "height": 39
        },
        "id": "y3j3eLlhhX29",
        "outputId": "65af8efc-1935-4b02-bf24-f032b968c4b4"
      },
      "execution_count": 43,
      "outputs": [
        {
          "output_type": "execute_result",
          "data": {
            "text/plain": [
              "         3    \n",
              "2⋅x⋅y + y  + 1"
            ],
            "image/png": "[encoded data removed]",
            "text/latex": "$\\displaystyle 2 x y + y^{3} + 1$"
          },
          "metadata": {},
          "execution_count": 43
        }
      ]
    },
    {
      "cell_type": "code",
      "source": [
        "exp5.diff(x,y)"
      ],
      "metadata": {
        "colab": {
          "base_uri": "https://localhost:8080/",
          "height": 39
        },
        "id": "0SsPdzzphZcf",
        "outputId": "e09da511-6296-42e1-f366-e1740fb8e09d"
      },
      "execution_count": 44,
      "outputs": [
        {
          "output_type": "execute_result",
          "data": {
            "text/plain": [
              "         2\n",
              "2⋅x + 3⋅y "
            ],
            "image/png": "[encoded data removed]",
            "text/latex": "$\\displaystyle 2 x + 3 y^{2}$"
          },
          "metadata": {},
          "execution_count": 44
        }
      ]
    },
    {
      "cell_type": "markdown",
      "source": [
        "## Series\n",
        "\n",
        "An extremely useful tool when trying to understand functions is the Taylor series around a given point"
      ],
      "metadata": {
        "id": "Hfh53xalhcOg"
      }
    },
    {
      "cell_type": "code",
      "source": [
        "exp4.series(x,0,3) # this means: series wrt x, at x=0 to order x^3."
      ],
      "metadata": {
        "colab": {
          "base_uri": "https://localhost:8080/",
          "height": 39
        },
        "id": "DuprpG66hbMT",
        "outputId": "29da4c81-fad3-47cb-8310-f3e27e573578"
      },
      "execution_count": 45,
      "outputs": [
        {
          "output_type": "execute_result",
          "data": {
            "text/plain": [
              "            2           ⎛ 3⎞\n",
              "x⋅cos(2) - x ⋅sin(2) + O⎝x ⎠"
            ],
            "image/png": "[encoded data removed]",
            "text/latex": "$\\displaystyle x \\cos{\\left(2 \\right)} - x^{2} \\sin{\\left(2 \\right)} + O\\left(x^{3}\\right)$"
          },
          "metadata": {},
          "execution_count": 45
        }
      ]
    },
    {
      "cell_type": "markdown",
      "source": [
        "This becomes much more useful when you start dealing with functions you don't konw a lot about"
      ],
      "metadata": {
        "id": "eSqiWyZchiBN"
      }
    },
    {
      "cell_type": "code",
      "source": [
        "sympy.besselj(2,x).series(x,0,3)"
      ],
      "metadata": {
        "colab": {
          "base_uri": "https://localhost:8080/",
          "height": 54
        },
        "id": "XANEmFJShgb-",
        "outputId": "108a49d0-fba4-42fa-b8c9-92acf1407149"
      },
      "execution_count": 46,
      "outputs": [
        {
          "output_type": "execute_result",
          "data": {
            "text/plain": [
              " 2        \n",
              "x     ⎛ 3⎞\n",
              "── + O⎝x ⎠\n",
              "8         "
            ],
            "image/png": "[encoded data removed]",
            "text/latex": "$\\displaystyle \\frac{x^{2}}{8} + O\\left(x^{3}\\right)$"
          },
          "metadata": {},
          "execution_count": 46
        }
      ]
    },
    {
      "cell_type": "markdown",
      "source": [
        "Importantly, series is not really a Taylor series. In includes inverse powers as well:"
      ],
      "metadata": {
        "id": "vhqA-iVNhmOC"
      }
    },
    {
      "cell_type": "code",
      "source": [
        "sympy.gamma(x).series(x,0,3)"
      ],
      "metadata": {
        "colab": {
          "base_uri": "https://localhost:8080/",
          "height": 58
        },
        "id": "DnpCZ1Q0hkhl",
        "outputId": "339264dc-63ac-48c2-8d73-fb64907559b7"
      },
      "execution_count": 47,
      "outputs": [
        {
          "output_type": "execute_result",
          "data": {
            "text/plain": [
              "          ⎛ 2    2⎞      ⎛     2                      3⎞        \n",
              "1         ⎜γ    π ⎟    2 ⎜  γ⋅π    polygamma(2, 1)   γ ⎟    ⎛ 3⎞\n",
              "─ - γ + x⋅⎜── + ──⎟ + x ⋅⎜- ──── + ─────────────── - ──⎟ + O⎝x ⎠\n",
              "x         ⎝2    12⎠      ⎝   12           6          6 ⎠        "
            ],
            "image/png": "[encoded data removed]",
            "text/latex": "$\\displaystyle \\frac{1}{x} - \\gamma + x \\left(\\frac{\\gamma^{2}}{2} + \\frac{\\pi^{2}}{12}\\right) + x^{2} \\left(- \\frac{\\gamma \\pi^{2}}{12} + \\frac{\\operatorname{polygamma}{\\left(2,1 \\right)}}{6} - \\frac{\\gamma^{3}}{6}\\right) + O\\left(x^{3}\\right)$"
          },
          "metadata": {},
          "execution_count": 47
        }
      ]
    },
    {
      "cell_type": "markdown",
      "source": [
        "To see why this is useful consider"
      ],
      "metadata": {
        "id": "cgudr_6uhq27"
      }
    },
    {
      "cell_type": "code",
      "source": [
        "(sympy.gamma(x)*sympy.sin(x)).subs(x,0)"
      ],
      "metadata": {
        "colab": {
          "base_uri": "https://localhost:8080/",
          "height": 37
        },
        "id": "uc-98lcjhpKN",
        "outputId": "3cbb09b7-19ff-4974-b478-2b5ae5ed570b"
      },
      "execution_count": 48,
      "outputs": [
        {
          "output_type": "execute_result",
          "data": {
            "text/plain": [
              "nan"
            ],
            "text/latex": "$\\displaystyle \\text{NaN}$"
          },
          "metadata": {},
          "execution_count": 48
        }
      ]
    },
    {
      "cell_type": "code",
      "source": [
        "(sympy.gamma(x)*sympy.sin(x)).series(x,0,2)"
      ],
      "metadata": {
        "colab": {
          "base_uri": "https://localhost:8080/",
          "height": 39
        },
        "id": "WvSz8uEEhtmY",
        "outputId": "36419336-7519-4f74-d9a4-7d7b5e5fd680"
      },
      "execution_count": 49,
      "outputs": [
        {
          "output_type": "execute_result",
          "data": {
            "text/plain": [
              "           ⎛ 2⎞\n",
              "1 - γ⋅x + O⎝x ⎠"
            ],
            "image/png": "[encoded data removed]",
            "text/latex": "$\\displaystyle 1 - \\gamma x + O\\left(x^{2}\\right)$"
          },
          "metadata": {},
          "execution_count": 49
        }
      ]
    },
    {
      "cell_type": "markdown",
      "source": [
        "The function $\\Gamma[x]\\sin(x)$ is perfectly well behaved at $x=0$  but you need to look at the series as $x\\to 0$  to see that. There is also a limit option but in my experience series is always better than limit."
      ],
      "metadata": {
        "id": "DfIpr56WhxzB"
      }
    },
    {
      "cell_type": "markdown",
      "source": [
        "### Integration\n",
        "\n",
        "Integration is where it is really obvious how much better a computer is than a person. Even just a minor change to an integral can make it faily challenging"
      ],
      "metadata": {
        "id": "6zXOwUGxh697"
      }
    },
    {
      "cell_type": "code",
      "source": [
        "sympy.integrate(sympy.sin(x),x)"
      ],
      "metadata": {
        "colab": {
          "base_uri": "https://localhost:8080/",
          "height": 39
        },
        "id": "jc0RhVgDhvZN",
        "outputId": "d7baaf9f-4180-4417-ac3d-fbf43f1e4c87"
      },
      "execution_count": 50,
      "outputs": [
        {
          "output_type": "execute_result",
          "data": {
            "text/plain": [
              "-cos(x)"
            ],
            "image/png": "[encoded data removed]",
            "text/latex": "$\\displaystyle - \\cos{\\left(x \\right)}$"
          },
          "metadata": {},
          "execution_count": 50
        }
      ]
    },
    {
      "cell_type": "code",
      "source": [
        "sympy.integrate(sympy.sin(x**2),x)"
      ],
      "metadata": {
        "colab": {
          "base_uri": "https://localhost:8080/",
          "height": 73
        },
        "id": "QF7Zq6LEiBF_",
        "outputId": "28afab88-bc0e-4602-dcc5-5cccca69a0c2"
      },
      "execution_count": 51,
      "outputs": [
        {
          "output_type": "execute_result",
          "data": {
            "text/plain": [
              "         ⎛√2⋅x⎞       \n",
              "3⋅√2⋅√π⋅S⎜────⎟⋅Γ(3/4)\n",
              "         ⎝ √π ⎠       \n",
              "──────────────────────\n",
              "       8⋅Γ(7/4)       "
            ],
            "image/png": "[encoded data removed]",
            "text/latex": "$\\displaystyle \\frac{3 \\sqrt{2} \\sqrt{\\pi} S\\left(\\frac{\\sqrt{2} x}{\\sqrt{\\pi}}\\right) \\Gamma\\left(\\frac{3}{4}\\right)}{8 \\Gamma\\left(\\frac{7}{4}\\right)}$"
          },
          "metadata": {},
          "execution_count": 51
        }
      ]
    },
    {
      "cell_type": "code",
      "source": [
        "sympy.integrate(x**2*sympy.exp(-x),(x,0,1))\n"
      ],
      "metadata": {
        "colab": {
          "base_uri": "https://localhost:8080/",
          "height": 51
        },
        "id": "yPyq_KipiC4g",
        "outputId": "6af9f1ab-c5ce-4297-82fe-5601b2a4ffe3"
      },
      "execution_count": 52,
      "outputs": [
        {
          "output_type": "execute_result",
          "data": {
            "text/plain": [
              "       -1\n",
              "2 - 5⋅ℯ  "
            ],
            "image/png": "[encoded data removed]",
            "text/latex": "$\\displaystyle 2 - \\frac{5}{e}$"
          },
          "metadata": {},
          "execution_count": 52
        }
      ]
    },
    {
      "cell_type": "markdown",
      "source": [
        "The notation for $\\infty$ is a bit unusual"
      ],
      "metadata": {
        "id": "7yxHPxSxiHBa"
      }
    },
    {
      "cell_type": "code",
      "source": [
        "sympy.integrate(sympy.exp(-x**2),(x,0,sympy.oo))"
      ],
      "metadata": {
        "colab": {
          "base_uri": "https://localhost:8080/",
          "height": 54
        },
        "id": "Ue71rzGdiFRA",
        "outputId": "b1fc5d96-7755-4eb5-e9b7-62cb70d3c48c"
      },
      "execution_count": 53,
      "outputs": [
        {
          "output_type": "execute_result",
          "data": {
            "text/plain": [
              "√π\n",
              "──\n",
              "2 "
            ],
            "image/png": "[encoded data removed]",
            "text/latex": "$\\displaystyle \\frac{\\sqrt{\\pi}}{2}$"
          },
          "metadata": {},
          "execution_count": 53
        }
      ]
    },
    {
      "cell_type": "markdown",
      "source": [
        "We can also perform a integration that produces a function of some other variable:"
      ],
      "metadata": {
        "id": "bFSWoAwyiPn7"
      }
    },
    {
      "cell_type": "code",
      "source": [
        "a=sympy.Symbol('a')"
      ],
      "metadata": {
        "id": "P7_vqcPMiN9Y"
      },
      "execution_count": 54,
      "outputs": []
    },
    {
      "cell_type": "code",
      "source": [
        "sympy.integrate(sympy.exp(-a*x**2),(x,0,sympy.oo))"
      ],
      "metadata": {
        "colab": {
          "base_uri": "https://localhost:8080/",
          "height": 88
        },
        "id": "Sn0zs9GIiSJF",
        "outputId": "9771ff15-8f58-4eef-a6dd-ed0e374617fa"
      },
      "execution_count": 55,
      "outputs": [
        {
          "output_type": "execute_result",
          "data": {
            "text/plain": [
              "⎧    √π                      π\n",
              "⎪   ────      for │arg(a)│ ≤ ─\n",
              "⎪   2⋅√a                     2\n",
              "⎪                             \n",
              "⎪∞                            \n",
              "⎨⌠                            \n",
              "⎪⎮      2                     \n",
              "⎪⎮  -a⋅x                      \n",
              "⎪⎮ ℯ      dx     otherwise    \n",
              "⎪⌡                            \n",
              "⎩0                            "
            ],
            "text/latex": "$\\displaystyle \\begin{cases} \\frac{\\sqrt{\\pi}}{2 \\sqrt{a}} & \\text{for}\\: \\left|{\\arg{\\left(a \\right)}}\\right| \\leq \\frac{\\pi}{2} \\\\\\int\\limits_{0}^{\\infty} e^{- a x^{2}}\\, dx & \\text{otherwise} \\end{cases}$"
          },
          "metadata": {},
          "execution_count": 55
        }
      ]
    },
    {
      "cell_type": "markdown",
      "source": [
        "Notice again that it didn't know what to do with our variable  (it could be real, imaginary, complex, negative, postive. Fortunately, we can tell it what to assume to avoid this problem (sometimes it can't figure it out on its own):"
      ],
      "metadata": {
        "id": "DL-NgZYaiWT3"
      }
    },
    {
      "cell_type": "code",
      "source": [
        "c=sympy.Symbol('c',positive=True)"
      ],
      "metadata": {
        "id": "i4e7acPsiTre"
      },
      "execution_count": 56,
      "outputs": []
    },
    {
      "cell_type": "code",
      "source": [
        "sympy.integrate(sympy.exp(-c*x**2),(x,0,sympy.oo))"
      ],
      "metadata": {
        "colab": {
          "base_uri": "https://localhost:8080/",
          "height": 58
        },
        "id": "RAkk4Y4RiYzK",
        "outputId": "24f65844-6fca-409d-9679-64fe2fd2f7da"
      },
      "execution_count": 57,
      "outputs": [
        {
          "output_type": "execute_result",
          "data": {
            "text/plain": [
              " √π \n",
              "────\n",
              "2⋅√c"
            ],
            "image/png": "[encoded data removed]",
            "text/latex": "$\\displaystyle \\frac{\\sqrt{\\pi}}{2 \\sqrt{c}}$"
          },
          "metadata": {},
          "execution_count": 57
        }
      ]
    },
    {
      "cell_type": "markdown",
      "source": [
        "## Sumamry\n",
        "\n",
        "Symbolic computation is extremely powerful and useful. The functionality is really quite endless. However, one often does not appreciate all that it can do until you really need it. At the very least, it will keep you from making stupid mistakes on your homework.\n"
      ],
      "metadata": {
        "id": "ko28tcReicyE"
      }
    }
  ]
}