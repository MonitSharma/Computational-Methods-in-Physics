{
  "nbformat": 4,
  "nbformat_minor": 0,
  "metadata": {
    "colab": {
      "provenance": [],
      "authorship_tag": "ABX9TyPQ1zti6eZGmIS9Sm07eul7",
      "include_colab_link": true
    },
    "kernelspec": {
      "name": "python3",
      "display_name": "Python 3"
    },
    "language_info": {
      "name": "python"
    }
  },
  "cells": [
    {
      "cell_type": "markdown",
      "metadata": {
        "id": "view-in-github",
        "colab_type": "text"
      },
      "source": [
        "<a href=\"https://colab.research.google.com/github/MonitSharma/Computational-Methods-in-Physics/blob/main/Lecture04_Getting_Started_with_Numpy.ipynb\" target=\"_parent\"><img src=\"https://colab.research.google.com/assets/colab-badge.svg\" alt=\"Open In Colab\"/></a>"
      ]
    },
    {
      "cell_type": "markdown",
      "source": [
        "## Numpy\n",
        "\n",
        "We are now moving on the useful libraries for scientific computing. The first one of interest is `numpy`. We load it like this:"
      ],
      "metadata": {
        "id": "ziLlIzVnipSg"
      }
    },
    {
      "cell_type": "code",
      "execution_count": 1,
      "metadata": {
        "id": "tt1NeusWihMI"
      },
      "outputs": [],
      "source": [
        "import numpy as np"
      ]
    },
    {
      "cell_type": "markdown",
      "source": [
        "`numpy` is filled with basic math functions that you will use all the time."
      ],
      "metadata": {
        "id": "dNMVsw04i6Ii"
      }
    },
    {
      "cell_type": "code",
      "source": [
        "print(np.sin(2), np.cos(np.pi))"
      ],
      "metadata": {
        "colab": {
          "base_uri": "https://localhost:8080/"
        },
        "id": "iuK8GmQOi5I6",
        "outputId": "d57e4977-14bd-4401-89e6-e994f21df272"
      },
      "execution_count": 2,
      "outputs": [
        {
          "output_type": "stream",
          "name": "stdout",
          "text": [
            "0.9092974268256817 -1.0\n"
          ]
        }
      ]
    },
    {
      "cell_type": "markdown",
      "source": [
        "Let's make our life easier and define"
      ],
      "metadata": {
        "id": "-WoKgXrojFJP"
      }
    },
    {
      "cell_type": "code",
      "source": [
        "pi = np.pi"
      ],
      "metadata": {
        "id": "k5baECaFjD2N"
      },
      "execution_count": 3,
      "outputs": []
    },
    {
      "cell_type": "markdown",
      "source": [
        "The most basic object is `numpy` is the `numpy` array. In some ways, this is just like a list, but it is designed so you can do lots of math operations quickly:"
      ],
      "metadata": {
        "id": "_uF6dmNJjJso"
      }
    },
    {
      "cell_type": "code",
      "source": [
        "a = np.array([1,2,1,5,15,20,22,1,45,3])\n",
        "print(a[0],a[-1], a[3])"
      ],
      "metadata": {
        "colab": {
          "base_uri": "https://localhost:8080/"
        },
        "id": "1TmRkvgWjInx",
        "outputId": "b11ac948-ad42-4d85-9532-ca16d6828220"
      },
      "execution_count": 4,
      "outputs": [
        {
          "output_type": "stream",
          "name": "stdout",
          "text": [
            "1 3 5\n"
          ]
        }
      ]
    },
    {
      "cell_type": "code",
      "source": [
        "b = np.ones(len(a))*35.1\n",
        "print(b)"
      ],
      "metadata": {
        "colab": {
          "base_uri": "https://localhost:8080/"
        },
        "id": "-hh2cYT4jd17",
        "outputId": "e4f90091-e0c3-4a5a-891b-53b561922b19"
      },
      "execution_count": 5,
      "outputs": [
        {
          "output_type": "stream",
          "name": "stdout",
          "text": [
            "[35.1 35.1 35.1 35.1 35.1 35.1 35.1 35.1 35.1 35.1]\n"
          ]
        }
      ]
    },
    {
      "cell_type": "code",
      "source": [
        "print(a+b)\n",
        "print(a*b)\n",
        "print(a**3)\n",
        "print(b**3)"
      ],
      "metadata": {
        "colab": {
          "base_uri": "https://localhost:8080/"
        },
        "id": "YJ6UEEJUjjOx",
        "outputId": "2cf6e7c5-46be-425f-9d62-7c63e68d9b9a"
      },
      "execution_count": 6,
      "outputs": [
        {
          "output_type": "stream",
          "name": "stdout",
          "text": [
            "[36.1 37.1 36.1 40.1 50.1 55.1 57.1 36.1 80.1 38.1]\n",
            "[  35.1   70.2   35.1  175.5  526.5  702.   772.2   35.1 1579.5  105.3]\n",
            "[    1     8     1   125  3375  8000 10648     1 91125    27]\n",
            "[43243.551 43243.551 43243.551 43243.551 43243.551 43243.551 43243.551\n",
            " 43243.551 43243.551 43243.551]\n"
          ]
        }
      ]
    },
    {
      "cell_type": "markdown",
      "source": [
        "Notice that this is **not** doing matrix or vector multiplication or addition. It is performing the operation on each element of the list. For this to work, it is essentiall that `a` and `b` are the same length. But it does understand what you mean if you act with number:"
      ],
      "metadata": {
        "id": "Riyvvb8njstS"
      }
    },
    {
      "cell_type": "code",
      "source": [
        "print(a*4)\n",
        "print(a+4)"
      ],
      "metadata": {
        "colab": {
          "base_uri": "https://localhost:8080/"
        },
        "id": "SGL9d_Efjppx",
        "outputId": "de8ba202-8187-43e4-8c1a-7f7e4d43bb51"
      },
      "execution_count": 7,
      "outputs": [
        {
          "output_type": "stream",
          "name": "stdout",
          "text": [
            "[  4   8   4  20  60  80  88   4 180  12]\n",
            "[ 5  6  5  9 19 24 26  5 49  7]\n"
          ]
        }
      ]
    },
    {
      "cell_type": "markdown",
      "source": [
        "But if you have two different sized arrays is doesn't know what to do"
      ],
      "metadata": {
        "id": "yNKYsDMekFTA"
      }
    },
    {
      "cell_type": "code",
      "source": [
        "c = np.array([2,4,2])\n",
        "a+c"
      ],
      "metadata": {
        "colab": {
          "base_uri": "https://localhost:8080/",
          "height": 182
        },
        "id": "2QWNGmRGkDdB",
        "outputId": "80387970-330d-4b43-ec30-3f26a873cab1"
      },
      "execution_count": 8,
      "outputs": [
        {
          "output_type": "error",
          "ename": "ValueError",
          "evalue": "ignored",
          "traceback": [
            "\u001b[0;31m---------------------------------------------------------------------------\u001b[0m",
            "\u001b[0;31mValueError\u001b[0m                                Traceback (most recent call last)",
            "\u001b[0;32m<ipython-input-8-29ae18af1fa2>\u001b[0m in \u001b[0;36m<module>\u001b[0;34m\u001b[0m\n\u001b[1;32m      1\u001b[0m \u001b[0mc\u001b[0m \u001b[0;34m=\u001b[0m \u001b[0mnp\u001b[0m\u001b[0;34m.\u001b[0m\u001b[0marray\u001b[0m\u001b[0;34m(\u001b[0m\u001b[0;34m[\u001b[0m\u001b[0;36m2\u001b[0m\u001b[0;34m,\u001b[0m\u001b[0;36m4\u001b[0m\u001b[0;34m,\u001b[0m\u001b[0;36m2\u001b[0m\u001b[0;34m]\u001b[0m\u001b[0;34m)\u001b[0m\u001b[0;34m\u001b[0m\u001b[0;34m\u001b[0m\u001b[0m\n\u001b[0;32m----> 2\u001b[0;31m \u001b[0ma\u001b[0m\u001b[0;34m+\u001b[0m\u001b[0mc\u001b[0m\u001b[0;34m\u001b[0m\u001b[0;34m\u001b[0m\u001b[0m\n\u001b[0m",
            "\u001b[0;31mValueError\u001b[0m: operands could not be broadcast together with shapes (10,) (3,) "
          ]
        }
      ]
    },
    {
      "cell_type": "markdown",
      "source": [
        "Numpy arrays actually have shapes so that they are more like matrices, tensors, etc"
      ],
      "metadata": {
        "id": "HEASEVM2kR4X"
      }
    },
    {
      "cell_type": "code",
      "source": [
        "d = np.array([[1,2],[1,2]])\n",
        "e = np.ones((3,3,3))\n",
        "d.shape"
      ],
      "metadata": {
        "colab": {
          "base_uri": "https://localhost:8080/"
        },
        "id": "z-Rh6Uo7kPHQ",
        "outputId": "c4de2e20-9b7e-4924-fc7b-ca2c4827b90d"
      },
      "execution_count": 9,
      "outputs": [
        {
          "output_type": "execute_result",
          "data": {
            "text/plain": [
              "(2, 2)"
            ]
          },
          "metadata": {},
          "execution_count": 9
        }
      ]
    },
    {
      "cell_type": "code",
      "source": [
        "e = np.arange(9)"
      ],
      "metadata": {
        "id": "K_ErU-YmkhD0"
      },
      "execution_count": 10,
      "outputs": []
    },
    {
      "cell_type": "code",
      "source": [
        "e.reshape((3,3))"
      ],
      "metadata": {
        "colab": {
          "base_uri": "https://localhost:8080/"
        },
        "id": "PMfLYSwdku4e",
        "outputId": "5faa9fe1-055b-4926-bcfb-47337848b2ff"
      },
      "execution_count": 11,
      "outputs": [
        {
          "output_type": "execute_result",
          "data": {
            "text/plain": [
              "array([[0, 1, 2],\n",
              "       [3, 4, 5],\n",
              "       [6, 7, 8]])"
            ]
          },
          "metadata": {},
          "execution_count": 11
        }
      ]
    },
    {
      "cell_type": "code",
      "source": [
        "e=np.arange(27)\n",
        "f = e.reshape((3,3,3))\n",
        "print(f)"
      ],
      "metadata": {
        "colab": {
          "base_uri": "https://localhost:8080/"
        },
        "id": "_JDof3IrkyOf",
        "outputId": "c13679f8-d4be-4ba8-b4da-09846d7068e5"
      },
      "execution_count": 12,
      "outputs": [
        {
          "output_type": "stream",
          "name": "stdout",
          "text": [
            "[[[ 0  1  2]\n",
            "  [ 3  4  5]\n",
            "  [ 6  7  8]]\n",
            "\n",
            " [[ 9 10 11]\n",
            "  [12 13 14]\n",
            "  [15 16 17]]\n",
            "\n",
            " [[18 19 20]\n",
            "  [21 22 23]\n",
            "  [24 25 26]]]\n"
          ]
        }
      ]
    },
    {
      "cell_type": "code",
      "source": [
        "f[0,2]"
      ],
      "metadata": {
        "colab": {
          "base_uri": "https://localhost:8080/"
        },
        "id": "_FMApWYRk42V",
        "outputId": "0083670e-af68-48df-bd9d-293fc7ce2c79"
      },
      "execution_count": 13,
      "outputs": [
        {
          "output_type": "execute_result",
          "data": {
            "text/plain": [
              "array([6, 7, 8])"
            ]
          },
          "metadata": {},
          "execution_count": 13
        }
      ]
    },
    {
      "cell_type": "code",
      "source": [
        "f**2"
      ],
      "metadata": {
        "colab": {
          "base_uri": "https://localhost:8080/"
        },
        "id": "dlz4mVZglAQJ",
        "outputId": "10f14620-bc7f-458d-c71d-2f387a3a9aff"
      },
      "execution_count": 14,
      "outputs": [
        {
          "output_type": "execute_result",
          "data": {
            "text/plain": [
              "array([[[  0,   1,   4],\n",
              "        [  9,  16,  25],\n",
              "        [ 36,  49,  64]],\n",
              "\n",
              "       [[ 81, 100, 121],\n",
              "        [144, 169, 196],\n",
              "        [225, 256, 289]],\n",
              "\n",
              "       [[324, 361, 400],\n",
              "        [441, 484, 529],\n",
              "        [576, 625, 676]]])"
            ]
          },
          "metadata": {},
          "execution_count": 14
        }
      ]
    },
    {
      "cell_type": "markdown",
      "source": [
        "These definitions are really useful because you can write a function like it acts on a single number, but if you're careful, it can act on the full array:"
      ],
      "metadata": {
        "id": "mSlE9eVXlGBL"
      }
    },
    {
      "cell_type": "code",
      "source": [
        "def position(t,x0,v,a):\n",
        "  position=x0+v*t+a*t**2/2\n",
        "  return position"
      ],
      "metadata": {
        "id": "BOCdDErtlDuE"
      },
      "execution_count": 15,
      "outputs": []
    },
    {
      "cell_type": "code",
      "source": [
        "t = np.linspace(0,100,1000)"
      ],
      "metadata": {
        "id": "FldKKLH-lcTy"
      },
      "execution_count": 16,
      "outputs": []
    },
    {
      "cell_type": "code",
      "source": [
        "d = position(t,50,-100.,3.)"
      ],
      "metadata": {
        "id": "0M1OonNCl0Jz"
      },
      "execution_count": 17,
      "outputs": []
    },
    {
      "cell_type": "code",
      "source": [
        "import matplotlib.pyplot as plt"
      ],
      "metadata": {
        "id": "reKIrr2Vl4oc"
      },
      "execution_count": 18,
      "outputs": []
    },
    {
      "cell_type": "code",
      "source": [
        "plt.plot(t,d)\n",
        "plt.show()"
      ],
      "metadata": {
        "colab": {
          "base_uri": "https://localhost:8080/",
          "height": 265
        },
        "id": "LT2QeCERl8C-",
        "outputId": "d29a6982-4662-4df6-a0d3-b8e210df841c"
      },
      "execution_count": 19,
      "outputs": [
        {
          "output_type": "display_data",
          "data": {
            "text/plain": [
              "<Figure size 432x288 with 1 Axes>"
            ],
            "image/png": "[encoded data removed]"
          },
          "metadata": {
            "needs_background": "light"
          }
        }
      ]
    },
    {
      "cell_type": "markdown",
      "source": [
        "We can also try something more complicated where we solve more than one problem at a time:"
      ],
      "metadata": {
        "id": "DNuPtzL3mACP"
      }
    },
    {
      "cell_type": "code",
      "source": [
        "tarray=np.array((t,t,t))\n",
        "print(tarray.shape)\n",
        "varray=np.zeros(tarray.shape)\n",
        "aarray=np.ones(tarray.shape)"
      ],
      "metadata": {
        "colab": {
          "base_uri": "https://localhost:8080/"
        },
        "id": "ky-R_yoNl-Un",
        "outputId": "b06e42d8-634f-40e9-c9fe-ae8c6ef86269"
      },
      "execution_count": 20,
      "outputs": [
        {
          "output_type": "stream",
          "name": "stdout",
          "text": [
            "(3, 1000)\n"
          ]
        }
      ]
    },
    {
      "cell_type": "code",
      "source": [
        "varray[1,:]=np.ones(len(t))\n",
        "varray[2,:]=np.ones(len(t))*2\n",
        "aarray[1,:]=np.ones(len(t))*2\n",
        "aarray[2,:]=np.ones(len(t))*3"
      ],
      "metadata": {
        "id": "IeAxnBMGmJEU"
      },
      "execution_count": 21,
      "outputs": []
    },
    {
      "cell_type": "code",
      "source": [
        "darray=position(tarray,0,varray,aarray)"
      ],
      "metadata": {
        "id": "fiwYiHhrmL7U"
      },
      "execution_count": 22,
      "outputs": []
    },
    {
      "cell_type": "code",
      "source": [
        "plt.plot(t,darray[0,:])\n",
        "plt.plot(t,darray[1,:])\n",
        "plt.plot(t,darray[2,:])\n",
        "plt.show()"
      ],
      "metadata": {
        "colab": {
          "base_uri": "https://localhost:8080/",
          "height": 265
        },
        "id": "z6yJypHgmOir",
        "outputId": "780da717-f2cb-4bb3-da21-7f4d4613abaf"
      },
      "execution_count": 23,
      "outputs": [
        {
          "output_type": "display_data",
          "data": {
            "text/plain": [
              "<Figure size 432x288 with 1 Axes>"
            ],
            "image/png": "[encoded data removed]"
          },
          "metadata": {
            "needs_background": "light"
          }
        }
      ]
    },
    {
      "cell_type": "markdown",
      "source": [
        "The key advantages of numpy are the orgnization (like the above example) and the speed. numpy is essentially a bunch of code that is commonly used, but written in C because it is faster than python. We can see this explicitely with an example"
      ],
      "metadata": {
        "id": "QegDrOjbmUxo"
      }
    },
    {
      "cell_type": "code",
      "source": [
        "import time"
      ],
      "metadata": {
        "id": "QHY6ULn0mRiW"
      },
      "execution_count": 24,
      "outputs": []
    },
    {
      "cell_type": "code",
      "source": [
        "def trad_version():\n",
        "    t1 = time.time() # what is the time when I start\n",
        "    X = range(int(1e7)) # arrange numbers 0, 10M -1\n",
        "    Y = range(int(1e7)) # arrange numbers 0, 10M -1\n",
        "    Z = [] \n",
        "    for i in range(len(X)):\n",
        "        Z.append(X[i] + Y[i]) # make a new list by adding the elements of X and Y\n",
        "    return time.time() - t1 # what is the difference from the time when I end and started\n"
      ],
      "metadata": {
        "id": "MndIMTVXmXsK"
      },
      "execution_count": 25,
      "outputs": []
    },
    {
      "cell_type": "code",
      "source": [
        "def numpy_version():\n",
        "    t1 = time.time() # what is the time when I start\n",
        "    X = np.arange(int(1e7)) # arrange numbers 0, 10M -1\n",
        "    Y = np.arange(int(1e7))# arrange numbers 0, 10M -1\n",
        "    Z = X + Y # make a new list by adding the elements of X and Y\n",
        "    return time.time() - t1 # what is the difference from the time when I end and started\n"
      ],
      "metadata": {
        "id": "oQIvtV7LmcZ5"
      },
      "execution_count": 26,
      "outputs": []
    },
    {
      "cell_type": "code",
      "source": [
        "print(trad_version(),numpy_version())"
      ],
      "metadata": {
        "colab": {
          "base_uri": "https://localhost:8080/"
        },
        "id": "glnYaX7imf3J",
        "outputId": "e2d94613-9018-4416-f11d-70c69e0b4dc6"
      },
      "execution_count": 27,
      "outputs": [
        {
          "output_type": "stream",
          "name": "stdout",
          "text": [
            "4.038429498672485 0.06480884552001953\n"
          ]
        }
      ]
    },
    {
      "cell_type": "markdown",
      "source": [
        "So we see that `numpy` about 25x faster than doing the same thing with a list. The commands are all very similar too."
      ],
      "metadata": {
        "id": "N6Z4ZIbhmjXw"
      }
    },
    {
      "cell_type": "markdown",
      "source": [
        "## Some basic numpy tools\n",
        "\n",
        "A very convenient tool is to be able to make arrays of a given size and shape quickly. Here are a few very common examples:\n"
      ],
      "metadata": {
        "id": "8XLOnQoGms71"
      }
    },
    {
      "cell_type": "code",
      "source": [
        "print(np.arange(10))\n",
        "print(np.arange(3,14))\n",
        "print(np.arange(3,14,2))\n",
        "print(np.arange(0,1,0.1))"
      ],
      "metadata": {
        "colab": {
          "base_uri": "https://localhost:8080/"
        },
        "id": "SDY6apv9mh_x",
        "outputId": "2cdd6ff3-3737-4634-eabc-75358a468d5b"
      },
      "execution_count": 28,
      "outputs": [
        {
          "output_type": "stream",
          "name": "stdout",
          "text": [
            "[0 1 2 3 4 5 6 7 8 9]\n",
            "[ 3  4  5  6  7  8  9 10 11 12 13]\n",
            "[ 3  5  7  9 11 13]\n",
            "[0.  0.1 0.2 0.3 0.4 0.5 0.6 0.7 0.8 0.9]\n"
          ]
        }
      ]
    },
    {
      "cell_type": "code",
      "source": [
        "print(np.linspace(2,5,10))\n",
        "print(np.linspace(2,5,10,endpoint=False))"
      ],
      "metadata": {
        "colab": {
          "base_uri": "https://localhost:8080/"
        },
        "id": "D25PWtCWmzck",
        "outputId": "0ab95a51-e3b8-414d-8d5a-dec08c750f6e"
      },
      "execution_count": 29,
      "outputs": [
        {
          "output_type": "stream",
          "name": "stdout",
          "text": [
            "[2.         2.33333333 2.66666667 3.         3.33333333 3.66666667\n",
            " 4.         4.33333333 4.66666667 5.        ]\n",
            "[2.  2.3 2.6 2.9 3.2 3.5 3.8 4.1 4.4 4.7]\n"
          ]
        }
      ]
    },
    {
      "cell_type": "code",
      "source": [
        "print(np.logspace(0,2,10))"
      ],
      "metadata": {
        "colab": {
          "base_uri": "https://localhost:8080/"
        },
        "id": "0ptFatpTm1Xh",
        "outputId": "b140b5e9-57b8-43ce-b682-ec3ae1a53143"
      },
      "execution_count": 30,
      "outputs": [
        {
          "output_type": "stream",
          "name": "stdout",
          "text": [
            "[  1.           1.66810054   2.7825594    4.64158883   7.74263683\n",
            "  12.91549665  21.5443469   35.93813664  59.94842503 100.        ]\n"
          ]
        }
      ]
    },
    {
      "cell_type": "code",
      "source": [
        "print(np.ones((3,3)))\n",
        "print(np.ones(10))\n",
        "print(np.zeros((3,3)))\n",
        "print(np.zeros(10))"
      ],
      "metadata": {
        "colab": {
          "base_uri": "https://localhost:8080/"
        },
        "id": "r9cmeA2mm3vN",
        "outputId": "7eea698a-8497-4f49-ad43-bdbe5c85efbd"
      },
      "execution_count": 31,
      "outputs": [
        {
          "output_type": "stream",
          "name": "stdout",
          "text": [
            "[[1. 1. 1.]\n",
            " [1. 1. 1.]\n",
            " [1. 1. 1.]]\n",
            "[1. 1. 1. 1. 1. 1. 1. 1. 1. 1.]\n",
            "[[0. 0. 0.]\n",
            " [0. 0. 0.]\n",
            " [0. 0. 0.]]\n",
            "[0. 0. 0. 0. 0. 0. 0. 0. 0. 0.]\n"
          ]
        }
      ]
    },
    {
      "cell_type": "code",
      "source": [
        "np.diag((1,2,3))"
      ],
      "metadata": {
        "colab": {
          "base_uri": "https://localhost:8080/"
        },
        "id": "GvdikqYLm5uI",
        "outputId": "943db8b8-993f-48f5-973a-348f4723fc38"
      },
      "execution_count": 32,
      "outputs": [
        {
          "output_type": "execute_result",
          "data": {
            "text/plain": [
              "array([[1, 0, 0],\n",
              "       [0, 2, 0],\n",
              "       [0, 0, 3]])"
            ]
          },
          "metadata": {},
          "execution_count": 32
        }
      ]
    },
    {
      "cell_type": "code",
      "source": [
        "np.identity(5)"
      ],
      "metadata": {
        "colab": {
          "base_uri": "https://localhost:8080/"
        },
        "id": "2JAvKv9dm8Pm",
        "outputId": "111932c0-0231-4019-9abc-d2ed78f01120"
      },
      "execution_count": 33,
      "outputs": [
        {
          "output_type": "execute_result",
          "data": {
            "text/plain": [
              "array([[1., 0., 0., 0., 0.],\n",
              "       [0., 1., 0., 0., 0.],\n",
              "       [0., 0., 1., 0., 0.],\n",
              "       [0., 0., 0., 1., 0.],\n",
              "       [0., 0., 0., 0., 1.]])"
            ]
          },
          "metadata": {},
          "execution_count": 33
        }
      ]
    },
    {
      "cell_type": "markdown",
      "source": [
        "All of these quickly generate a numpy array of a given shape. arange, linspace and logspace quickly give you an ordered list of numbers. When you are sampling value of a function, solving a differential equation, etc. these all come in handy.\n",
        "\n",
        "ones is often useful if you just one to have a constant array, e.g. if you want to plot a horizonal line:"
      ],
      "metadata": {
        "id": "odeIJoD7nBRm"
      }
    },
    {
      "cell_type": "code",
      "source": [
        "x=np.arange(0,1,0.025)\n",
        "plt.plot(x,np.ones(len(x))*20)"
      ],
      "metadata": {
        "colab": {
          "base_uri": "https://localhost:8080/",
          "height": 282
        },
        "id": "kdAZFl1Fm-Ly",
        "outputId": "6d3ce645-c883-41af-efab-6c95119decab"
      },
      "execution_count": 34,
      "outputs": [
        {
          "output_type": "execute_result",
          "data": {
            "text/plain": [
              "[<matplotlib.lines.Line2D at 0x7f6053cc3610>]"
            ]
          },
          "metadata": {},
          "execution_count": 34
        },
        {
          "output_type": "display_data",
          "data": {
            "text/plain": [
              "<Figure size 432x288 with 1 Axes>"
            ],
            "image/png": "[encoded data removed]"
          },
          "metadata": {
            "needs_background": "light"
          }
        }
      ]
    },
    {
      "cell_type": "markdown",
      "source": [
        "zeros can be useful just to create an array of a given shape that you want to populate with values later. E.g. I want to find a value to put in, but it isn't easily expressable as an operation on the arrays"
      ],
      "metadata": {
        "id": "4NpdrpF7nIWH"
      }
    },
    {
      "cell_type": "code",
      "source": [
        "y=np.zeros(len(x))\n",
        "for i in range(len(x)):\n",
        "    y[i]=x[i:].sum() # add up all the numbers in x, starting at the ith location\n",
        "print(y)"
      ],
      "metadata": {
        "colab": {
          "base_uri": "https://localhost:8080/"
        },
        "id": "95HiEffCnFMG",
        "outputId": "68d14d06-78b8-4fad-8ae2-50bc4c4f67a6"
      },
      "execution_count": 35,
      "outputs": [
        {
          "output_type": "stream",
          "name": "stdout",
          "text": [
            "[19.5   19.5   19.475 19.425 19.35  19.25  19.125 18.975 18.8   18.6\n",
            " 18.375 18.125 17.85  17.55  17.225 16.875 16.5   16.1   15.675 15.225\n",
            " 14.75  14.25  13.725 13.175 12.6   12.    11.375 10.725 10.05   9.35\n",
            "  8.625  7.875  7.1    6.3    5.475  4.625  3.75   2.85   1.925  0.975]\n"
          ]
        }
      ]
    },
    {
      "cell_type": "markdown",
      "source": [
        "zeros is also useful because you can quickly see if you did something wrong if there are too many entries that are still zero.\n",
        "\n",
        "One of the very useful features of sum is that we can sum only a long one particular row or column of a numpy array with a more complicated shape. E.g. suppose we have an array with a shape (3,3) and we want to sum along each row to get an array of shape (3,) that represents these three results:"
      ],
      "metadata": {
        "id": "I41BBihZnOvK"
      }
    },
    {
      "cell_type": "code",
      "source": [
        "sum_test=np.arange(9).reshape(3,3)\n",
        "print(sum_test)"
      ],
      "metadata": {
        "colab": {
          "base_uri": "https://localhost:8080/"
        },
        "id": "Qe7eYcE7nMLW",
        "outputId": "7a9690ee-ec0e-499a-a1d0-52312874742c"
      },
      "execution_count": 36,
      "outputs": [
        {
          "output_type": "stream",
          "name": "stdout",
          "text": [
            "[[0 1 2]\n",
            " [3 4 5]\n",
            " [6 7 8]]\n"
          ]
        }
      ]
    },
    {
      "cell_type": "markdown",
      "source": [
        "I can just add up all the numbers in the array as usual"
      ],
      "metadata": {
        "id": "ZHXDsoiynTxe"
      }
    },
    {
      "cell_type": "code",
      "source": [
        "sum_test.sum()"
      ],
      "metadata": {
        "colab": {
          "base_uri": "https://localhost:8080/"
        },
        "id": "W4rxvfpenRg7",
        "outputId": "73b374bd-09ac-4e8e-d521-bff072b1b79f"
      },
      "execution_count": 37,
      "outputs": [
        {
          "output_type": "execute_result",
          "data": {
            "text/plain": [
              "36"
            ]
          },
          "metadata": {},
          "execution_count": 37
        }
      ]
    },
    {
      "cell_type": "markdown",
      "source": [
        "But to sum along only the row or colum, I use the axis option"
      ],
      "metadata": {
        "id": "7PeeO7C5nYrV"
      }
    },
    {
      "cell_type": "code",
      "source": [
        "sum_test.sum(axis=0)"
      ],
      "metadata": {
        "colab": {
          "base_uri": "https://localhost:8080/"
        },
        "id": "F2gnP7vdnWR4",
        "outputId": "4c37ddbc-9298-4297-8437-468384adf051"
      },
      "execution_count": 38,
      "outputs": [
        {
          "output_type": "execute_result",
          "data": {
            "text/plain": [
              "array([ 9, 12, 15])"
            ]
          },
          "metadata": {},
          "execution_count": 38
        }
      ]
    },
    {
      "cell_type": "code",
      "source": [
        "sum_test[:,0].sum()"
      ],
      "metadata": {
        "colab": {
          "base_uri": "https://localhost:8080/"
        },
        "id": "oE3rBDjWnbWk",
        "outputId": "bfb51196-bc38-41f0-f43c-4b7cbdd8e8a5"
      },
      "execution_count": 39,
      "outputs": [
        {
          "output_type": "execute_result",
          "data": {
            "text/plain": [
              "9"
            ]
          },
          "metadata": {},
          "execution_count": 39
        }
      ]
    },
    {
      "cell_type": "code",
      "source": [
        "sum_test.sum(axis=1)\n"
      ],
      "metadata": {
        "colab": {
          "base_uri": "https://localhost:8080/"
        },
        "id": "oyBBjiIzndm4",
        "outputId": "772edb0f-a93d-4517-85b2-5c191118eda9"
      },
      "execution_count": 40,
      "outputs": [
        {
          "output_type": "execute_result",
          "data": {
            "text/plain": [
              "array([ 3, 12, 21])"
            ]
          },
          "metadata": {},
          "execution_count": 40
        }
      ]
    },
    {
      "cell_type": "code",
      "source": [
        "sum_test[0,:].sum()"
      ],
      "metadata": {
        "colab": {
          "base_uri": "https://localhost:8080/"
        },
        "id": "zTvs2PaUnfpq",
        "outputId": "17f5d78f-8570-45ba-99ed-321f8cd53334"
      },
      "execution_count": 41,
      "outputs": [
        {
          "output_type": "execute_result",
          "data": {
            "text/plain": [
              "3"
            ]
          },
          "metadata": {},
          "execution_count": 41
        }
      ]
    },
    {
      "cell_type": "markdown",
      "source": [
        "This will be very useful, because it allows us to solve many problems simulaneously. E.g. we can imagine a (3,3) array as three different vectors. E.g. let's say I had 100 different vectors and I wanted to know the length of each one. Then I would do:"
      ],
      "metadata": {
        "id": "p2YHpoKYnlf4"
      }
    },
    {
      "cell_type": "code",
      "source": [
        "vec100=np.arange(300).reshape(100,3)\n",
        "print(vec100[0:5,:]) "
      ],
      "metadata": {
        "colab": {
          "base_uri": "https://localhost:8080/"
        },
        "id": "igNHO2dcnh_c",
        "outputId": "1349f17a-0661-4d0e-8f25-6b32b1f2b9ff"
      },
      "execution_count": 42,
      "outputs": [
        {
          "output_type": "stream",
          "name": "stdout",
          "text": [
            "[[ 0  1  2]\n",
            " [ 3  4  5]\n",
            " [ 6  7  8]\n",
            " [ 9 10 11]\n",
            " [12 13 14]]\n"
          ]
        }
      ]
    },
    {
      "cell_type": "markdown",
      "source": [
        "We calculate the length of every vector by suming the square along the second index (axis 1):"
      ],
      "metadata": {
        "id": "3gt9nuXanqo2"
      }
    },
    {
      "cell_type": "code",
      "source": [
        "length2=(vec100**2).sum(axis=1)"
      ],
      "metadata": {
        "id": "OIRT_xCEnob-"
      },
      "execution_count": 43,
      "outputs": []
    },
    {
      "cell_type": "code",
      "source": [
        "np.sqrt(length2)"
      ],
      "metadata": {
        "colab": {
          "base_uri": "https://localhost:8080/"
        },
        "id": "aXmNPitmntwD",
        "outputId": "f03271f1-c2aa-4f76-858a-042789e2cf13"
      },
      "execution_count": 44,
      "outputs": [
        {
          "output_type": "execute_result",
          "data": {
            "text/plain": [
              "array([  2.23606798,   7.07106781,  12.20655562,  17.3781472 ,\n",
              "        22.56102835,  27.74887385,  32.93933818,  38.13135193,\n",
              "        43.32435804,  48.51803788,  53.71219601,  58.9067059 ,\n",
              "        64.10148204,  69.29646456,  74.49161027,  79.68688725,\n",
              "        84.88227141,  90.0777442 ,  95.27329112, 100.46890066,\n",
              "       105.6645636 , 110.86027242, 116.05602096, 121.25180411,\n",
              "       126.44761761, 131.64345787, 136.83932183, 142.0352069 ,\n",
              "       147.23111084, 152.42703172, 157.62296787, 162.81891782,\n",
              "       168.01488029, 173.21085416, 178.40683843, 183.60283222,\n",
              "       188.79883474, 193.99484529, 199.19086324, 204.38688803,\n",
              "       209.58291915, 214.77895614, 219.97499858, 225.1710461 ,\n",
              "       230.36709835, 235.56315501, 240.75921582, 245.95528049,\n",
              "       251.15134879, 256.34742051, 261.54349543, 266.73957337,\n",
              "       271.93565415, 277.13173763, 282.32782364, 287.52391205,\n",
              "       292.72000273, 297.91609557, 303.11219045, 308.30828727,\n",
              "       313.50438593, 318.70048635, 323.89658844, 329.09269211,\n",
              "       334.2887973 , 339.48490394, 344.68101195, 349.87712129,\n",
              "       355.07323188, 360.26934369, 365.46545664, 370.66157071,\n",
              "       375.85768583, 381.05380198, 386.24991909, 391.44603715,\n",
              "       396.64215611, 401.83827593, 407.03439658, 412.23051804,\n",
              "       417.42664026, 422.62276323, 427.81888691, 433.01501129,\n",
              "       438.21113633, 443.40726201, 448.60338831, 453.7995152 ,\n",
              "       458.99564268, 464.19177072, 469.38789929, 474.58402839,\n",
              "       479.78015799, 484.97628808, 490.17241864, 495.36854967,\n",
              "       500.56468114, 505.76081303, 510.95694535, 516.15307807])"
            ]
          },
          "metadata": {},
          "execution_count": 44
        }
      ]
    },
    {
      "cell_type": "markdown",
      "source": [
        "We solved 100 problems at once without having to write a for loop."
      ],
      "metadata": {
        "id": "kITl8hyenyOC"
      }
    },
    {
      "cell_type": "markdown",
      "source": [
        "## Meshgrids\n",
        "\n",
        "A useful tool when dealing with numpy arrays is the meshgrid. It allows us to take a multiple vectors and use them to define a higher dimensional space. The obviuos example is that you have variables x, y and you want to define a function of (x,y). E.g. Let's define an electric field in terms of x and y on a grid"
      ],
      "metadata": {
        "id": "jM0ifLb-n0j6"
      }
    },
    {
      "cell_type": "code",
      "source": [
        "Lx=1.\n",
        "Ly=2.\n",
        "n=5\n",
        "x_array=np.linspace(0,Lx,n,endpoint=True)\n",
        "y_array=np.linspace(0,Ly,n,endpoint=True)"
      ],
      "metadata": {
        "id": "rSbJm9_MnvdS"
      },
      "execution_count": 45,
      "outputs": []
    },
    {
      "cell_type": "markdown",
      "source": [
        "so x_array and y_array are just 1d numpy arrays that list the x and y coordinates we want. Now suppose you want $E_x = 5 \\sin(2. \\pi x/ Lx) \\cos(2. \\pi y/Ly)$ . You can't just multiply np.sin(x_array) np.cos(y_array) because that will return a 1d array of n values. You want it to give a array of (n,n) as the shape (i.e. it gives a different value for each x and y you use. So we make a meshgrid"
      ],
      "metadata": {
        "id": "wQZjK2pon7RN"
      }
    },
    {
      "cell_type": "code",
      "source": [
        "x,y=np.meshgrid(x_array,y_array,indexing='ij')"
      ],
      "metadata": {
        "id": "Fx_eVjfdn6dd"
      },
      "execution_count": 46,
      "outputs": []
    },
    {
      "cell_type": "code",
      "source": [
        "print(x)\n",
        "print(x[:,0])\n",
        "print(x[0,:])"
      ],
      "metadata": {
        "colab": {
          "base_uri": "https://localhost:8080/"
        },
        "id": "blENzNXFoDY5",
        "outputId": "8e2f4d6e-292c-40ef-dce1-72dc60ddb7ba"
      },
      "execution_count": 47,
      "outputs": [
        {
          "output_type": "stream",
          "name": "stdout",
          "text": [
            "[[0.   0.   0.   0.   0.  ]\n",
            " [0.25 0.25 0.25 0.25 0.25]\n",
            " [0.5  0.5  0.5  0.5  0.5 ]\n",
            " [0.75 0.75 0.75 0.75 0.75]\n",
            " [1.   1.   1.   1.   1.  ]]\n",
            "[0.   0.25 0.5  0.75 1.  ]\n",
            "[0. 0. 0. 0. 0.]\n"
          ]
        }
      ]
    },
    {
      "cell_type": "code",
      "source": [
        "print(y)\n",
        "print(y[:,0])\n",
        "print(y[0,:])"
      ],
      "metadata": {
        "colab": {
          "base_uri": "https://localhost:8080/"
        },
        "id": "OcawLw-goFRo",
        "outputId": "5dfd1bda-accf-4603-a575-87dd8252f452"
      },
      "execution_count": 48,
      "outputs": [
        {
          "output_type": "stream",
          "name": "stdout",
          "text": [
            "[[0.  0.5 1.  1.5 2. ]\n",
            " [0.  0.5 1.  1.5 2. ]\n",
            " [0.  0.5 1.  1.5 2. ]\n",
            " [0.  0.5 1.  1.5 2. ]\n",
            " [0.  0.5 1.  1.5 2. ]]\n",
            "[0. 0. 0. 0. 0.]\n",
            "[0.  0.5 1.  1.5 2. ]\n"
          ]
        }
      ]
    },
    {
      "cell_type": "markdown",
      "source": [
        "So now we can define the x-component of the electric field just by multiplying the arrays:"
      ],
      "metadata": {
        "id": "TbvUNKdsoKqi"
      }
    },
    {
      "cell_type": "code",
      "source": [
        "Ex=5*np.sin(2.*pi*x/ Lx)*np.cos(2.*pi*y/Ly)"
      ],
      "metadata": {
        "id": "IQVacE2SoIcZ"
      },
      "execution_count": 49,
      "outputs": []
    },
    {
      "cell_type": "code",
      "source": [
        "Ex"
      ],
      "metadata": {
        "colab": {
          "base_uri": "https://localhost:8080/"
        },
        "id": "52VpcgULoPrh",
        "outputId": "eaeda78c-defd-4b14-f473-1d55c6aa49f7"
      },
      "execution_count": 50,
      "outputs": [
        {
          "output_type": "execute_result",
          "data": {
            "text/plain": [
              "array([[ 0.00000000e+00,  0.00000000e+00, -0.00000000e+00,\n",
              "        -0.00000000e+00,  0.00000000e+00],\n",
              "       [ 5.00000000e+00,  3.06161700e-16, -5.00000000e+00,\n",
              "        -9.18485099e-16,  5.00000000e+00],\n",
              "       [ 6.12323400e-16,  3.74939946e-32, -6.12323400e-16,\n",
              "        -1.12481984e-31,  6.12323400e-16],\n",
              "       [-5.00000000e+00, -3.06161700e-16,  5.00000000e+00,\n",
              "         9.18485099e-16, -5.00000000e+00],\n",
              "       [-1.22464680e-15, -7.49879891e-32,  1.22464680e-15,\n",
              "         2.24963967e-31, -1.22464680e-15]])"
            ]
          },
          "metadata": {},
          "execution_count": 50
        }
      ]
    },
    {
      "cell_type": "code",
      "source": [
        "Ey=10.*np.sin(2.*pi*y/Ly)"
      ],
      "metadata": {
        "id": "qteOvy_QoRhB"
      },
      "execution_count": 51,
      "outputs": []
    },
    {
      "cell_type": "code",
      "source": [
        "plt.figure()\n",
        "plt.quiver(x, y, Ex, Ey, units='width')\n",
        "plt.show()"
      ],
      "metadata": {
        "colab": {
          "base_uri": "https://localhost:8080/",
          "height": 265
        },
        "id": "H8OPV-zUoUC5",
        "outputId": "61cc9eee-b8c8-4f88-d755-824f08e04af3"
      },
      "execution_count": 52,
      "outputs": [
        {
          "output_type": "display_data",
          "data": {
            "text/plain": [
              "<Figure size 432x288 with 1 Axes>"
            ],
            "image/png": "[encoded data removed]"
          },
          "metadata": {
            "needs_background": "light"
          }
        }
      ]
    },
    {
      "cell_type": "markdown",
      "source": [
        "Now let's try in for 3d (x,y,z). Let's just make a temperature in a box so that $T(x,y,z)= (x+2y) z$. So we want to add a z-variable and make a higher dimensional array:"
      ],
      "metadata": {
        "id": "lxZkVb_xoa3y"
      }
    },
    {
      "cell_type": "code",
      "source": [
        "Lz=3\n",
        "z_array=np.linspace(0,Lz,n,endpoint=True)"
      ],
      "metadata": {
        "id": "VFsmsUgToWXn"
      },
      "execution_count": 53,
      "outputs": []
    },
    {
      "cell_type": "code",
      "source": [
        "x,y,z=np.meshgrid(x_array,y_array,z_array)"
      ],
      "metadata": {
        "id": "LQaox9C2oiHk"
      },
      "execution_count": 54,
      "outputs": []
    },
    {
      "cell_type": "code",
      "source": [
        "print(x[0,:,0])\n",
        "print(y[:,0,0])\n",
        "print(z[0,0,:])"
      ],
      "metadata": {
        "colab": {
          "base_uri": "https://localhost:8080/"
        },
        "id": "RYWjOjXCok-j",
        "outputId": "71b6e2e4-c960-44a5-e8f7-e5b8045ad7f2"
      },
      "execution_count": 55,
      "outputs": [
        {
          "output_type": "stream",
          "name": "stdout",
          "text": [
            "[0.   0.25 0.5  0.75 1.  ]\n",
            "[0.  0.5 1.  1.5 2. ]\n",
            "[0.   0.75 1.5  2.25 3.  ]\n"
          ]
        }
      ]
    },
    {
      "cell_type": "code",
      "source": [
        "T=(x+2*y)*z"
      ],
      "metadata": {
        "id": "38EC9qpNoowl"
      },
      "execution_count": 56,
      "outputs": []
    },
    {
      "cell_type": "code",
      "source": [
        "T"
      ],
      "metadata": {
        "colab": {
          "base_uri": "https://localhost:8080/"
        },
        "id": "nIuT8AdmosBY",
        "outputId": "3ef06ac3-fe81-4704-9b25-69ddc76a7d2f"
      },
      "execution_count": 57,
      "outputs": [
        {
          "output_type": "execute_result",
          "data": {
            "text/plain": [
              "array([[[ 0.    ,  0.    ,  0.    ,  0.    ,  0.    ],\n",
              "        [ 0.    ,  0.1875,  0.375 ,  0.5625,  0.75  ],\n",
              "        [ 0.    ,  0.375 ,  0.75  ,  1.125 ,  1.5   ],\n",
              "        [ 0.    ,  0.5625,  1.125 ,  1.6875,  2.25  ],\n",
              "        [ 0.    ,  0.75  ,  1.5   ,  2.25  ,  3.    ]],\n",
              "\n",
              "       [[ 0.    ,  0.75  ,  1.5   ,  2.25  ,  3.    ],\n",
              "        [ 0.    ,  0.9375,  1.875 ,  2.8125,  3.75  ],\n",
              "        [ 0.    ,  1.125 ,  2.25  ,  3.375 ,  4.5   ],\n",
              "        [ 0.    ,  1.3125,  2.625 ,  3.9375,  5.25  ],\n",
              "        [ 0.    ,  1.5   ,  3.    ,  4.5   ,  6.    ]],\n",
              "\n",
              "       [[ 0.    ,  1.5   ,  3.    ,  4.5   ,  6.    ],\n",
              "        [ 0.    ,  1.6875,  3.375 ,  5.0625,  6.75  ],\n",
              "        [ 0.    ,  1.875 ,  3.75  ,  5.625 ,  7.5   ],\n",
              "        [ 0.    ,  2.0625,  4.125 ,  6.1875,  8.25  ],\n",
              "        [ 0.    ,  2.25  ,  4.5   ,  6.75  ,  9.    ]],\n",
              "\n",
              "       [[ 0.    ,  2.25  ,  4.5   ,  6.75  ,  9.    ],\n",
              "        [ 0.    ,  2.4375,  4.875 ,  7.3125,  9.75  ],\n",
              "        [ 0.    ,  2.625 ,  5.25  ,  7.875 , 10.5   ],\n",
              "        [ 0.    ,  2.8125,  5.625 ,  8.4375, 11.25  ],\n",
              "        [ 0.    ,  3.    ,  6.    ,  9.    , 12.    ]],\n",
              "\n",
              "       [[ 0.    ,  3.    ,  6.    ,  9.    , 12.    ],\n",
              "        [ 0.    ,  3.1875,  6.375 ,  9.5625, 12.75  ],\n",
              "        [ 0.    ,  3.375 ,  6.75  , 10.125 , 13.5   ],\n",
              "        [ 0.    ,  3.5625,  7.125 , 10.6875, 14.25  ],\n",
              "        [ 0.    ,  3.75  ,  7.5   , 11.25  , 15.    ]]])"
            ]
          },
          "metadata": {},
          "execution_count": 57
        }
      ]
    },
    {
      "cell_type": "markdown",
      "source": [
        "Now we see that there is an easier way we could find the distance for a bunch of different, time, velocities and accelertaions all at once!"
      ],
      "metadata": {
        "id": "_VD-ZqiKowXM"
      }
    },
    {
      "cell_type": "code",
      "source": [
        "num=20\n",
        "t_list=np.linspace(0,10,100)\n",
        "v_list=2*np.linspace(0,10,num)\n",
        "a_list=3*np.linspace(0,1,num)"
      ],
      "metadata": {
        "id": "uVV61z3KotJV"
      },
      "execution_count": 58,
      "outputs": []
    },
    {
      "cell_type": "code",
      "source": [
        "print(a_list)"
      ],
      "metadata": {
        "colab": {
          "base_uri": "https://localhost:8080/"
        },
        "id": "fCS3z8-yo0St",
        "outputId": "5cd6acc4-b321-4cb1-818c-1373803b4584"
      },
      "execution_count": 59,
      "outputs": [
        {
          "output_type": "stream",
          "name": "stdout",
          "text": [
            "[0.         0.15789474 0.31578947 0.47368421 0.63157895 0.78947368\n",
            " 0.94736842 1.10526316 1.26315789 1.42105263 1.57894737 1.73684211\n",
            " 1.89473684 2.05263158 2.21052632 2.36842105 2.52631579 2.68421053\n",
            " 2.84210526 3.        ]\n"
          ]
        }
      ]
    },
    {
      "cell_type": "code",
      "source": [
        "t,v,a=np.meshgrid(t_list,v_list,a_list)"
      ],
      "metadata": {
        "id": "Ecepc96Po22N"
      },
      "execution_count": 60,
      "outputs": []
    },
    {
      "cell_type": "code",
      "source": [
        "final_d=position(t,0,v,a)"
      ],
      "metadata": {
        "id": "3w2FhX5to5wS"
      },
      "execution_count": 61,
      "outputs": []
    },
    {
      "cell_type": "code",
      "source": [
        "final_d[1,:,2]"
      ],
      "metadata": {
        "colab": {
          "base_uri": "https://localhost:8080/"
        },
        "id": "QJRiv-g7o8QF",
        "outputId": "f6554a1b-e356-4906-cf16-59c8a89abc98"
      },
      "execution_count": 62,
      "outputs": [
        {
          "output_type": "execute_result",
          "data": {
            "text/plain": [
              "array([ 0.        ,  0.10793743,  0.21909687,  0.33347832,  0.45108179,\n",
              "        0.57190727,  0.69595476,  0.82322427,  0.95371579,  1.08742932,\n",
              "        1.22436486,  1.36452242,  1.50790199,  1.65450357,  1.80432716,\n",
              "        1.95737277,  2.11364039,  2.27313002,  2.43584167,  2.60177533,\n",
              "        2.770931  ,  2.94330868,  3.11890838,  3.29773009,  3.47977381,\n",
              "        3.66503955,  3.8535273 ,  4.04523706,  4.24016883,  4.43832262,\n",
              "        4.63969842,  4.84429623,  5.05211606,  5.26315789,  5.47742175,\n",
              "        5.69490761,  5.91561548,  6.13954537,  6.36669728,  6.59707119,\n",
              "        6.83066712,  7.06748506,  7.30752501,  7.55078698,  7.79727096,\n",
              "        8.04697695,  8.29990495,  8.55605497,  8.815427  ,  9.07802104,\n",
              "        9.3438371 ,  9.61287516,  9.88513524, 10.16061734, 10.43932144,\n",
              "       10.72124756, 11.0063957 , 11.29476584, 11.586358  , 11.88117217,\n",
              "       12.17920835, 12.48046655, 12.78494676, 13.09264898, 13.40357321,\n",
              "       13.71771946, 14.03508772, 14.35567799, 14.67949028, 15.00652458,\n",
              "       15.33678089, 15.67025921, 16.00695955, 16.3468819 , 16.69002626,\n",
              "       17.03639263, 17.38598102, 17.73879142, 18.09482384, 18.45407826,\n",
              "       18.8165547 , 19.18225315, 19.55117362, 19.9233161 , 20.29868059,\n",
              "       20.67726709, 21.0590756 , 21.44410613, 21.83235867, 22.22383323,\n",
              "       22.6185298 , 23.01644838, 23.41758897, 23.82195157, 24.22953619,\n",
              "       24.64034282, 25.05437147, 25.47162212, 25.89209479, 26.31578947])"
            ]
          },
          "metadata": {},
          "execution_count": 62
        }
      ]
    },
    {
      "cell_type": "code",
      "source": [
        "t[0,:,0]"
      ],
      "metadata": {
        "colab": {
          "base_uri": "https://localhost:8080/"
        },
        "id": "8lZvcI3-o-ha",
        "outputId": "5001574b-a1bd-4b7e-c599-21d4de8b0da9"
      },
      "execution_count": 63,
      "outputs": [
        {
          "output_type": "execute_result",
          "data": {
            "text/plain": [
              "array([ 0.        ,  0.1010101 ,  0.2020202 ,  0.3030303 ,  0.4040404 ,\n",
              "        0.50505051,  0.60606061,  0.70707071,  0.80808081,  0.90909091,\n",
              "        1.01010101,  1.11111111,  1.21212121,  1.31313131,  1.41414141,\n",
              "        1.51515152,  1.61616162,  1.71717172,  1.81818182,  1.91919192,\n",
              "        2.02020202,  2.12121212,  2.22222222,  2.32323232,  2.42424242,\n",
              "        2.52525253,  2.62626263,  2.72727273,  2.82828283,  2.92929293,\n",
              "        3.03030303,  3.13131313,  3.23232323,  3.33333333,  3.43434343,\n",
              "        3.53535354,  3.63636364,  3.73737374,  3.83838384,  3.93939394,\n",
              "        4.04040404,  4.14141414,  4.24242424,  4.34343434,  4.44444444,\n",
              "        4.54545455,  4.64646465,  4.74747475,  4.84848485,  4.94949495,\n",
              "        5.05050505,  5.15151515,  5.25252525,  5.35353535,  5.45454545,\n",
              "        5.55555556,  5.65656566,  5.75757576,  5.85858586,  5.95959596,\n",
              "        6.06060606,  6.16161616,  6.26262626,  6.36363636,  6.46464646,\n",
              "        6.56565657,  6.66666667,  6.76767677,  6.86868687,  6.96969697,\n",
              "        7.07070707,  7.17171717,  7.27272727,  7.37373737,  7.47474747,\n",
              "        7.57575758,  7.67676768,  7.77777778,  7.87878788,  7.97979798,\n",
              "        8.08080808,  8.18181818,  8.28282828,  8.38383838,  8.48484848,\n",
              "        8.58585859,  8.68686869,  8.78787879,  8.88888889,  8.98989899,\n",
              "        9.09090909,  9.19191919,  9.29292929,  9.39393939,  9.49494949,\n",
              "        9.5959596 ,  9.6969697 ,  9.7979798 ,  9.8989899 , 10.        ])"
            ]
          },
          "metadata": {},
          "execution_count": 63
        }
      ]
    },
    {
      "cell_type": "code",
      "source": [
        "for i in range(num):\n",
        "    for j in range(num):\n",
        "        plt.plot(t_list,final_d[i,:,j])"
      ],
      "metadata": {
        "colab": {
          "base_uri": "https://localhost:8080/",
          "height": 265
        },
        "id": "5OoEKclBpECG",
        "outputId": "5abc34ac-3ea9-4fee-a8c6-72c7fc2be610"
      },
      "execution_count": 64,
      "outputs": [
        {
          "output_type": "display_data",
          "data": {
            "text/plain": [
              "<Figure size 432x288 with 1 Axes>"
            ],
            "image/png": "[encoded data removed]"
          },
          "metadata": {
            "needs_background": "light"
          }
        }
      ]
    },
    {
      "cell_type": "markdown",
      "source": [
        "Look, we found 400 solution at 100 points in time and plotted all of them without breaking a sweat!"
      ],
      "metadata": {
        "id": "cB8gs7jppKIJ"
      }
    },
    {
      "cell_type": "code",
      "source": [],
      "metadata": {
        "id": "xx6gNlDopHCq"
      },
      "execution_count": null,
      "outputs": []
    }
  ]
}