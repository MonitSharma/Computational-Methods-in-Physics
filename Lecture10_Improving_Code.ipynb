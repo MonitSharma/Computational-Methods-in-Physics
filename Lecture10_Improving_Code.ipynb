{
  "nbformat": 4,
  "nbformat_minor": 0,
  "metadata": {
    "colab": {
      "provenance": [],
      "authorship_tag": "ABX9TyOfWvNhYsTgL9AnWdn9BXIM",
      "include_colab_link": true
    },
    "kernelspec": {
      "name": "python3",
      "display_name": "Python 3"
    },
    "language_info": {
      "name": "python"
    }
  },
  "cells": [
    {
      "cell_type": "markdown",
      "metadata": {
        "id": "view-in-github",
        "colab_type": "text"
      },
      "source": [
        "<a href=\"https://colab.research.google.com/github/MonitSharma/Computational-Methods-in-Physics/blob/main/Lecture10_Improving_Code.ipynb\" target=\"_parent\"><img src=\"https://colab.research.google.com/assets/colab-badge.svg\" alt=\"Open In Colab\"/></a>"
      ]
    },
    {
      "cell_type": "markdown",
      "source": [
        "# Improving Code\n",
        "\n",
        "Our strategy is to write the simplest implementation of an idea first. One should not over-complicate our code on the first pass, because many parts of your idea may fail. We should always test out that the basic idea works.\n",
        "\n",
        "\n",
        "------\n",
        "\n",
        "Once something is working and debugged, we might want to make it more elegant or run faster."
      ],
      "metadata": {
        "id": "5PUVxuwK4KMx"
      }
    },
    {
      "cell_type": "code",
      "execution_count": 1,
      "metadata": {
        "id": "r0DB1VVt37ts"
      },
      "outputs": [],
      "source": [
        "import numpy as np"
      ]
    },
    {
      "cell_type": "markdown",
      "source": [
        "## Numpy Tricks\n",
        "\n",
        "When we think about what a computer is doing, it often useful to think about performing `for` loops or `while` loops to run through lists of numebers / data. \n",
        "\n",
        "\n",
        "-----\n",
        "\n",
        "However, when it comes to `numpy`, we really want to avoid loops as much as possible: **loops are slow** and `numpy` is designed to do the loops behind the scenes in a faster way."
      ],
      "metadata": {
        "id": "iiKcLzlm4YGt"
      }
    },
    {
      "cell_type": "code",
      "source": [
        "a=np.random.randn(10)\n",
        "b=np.random.randn(10)\n",
        "print(a<b)"
      ],
      "metadata": {
        "colab": {
          "base_uri": "https://localhost:8080/"
        },
        "id": "oruMvccv4XFQ",
        "outputId": "f5e19e19-4882-4940-dbe1-48886de39da8"
      },
      "execution_count": 2,
      "outputs": [
        {
          "output_type": "stream",
          "name": "stdout",
          "text": [
            "[ True  True  True  True  True False False  True  True False]\n"
          ]
        }
      ]
    },
    {
      "cell_type": "markdown",
      "source": [
        "But now suppose we want to return $a^2$ if $a>b$ and $b^2$  if $b > a$ .\n",
        "\n",
        "------\n",
        "\n",
        " You can't use an if statment for the whole array"
      ],
      "metadata": {
        "id": "yEae08Zi4sQZ"
      }
    },
    {
      "cell_type": "code",
      "source": [
        "if a<b:\n",
        "    print(a**2)"
      ],
      "metadata": {
        "colab": {
          "base_uri": "https://localhost:8080/",
          "height": 200
        },
        "id": "fepUGKVa4qFt",
        "outputId": "3408709d-ad52-4649-a675-e1e0d87cf50d"
      },
      "execution_count": 3,
      "outputs": [
        {
          "output_type": "error",
          "ename": "ValueError",
          "evalue": "ignored",
          "traceback": [
            "\u001b[0;31m---------------------------------------------------------------------------\u001b[0m",
            "\u001b[0;31mValueError\u001b[0m                                Traceback (most recent call last)",
            "\u001b[0;32m<ipython-input-3-091332e31f3c>\u001b[0m in \u001b[0;36m<module>\u001b[0;34m\u001b[0m\n\u001b[0;32m----> 1\u001b[0;31m \u001b[0;32mif\u001b[0m \u001b[0ma\u001b[0m\u001b[0;34m<\u001b[0m\u001b[0mb\u001b[0m\u001b[0;34m:\u001b[0m\u001b[0;34m\u001b[0m\u001b[0;34m\u001b[0m\u001b[0m\n\u001b[0m\u001b[1;32m      2\u001b[0m     \u001b[0mprint\u001b[0m\u001b[0;34m(\u001b[0m\u001b[0ma\u001b[0m\u001b[0;34m**\u001b[0m\u001b[0;36m2\u001b[0m\u001b[0;34m)\u001b[0m\u001b[0;34m\u001b[0m\u001b[0;34m\u001b[0m\u001b[0m\n",
            "\u001b[0;31mValueError\u001b[0m: The truth value of an array with more than one element is ambiguous. Use a.any() or a.all()"
          ]
        }
      ]
    },
    {
      "cell_type": "markdown",
      "source": [
        "The obvious solution is a `for` loop:"
      ],
      "metadata": {
        "id": "od0MIZwz49k4"
      }
    },
    {
      "cell_type": "code",
      "source": [
        "c=(a<b)\n",
        "out1=np.zeros(len(a))\n",
        "for i in range(len(a)):\n",
        "    if c[i]:\n",
        "        out1[i]=a[i]**2\n",
        "    else:\n",
        "        out1[i]=b[i]**2\n",
        "print(out1)"
      ],
      "metadata": {
        "colab": {
          "base_uri": "https://localhost:8080/"
        },
        "id": "mJrNhnR447-Q",
        "outputId": "53bc3998-ecab-4feb-8168-e5ffeaed63fb"
      },
      "execution_count": 4,
      "outputs": [
        {
          "output_type": "stream",
          "name": "stdout",
          "text": [
            "[1.12062209 0.02135527 0.00129029 0.01456006 0.00373916 0.07200818\n",
            " 0.02096352 0.5202048  0.48108455 0.5005151 ]\n"
          ]
        }
      ]
    },
    {
      "cell_type": "markdown",
      "source": [
        "One minor improvement is that we can use `enumerate` to simpify the loop"
      ],
      "metadata": {
        "id": "6oNpJleQ5KTA"
      }
    },
    {
      "cell_type": "code",
      "source": [
        "c=(a<b)\n",
        "out2=np.zeros(len(a))\n",
        "for i,item in enumerate(c):\n",
        "    if item:\n",
        "        out2[i]=a[i]**2\n",
        "    else:\n",
        "        out2[i]=b[i]**2\n",
        "print(out1)\n",
        "print(out2)"
      ],
      "metadata": {
        "colab": {
          "base_uri": "https://localhost:8080/"
        },
        "id": "vopB20Zh5CKe",
        "outputId": "cf9c12f0-9aeb-425e-e659-c185fae9a879"
      },
      "execution_count": 5,
      "outputs": [
        {
          "output_type": "stream",
          "name": "stdout",
          "text": [
            "[1.12062209 0.02135527 0.00129029 0.01456006 0.00373916 0.07200818\n",
            " 0.02096352 0.5202048  0.48108455 0.5005151 ]\n",
            "[1.12062209 0.02135527 0.00129029 0.01456006 0.00373916 0.07200818\n",
            " 0.02096352 0.5202048  0.48108455 0.5005151 ]\n"
          ]
        }
      ]
    },
    {
      "cell_type": "markdown",
      "source": [
        "To really go futher, we want to use numpy's internal logical operations. The mosy useful of these is `np.where()`. \n",
        "\n",
        "It works as follows:\n",
        "Let's start with one list and we want to do something only when the entry is $> 0$. First we can try just `np.where(list)`"
      ],
      "metadata": {
        "id": "Pli4xpri5TyR"
      }
    },
    {
      "cell_type": "code",
      "source": [
        "in1=np.array([10,4,-2])\n",
        "np.where(in1>0)"
      ],
      "metadata": {
        "colab": {
          "base_uri": "https://localhost:8080/"
        },
        "id": "3Vq0Qz8o5Q3t",
        "outputId": "e0d118cc-d33d-4fd5-d06a-38d28d683efd"
      },
      "execution_count": 6,
      "outputs": [
        {
          "output_type": "execute_result",
          "data": {
            "text/plain": [
              "(array([0, 1]),)"
            ]
          },
          "metadata": {},
          "execution_count": 6
        }
      ]
    },
    {
      "cell_type": "markdown",
      "source": [
        "What this spits out is an array of the points where the condition is true.\n",
        "\n",
        "We can use this to return only those values. This is the same as just putting the array of true and false values. We could already use this, if we realize that if we put an array of value"
      ],
      "metadata": {
        "id": "6196IC5K5hnV"
      }
    },
    {
      "cell_type": "code",
      "source": [
        "print(a)\n",
        "print(a[np.array([0,2,3])])"
      ],
      "metadata": {
        "colab": {
          "base_uri": "https://localhost:8080/"
        },
        "id": "aYXLdKe_5ehD",
        "outputId": "49acb9d8-e940-41bf-c47e-c2f577095c8d"
      },
      "execution_count": 7,
      "outputs": [
        {
          "output_type": "stream",
          "name": "stdout",
          "text": [
            "[-1.05859439 -0.14613443  0.03592056 -0.12066506  0.0611487   0.9595904\n",
            "  0.33304436 -0.72125225 -0.69360259 -0.07638842]\n",
            "[-1.05859439  0.03592056 -0.12066506]\n"
          ]
        }
      ]
    },
    {
      "cell_type": "markdown",
      "source": [
        "The same works for a list/array of true and false (bools)"
      ],
      "metadata": {
        "id": "2gXlJHHf5qVd"
      }
    },
    {
      "cell_type": "code",
      "source": [
        "print(b<0)\n",
        "print(a[b<0])"
      ],
      "metadata": {
        "colab": {
          "base_uri": "https://localhost:8080/"
        },
        "id": "w8UE_4Yh5ofl",
        "outputId": "e7e84302-dc01-4513-d581-2e11e4d2dc21"
      },
      "execution_count": 8,
      "outputs": [
        {
          "output_type": "stream",
          "name": "stdout",
          "text": [
            "[ True False False False False False False False False  True]\n",
            "[-1.05859439 -0.07638842]\n"
          ]
        }
      ]
    },
    {
      "cell_type": "markdown",
      "source": [
        "In this why, `np.where(logical statment)` is doing something relatively simple, that we could have done without it."
      ],
      "metadata": {
        "id": "QYJceQQh5uY_"
      }
    },
    {
      "cell_type": "code",
      "source": [
        "locs1=np.where(in1>0)\n",
        "print(in1[locs1],in1[in1>0])"
      ],
      "metadata": {
        "colab": {
          "base_uri": "https://localhost:8080/"
        },
        "id": "OyjLALWt5sqI",
        "outputId": "992f7276-2233-4030-9e6f-32320ab19a23"
      },
      "execution_count": 9,
      "outputs": [
        {
          "output_type": "stream",
          "name": "stdout",
          "text": [
            "[10  4] [10  4]\n"
          ]
        }
      ]
    },
    {
      "cell_type": "markdown",
      "source": [
        "Of course, `np.where` is meant to do more. It is deside as follows: we call with 3 arguements `np.where(condition,out_true,out_false)`"
      ],
      "metadata": {
        "id": "6GSqbteV50IX"
      }
    },
    {
      "cell_type": "code",
      "source": [
        "print(np.where(in1>0))\n",
        "print(np.where(in1>0,5,-100))"
      ],
      "metadata": {
        "colab": {
          "base_uri": "https://localhost:8080/"
        },
        "id": "ubBvPnwc5ylZ",
        "outputId": "0c0dbac1-b127-4f33-a7c3-ee85f31f6325"
      },
      "execution_count": 10,
      "outputs": [
        {
          "output_type": "stream",
          "name": "stdout",
          "text": [
            "(array([0, 1]),)\n",
            "[   5    5 -100]\n"
          ]
        }
      ]
    },
    {
      "cell_type": "markdown",
      "source": [
        "We can give the outputs for true and false in the form of arrays:"
      ],
      "metadata": {
        "id": "D9BdatUj57C5"
      }
    },
    {
      "cell_type": "code",
      "source": [
        "in2=np.array([2,9,15])\n",
        "in3=np.array([20,25,-3])\n",
        "np.where(in2<in3,in2**2,in3**2)"
      ],
      "metadata": {
        "colab": {
          "base_uri": "https://localhost:8080/"
        },
        "id": "aMqJC5c555XG",
        "outputId": "ad50c1e1-0506-46ff-c04a-8b573e0d51c5"
      },
      "execution_count": 11,
      "outputs": [
        {
          "output_type": "execute_result",
          "data": {
            "text/plain": [
              "array([ 4, 81,  9])"
            ]
          },
          "metadata": {},
          "execution_count": 11
        }
      ]
    },
    {
      "cell_type": "markdown",
      "source": [
        "We can guess what this is doing as follows: let's make the arrays for the outputs and the arrays of true"
      ],
      "metadata": {
        "id": "XlxdpSZt5-3H"
      }
    },
    {
      "cell_type": "code",
      "source": [
        "out_true=in2**2\n",
        "out_false=in3**2\n",
        "\n",
        "truelist=in2<in3"
      ],
      "metadata": {
        "id": "u69A7v3i59L7"
      },
      "execution_count": 12,
      "outputs": []
    },
    {
      "cell_type": "markdown",
      "source": [
        "We will also need to know which elements are false (ie NOT True)"
      ],
      "metadata": {
        "id": "RxfPfoOW6C2u"
      }
    },
    {
      "cell_type": "code",
      "source": [
        "falselist=np.logical_not(truelist)\n",
        "print(truelist,falselist)"
      ],
      "metadata": {
        "colab": {
          "base_uri": "https://localhost:8080/"
        },
        "id": "lR9xdQcc6BRQ",
        "outputId": "34617596-6187-47d9-cabb-e19ab4947cdc"
      },
      "execution_count": 13,
      "outputs": [
        {
          "output_type": "stream",
          "name": "stdout",
          "text": [
            "[ True  True False] [False False  True]\n"
          ]
        }
      ]
    },
    {
      "cell_type": "code",
      "source": [
        "out_comb=np.zeros(len(in2))\n",
        "out_comb[truelist]=out_true[truelist]\n",
        "out_comb[falselist]=out_false[falselist]\n",
        "print(out_comb)"
      ],
      "metadata": {
        "colab": {
          "base_uri": "https://localhost:8080/"
        },
        "id": "KwMlPg7J6FBG",
        "outputId": "1622b8a6-29be-4197-fab4-444c297699b2"
      },
      "execution_count": 14,
      "outputs": [
        {
          "output_type": "stream",
          "name": "stdout",
          "text": [
            "[ 4. 81.  9.]\n"
          ]
        }
      ]
    },
    {
      "cell_type": "markdown",
      "source": [
        "So we see that `np.where` can do a lot of logical operations for us. Now we see how we can get our original problem solved in 1 line:"
      ],
      "metadata": {
        "id": "ECQyVeIz6OI6"
      }
    },
    {
      "cell_type": "code",
      "source": [
        "print(np.where(a<b,a**2,b**2))\n",
        "print(out1)"
      ],
      "metadata": {
        "colab": {
          "base_uri": "https://localhost:8080/"
        },
        "id": "qgmdTWuP6Ggg",
        "outputId": "325a61f4-8c09-4ed1-fe4d-fcfcfc9aa8cf"
      },
      "execution_count": 15,
      "outputs": [
        {
          "output_type": "stream",
          "name": "stdout",
          "text": [
            "[1.12062209 0.02135527 0.00129029 0.01456006 0.00373916 0.07200818\n",
            " 0.02096352 0.5202048  0.48108455 0.5005151 ]\n",
            "[1.12062209 0.02135527 0.00129029 0.01456006 0.00373916 0.07200818\n",
            " 0.02096352 0.5202048  0.48108455 0.5005151 ]\n"
          ]
        }
      ]
    },
    {
      "cell_type": "markdown",
      "source": [
        "In addition, we can use `numpy` to do other logical operators if needed, so we aren't at the mercy of `np.where`"
      ],
      "metadata": {
        "id": "NFLk6Oq16Uvr"
      }
    },
    {
      "cell_type": "code",
      "source": [
        "test1=np.array([0,5,-10])\n",
        "test2=np.array([-1,1,-5])\n",
        "print(np.logical_or(test1<test2,test2>0))\n",
        "print(np.logical_and(test1<test2,test2>0))"
      ],
      "metadata": {
        "colab": {
          "base_uri": "https://localhost:8080/"
        },
        "id": "cqtRI0U_6S5I",
        "outputId": "e0cb372c-068c-4fbf-b06a-0e420eebff96"
      },
      "execution_count": 16,
      "outputs": [
        {
          "output_type": "stream",
          "name": "stdout",
          "text": [
            "[False  True  True]\n",
            "[False False False]\n"
          ]
        }
      ]
    },
    {
      "cell_type": "markdown",
      "source": [
        "## Tricks for Functuons: using *args* or *kwargs*\n",
        "\n",
        "If you look at the documentation for most of the functions, you will see `args` and `kwargs`. These are special kinds of inputs that can be useful.\n",
        "\n",
        "\n",
        "------\n",
        "\n",
        "The first one is `args` which acts like a list, without actually needing it to be a list,\n",
        "Now, the name `args` is just a common use, what really matters is the use of the star (*)\n"
      ],
      "metadata": {
        "id": "gZijdG_36eui"
      }
    },
    {
      "cell_type": "code",
      "source": [
        "def sum_X(X,*argv):\n",
        "  out=0\n",
        "  for arg in argv:\n",
        "    out+=arg\n",
        "  return X*out"
      ],
      "metadata": {
        "id": "J17pBFPd6dnv"
      },
      "execution_count": 17,
      "outputs": []
    },
    {
      "cell_type": "code",
      "source": [
        "print(sum_X(2,1), sum_X(2,1,3), sum_X(2,1,3,4))"
      ],
      "metadata": {
        "colab": {
          "base_uri": "https://localhost:8080/"
        },
        "id": "cusk0-nd7Fzg",
        "outputId": "a259f5fa-fcee-4589-cfed-bb3e4357b1b2"
      },
      "execution_count": 18,
      "outputs": [
        {
          "output_type": "stream",
          "name": "stdout",
          "text": [
            "2 8 16\n"
          ]
        }
      ]
    },
    {
      "cell_type": "markdown",
      "source": [
        "Obviously we could have done the same if we just input a list, however, it is most useful when you want to be able to call functions that take all kinds of different input, depending on the function"
      ],
      "metadata": {
        "id": "8pihxuhw7ZHR"
      }
    },
    {
      "cell_type": "code",
      "source": [
        "def func_of_func(fun,*args):\n",
        "  return fun(2,*args)"
      ],
      "metadata": {
        "id": "MEXU-SDf7Onh"
      },
      "execution_count": 26,
      "outputs": []
    },
    {
      "cell_type": "code",
      "source": [
        "def fun1(x,p=1,q=2):\n",
        "  return x*p*q\n",
        "\n",
        "def fun2(x,p=1):\n",
        "  return x*p"
      ],
      "metadata": {
        "id": "4mrAj23P7pSF"
      },
      "execution_count": 27,
      "outputs": []
    },
    {
      "cell_type": "code",
      "source": [
        "func_of_func(fun1,4,4)"
      ],
      "metadata": {
        "colab": {
          "base_uri": "https://localhost:8080/"
        },
        "id": "i4uqiXjG7xJC",
        "outputId": "472d28b2-3e76-43f9-8203-20089eef5ab9"
      },
      "execution_count": 28,
      "outputs": [
        {
          "output_type": "execute_result",
          "data": {
            "text/plain": [
              "32"
            ]
          },
          "metadata": {},
          "execution_count": 28
        }
      ]
    },
    {
      "cell_type": "code",
      "source": [
        "func_of_func(fun2,4)"
      ],
      "metadata": {
        "colab": {
          "base_uri": "https://localhost:8080/"
        },
        "id": "AHOu5XgC72fC",
        "outputId": "45577e1e-ff3c-4fdb-f217-94888b3e13c5"
      },
      "execution_count": 29,
      "outputs": [
        {
          "output_type": "execute_result",
          "data": {
            "text/plain": [
              "8"
            ]
          },
          "metadata": {},
          "execution_count": 29
        }
      ]
    },
    {
      "cell_type": "markdown",
      "source": [
        "Two stars, usually called `kwargs` is like a dictionary without calling a dictionary. \n",
        "\n",
        "Here you need to input both a key and a value. \n",
        "\n",
        "Recall how a dictionary works:"
      ],
      "metadata": {
        "id": "m_KU29jC8RoY"
      }
    },
    {
      "cell_type": "code",
      "source": [
        "dict1={'a':'hi','b':2}\n",
        "print(dict1.items())\n",
        "print(dict1.keys())\n",
        "print(dict1.values())"
      ],
      "metadata": {
        "colab": {
          "base_uri": "https://localhost:8080/"
        },
        "id": "OwpFFEP48O-K",
        "outputId": "c27617d6-4722-470e-e79e-1db245632789"
      },
      "execution_count": 30,
      "outputs": [
        {
          "output_type": "stream",
          "name": "stdout",
          "text": [
            "dict_items([('a', 'hi'), ('b', 2)])\n",
            "dict_keys(['a', 'b'])\n",
            "dict_values(['hi', 2])\n"
          ]
        }
      ]
    },
    {
      "cell_type": "markdown",
      "source": [
        "We can do something similar with kwargs. We think of the kwargs just like a dictionary"
      ],
      "metadata": {
        "id": "1imaErqG8iFl"
      }
    },
    {
      "cell_type": "code",
      "source": [
        "def kwargs_test(**kwargs):\n",
        "    for arg,n in kwargs.items():\n",
        "        print('hi '+arg)\n",
        "        print(n*4)"
      ],
      "metadata": {
        "id": "QuyB__U48f6b"
      },
      "execution_count": 31,
      "outputs": []
    },
    {
      "cell_type": "markdown",
      "source": [
        "The key difference is that we call it in the form string = something. In this case, we are assuming string=name"
      ],
      "metadata": {
        "id": "tDj8Of_g8nFT"
      }
    },
    {
      "cell_type": "code",
      "source": [
        "kwargs_test(alice=2,bob=50)"
      ],
      "metadata": {
        "colab": {
          "base_uri": "https://localhost:8080/"
        },
        "id": "rb5Xsbwd8lRm",
        "outputId": "1b868379-b2c2-4813-d549-ea4b29483352"
      },
      "execution_count": 32,
      "outputs": [
        {
          "output_type": "stream",
          "name": "stdout",
          "text": [
            "hi alice\n",
            "8\n",
            "hi bob\n",
            "200\n"
          ]
        }
      ]
    },
    {
      "cell_type": "markdown",
      "source": [
        "But we could make a version with string = string"
      ],
      "metadata": {
        "id": "KtTWJNnU8vbt"
      }
    },
    {
      "cell_type": "code",
      "source": [
        "def kwargs_test2(**kwargs):\n",
        "    for arg,name in kwargs.items():\n",
        "        print('hi '+arg)\n",
        "        print('hi '+name)"
      ],
      "metadata": {
        "id": "UbMkrgH98qFz"
      },
      "execution_count": 33,
      "outputs": []
    },
    {
      "cell_type": "code",
      "source": [
        "kwargs_test2(alice='a',bob='50')"
      ],
      "metadata": {
        "colab": {
          "base_uri": "https://localhost:8080/"
        },
        "id": "cb2RP_lU8yFN",
        "outputId": "b8a2ae4a-875c-4d32-bd19-45c925d6ad5e"
      },
      "execution_count": 34,
      "outputs": [
        {
          "output_type": "stream",
          "name": "stdout",
          "text": [
            "hi alice\n",
            "hi a\n",
            "hi bob\n",
            "hi 50\n"
          ]
        }
      ]
    },
    {
      "cell_type": "markdown",
      "source": [
        "Using dictionary ideas, we can also just run over the keys or values"
      ],
      "metadata": {
        "id": "bVs2ivw182H9"
      }
    },
    {
      "cell_type": "code",
      "source": [
        "def kwargs_test3(**kwargs):\n",
        "    for key in kwargs.keys():\n",
        "        print(key)\n",
        "    for val in kwargs.values():\n",
        "        print(val)"
      ],
      "metadata": {
        "id": "Vi1zFaKE8z5w"
      },
      "execution_count": 35,
      "outputs": []
    },
    {
      "cell_type": "code",
      "source": [
        "kwargs_test3(alice=2,bob=50)"
      ],
      "metadata": {
        "colab": {
          "base_uri": "https://localhost:8080/"
        },
        "id": "rI9mg6cl84oy",
        "outputId": "1d91df39-ce0d-41f9-c521-1e5597d953eb"
      },
      "execution_count": 36,
      "outputs": [
        {
          "output_type": "stream",
          "name": "stdout",
          "text": [
            "alice\n",
            "bob\n",
            "2\n",
            "50\n"
          ]
        }
      ]
    },
    {
      "cell_type": "markdown",
      "source": [
        "Now you can understand how `plt.plot (ax.plot)` work. All of the special features of the line are input as kwargs, as we already know from experience. Now we can understand how we could have done this ourselves, if we wanted to."
      ],
      "metadata": {
        "id": "mTtWZczD88im"
      }
    }
  ]
}