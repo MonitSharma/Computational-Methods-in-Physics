{
  "nbformat": 4,
  "nbformat_minor": 0,
  "metadata": {
    "colab": {
      "name": "Copy of Computational_Physics_II.ipynb",
      "provenance": [],
      "collapsed_sections": [
        "JCeUaWguIAQq",
        "oLLpnM9-u9o2",
        "wfZHEw6Goe4M",
        "KqOngwoLaXoR",
        "jasTGbxYagb9",
        "-nUzXWS7e_mr",
        "5_msWm3OiZWS",
        "CjkBSuqlxdiR"
      ]
    },
    "kernelspec": {
      "name": "python3",
      "display_name": "Python 3"
    },
    "language_info": {
      "name": "python"
    }
  },
  "cells": [
    {
      "cell_type": "markdown",
      "metadata": {
        "id": "JCeUaWguIAQq"
      },
      "source": [
        "# Lab 1"
      ]
    },
    {
      "cell_type": "markdown",
      "metadata": {
        "id": "qER-8jfGH9Gz"
      },
      "source": [
        "## Euler's Method\n",
        "### Problem 1\n",
        "\n",
        "Solve the following IVP using Euler's Method:\n",
        "\n",
        "$ x'(t) = -\\sin(t+x)$\n",
        "\n",
        "$ x(0) = -\\pi/2$,\n",
        "\n",
        "where the exact solution is $ x = \\sin^{-1} \\bigg(\\frac{1-t^2}{1+t^2}\\bigg) - t$"
      ]
    },
    {
      "cell_type": "code",
      "metadata": {
        "colab": {
          "base_uri": "https://localhost:8080/"
        },
        "id": "YkJNzWmHHvs1",
        "outputId": "385c4fce-5100-436a-b10a-698d80b92f6e"
      },
      "source": [
        "'''\n",
        "We are trying to solve an Ordinary Differential Equation\n",
        "using the Euler's method. For this example we are taking\n",
        "the example of:\n",
        "dy/dt = -ky : IVP => y = y0 for t = 0\n",
        "We will solve this without using the scipy\n",
        "odeint package\n",
        "'''\n",
        "\n",
        "# import the basic libraries\n",
        "import math\n",
        "import numpy as np                # used for numerical analysis\n",
        "import matplotlib.pyplot as plt   # used for plotting Graphs\n",
        "\n",
        "# initialize the problem\n",
        "x0 = -np.pi/2\n",
        "t =0\n",
        "x = x0\n",
        "#k ,t , y =  1, 0.0, 5.0\n",
        "#y0 = y\n",
        "tt, yy = [], []\n",
        "tf = 2                         # final value for the time\n",
        "\n",
        "dt = 0.05                         # step size\n",
        "#exact_sol = []\n",
        "# describing the equation in function\n",
        "\n",
        "def f(t,x):\n",
        "    return -math.sin(t+x)\n",
        "\n",
        "\n",
        "# now thw Euler method\n",
        "exact_sol = []\n",
        "while t<= tf:\n",
        "    tt.append(t)\n",
        "    yy.append(x)\n",
        "    x = x+dt*f(t,x)\n",
        "    exact = -math.asin((1-t**2)/(1+t**2)) - t\n",
        "    exact_sol.append(exact)\n",
        "    #exact = -math.asin((1-t**2)/(1+t**2))\n",
        "    #exact_sol.append(exact)\n",
        "\n",
        "    t += dt\n",
        "\n",
        "\n",
        "# finding the Exact Result\n",
        "\n",
        "\n",
        "#time \n",
        "exact = -math.asin((1-t**2)/(1+t**2)) - t\n",
        "\n",
        "    \n",
        "#print(exact)\n",
        "# now the Plotting part\n",
        "print(len(tt))\n",
        "\n",
        "plt.plot(tt,yy,'o', label=\"dt=%.4f\"%(dt))\n",
        "plt.plot(tt, exact_sol,'k', label=\"Exact Solution\")\n",
        "plt.xlabel(\"time\")\n",
        "plt.ylabel('y')\n",
        "plt.legend(loc='best')\n",
        "\n",
        "\n",
        "# plotting the absolute error\n",
        "\n",
        "plt.legend(loc='best')\n",
        "\n",
        "plt.title(\"ODE by Euler Method\")\n",
        "plt.show()\n",
        "plt.savefig('Euler_Method.png')"
      ],
      "execution_count": null,
      "outputs": [
        {
          "output_type": "stream",
          "name": "stdout",
          "text": [
            "40\n"
          ]
        },
        {
          "output_type": "display_data",
          "data": {
            "image/png": "[encoded data removed]",
            "text/plain": [
              "<Figure size 432x288 with 1 Axes>"
            ]
          },
          "metadata": {
            "needs_background": "light"
          }
        },
        {
          "output_type": "display_data",
          "data": {
            "text/plain": [
              "<Figure size 432x288 with 0 Axes>"
            ]
          },
          "metadata": {}
        }
      ]
    },
    {
      "cell_type": "code",
      "metadata": {
        "colab": {
          "base_uri": "https://localhost:8080/",
          "height": 234
        },
        "id": "qTWm0bQSQlk4",
        "outputId": "5d1f0bb4-0d33-4a16-a42a-f6b0b33652ef"
      },
      "source": [
        "# Euler's Method\n",
        "\n",
        "f = lambda t,x : -np.sin(t + x)\n",
        "n = 100\n",
        "k = 2/n\n",
        "t = np.linspace(0,2,n)\n",
        "x = np.zeros(n)\n",
        "x[0] = -np.pi/2\n",
        "\n",
        "for i in range(n-1):\n",
        "  x[i+1] = x[i] + k*f(t[i],x[i])\n",
        "\n",
        "plt.plot(t,x,'b')\n",
        "plt.plot(t,-np.arcsin((1-t*t)/(1+t*t))-t,'g')"
      ],
      "execution_count": null,
      "outputs": [
        {
          "output_type": "error",
          "ename": "NameError",
          "evalue": "ignored",
          "traceback": [
            "\u001b[0;31m---------------------------------------------------------------------------\u001b[0m",
            "\u001b[0;31mNameError\u001b[0m                                 Traceback (most recent call last)",
            "\u001b[0;32m<ipython-input-1-4bba4204b9f4>\u001b[0m in \u001b[0;36m<module>\u001b[0;34m()\u001b[0m\n\u001b[1;32m      4\u001b[0m \u001b[0mn\u001b[0m \u001b[0;34m=\u001b[0m \u001b[0;36m100\u001b[0m\u001b[0;34m\u001b[0m\u001b[0;34m\u001b[0m\u001b[0m\n\u001b[1;32m      5\u001b[0m \u001b[0mk\u001b[0m \u001b[0;34m=\u001b[0m \u001b[0;36m2\u001b[0m\u001b[0;34m/\u001b[0m\u001b[0mn\u001b[0m\u001b[0;34m\u001b[0m\u001b[0;34m\u001b[0m\u001b[0m\n\u001b[0;32m----> 6\u001b[0;31m \u001b[0mt\u001b[0m \u001b[0;34m=\u001b[0m \u001b[0mnp\u001b[0m\u001b[0;34m.\u001b[0m\u001b[0mlinspace\u001b[0m\u001b[0;34m(\u001b[0m\u001b[0;36m0\u001b[0m\u001b[0;34m,\u001b[0m\u001b[0;36m2\u001b[0m\u001b[0;34m,\u001b[0m\u001b[0mn\u001b[0m\u001b[0;34m)\u001b[0m\u001b[0;34m\u001b[0m\u001b[0;34m\u001b[0m\u001b[0m\n\u001b[0m\u001b[1;32m      7\u001b[0m \u001b[0mx\u001b[0m \u001b[0;34m=\u001b[0m \u001b[0mnp\u001b[0m\u001b[0;34m.\u001b[0m\u001b[0mzeros\u001b[0m\u001b[0;34m(\u001b[0m\u001b[0mn\u001b[0m\u001b[0;34m)\u001b[0m\u001b[0;34m\u001b[0m\u001b[0;34m\u001b[0m\u001b[0m\n\u001b[1;32m      8\u001b[0m \u001b[0mx\u001b[0m\u001b[0;34m[\u001b[0m\u001b[0;36m0\u001b[0m\u001b[0;34m]\u001b[0m \u001b[0;34m=\u001b[0m \u001b[0;34m-\u001b[0m\u001b[0mnp\u001b[0m\u001b[0;34m.\u001b[0m\u001b[0mpi\u001b[0m\u001b[0;34m/\u001b[0m\u001b[0;36m2\u001b[0m\u001b[0;34m\u001b[0m\u001b[0;34m\u001b[0m\u001b[0m\n",
            "\u001b[0;31mNameError\u001b[0m: name 'np' is not defined"
          ]
        }
      ]
    },
    {
      "cell_type": "code",
      "metadata": {
        "colab": {
          "base_uri": "https://localhost:8080/"
        },
        "id": "Yz5hZeg7LA9J",
        "outputId": "d8615598-6086-4f03-8173-4c715e45eba0"
      },
      "source": [
        "# Python Code to find approximation\n",
        "# of a ordinary differential equation\n",
        "# using euler method.\n",
        " \n",
        "# Consider a differential equation\n",
        "xx = []\n",
        "yy = []\n",
        "def func( t, y ):\n",
        "    return (-np.sin(x+y))\n",
        "     \n",
        "# Function for euler formula\n",
        "def euler( x0, y, h, x ):\n",
        "    temp = -0\n",
        " \n",
        "    # Iterating till the point at which we\n",
        "    # need approximation\n",
        "    while x0 < x:\n",
        "        xx.append(x)\n",
        "        yy.append(y)\n",
        "        temp = y\n",
        "        y = y + h * func(x0, y)\n",
        "        x0 = x0 + h\n",
        "        \n",
        " \n",
        "    # Printing approximation\n",
        "    print(\"Approximate solution at time = \", x, \" is \", \"%.6f\"% y)\n",
        "     \n",
        "# Driver Code\n",
        "# Initial Values\n",
        "x0 = 0\n",
        "y0 = -np.pi/2\n",
        "h = 0.025\n",
        " \n",
        "# Value of x at which we need approximation\n",
        "x = 2\n",
        " \n",
        "euler(x0, y0, h, x)"
      ],
      "execution_count": null,
      "outputs": [
        {
          "output_type": "stream",
          "name": "stdout",
          "text": [
            "Approximate solution at time =  2  is  -1.943906\n"
          ]
        }
      ]
    },
    {
      "cell_type": "markdown",
      "metadata": {
        "id": "p22kQFWiMlxI"
      },
      "source": [
        "## Taylor-Series Method of order 4\n",
        "\n",
        "### Problem 2\n",
        "\n",
        "Solve the following IVP in the interval $[-1,1]$ using Taylor-Series method of order $4$:    \n",
        "\n",
        "$ x'  = \\cos(t) - \\sin(x) + t^2$\n",
        "\n",
        "$ x(-1) = 3$"
      ]
    },
    {
      "cell_type": "code",
      "metadata": {
        "colab": {
          "base_uri": "https://localhost:8080/"
        },
        "id": "gIObCwBDL7-i",
        "outputId": "df9450ab-0e58-45ed-8ec4-1763a7862769"
      },
      "source": [
        "# importing the basic libraries\n",
        "from sympy import *                             # used for symbols in mathematics\n",
        "import math                                     # used for math function\n",
        "import numpy as np                              # used for numerical analysis and other\n",
        "import matplotlib.pyplot as plt                 # used for plotting the graphs and saving them\n",
        "\n",
        "\n",
        "\n",
        "# we will begin by defining the function \n",
        "# given to us , and then the four orders\n",
        "# of derivatives\n",
        "\n",
        "'''\n",
        "The first order derivative , and this function\n",
        "is given to us\n",
        "'''\n",
        "def f1(t,x):\n",
        "    return math.cos(t) - math.sin(x) + t**2\n",
        " \n",
        "\n",
        "# now we differentiate the same function and find the \n",
        "# next orders of derivatives\n",
        "def f2(t,x):\n",
        "    return -math.sin(t) - math.cos(x)*f1(t,x) + 2*t\n",
        "\n",
        "def f3(t,x):\n",
        "    return -math.cos(t) + 2 - f2(t,x) * math.cos(x) + math.sin(x)*f1(t,x)**2\n",
        "\n",
        "def f4(t,x):\n",
        "    return math.sin(t) - (f2(t,x)*f1(t,x)*(-math.sin(x)) + math.cos(x)* f3(t,x)) + (math.cos(x)* f1(t,x)**3 + math.sin(x) * 2* f2(t,x) )\n",
        "\n",
        "\n",
        "# also the function that finds the Error\n",
        "\n",
        "def error(dt,m):\n",
        "    return ((dt**m)/factorial(m+1)) * (xx[len(xx)-1] - xx[len(xx)-2])\n",
        "\n",
        "\n",
        "\n",
        "# and the exact solution to the problem(for reference)\n",
        "#def exact(t):\n",
        "#    return math.sqrt(np.pi)*math.erf(t)*0.5\n",
        "\n",
        "\n",
        "\n",
        "# Now we write down the values known to us\n",
        "m = 4                       # order parameter\n",
        "dt = 0.09                    # step Size\n",
        "t,x = -1 ,3                 # initial values of both\n",
        "tf = 1                      # final point to reach\n",
        "#xe = 0                      # for the error\n",
        "# initialised arrays for graph plotting\n",
        "tt = []\n",
        "xx = []\n",
        "#xxe = []\n",
        "\n",
        "# now the loop\n",
        "\n",
        "while t<=tf:\n",
        "    tt.append(t)                     # append the empty list for x-axis for each time step\n",
        "    xx.append(x)                     # append this empty list for the y-axis for each value of x\n",
        "    #xxe.append(xe)\n",
        "    x = x+dt*f1(t,x) + np.power(dt,2)/2*f2(t,x) + np.power(dt,3)/6*f3(t,x) + np.power(dt,4)/24*f4(t,x)       # the taylor series\n",
        "    #xe = exact(t)\n",
        "    t+= dt                           # increase the time step by 0.1\n",
        "\n",
        "\n",
        "\n",
        "\n",
        "\n",
        "# Plotting and Visualization\n",
        "\n",
        "#plt.plot(t,erf(t),color=\"#A60628\", linewidth = 2, label ='erf(x)')\n",
        "#plt.savefig(\"test.png\")\n",
        "\n",
        "plt.plot(tt,xx,'o',linewidth=2,color='red', label ='Taylor Method Order = 4')\n",
        "#plt.plot(t,math.sqrt(np.pi)*erf(t)*0.5,'b-',linewidth=2,label= 'Exact Solution')\n",
        "plt.xlabel('t')\n",
        "plt.ylabel('x(t)')\n",
        "plt.legend()\n",
        "plt.savefig('Taylor_Method.png')\n",
        "\n",
        "\n"
      ],
      "execution_count": null,
      "outputs": [
        {
          "output_type": "display_data",
          "data": {
            "image/png": "[encoded data removed]",
            "text/plain": [
              "<Figure size 432x288 with 1 Axes>"
            ]
          },
          "metadata": {
            "needs_background": "light"
          }
        }
      ]
    },
    {
      "cell_type": "markdown",
      "metadata": {
        "id": "t3zC5QRQPAVi"
      },
      "source": [
        "## Taylor Series method of order 3\n",
        "\n",
        "### Problem 3\n",
        "\n",
        "Solve the following delay-differential equation using the Taylor-Series method of order 3:     \n",
        "$ x'(t) = x(t-1)$; $(t\\ge0)$\n",
        "\n",
        "$ x(t) = t^2 $ ; $(-1 \\le t \\le 0)$"
      ]
    },
    {
      "cell_type": "code",
      "metadata": {
        "colab": {
          "base_uri": "https://localhost:8080/",
          "height": 279
        },
        "id": "WzKsxfTPPHjL",
        "outputId": "9954df22-fc83-46e7-8732-828f35d2b0ea"
      },
      "source": [
        "# importing the basic libraries\n",
        "from sympy import *                             # used for symbols in mathematics\n",
        "import math                                     # used for math function\n",
        "import numpy as np                              # used for numerical analysis and other\n",
        "import matplotlib.pyplot as plt                 # used for plotting the graphs and saving them\n",
        "\n",
        "\n",
        "\n",
        "# we will begin by defining the function \n",
        "# given to us , and then the four orders\n",
        "# of derivatives\n",
        "\n",
        "'''\n",
        "The first order derivative , and this function\n",
        "is given to us\n",
        "'''\n",
        "def f1(t,x):\n",
        "    return (t-1)**2\n",
        " \n",
        "\n",
        "# now we differentiate the same function and find the \n",
        "# next orders of derivatives\n",
        "def f2(t,x):\n",
        "    return 2*(t-1)\n",
        "\n",
        "def f3(t,x):\n",
        "    return 2\n",
        "\n",
        "\n",
        "\n",
        "\n",
        "\n",
        "\n",
        "\n",
        "\n",
        "# and the exact solution to the problem(for reference)\n",
        "#def exact(t):\n",
        "#    return math.sqrt(np.pi)*math.erf(t)*0.5\n",
        "\n",
        "\n",
        "\n",
        "# Now we write down the values known to us\n",
        "m = 3                       # order parameter\n",
        "dt = 0.05                    # step Size\n",
        "t,x = 0 ,0                 # initial values of both\n",
        "tf = 2                      # final point to reach\n",
        "#xe = 0                      # for the error\n",
        "# initialised arrays for graph plotting\n",
        "tt = []\n",
        "xx = []\n",
        "#xxe = []\n",
        "\n",
        "# now the loop\n",
        "\n",
        "while t<=tf:\n",
        "    tt.append(t)                     # append the empty list for x-axis for each time step\n",
        "    xx.append(x)                     # append this empty list for the y-axis for each value of x\n",
        "    #xxe.append(xe)\n",
        "    x = x+dt*f1(t,x) + np.power(dt,2)/2*f2(t,x) + np.power(dt,3)/6*f3(t,x)        # the taylor series\n",
        "    #xe = exact(t)\n",
        "    t+= dt                           # increase the time step by 0.1\n",
        "\n",
        "\n",
        "\n",
        "\n",
        "\n",
        "# Plotting and Visualization\n",
        "\n",
        "#plt.plot(t,erf(t),color=\"#A60628\", linewidth = 2, label ='erf(x)')\n",
        "#plt.savefig(\"test.png\")\n",
        "\n",
        "plt.plot(tt,xx,'--',linewidth=2,color='red', label ='Taylor Method Order = 3')\n",
        "#plt.plot(t,math.sqrt(np.pi)*erf(t)*0.5,'b-',linewidth=2,label= 'Exact Solution')\n",
        "plt.xlabel('t')\n",
        "plt.ylabel('x(t)')\n",
        "plt.legend()\n",
        "plt.savefig('Taylor_Method_order_3.png')\n",
        "\n",
        "\n"
      ],
      "execution_count": null,
      "outputs": [
        {
          "output_type": "display_data",
          "data": {
            "image/png": "[encoded data removed]",
            "text/plain": [
              "<Figure size 432x288 with 1 Axes>"
            ]
          },
          "metadata": {
            "needs_background": "light"
          }
        }
      ]
    },
    {
      "cell_type": "markdown",
      "metadata": {
        "id": "eiZqWZxLX7G2"
      },
      "source": [
        "\n",
        "## Taylor-Series Method of order 4\n",
        "### Problem 4\n"
      ]
    },
    {
      "cell_type": "markdown",
      "metadata": {
        "id": "BeW_wHvgYGqZ"
      },
      "source": [
        "Use the Taylor-Series method of order $4$ to compute $\\int e^{-t^2} ds$ by solving the IVP on the interval $ t \\in [0,2]$\n",
        "\n",
        "$ x' = e^{-t^2}$\n",
        "\n",
        "$x(0) = 0 $"
      ]
    },
    {
      "cell_type": "code",
      "metadata": {
        "colab": {
          "base_uri": "https://localhost:8080/",
          "height": 403
        },
        "id": "pKU3wkzkXfzC",
        "outputId": "ffa3e150-9ab8-4510-accb-6e9ce5667be5"
      },
      "source": [
        "'''\n",
        "Use the Taylor Series method of order 4 to compute $\\int_0^2 e^-s^2 ds\n",
        "by solving the Initial Value problem on the interval t \\in [0,2]\n",
        "Given dx/dt = e^-t^2\n",
        "and   x(0) = 0\n",
        "Check from the table of error function x(2) = (pi^(1/2)/2). erf(2) = 0.8820813907\n",
        "We need to find the derivative till the fourth order of the Given function, and add them to a Taylor\n",
        "Series to form the solution\n",
        "'''\n",
        "\n",
        "# importing the basic libraries\n",
        "from sympy import *                             # used for symbols in mathematics\n",
        "import math                                     # used for math function\n",
        "import numpy as np                              # used for numerical analysis and other\n",
        "import matplotlib.pyplot as plt                 # used for plotting the graphs and saving them\n",
        "\n",
        "\n",
        "\n",
        "# we will begin by defining the function \n",
        "# given to us , and then the four orders\n",
        "# of derivatives\n",
        "\n",
        "'''\n",
        "The first order derivative , and this function\n",
        "is given to us\n",
        "'''\n",
        "def f1(t,x):\n",
        "    return exp((-t**2))\n",
        "\n",
        "\n",
        "# now we differentiate the same function and find the \n",
        "# next orders of derivatives\n",
        "def f2(t,x):\n",
        "    return -2*t*f1(t,x)\n",
        "\n",
        "def f3(t,x):\n",
        "    return 4*np.power(t,2)*f1(t,x) - 2*f1(t,x)\n",
        "\n",
        "def f4(t,x):\n",
        "    return 12*t*f1(t,x) - 8*np.power(t,3)*f1(t,x)\n",
        "\n",
        "\n",
        "# also the function that finds the Error\n",
        "\n",
        "def error(dt,m):\n",
        "    return ((dt**m)/factorial(m+1)) * (xx[len(xx)-1] - xx[len(xx)-2])\n",
        "\n",
        "\n",
        "\n",
        "# and the exact solution to the problem(for reference)\n",
        "def exact(t):\n",
        "    return math.sqrt(np.pi)*math.erf(t)*0.5\n",
        "\n",
        "\n",
        "\n",
        "# Now we write down the values known to us\n",
        "m = 4                       # order parameter\n",
        "dt = 0.04                    # step Size\n",
        "t,x = 0 ,0                    # initial values of both\n",
        "tf = 2                      # final point to reach\n",
        "xe = 0\n",
        "# initialised arrays for graph plotting\n",
        "tt = []\n",
        "xx = []\n",
        "xxe = []\n",
        "\n",
        "# now the loop\n",
        "\n",
        "while t<=tf:\n",
        "    tt.append(t)                     # append the empty list for x-axis for each time step\n",
        "    xx.append(x)                     # append this empty list for the y-axis for each value of x\n",
        "    xxe.append(xe)\n",
        "    x = x+dt*f1(t,x) + np.power(dt,2)/2*f2(t,x) + np.power(dt,3)/6*f3(t,x) + np.power(dt,4)/24*f4(t,x)       # the taylor series\n",
        "    #xe = exact(t)\n",
        "    t+= dt                           # increase the time step by 0.1\n",
        "\n",
        "\n",
        "\n",
        "\n",
        "\n",
        "# Plotting and Visualization\n",
        "\n",
        "import scipy\n",
        "\n",
        "from scipy.special import erf\n",
        "t = np.linspace(0,2,500)\n",
        "#plt.plot(t,erf(t),color=\"#A60628\", linewidth = 2, label ='erf(x)')\n",
        "#plt.savefig(\"test.png\")\n",
        "\n",
        "plt.plot(tt,xx,'o',linewidth=2,color='red', label ='Taylor Method Order = 4')\n",
        "plt.plot(t,math.sqrt(np.pi)*erf(t)*0.5,'b-',linewidth=2,label= 'Exact Solution')\n",
        "plt.xlabel('t')\n",
        "plt.ylabel('x(t)')\n",
        "plt.legend()\n",
        "plt.savefig('Taylor_Method3.png')\n",
        "\n",
        "\n",
        "\n",
        "# checking for the value at t = 2\n",
        "# writing all the values \n",
        "\n",
        "print(\"The Value that x(t) takes for different t:\\n\", xx)\n",
        "\n",
        "# printing the error\n",
        "\n",
        "print(\"The Error Value is:\\n \",error(dt,m))\n",
        "\n",
        "#  difference between exact value and Taylor approximated\n",
        "\n",
        "print(\"The Difference between the Exact solution at t = 2 and Taylor approximated is:\\n\", math.erf(2)-xx[len(xx)-1])\n"
      ],
      "execution_count": null,
      "outputs": [
        {
          "output_type": "stream",
          "name": "stdout",
          "text": [
            "The Value that x(t) takes for different t:\n",
            " [0, 0.0399786666666667, 0.0798296401513493, 0.119426449591916, 0.158645049177435, 0.197364982411731, 0.235470489666343, 0.272851542087631, 0.309404786537561, 0.345034388178703, 0.379652759507370, 0.413181167034389, 0.445550209345733, 0.476700162878189, 0.506581194350816, 0.535153441335947, 0.562386964872224, 0.588261580260978, 0.612766574197531, 0.635900318130622, 0.657669789185446, 0.678090011107673, 0.697183428476599, 0.714979227893971, 0.731512619989386, 0.746824095910221, 0.760958671507844, 0.773965131723072, 0.785895286747485, 0.796803250432312, 0.806744750173695, 0.815776476163793, 0.823955476501887, 0.831338603247320, 0.837982013102548, 0.843940725071965, 0.849268236178236, 0.854016195155630, 0.858234132997235, 0.861969248322742, 0.865266244763782, 0.868167216937756, 0.870711581097766, 0.872936046201010, 0.874874620922820, 0.876558652048084, 0.878016889683595, 0.879275574840225, 0.880358545118200, 0.881287354477451]\n",
            "The Error Value is:\n",
            "  1.98145996640117e-11\n",
            "The Difference between the Exact solution at t = 2 and Taylor approximated is:\n",
            " 0.114034910541502\n"
          ]
        },
        {
          "output_type": "display_data",
          "data": {
            "image/png": "[encoded data removed]",
            "text/plain": [
              "<Figure size 432x288 with 1 Axes>"
            ]
          },
          "metadata": {
            "needs_background": "light"
          }
        }
      ]
    },
    {
      "cell_type": "markdown",
      "metadata": {
        "id": "QZbLbGWqYwyF"
      },
      "source": [
        "## Runge-Kutta method of Order 4 && Rungw-Kutta Fehlberg Method\n",
        "\n",
        "### Problem 5\n",
        " Solve the following IVP on the interval $[1,3]$\n",
        "\n",
        " $ x' = t^{-2} (tx - x^2)$\n",
        "\n",
        " $x(1) = 2$\n",
        "\n",
        " using the Runge Kutta Method and the adaptive runge kutta method\n"
      ]
    },
    {
      "cell_type": "markdown",
      "metadata": {
        "id": "fymsrL7EZGXP"
      },
      "source": [
        "Solve the IVP on the interval $[1,3]$\n",
        "\n",
        "$ x' = t^{-2} (tx - x^2)$\n",
        "\n",
        "$ x(1) = 2$"
      ]
    },
    {
      "cell_type": "code",
      "metadata": {
        "colab": {
          "base_uri": "https://localhost:8080/",
          "height": 678
        },
        "id": "7JD1hjA1Ytgb",
        "outputId": "a876a1ec-bdf1-4dbf-f8c4-81dd72437cd2"
      },
      "source": [
        "import math\n",
        "import matplotlib.pyplot as plt\n",
        "\n",
        "# function\n",
        "dy = lambda t,x: (t**(-2))*(t*x - x**2)\n",
        "f = lambda t: ((0.5 + ln(t))**(-1))*t\n",
        "\n",
        "#initialization\n",
        "\n",
        "ti = 1\n",
        "tf = 3\n",
        "h = 0.1\n",
        "n = int((tf-ti)/h)\n",
        "t = 1\n",
        "x = 2\n",
        "\n",
        "# visualization\n",
        "print('t  \\t\\t x \\t\\t f(t)')\n",
        "print('%f \\t %f \\t %f'% (t,x,f(t)))\n",
        "\n",
        "\n",
        "t_plot = []\n",
        "x_RK4 = []\n",
        "x_analytical = []\n",
        "\n",
        "\n",
        "# RK4 method\n",
        "for i in range(1, n+1):\n",
        "  t_plot.append(t)\n",
        "  x_RK4.append(x)\n",
        "  x_analytical.append(f(t))\n",
        "\n",
        "  # Euler method\n",
        "  k1 = dy(t,x)\n",
        "  k2 = dy(t+h/2, x + k1*h/2)\n",
        "  k3 = dy(t+h/2, x + k2*h/2)\n",
        "  k4 = dy(t+h, x+ k3*h)\n",
        "\n",
        "\n",
        "  # new estimation\n",
        "  x = x + 1/6 *(k1 + 2*k2 + 2*k3 +k4) *h\n",
        "  # increase by the step size\n",
        "  t = t+h\n",
        "  print('%f \\t %f \\t %f'% (t,x,f(t)))\n",
        "\n",
        "\n",
        "# visualization\n",
        "t_plot.append(t)\n",
        "x_RK4.append(x)\n",
        "x_analytical.append(f(t))\n",
        "\n",
        "plt.plot(t_plot, x_RK4, 'ro', t_plot, x_analytical)\n",
        "plt.xlabel('x')\n",
        "plt.ylabel('y')\n",
        "plt.legend([\"RK4\",\"Analytical\"])\n"
      ],
      "execution_count": null,
      "outputs": [
        {
          "output_type": "stream",
          "name": "stdout",
          "text": [
            "t  \t\t x \t\t f(t)\n",
            "1.000000 \t 2.000000 \t 2.000000\n",
            "1.100000 \t 1.847767 \t 1.847776\n",
            "1.200000 \t 1.758692 \t 1.758702\n",
            "1.300000 \t 1.705212 \t 1.705222\n",
            "1.400000 \t 1.673687 \t 1.673696\n",
            "1.500000 \t 1.656599 \t 1.656607\n",
            "1.600000 \t 1.649471 \t 1.649478\n",
            "1.700000 \t 1.649472 \t 1.649479\n",
            "1.800000 \t 1.654729 \t 1.654736\n",
            "1.900000 \t 1.663954 \t 1.663961\n",
            "2.000000 \t 1.676233 \t 1.676239\n",
            "2.100000 \t 1.690900 \t 1.690907\n",
            "2.200000 \t 1.707462 \t 1.707468\n",
            "2.300000 \t 1.725543 \t 1.725549\n",
            "2.400000 \t 1.744854 \t 1.744860\n",
            "2.500000 \t 1.765169 \t 1.765174\n",
            "2.600000 \t 1.786308 \t 1.786314\n",
            "2.700000 \t 1.808129 \t 1.808134\n",
            "2.800000 \t 1.830515 \t 1.830521\n",
            "2.900000 \t 1.853372 \t 1.853378\n",
            "3.000000 \t 1.876622 \t 1.876628\n"
          ]
        },
        {
          "output_type": "execute_result",
          "data": {
            "text/plain": [
              "<matplotlib.legend.Legend at 0x7f48657a71d0>"
            ]
          },
          "metadata": {},
          "execution_count": 16
        },
        {
          "output_type": "display_data",
          "data": {
            "image/png": "[encoded data removed]",
            "text/plain": [
              "<Figure size 432x288 with 1 Axes>"
            ]
          },
          "metadata": {
            "needs_background": "light"
          }
        }
      ]
    },
    {
      "cell_type": "code",
      "metadata": {
        "colab": {
          "base_uri": "https://localhost:8080/",
          "height": 282
        },
        "id": "SBrE1HD_QwpT",
        "outputId": "99e4075f-7eab-40b3-d0a6-7ed81da734d5"
      },
      "source": [
        "# RK2/4\n",
        "import numpy as np\n",
        "import matplotlib.pyplot as plt\n",
        "n = 256\n",
        "t = np.linspace(1,3,256)\n",
        "h = 2/n\n",
        "x = np.zeros(n)\n",
        "x[0] = 2\n",
        "f = lambda t,x: (t*x - x*x)/(t*t)\n",
        "\n",
        "for i in range(n-1):\n",
        "  k1 = f(t[i],x[i])\n",
        "  k2 = f(t[i]+h,x[i] + h*k1)\n",
        "  x[i+1] = x[i] + h/2*(k1+k2)#RK2\n",
        "#for i in range(n-1):\n",
        "#  k1 = f(t[i],x[i])\n",
        " # k2 = f(t[i]+h/2,x[i] + h*k1/2)\n",
        " # k3 = f(t[i]+h/2,x[i] + h*k2/2)\n",
        " # k4 = f(t[i]+h,x[i] + h*k3)\n",
        "#  x[i+1] = x[i] + h/6*(k1+2*k2+2*k3+k4)#RK4\n",
        "\n",
        "plt.plot(t,x)\n",
        "plt.plot(t,t/(0.5 + np.log(t))) "
      ],
      "execution_count": null,
      "outputs": [
        {
          "output_type": "execute_result",
          "data": {
            "text/plain": [
              "[<matplotlib.lines.Line2D at 0x7f6033e45610>]"
            ]
          },
          "metadata": {},
          "execution_count": 4
        },
        {
          "output_type": "display_data",
          "data": {
            "image/png": "[encoded data removed]",
            "text/plain": [
              "<Figure size 432x288 with 1 Axes>"
            ]
          },
          "metadata": {
            "needs_background": "light"
          }
        }
      ]
    },
    {
      "cell_type": "markdown",
      "metadata": {
        "id": "Szn7sNi1t_ZH"
      },
      "source": [
        "## Runge-Kutta-Fehlberg (RKF45) method\n",
        "\n",
        "\n",
        "\n",
        "\n"
      ]
    },
    {
      "cell_type": "code",
      "metadata": {
        "id": "PP3bqqxWnt7x"
      },
      "source": [
        "#include <stdio.h>\n",
        "#include <stdlib.h>\n",
        "#include <math.h>\n",
        "#define min(a, b) ((a) < (b) ? (a) : (b)) \n",
        "\n",
        "double f (double t, double y);\n",
        "\n",
        "int main ()\n",
        "{\n",
        "\tdouble x0,y0,k1,k2,k3,k4,k5,k6,w,w1,w2,y,x,xn,y1,y2,h,R,epsilon,delta, g;\n",
        "\tint i=0;\n",
        "\t\n",
        "\t//boundary conditions \n",
        "\tepsilon = 0.00001;\n",
        "\tx0=1;\n",
        "\ty0=2; \n",
        "\txn=3; \n",
        "\th=0.2; \n",
        "\tx=x0;\n",
        "\ty=y0;\n",
        "\t\n",
        "\t\n",
        "\tprintf(\"Step %d: x=%f\\t y=%f\\n\", i, x, y);\n",
        "\twhile (x<=xn)\n",
        "\t{\n",
        "\t\th = min(h, 3-x);\n",
        "\t\t\t\n",
        "\t\tk1 = h*f(x,y);\n",
        "\t\tk2 = h*f(x+h/4, y+k1/4);\t\n",
        "\t\tk3 = h*f(x+3*h/8,  y+3*k1/32+9*k2/32);\t\t\n",
        "\t\tk4 = h*f(x+12*h/13, y+1932*k1/2197-7200*k2/2197+7296*k3/2197);\n",
        "\t\tk5 = h*f(x+h, y+439*k1/216-8*k2+3680*k3/513-845*k4/4104);\n",
        "\t\tk6 = h*f(x+h/2, y-8*k1/27+2*k2-3544*k3/2565+1859*k4/4104-11*k5/40);\n",
        "\t\t\n",
        "\t\ty1 = y + (25*k1/216+1408*k3/2565+2197*k4/4104-k5/5);\n",
        "\t\ty2 = y + (16*k1/135+6656*k3/12825+28561*k4/56430-9*k5/50+2*k6/55);\n",
        "\t\t\n",
        "\t\tR = ((fabs(y2-y1)))/h;\n",
        "\t\tdelta = 0.84*(pow((epsilon/R), 0.25));\n",
        "\t\t\n",
        "\t\tif (R<=epsilon)\n",
        "\t\t{\n",
        "\t\t\tx = x+h;\n",
        "\t\t\ty = y1;\n",
        "\t\t\ti = i+1;\n",
        "\t\t\tprintf(\"Step %d: x=%f\\t y=%f\\n\", i, x, y);\n",
        "\t\t\th = delta*h;\n",
        "\t\t}\n",
        "\t\telse\n",
        "\t\t{\n",
        "\t\t\th = delta*h;\n",
        "            x = x+h;\t\n",
        "\t\t}\n",
        "\t}\n",
        "}\n",
        "\n",
        "double f(double x, double y)\n",
        "{\n",
        "\tdouble v;\n",
        "\tv = pow(x,-2)*(x*y - pow(y,2));\n",
        "\treturn v;\n",
        "}"
      ],
      "execution_count": null,
      "outputs": []
    },
    {
      "cell_type": "code",
      "metadata": {
        "id": "i4kTlAimuuAN"
      },
      "source": [
        "% Runge-Kutta-Fehlberg method \n",
        " % Approximate the solution to the initial-value problem\n",
        " %  ; 1<=t<=3 ; y(0)=0.5; tolerance=10^(-5); hmin=0.01; hmax=0.25\n",
        "\n",
        " f = @(t,y) (t^(-2)*(t*y - y^2));\n",
        " a = input('Enter left end ponit, a:  ');\n",
        " b = input('Enter right end point, b:  ');\n",
        " n = input('Enter no. of subintervals, n: ');          \n",
        " alpha = input('Enter the initial condition, alpha:  ');\n",
        " tol = input('Enter tolerance, tol:  ');\n",
        " hmin = input('Enter minimum mesh, hmin:  ');\n",
        " hmax = input('Enter maximum mesh, hmax:  ');\n",
        "\n",
        " h = hmax;\n",
        " t = a;\n",
        " w = alpha;\n",
        " fprintf('  t         w\\n');\n",
        " fprintf('%5.4f  %11.8f  \\n', t, w);\n",
        "\n",
        " while t < b  \n",
        "    k1 = h*f(t,w);\n",
        "    k2 = h*f(t+h/4,w+k1/4);k3 = h*f(t+3*h/8,w+(3*k1+9*k2)/32);\n",
        "    k4 = h*f(t+12*h/13,w+(1932*k1-7200*k2+7296*k3)/2197);\n",
        "    k5 = h*f(t+h,w+439*k1/216-8*k2+3680*k3/513-845*k4/4104);\n",
        "    k6 = h*f(t+h/2,w-8*k1/27+2*k2-3544*k3/2565+1859*k4/4104-11*k5/40);\n",
        "    r = abs(k1/360-128*k3/4275-2197*k4/75240.0+k5/50+2*k6/55)/h;\n",
        "    if r <= tol \n",
        "       t = t+h;\n",
        "       w = w+25*k1/216+1408*k3/2565+2197*k4/4104-k5/5;\n",
        "       fprintf('%5.4f  %11.8f  \\n', t, w);\n",
        "       plot(t,w,'b*'); grid on; \n",
        "       xlabel('t values'); ylabel('w values');\n",
        "       hold on;\n",
        "    end\n",
        "    \n",
        "    if r > 1.0e-20 \n",
        "       delta = 0.84 * exp(0.25 * log(tol / r));\n",
        "    else\n",
        "       delta = 10.0;\n",
        "    end\n",
        "    \n",
        "    if delta <= 0.1 \n",
        "       h = 0.1*h;\n",
        "    else\n",
        "       if delta >= 4 \n",
        "          h = 4.0 * h;\n",
        "       else\n",
        "          h = delta * h;\n",
        "       end\n",
        "    end\n",
        "    \n",
        "   \n",
        "   if h > hmax \n",
        "      h = hmax;\n",
        "   end\n",
        "   if h < hmin \n",
        "     fprintf('Minimal h exceeded\\n');\n",
        "   else\n",
        "      if t+h > b \n",
        "         if abs(b-t) < tol \n",
        "            t = b;\n",
        "         else\n",
        "            h = b-t;\n",
        "         end\n",
        "      end\n",
        "   end\n",
        " end"
      ],
      "execution_count": null,
      "outputs": []
    },
    {
      "cell_type": "markdown",
      "metadata": {
        "id": "vSYOaSTdoc-S"
      },
      "source": [
        ""
      ]
    },
    {
      "cell_type": "markdown",
      "metadata": {
        "id": "oLLpnM9-u9o2"
      },
      "source": [
        "# Lab 2"
      ]
    },
    {
      "cell_type": "markdown",
      "metadata": {
        "id": "FwDu_GDQy1ge"
      },
      "source": [
        "Solving via all the methods"
      ]
    },
    {
      "cell_type": "markdown",
      "metadata": {
        "id": "V-50VvOpyLpt"
      },
      "source": [
        "## ABM4 Method\n",
        "\n",
        "Solve the following IVP using ABM4 method in the interval [1,3]\n",
        "\n",
        " Solve the following IVP on the interval $[1,3]$\n",
        "\n",
        " $ x' = t^{-2} (tx - x^2)$"
      ]
    },
    {
      "cell_type": "code",
      "metadata": {
        "colab": {
          "base_uri": "https://localhost:8080/",
          "height": 265
        },
        "id": "D09Fe7kcu-52",
        "outputId": "29271b8c-e933-4461-f483-c863a7e4814a"
      },
      "source": [
        "from numpy import *\n",
        "import numpy as np\n",
        "from math import *\n",
        "from matplotlib.pyplot import *\n",
        "import matplotlib.pyplot as plt\n",
        "from matplotlib.patches import Patch\n",
        "\n",
        "\n",
        "'''\n",
        "Write down the function that we need to solve for \n",
        "x' = t^{-2}(tx-x^2)\n",
        "'''\n",
        "\n",
        "def f(t,x):\n",
        "    return (t**(-2))*(t*x - (x**2))\n",
        "\n",
        "'''\n",
        "another derivative of the function function\n",
        "''' \n",
        "\n",
        "def dfx(t,x):\n",
        "    return (1/np.power(t,2))*(t-2*x)\n",
        "\n",
        "\n",
        "\n",
        "# analytical solution\n",
        "\n",
        "\n",
        "\n",
        "\n",
        "# backward Euler \n",
        "def beuler(t0, tn, n, x0):\n",
        "    #h = abs(tn - t0)/n\n",
        "    t = linspace(t0, tn, n+1)\n",
        "    x = zeros(n+1)\n",
        "    x[0] = x0\n",
        "\n",
        "    for k in range(0,n):\n",
        "        err = 1\n",
        "        zold = x[k] + h*f(t[k], x[k])\n",
        "        I = 0\n",
        "\n",
        "        while err > 10**(-10) and I < 5:\n",
        "            F = x[k] + h*f(t[k+1], zold) - zold\n",
        "            dF = h*dfx(t[k+1], zold)-1\n",
        "            znew = zold - F/dF\n",
        "            err = abs(znew- zold)\n",
        "            I += 1\n",
        "        x[k+1] = znew\n",
        "    return x\n",
        "\n",
        "\n",
        "\n",
        "\n",
        "def RK4(t0,tn,n,x0):\n",
        "    #h = abs(tn-t0)/n\n",
        "    t = linspace(t0, tn, n+1)\n",
        "    x = zeros(n+1)\n",
        "    x[0] = x0\n",
        "    for i in range(0,n):\n",
        "        K1 = f(t[i], x[i])\n",
        "        K2 = f(t[i]+h/2, x[i]+K1*h/2)\n",
        "        K3 = f(t[i] + h/2, x[i]+K2*h/2)\n",
        "        K4 = f(t[i] + h, x[i]+K3*h)\n",
        "\n",
        "        x[i+1] = x[i] + h*(K1+2*K2+ 2*K3+K4)/6\n",
        "    return x\n",
        "\n",
        "\n",
        "\n",
        "def AdBash3(t0,tn,n,x0):\n",
        "    #h = abs(tn-t0)/n\n",
        "    t = linspace(t0, tn, n+1)\n",
        "    x = zeros(n+1)\n",
        "\n",
        "    x[0:3] = RK4(t0, t0+2*h,2,x0)\n",
        "    K1 = f(t[1], x[1])\n",
        "    K2 = f(t[0], x[0])\n",
        "\n",
        "    for i in range(2,n):\n",
        "        K3= K2\n",
        "        K2= K1\n",
        "        K1 = f(t[i], x[i])\n",
        "\n",
        "        # prediction_resul\n",
        "        x[i+1] = x[i] + h*(23*K1 - 16*K2+5*K3)/12\n",
        "    return x\n",
        "\n",
        "\n",
        "\n",
        "## ABM4 pred corr\n",
        "\n",
        "def PreCorr3(t0,tn,n,x0):\n",
        "    #h = abs(tn-t0)/n\n",
        "    t = linspace(t0, tn, n+1)\n",
        "    x = zeros(n+1)\n",
        "\n",
        "    x[0:3] = RK4(t0, t0+2*h,2,x0)\n",
        "    K1 = f(t[1], x[1])\n",
        "    K2 = f(t[0], x[0])\n",
        "\n",
        "    for i in range(2,n):\n",
        "        K3= K2\n",
        "        K2= K1\n",
        "        K1 = f(t[i], x[i])\n",
        "\n",
        "        # prediction_resul\n",
        "        x[i+1] = x[i] + h*(23*K1 - 16*K2+5*K3)/12\n",
        "    \n",
        "\n",
        "        K0 = f(t[i+1],x[i+1])\n",
        "\n",
        "        # correctorical\n",
        "\n",
        "        x[i+1] = x[i] + h*(9*K0 + 19*K1 - 5*K2 + K3)/24\n",
        "\n",
        "    return x\n",
        "\n",
        "\n",
        "\n",
        "\n",
        "\n",
        "\n",
        "fg = 1\n",
        "n= 200\n",
        "t0 = 1\n",
        "h = 0.015\n",
        "tn = 3 \n",
        "x0 = 2    \n",
        "t = linspace(t0, tn , n+1)\n",
        "xe = AdBash3(t0,tn, n, x0)\n",
        "xb = beuler(t0,tn,n,x0)\n",
        "xpc = PreCorr3(t0, tn, n,x0)\n",
        "\n",
        "\n",
        "\n",
        "# print\n",
        "#exact = sol(t0, tn ,n , x0)\n",
        "\n",
        "\n",
        "\n",
        "plot(t,xe,'o',color='yellow',label ='Adam Bashforth 3')\n",
        "plot(t, xb, '--', color='red', label ='Backward Euler')\n",
        "plot(t,xpc,'cyan',label='Predictor Corrector')\n",
        "#plot(t,(t* (1/2 + log(t))**(-1)),'blue',label ='Exact Solution')\n",
        "\n",
        "#t = linspace(t0, tn, 401)\n",
        "#xsol = sol(t,t0,x0)\n",
        "\n",
        "#plot(t,xsol, color='green', label='Exact')\n",
        "\n",
        "##title('n = %d' %n)\n",
        "t = t0\n",
        "exact = []\n",
        "time = []\n",
        "while(t<=tn):\n",
        "    \n",
        "    m = (t* (1/2 + log(t))**(-1)) \n",
        "    \n",
        "    t = t+0.006666666666666821\n",
        "    exact.append(m)\n",
        "    time.append(t)\n",
        "\n",
        "\n",
        "plt.plot(time,exact,'blue',label='Exact')\n",
        "#axis([0,tn, -60,40])\n",
        "legend(loc='upper right')\n",
        "plt.savefig('ADM_h=0.015.png')"
      ],
      "execution_count": null,
      "outputs": [
        {
          "output_type": "display_data",
          "data": {
            "image/png": "[encoded data removed]",
            "text/plain": [
              "<Figure size 432x288 with 1 Axes>"
            ]
          },
          "metadata": {
            "needs_background": "light"
          }
        }
      ]
    },
    {
      "cell_type": "code",
      "metadata": {
        "colab": {
          "base_uri": "https://localhost:8080/",
          "height": 282
        },
        "id": "1apDOjZsRIqj",
        "outputId": "2524427b-0549-4d7d-a1c9-c6b54aedb69c"
      },
      "source": [
        "#ABM4\n",
        "f = lambda t,x: (t*x - x*x)/(t*t)\n",
        "n = 100\n",
        "h = 2/n\n",
        "t = np.linspace(1,3,n)\n",
        "x = np.zeros(n)\n",
        "x[0] = 2\n",
        "\n",
        "for i in range(3):\n",
        "  k1 = f(t[i],x[i])\n",
        "  k2 = f(t[i]+h/2,x[i] + h*k1/2)\n",
        "  k3 = f(t[i]+h/2,x[i] + h*k2/2)\n",
        "  k4 = f(t[i]+h,x[i] + h*k3)\n",
        "  x[i+1] = x[i] + h/6*(k1+2*k2+2*k3+k4)\n",
        "\n",
        "for i in range(3,n-1):\n",
        "  fn = f(t[i],x[i])\n",
        "  fn1 = f(t[i-1],x[i-1])\n",
        "  fn2 = f(t[i-2],x[i-2])\n",
        "  fn3 = f(t[i-3],x[i-3])\n",
        "  p = x[i] + h/24*(55*fn -59*fn1 + 37*fn2 -9*fn3)\n",
        "  fnp = f(t[i],p)\n",
        "  x[i+1] = x[i] + h/24*(9*fnp + 19*fn -5*fn1 + fn2)\n",
        "\n",
        "plt.plot(t,x)\n",
        "plt.plot(t,t/(0.5 + np.log(t)))"
      ],
      "execution_count": null,
      "outputs": [
        {
          "output_type": "execute_result",
          "data": {
            "text/plain": [
              "[<matplotlib.lines.Line2D at 0x7f60338fe6d0>]"
            ]
          },
          "metadata": {},
          "execution_count": 5
        },
        {
          "output_type": "display_data",
          "data": {
            "image/png": "[encoded data removed]",
            "text/plain": [
              "<Figure size 432x288 with 1 Axes>"
            ]
          },
          "metadata": {
            "needs_background": "light"
          }
        }
      ]
    },
    {
      "cell_type": "code",
      "metadata": {
        "colab": {
          "base_uri": "https://localhost:8080/",
          "height": 298
        },
        "id": "GQjS4KeW92ED",
        "outputId": "11d93d4a-da83-42d8-de70-96a2706a7810"
      },
      "source": [
        "from numpy import *\n",
        "from matplotlib.pyplot import *\n",
        "from matplotlib.patches import Patch\n",
        "#f in the IVP y’ = f(t,y), y(t0)=y0\n",
        "def f(t,y):\n",
        "  return (t-3.2)*y + 8*t*exp((t-3.2)**2/2)*cos(4*t**2)\n",
        "\n",
        "\n",
        "def dfy(t,y):\n",
        "  return t-3.2\n",
        "#analytic solution to the IVP y’ = f(t,y), y(t0)=y0\n",
        "\n",
        "\n",
        "def sol(t,t0,y0):\n",
        "  C = y0*exp(-(t0-3.2)**2/2)-sin(4*t0**2)\n",
        "  return exp((t-3.2)**2/2)*(sin(4*t**2) + C)\n",
        "\n",
        "\n",
        "\n",
        "#Backwards Euler (Implicit) Method\n",
        "def beuler(t0,tn,n,y0):\n",
        "  h = abs(tn-t0)/n\n",
        "  t = linspace(0,tn,n+1)\n",
        "  y = zeros(n+1)\n",
        "  y[0] = y0\n",
        "  for k in range(0,n):\n",
        "    err = 1\n",
        "    zold = y[k] + h*f(t[k],y[k]) #Use Forward Euler for initial guess\n",
        "    I = 0\n",
        "    #Use Newton’s Method to solve implicit equation for y[k+1]\n",
        "    while err > 10**(-10) and I < 5: #NM is limited to 5 iterations\n",
        "      F = y[k] + h*f(t[k+1],zold)-zold\n",
        "      dF = h*dfy(t[k+1],zold)-1\n",
        "      znew = zold - F/dF\n",
        "      err = abs(znew-zold)\n",
        "      zold = znew\n",
        "      I +=1\n",
        "    y[k+1] = znew\n",
        "  return y\n",
        "\n",
        "\n",
        "#Runge-Kutta \"Classic\" Order 4 method\n",
        "def RK4(t0,tn,n,y0):\n",
        "  h = abs(tn-t0)/n\n",
        "  t = linspace(t0,tn,n+1)\n",
        "  y = zeros(n+1)\n",
        "  y[0] = y0\n",
        "  for i in range(0,n):\n",
        "    K1 = f(t[i],y[i])\n",
        "    K2 = f(t[i]+h/2,y[i]+K1*h/2)\n",
        "    K3 = f(t[i]+h/2,y[i]+K2*h/2)\n",
        "    K4 = f(t[i]+h,y[i]+K3*h)\n",
        "    y[i+1] = y[i] + h*(K1+2*K2+2*K3+K4)/6\n",
        "  return y\n",
        "\n",
        "\n",
        "#Adams-Bashforth 3 Step Method\n",
        "def AdBash3(t0,tn,n,y0):\n",
        "  h = abs(tn-t0)/n\n",
        "  t = linspace(t0,tn,n+1)\n",
        "  y = zeros(n+1)\n",
        "  y[0:3] = RK4(t0,t0+2*h,2,y0)\n",
        "  K1 = f(t[1],y[1])\n",
        "  K2 = f(t[0],y[0])\n",
        "  for i in range(2,n):\n",
        "    K3 = K2\n",
        "    K2 = K1\n",
        "    K1 = f(t[i],y[i])\n",
        "    y[i+1] = y[i] + h*(23*K1-16*K2+5*K3)/12\n",
        "  return y\n",
        "\n",
        "\n",
        "#Adams-Bashforth 3/Moulton 4 Step Predictor/Corrector\n",
        "def PreCorr3(t0,tn,n,y0):\n",
        "  h = abs(tn-t0)/n\n",
        "  t = linspace(t0,tn,n+1)\n",
        "  y = zeros(n+1)\n",
        "  #Calculate initial steps with Runge-Kutta 4\n",
        "  y[0:3] = RK4(t0,t0+2*h,2,y0)\n",
        "  K1 = f(t[1],y[1])\n",
        "  K2 = f(t[0],y[0])\n",
        "  for i in range(2,n):  \n",
        "    K3 = K2\n",
        "    K2 = K1\n",
        "    K1 = f(t[i],y[i])\n",
        "    #Adams-Bashforth Predictor\n",
        "    y[i+1] = y[i] + h*(23*K1-16*K2+5*K3)/12\n",
        "    K0 = f(t[i+1],y[i+1])\n",
        "    #Adams-Moulton Corrector\n",
        "    y[i+1] = y[i] + h*(9*K0+19*K1-5*K2+K3)/24\n",
        "  return y  \n",
        "\n",
        "\n",
        "\n",
        "#Script to produce graphs\n",
        "fg =1\n",
        "n = 300\n",
        "t0 = 0\n",
        "tn = 6\n",
        "y0 = .75\n",
        "t = linspace(t0,tn,n+1)\n",
        "ye = AdBash3(t0,tn,n,y0)\n",
        "yb = beuler(t0,tn,n,y0)\n",
        "ypc = PreCorr3(t0,tn,n,y0)\n",
        "figure(fg)\n",
        "plot(t,ye,'red',label='Adams-Bashforth 3')\n",
        "plot(t,yb,'black',label='Backward Euler')\n",
        "plot(t,yb,'cyan',label='Predictor/Corrector 3/4')\n",
        "t = linspace(t0,tn,401)\n",
        "ysol = sol(t,t0,y0)\n",
        "plot(t,ysol,color ='green',label='Exact')\n",
        "title('n = %d' % n)\n",
        "axis([0,tn,-60,40])\n",
        "legend(loc='lower left')\n",
        "\n",
        "\n",
        "\n",
        "\n",
        "\n",
        "\n"
      ],
      "execution_count": null,
      "outputs": [
        {
          "output_type": "execute_result",
          "data": {
            "text/plain": [
              "<matplotlib.legend.Legend at 0x7f4865512950>"
            ]
          },
          "metadata": {},
          "execution_count": 20
        },
        {
          "output_type": "display_data",
          "data": {
            "image/png": "[encoded data removed]",
            "text/plain": [
              "<Figure size 432x288 with 1 Axes>"
            ]
          },
          "metadata": {
            "needs_background": "light"
          }
        }
      ]
    },
    {
      "cell_type": "markdown",
      "metadata": {
        "id": "aTD7xW1y9O78"
      },
      "source": [
        "## Milne Simpson Method"
      ]
    },
    {
      "cell_type": "code",
      "metadata": {
        "colab": {
          "base_uri": "https://localhost:8080/",
          "height": 282
        },
        "id": "o0quO9899D67",
        "outputId": "20f5200d-e55d-4533-d2ea-f3426b037455"
      },
      "source": [
        "from numpy import *\n",
        "import numpy as np\n",
        "from math import *\n",
        "from matplotlib.pyplot import *\n",
        "import matplotlib.pyplot as plt\n",
        "from matplotlib.patches import Patch\n",
        "\n",
        "\n",
        "'''\n",
        "Write down the function that we need to solve for \n",
        "x' = t^{-2}(tx-x^2)\n",
        "'''\n",
        "\n",
        "def f(t,x):\n",
        "    return (t**(-2))*(t*x - (x**2))\n",
        "\n",
        "'''\n",
        "another derivative of the function function\n",
        "''' \n",
        "\n",
        "def dfx(t,x):\n",
        "    return (1/np.power(t,2))*(t-2*x)\n",
        "\n",
        "\n",
        "\n",
        "# analytical solution\n",
        "\n",
        "\n",
        "\n",
        "\n",
        "# backward Euler \n",
        "def beuler(t0, tn, n, x0):\n",
        "    #h = abs(tn - t0)/n\n",
        "    t = linspace(t0, tn, n+1)\n",
        "    x = zeros(n+1)\n",
        "    x[0] = x0\n",
        "\n",
        "    for k in range(0,n):\n",
        "        err = 1\n",
        "        zold = x[k] + h*f(t[k], x[k])\n",
        "        I = 0\n",
        "\n",
        "        while err > 10**(-10) and I < 5:\n",
        "            F = x[k] + h*f(t[k+1], zold) - zold\n",
        "            dF = h*dfx(t[k+1], zold)-1\n",
        "            znew = zold - F/dF\n",
        "            err = abs(znew- zold)\n",
        "            I += 1\n",
        "        x[k+1] = znew\n",
        "    return x\n",
        "\n",
        "\n",
        "\n",
        "\n",
        "def RK4(t0,tn,n,x0):\n",
        "    #h = abs(tn-t0)/n\n",
        "    t = linspace(t0, tn, n+1)\n",
        "    x = zeros(n+1)\n",
        "    x[0] = x0\n",
        "    for i in range(0,n):\n",
        "        K1 = f(t[i], x[i])\n",
        "        K2 = f(t[i]+h/2, x[i]+K1*h/2)\n",
        "        K3 = f(t[i] + h/2, x[i]+K2*h/2)\n",
        "        K4 = f(t[i] + h, x[i]+K3*h)\n",
        "\n",
        "        x[i+1] = x[i] + h*(K1+2*K2+ 2*K3+K4)/6\n",
        "    return x\n",
        "\n",
        "\n",
        "\n",
        "def AdBash3(t0,tn,n,x0):\n",
        "    #h = abs(tn-t0)/n\n",
        "    t = linspace(t0, tn, n+1)\n",
        "    x = zeros(n+1)\n",
        "\n",
        "    x[0:3] = RK4(t0, t0+2*h,2,x0)\n",
        "    K1 = f(t[1], x[1])\n",
        "    K2 = f(t[0], x[0])\n",
        "\n",
        "    for i in range(2,n):\n",
        "        K3= K2\n",
        "        K2= K1\n",
        "        K1 = f(t[i], x[i])\n",
        "\n",
        "        # prediction_resul\n",
        "        x[i+1] = x[i] + h*(23*K1 - 16*K2+5*K3)/12\n",
        "    return x\n",
        "\n",
        "\n",
        "\n",
        "## ABM4 pred corr\n",
        "\n",
        "def PreCorr3(t0,tn,n,x0):\n",
        "    #h = abs(tn-t0)/n\n",
        "    t = linspace(t0, tn, n+1)\n",
        "    x = zeros(n+1)\n",
        "\n",
        "    x[0:3] = RK4(t0, t0+2*h,2,x0)\n",
        "    K1 = f(t[1], x[1])\n",
        "    K2 = f(t[0], x[0])\n",
        "\n",
        "    for i in range(2,n):\n",
        "        K3= K2\n",
        "        K2= K1\n",
        "        K1 = f(t[i], x[i])\n",
        "\n",
        "        # prediction_resul\n",
        "        x[i+1] = x[i] + h*(23*K1 - 16*K2+5*K3)/12\n",
        "    \n",
        "\n",
        "        K0 = f(t[i+1],x[i+1])\n",
        "\n",
        "        # correctorical\n",
        "\n",
        "        x[i+1] = x[i] + h*(9*K0 + 19*K1 - 5*K2 + K3)/24\n",
        "\n",
        "    return x\n",
        "\n",
        "\n",
        "def Milne_Simspon(t0,tn,n,x0):\n",
        "    #h = abs(tn-t0)/n\n",
        "    t = linspace(t0, tn, n+1)\n",
        "    x = zeros(n+1)\n",
        "\n",
        "    x[0:3] = RK4(t0, t0+2*h,2,x0)\n",
        "    K1 = f(t[1], x[1])\n",
        "    K2 = f(t[0], x[0])\n",
        "\n",
        "    for i in range(2,n):\n",
        "        K3= K2\n",
        "        K2= K1\n",
        "        K1 = f(t[i], x[i])\n",
        "\n",
        "        # prediction_resul\n",
        "        x[i+1] = x[i-3] + 4*h*(2*K3 - K2 + 2*K1)/3\n",
        "        #x[i+1] = x[i] + h*(23*K1 - 16*K2+5*K3)/12\n",
        "    \n",
        "\n",
        "        K0 = f(t[i+1],x[i+1])\n",
        "\n",
        "        # correctorical\n",
        "\n",
        "        x[i+1] = x[i-1] + h*(K0 + 4*K3 + K2)/3\n",
        "\n",
        "    return x\n",
        "\n",
        "\n",
        "\n",
        "\n",
        "fg = 1\n",
        "n= 200\n",
        "t0 = 1\n",
        "h = 0.015\n",
        "tn = 3 \n",
        "x0 = 2    \n",
        "t = linspace(t0, tn , n+1)\n",
        "xe = AdBash3(t0,tn, n, x0)\n",
        "xb = beuler(t0,tn,n,x0)\n",
        "xpc = PreCorr3(t0, tn, n,x0)\n",
        "xxpc = Milne_Simspon(t0, tn, n, x0)\n",
        "\n",
        "\n",
        "\n",
        "# print\n",
        "#exact = sol(t0, tn ,n , x0)\n",
        "\n",
        "\n",
        "\n",
        "plot(t,xe,'o',color='yellow',label ='Adam Bashforth 3')\n",
        "plot(t, xb, '--', color='red', label ='Backward Euler')\n",
        "plot(t,xpc,'cyan',label='Predictor Corrector')\n",
        "plot(t,xxpc,'red',label='Milne Simspon')\n",
        "#plot(t,(t* (1/2 + log(t))**(-1)),'blue',label ='Exact Solution')\n",
        "\n",
        "#t = linspace(t0, tn, 401)\n",
        "#xsol = sol(t,t0,x0)\n",
        "\n",
        "#plot(t,xsol, color='green', label='Exact')\n",
        "\n",
        "##title('n = %d' %n)\n",
        "t = t0\n",
        "exact = []\n",
        "time = []\n",
        "while(t<=tn):\n",
        "    \n",
        "    m = (t* (1/2 + log(t))**(-1)) \n",
        "    \n",
        "    t = t+0.006666666666666821\n",
        "    exact.append(m)\n",
        "    time.append(t)\n",
        "\n",
        "\n",
        "plt.plot(time,exact,'blue',label='Exact')\n",
        "#axis([0,tn, -60,40])\n",
        "legend(loc='upper right')\n",
        "#plt.savefig('ADM_h=0.015.png')"
      ],
      "execution_count": null,
      "outputs": [
        {
          "output_type": "execute_result",
          "data": {
            "text/plain": [
              "<matplotlib.legend.Legend at 0x7f4865225b90>"
            ]
          },
          "metadata": {},
          "execution_count": 22
        },
        {
          "output_type": "display_data",
          "data": {
            "image/png": "[encoded data removed]",
            "text/plain": [
              "<Figure size 432x288 with 1 Axes>"
            ]
          },
          "metadata": {
            "needs_background": "light"
          }
        }
      ]
    },
    {
      "cell_type": "code",
      "metadata": {
        "colab": {
          "base_uri": "https://localhost:8080/",
          "height": 282
        },
        "id": "28bpmpyARQBM",
        "outputId": "3d15ddb8-387f-4c1b-920e-14750a4d7c0e"
      },
      "source": [
        "#Milne-Simpson\n",
        "\n",
        "f = lambda t,x: (t*x - x*x)/(t*t)\n",
        "n = 100\n",
        "h = 2/n\n",
        "t = np.linspace(1,3,n)\n",
        "x = np.zeros(n)\n",
        "x[0] = 2\n",
        "\n",
        "for i in range(3):\n",
        "  k1 = f(t[i],x[i])\n",
        "  k2 = f(t[i]+h/2,x[i] + h*k1/2)\n",
        "  k3 = f(t[i]+h/2,x[i] + h*k2/2)\n",
        "  k4 = f(t[i]+h,x[i] + h*k3)\n",
        "  x[i+1] = x[i] + h/6*(k1+2*k2+2*k3+k4)\n",
        "\n",
        "for i in range(3,n-1):\n",
        "  fn = f(t[i],x[i])\n",
        "  fn1 = f(t[i-1],x[i-1])\n",
        "  fn2 = f(t[i-2],x[i-2])\n",
        "  p = x[i-3] + 4*h/3*(2*fn -fn1 + 2*fn2)\n",
        "  fnp = f(t[i],p)\n",
        "  x[i+1] = x[i-1] + h/3*(fnp + 4*fn + fn1)\n",
        "\n",
        "plt.plot(t,x)\n",
        "plt.plot(t,t/(0.5 + np.log(t)))"
      ],
      "execution_count": null,
      "outputs": [
        {
          "output_type": "execute_result",
          "data": {
            "text/plain": [
              "[<matplotlib.lines.Line2D at 0x7f6033885b10>]"
            ]
          },
          "metadata": {},
          "execution_count": 6
        },
        {
          "output_type": "display_data",
          "data": {
            "image/png": "[encoded data removed]",
            "text/plain": [
              "<Figure size 432x288 with 1 Axes>"
            ]
          },
          "metadata": {
            "needs_background": "light"
          }
        }
      ]
    },
    {
      "cell_type": "markdown",
      "metadata": {
        "id": "o1yJycanE3l4"
      },
      "source": [
        "## System of ODEs using Runge-Kutta 4"
      ]
    },
    {
      "cell_type": "code",
      "metadata": {
        "id": "UBXhh9wzyujG",
        "colab": {
          "base_uri": "https://localhost:8080/",
          "height": 694
        },
        "outputId": "ffc9d868-9ce2-4b91-8600-82746d2b585c"
      },
      "source": [
        "import math\n",
        "import time                         # import time to use for performance analysis\n",
        "import numpy as np                  # import numpy for array space\n",
        "import matplotlib.pyplot as plt     # import matplotlib for graphing functions\n",
        "from scipy.integrate import odeint  # import scipy to use the ordinary differencial equation integral function\n",
        "\n",
        "# Ordinary Differential Equation\n",
        "def dy_dx(y, x):                    # takes inputs y and x\n",
        "    return x + 2*y      # returns the function y/(e^x - 1)\n",
        "\n",
        "\n",
        "# Runge-Kutta Forumla based off the formula used in class\n",
        "def rungeKutta(y, x, h):                                # takes y, x, and h inputs\n",
        "    k1 = dy_dx(y, x)                                    # solves k1 using the differential equation function\n",
        "    k2 = dy_dx(y + ((0.5 * h) * k1), x + 0.5 * h)       # solves k2 based on the answer from k1 using the differential equation function\n",
        "    k3 = dy_dx(y + ((0.5 * h) * k2), x + 0.5 * h)       # solves k3 based on the answer from k2 using the differential equation function\n",
        "    k4 = dy_dx(y + (h * k3), x + h)                     # solves k4 based on the answer from k3 using the differential equation function\n",
        "\n",
        "    t4 = (1.0 / 6.0) * (k1 + (2 * k2) + (2 * k3) + k4)  # solves for t4 by taking a 6th of k1 + 2*k2 + 2*k3 + k4\n",
        "\n",
        "    y = y + (t4 * h)                                    # solves for y by taking the initial y value and adding it to t4*h\n",
        "    return y                                            # returns y\n",
        "\n",
        "# initial variable values\n",
        "y = 6\n",
        "           # initial y value of 5 as outlined in the assignment\n",
        "x = 0           # initial x value of 1 as outlined in the assignment\n",
        "h = 0.02        # initial h value of 0.02 as outlined in the assignment\n",
        "n = 2000        # initial n value of 2000 chosen between 1000 or 2000 as outlined in the assignment\n",
        "\n",
        "# Runge-Kutta x and y arrays \n",
        "xxsr = []        # x-space runge-kutta array to store the values of x for the runge-kutta function\n",
        "yysr = []        # y-space runge-kutta array to store the values of y for the runge-kutta function\n",
        "\n",
        "# ODEint x and y arrays, solution, and time analysis\n",
        "tso = time.time()                               # time start for ODEint function solution\n",
        "\n",
        "xso = np.linspace(0.0, 0.2 , 30)       # x-space ODEint from 1 to n*h (40) plus 1 with a step size of n\n",
        "yyso = odeint(dy_dx, y, xso)                     # y-space ODEint useing the odeint function from scicpy to find the y-space\n",
        "\n",
        "teo = time.time()                               # time end fore ODEint function solution\n",
        "tto = teo - tso                                 # total time the ODEint function to solve\n",
        "\n",
        "# graphing ODEint\n",
        "plt.title(\"ODE Function Analysis\")          # set the title of the graph\n",
        "plt.xlabel(\"x\")                                             # set the x label on the graph\n",
        "plt.ylabel(\"y\")                                             # set the y label on the graph\n",
        "plt.plot(xso, yyso, 'g-', label = \"ODEint\", linewidth = 2)   # set the ODE line to be red and label it\n",
        "\n",
        "plt.legend()                                                # shows the legend on the graph\n",
        "plt.savefig('Exact Solution.png')                                                  # displays the graph\n",
        "\n",
        "# Runge-Kutta solution and time analysis\n",
        "tsr = time.time()                               # time start for runge-kutta function solution\n",
        "\n",
        "while (x <= 0.2):                           # for loop to run the runge-kutta function n number of times\n",
        "    xxsr.append(x)                               # append the x value to the x-space runge-kutta array\n",
        "    yysr.append(y)                               # append the y value to the y-space runge-kutta array\n",
        "    \n",
        "    y = rungeKutta(y, x, h)                     # update the y value using the rungeKutta function\n",
        "    \n",
        "    x += h                                      # update the x value by moving one step forward (0.02)\n",
        "\n",
        "ter = time.time()                               # time end for runge-kutta function solution\n",
        "ttr = ter - tsr                                 # total time the runge-kutta function to solve\n",
        "\n",
        "td = ttr - tto                                  # time difference between ODEint and runge-kutta function\n",
        "\n",
        "# graphing runge-kutta\n",
        "plt.title(\"Runge-Kutta Function Analysis\")          # set the title of the graph\n",
        "plt.xlabel(\"x\")                                             # set the x label on the graph\n",
        "plt.ylabel(\"y\")                                             # set the y label on the graph\n",
        "plt.plot(xxsr, yysr, 'b--', label = \"Runge Kutta\")             # set the runge-kutta to be blue and label it\n",
        "\n",
        "plt.legend()                                                # shows the legend on the graph\n",
        "plt.savefig('Runge_Kutta.png')                                                  # displays the graph\n",
        "\n",
        "# solutions\n",
        "print(\"\\nODEint Solution:            \", yyso[-1])    # ODEint function solution\n",
        "print(\"Runge-Kutta Solution:        \", yysr[-1])     # Runge-Kutta function solution\n",
        "\n",
        "# Print statement for time difference\n",
        "print(\"\\nODEint Time:         \", tto)               # print the ODEint time\n",
        "print(\"Runge Kutta Time:    \", ttr)                 # print the runge-kutta time\n",
        "print(\"ODEint is \", td, \" seconds faster\\n\\n\")      # print the difference between ODEint and runge-kutta\n",
        "\n",
        "# error calculation\n",
        "error = 0                                                           # initial error value of 0\n",
        "errorRange = []                                                     # array to store error over xn\n",
        "errorSpace = np.linspace(0.0,0.2, 30)                   # error space for error analysis\n",
        "for i in range(len(yysr)):                                   # for loop to run through every x values\n",
        "    error += (np.abs(yysr[i] - yyso[i])/yyso[i]) * 100                 # sum all the error values using the percentage error formula\n",
        "    errorRange.append((np.abs(yysr[i] - yyso[i])/yyso[i]) * 100)\n",
        "    print(\"Percent Error at x =\", i, \":\", (np.abs(yysr[i] - yyso[i])/yyso[i]) * 100)   # print error at each x value\n",
        "\n",
        "print(\"\\nAverage Error Percent:\", error/((int)(n * h) + 1), \"\\n\")     # print the total error divided by the total number of x values\n",
        "\n",
        "# graphing error\n",
        "#plt.title(\"Error Analysis\")                                     # set the title of the graph\n",
        "#plt.xlabel(\"xn\")                                                # set the x label on the graph\n",
        "#plt.ylabel(\"error\")                                             # set the y label on the graph\n",
        "#plt.plot(errorSpace, errorRange, label = \"Error over Xn\")       # create the line and label it\n",
        "#plt.legend()                                                    # shows the legend on the graph\n",
        "#plt.show()                                                      # displays the graph\n",
        "#\n",
        "# graphing both functions\n",
        "plt.title(\"Runge-Kutta and ODE Function Analysis\")          # set the title of the graph\n",
        "plt.xlabel(\"x\")                                             # set the x label on the graph\n",
        "plt.ylabel(\"y\")                                             # set the y label on the graph\n",
        "plt.plot(xso, yyso, 'r-', label = \"ODEint\", linewidth = 2)   # set the ODE line to be red and label it\n",
        "plt.plot(xxsr, yysr, 'bo', label = \"Runge Kutta\")             # set the runge-kutta to be blue and label it\n",
        "plt.legend()                                                # shows the legend on the graph\n",
        "plt.savefig('Comparison.png')  "
      ],
      "execution_count": null,
      "outputs": [
        {
          "output_type": "stream",
          "name": "stdout",
          "text": [
            "\n",
            "ODEint Solution:             [8.97390431]\n",
            "Runge-Kutta Solution:         8.973904283301149\n",
            "\n",
            "ODEint Time:          0.00048732757568359375\n",
            "Runge Kutta Time:     0.0001614093780517578\n",
            "ODEint is  -0.00032591819763183594  seconds faster\n",
            "\n",
            "\n",
            "Percent Error at x = 0 : [0.]\n",
            "Percent Error at x = 1 : [2.65825853]\n",
            "Percent Error at x = 2 : [5.39285509]\n",
            "Percent Error at x = 3 : [8.20560721]\n",
            "Percent Error at x = 4 : [11.09839479]\n",
            "Percent Error at x = 5 : [14.07314777]\n",
            "Percent Error at x = 6 : [17.13185014]\n",
            "Percent Error at x = 7 : [20.27654158]\n",
            "Percent Error at x = 8 : [23.50931889]\n",
            "Percent Error at x = 9 : [26.83233687]\n",
            "Percent Error at x = 10 : [30.24781083]\n",
            "\n",
            "Average Error Percent: [3.88844199] \n",
            "\n"
          ]
        },
        {
          "output_type": "display_data",
          "data": {
            "image/png": "[encoded data removed]",
            "text/plain": [
              "<Figure size 432x288 with 1 Axes>"
            ]
          },
          "metadata": {
            "needs_background": "light"
          }
        }
      ]
    },
    {
      "cell_type": "code",
      "metadata": {
        "colab": {
          "base_uri": "https://localhost:8080/",
          "height": 694
        },
        "id": "0K3VlcovFfyw",
        "outputId": "8b468928-fa8e-4a27-ca36-ca8a087639d2"
      },
      "source": [
        "import math\n",
        "import time                         # import time to use for performance analysis\n",
        "import numpy as np                  # import numpy for array space\n",
        "import matplotlib.pyplot as plt     # import matplotlib for graphing functions\n",
        "from scipy.integrate import odeint  # import scipy to use the ordinary differencial equation integral function\n",
        "\n",
        "# Ordinary Differential Equation\n",
        "def dy_dx(y, x):                    # takes inputs y and x\n",
        "    return 3*x + 2*y      # returns the function y/(e^x - 1)\n",
        "\n",
        "\n",
        "# Runge-Kutta Forumla based off the formula used in class\n",
        "def rungeKutta(y, x, h):                                # takes y, x, and h inputs\n",
        "    k1 = dy_dx(y, x)                                    # solves k1 using the differential equation function\n",
        "    k2 = dy_dx(y + ((0.5 * h) * k1), x + 0.5 * h)       # solves k2 based on the answer from k1 using the differential equation function\n",
        "    k3 = dy_dx(y + ((0.5 * h) * k2), x + 0.5 * h)       # solves k3 based on the answer from k2 using the differential equation function\n",
        "    k4 = dy_dx(y + (h * k3), x + h)                     # solves k4 based on the answer from k3 using the differential equation function\n",
        "\n",
        "    t4 = (1.0 / 6.0) * (k1 + (2 * k2) + (2 * k3) + k4)  # solves for t4 by taking a 6th of k1 + 2*k2 + 2*k3 + k4\n",
        "\n",
        "    y = y + (t4 * h)                                    # solves for y by taking the initial y value and adding it to t4*h\n",
        "    return y                                            # returns y\n",
        "\n",
        "# initial variable values\n",
        "y = 4\n",
        "           # initial y value of 5 as outlined in the assignment\n",
        "x = 0           # initial x value of 1 as outlined in the assignment\n",
        "h = 0.02        # initial h value of 0.02 as outlined in the assignment\n",
        "n = 2000        # initial n value of 2000 chosen between 1000 or 2000 as outlined in the assignment\n",
        "\n",
        "# Runge-Kutta x and y arrays \n",
        "xsr = []        # x-space runge-kutta array to store the values of x for the runge-kutta function\n",
        "ysr = []        # y-space runge-kutta array to store the values of y for the runge-kutta function\n",
        "\n",
        "# ODEint x and y arrays, solution, and time analysis\n",
        "tso = time.time()                               # time start for ODEint function solution\n",
        "\n",
        "xso = np.linspace(0.0, 0.2 , 30)       # x-space ODEint from 1 to n*h (40) plus 1 with a step size of n\n",
        "yso = odeint(dy_dx, y, xso)                     # y-space ODEint useing the odeint function from scicpy to find the y-space\n",
        "\n",
        "teo = time.time()                               # time end fore ODEint function solution\n",
        "tto = teo - tso                                 # total time the ODEint function to solve\n",
        "\n",
        "# graphing ODEint\n",
        "plt.title(\"ODE Function Analysis\")          # set the title of the graph\n",
        "plt.xlabel(\"x\")                                             # set the x label on the graph\n",
        "plt.ylabel(\"y\")                                             # set the y label on the graph\n",
        "plt.plot(xso, yso, 'g-', label = \"ODEint\", linewidth = 2)   # set the ODE line to be red and label it\n",
        "\n",
        "plt.legend()                                                # shows the legend on the graph\n",
        "plt.savefig('Exact Solution1.png')                                                  # displays the graph\n",
        "\n",
        "# Runge-Kutta solution and time analysis\n",
        "tsr = time.time()                               # time start for runge-kutta function solution\n",
        "\n",
        "while (x <= 0.2):                           # for loop to run the runge-kutta function n number of times\n",
        "    xsr.append(x)                               # append the x value to the x-space runge-kutta array\n",
        "    ysr.append(y)                               # append the y value to the y-space runge-kutta array\n",
        "    \n",
        "    y = rungeKutta(y, x, h)                     # update the y value using the rungeKutta function\n",
        "    \n",
        "    x += h                                      # update the x value by moving one step forward (0.02)\n",
        "\n",
        "ter = time.time()                               # time end for runge-kutta function solution\n",
        "ttr = ter - tsr                                 # total time the runge-kutta function to solve\n",
        "\n",
        "td = ttr - tto                                  # time difference between ODEint and runge-kutta function\n",
        "\n",
        "# graphing runge-kutta\n",
        "plt.title(\"Runge-Kutta Function Analysis\")          # set the title of the graph\n",
        "plt.xlabel(\"x\")                                             # set the x label on the graph\n",
        "plt.ylabel(\"y\")                                             # set the y label on the graph\n",
        "plt.plot(xsr, ysr, 'b--', label = \"Runge Kutta\")             # set the runge-kutta to be blue and label it\n",
        "\n",
        "plt.legend()                                                # shows the legend on the graph\n",
        "plt.savefig('Runge_Kutta1.png')                                                  # displays the graph\n",
        "\n",
        "# solutions\n",
        "print(\"\\nODEint Solution:            \", yso[-1])    # ODEint function solution\n",
        "print(\"Runge-Kutta Solution:        \", ysr[-1])     # Runge-Kutta function solution\n",
        "\n",
        "# Print statement for time difference\n",
        "print(\"\\nODEint Time:         \", tto)               # print the ODEint time\n",
        "print(\"Runge Kutta Time:    \", ttr)                 # print the runge-kutta time\n",
        "print(\"ODEint is \", td, \" seconds faster\\n\\n\")      # print the difference between ODEint and runge-kutta\n",
        "\n",
        "# error calculation\n",
        "error = 0                                                           # initial error value of 0\n",
        "errorRange = []                                                     # array to store error over xn\n",
        "errorSpace = np.linspace(0.0,0.2, 30)                   # error space for error analysis\n",
        "for i in range(len(ysr)):                                   # for loop to run through every x values\n",
        "    error += (np.abs(ysr[i] - yso[i])/yso[i]) * 100                 # sum all the error values using the percentage error formula\n",
        "    errorRange.append((np.abs(ysr[i] - yso[i])/yso[i]) * 100)\n",
        "    print(\"Percent Error at x =\", i, \":\", (np.abs(ysr[i] - yso[i])/yso[i]) * 100)   # print error at each x value\n",
        "\n",
        "print(\"\\nAverage Error Percent:\", error/((int)(n * h) + 1), \"\\n\")     # print the total error divided by the total number of x values\n",
        "\n",
        "# graphing error\n",
        "#plt.title(\"Error Analysis\")                                     # set the title of the graph\n",
        "#plt.xlabel(\"xn\")                                                # set the x label on the graph\n",
        "#plt.ylabel(\"error\")                                             # set the y label on the graph\n",
        "#plt.plot(errorSpace, errorRange, label = \"Error over Xn\")       # create the line and label it\n",
        "#plt.legend()                                                    # shows the legend on the graph\n",
        "#plt.show()                                                      # displays the graph\n",
        "#\n",
        "# graphing both functions\n",
        "plt.title(\"Runge-Kutta and ODE Function Analysis\")          # set the title of the graph\n",
        "plt.xlabel(\"x\")                                             # set the x label on the graph\n",
        "plt.ylabel(\"y\")                                             # set the y label on the graph\n",
        "plt.plot(xso, yso, 'r-', label = \"ODEint\", linewidth = 2)   # set the ODE line to be red and label it\n",
        "plt.plot(xsr, ysr, 'bo', label = \"Runge Kutta\")             # set the runge-kutta to be blue and label it\n",
        "plt.legend()                                                # shows the legend on the graph\n",
        "plt.savefig('Comparison1.png') "
      ],
      "execution_count": null,
      "outputs": [
        {
          "output_type": "stream",
          "name": "stdout",
          "text": [
            "\n",
            "ODEint Solution:             [6.03616728]\n",
            "Runge-Kutta Solution:         6.036167255308874\n",
            "\n",
            "ODEint Time:          0.0004436969757080078\n",
            "Runge Kutta Time:     0.00013566017150878906\n",
            "ODEint is  -0.00030803680419921875  seconds faster\n",
            "\n",
            "\n",
            "Percent Error at x = 0 : [0.]\n",
            "Percent Error at x = 1 : [2.66850899]\n",
            "Percent Error at x = 2 : [5.43374264]\n",
            "Percent Error at x = 3 : [8.29734771]\n",
            "Percent Error at x = 4 : [11.26103658]\n",
            "Percent Error at x = 5 : [14.32657422]\n",
            "Percent Error at x = 6 : [17.49578278]\n",
            "Percent Error at x = 7 : [20.77054323]\n",
            "Percent Error at x = 8 : [24.15279711]\n",
            "Percent Error at x = 9 : [27.6445475]\n",
            "Percent Error at x = 10 : [31.2478619]\n",
            "\n",
            "Average Error Percent: [3.98289616] \n",
            "\n"
          ]
        },
        {
          "output_type": "display_data",
          "data": {
            "image/png": "[encoded data removed]",
            "text/plain": [
              "<Figure size 432x288 with 1 Axes>"
            ]
          },
          "metadata": {
            "needs_background": "light"
          }
        }
      ]
    },
    {
      "cell_type": "code",
      "metadata": {
        "colab": {
          "base_uri": "https://localhost:8080/",
          "height": 295
        },
        "id": "aVmx_eQDGV9z",
        "outputId": "b30cfdf0-75a6-4606-da28-49981e753f9c"
      },
      "source": [
        "plt.title(\"Runge-Kutta and ODE Function Analysis\")          # set the title of the graph\n",
        "plt.xlabel(\"x\")                                             # set the x label on the graph\n",
        "plt.ylabel(\"y\")                                             # set the y label on the graph\n",
        "plt.plot(xso, yyso, 'r-', label = \"ODEint\", linewidth = 2)   # set the ODE line to be red and label it\n",
        "plt.plot(xso, yso, 'b-', label = \"Runge Kutta\")             # set the runge-kutta to be blue and label it\n",
        "plt.legend()                                                # shows the legend on the graph\n",
        "plt.savefig('Comparison1.png') "
      ],
      "execution_count": null,
      "outputs": [
        {
          "output_type": "display_data",
          "data": {
            "image/png": "[encoded data removed]",
            "text/plain": [
              "<Figure size 432x288 with 1 Axes>"
            ]
          },
          "metadata": {
            "needs_background": "light"
          }
        }
      ]
    },
    {
      "cell_type": "code",
      "metadata": {
        "colab": {
          "base_uri": "https://localhost:8080/",
          "height": 284
        },
        "id": "pOgRy26KRYml",
        "outputId": "5f0b3960-68c7-4aab-db94-17250ff8f60c"
      },
      "source": [
        "#RK4 for a system of equations\n",
        "\n",
        "fx = lambda t,x,y: x + 2*y\n",
        "fy = lambda t,x,y: 3*x + 2*y\n",
        "n = 100\n",
        "h = 0.2/n\n",
        "t = np.linspace(0,0.2,n)\n",
        "x = np.zeros(n)\n",
        "y = np.zeros(n)\n",
        "x[0] = 6\n",
        "y[0] = 4\n",
        "\n",
        "for i in range(n-1):\n",
        "  k1 = fx(t[i],x[i],y[i])\n",
        "  m1 = fy(t[i],x[i],y[i])\n",
        "  k2 = fx(t[i]+h/2,x[i] + h*k1/2,y[i] + h*m1/2)\n",
        "  m2 = fy(t[i]+h/2,x[i] + h*k1/2,y[i] + h*m1/2)\n",
        "  k3 = fx(t[i]+h/2,x[i] + h*k2/2,y[i] + h*m2/2)\n",
        "  m3 = fy(t[i]+h/2,x[i] + h*k2/2,y[i] + h*m2/2)\n",
        "  k4 = fx(t[i]+h,x[i] + h*k3,y[i] + h*m3)\n",
        "  m4 = fy(t[i]+h,x[i] + h*k3,y[i] + h*m3)\n",
        "  x[i+1] = x[i] + h/6*(k1+2*k2+2*k3+k4)\n",
        "  y[i+1] = y[i] + h/6*(m1+2*m2+2*m3+m4)\n",
        "\n",
        "plt.plot(t,x)\n",
        "plt.plot(t,4*np.exp(4*t)+2*np.exp(-t))\n",
        "plt.plot(t,y)\n",
        "plt.plot(t,6*np.exp(4*t)-2*np.exp(-t))"
      ],
      "execution_count": null,
      "outputs": [
        {
          "output_type": "execute_result",
          "data": {
            "text/plain": [
              "[<matplotlib.lines.Line2D at 0x7f603380f810>]"
            ]
          },
          "metadata": {},
          "execution_count": 7
        },
        {
          "output_type": "display_data",
          "data": {
            "image/png": "[encoded data removed]",
            "text/plain": [
              "<Figure size 432x288 with 1 Axes>"
            ]
          },
          "metadata": {
            "needs_background": "light"
          }
        }
      ]
    },
    {
      "cell_type": "code",
      "metadata": {
        "colab": {
          "base_uri": "https://localhost:8080/",
          "height": 616
        },
        "id": "qxUC5uzBJsOM",
        "outputId": "edc48f56-4f1d-4326-90ef-73f96fb7c3bd"
      },
      "source": [
        "import matplotlib.pyplot as plt\n",
        "\n",
        "x = 6\n",
        "y = 4\n",
        "t = 0\n",
        "\n",
        "h = 0.05\n",
        "\n",
        "\n",
        "while (t < 1):\n",
        "  m1 = (x + 2*y)\n",
        "  k1 = 3*x + 2*y\n",
        "  ft2 = t + (h/2)\n",
        "  fx2 = x+ (h/2) * m1\n",
        "  fy2 = y + (h/2) * k1\n",
        "  m2 = (2 * fx2) + (4 * fy2)\n",
        "\n",
        "  gt2 = t + (h/2)\n",
        "  gx2 = x + (h/2) * m1\n",
        "  gy2 = y + (h/2) * k1\n",
        "  k2 = -(gx2)+ (6 *gy2)\n",
        "\n",
        "  ft3 = (t + (h/2))\n",
        "  fx3 = x +(h/2)* m2\n",
        "  fy3 = y + (h/2)*k2\n",
        "  m3 = (2 * fx3) + (4* fy3)\n",
        "\n",
        "  gt3 = t + (h/2)\n",
        "  gx3 = x + (h/2) * m2\n",
        "  gy3 = y + (h/2) * k2\n",
        "  k3 = -(gx3)+ (6 *gy3)\n",
        "\n",
        "\n",
        "  ft4 = (t + h)\n",
        "  fx4 = x +h* m3\n",
        "  fy4 = y + h*k3\n",
        "  m4 = (2 * fx4) + (4* fy4)\n",
        "\n",
        "\n",
        "  gt4 = t + h\n",
        "  gx4 = x + h * m3\n",
        "  gy4 = y + h * k3\n",
        "  k4 = -(gx4)+ (6 *gy4)\n",
        "\n",
        "  t = t+h\n",
        "\n",
        "  x = x +( h/6) * (m1 + (2 * m2) + (2 * m3) + m4)\n",
        "  y = y +( h/6) * (k1 + (2 * k2) + (2 * k3) + k4)\n",
        "\n",
        "  print(t, '\\t', '\\t', x, '\\t', y)\n",
        "  plt.plot(t,x,'rs')\n",
        "  plt.plot(t,y,'bs')\n",
        "\n",
        "plt.show()\n",
        "  "
      ],
      "execution_count": null,
      "outputs": [
        {
          "output_type": "stream",
          "name": "stdout",
          "text": [
            "0.05 \t \t 7.46085 \t 5.1045750000000005\n",
            "0.1 \t \t 9.305834935 \t 6.517252962500001\n",
            "0.15000000000000002 \t \t 11.639807890319332 \t 8.324341126644667\n",
            "0.2 \t \t 14.596723284663685 \t 10.636366790952511\n",
            "0.25 \t \t 18.34777169163674 \t 13.59487917339977\n",
            "0.3 \t \t 23.111795487029863 \t 17.38116207284474\n",
            "0.35 \t \t 29.168625623062567 \t 22.22739419024245\n",
            "0.39999999999999997 \t \t 36.8761596786151 \t 28.430944811930303\n",
            "0.44999999999999996 \t \t 46.69223170915144 \t 36.37268578540522\n",
            "0.49999999999999994 \t \t 59.20261951786392 \t 46.54044823977485\n",
            "0.5499999999999999 \t \t 75.15691297584357 \t 59.55906957410428\n",
            "0.6 \t \t 95.51445122873832 \t 76.22888239946161\n",
            "0.65 \t \t 121.50315688076631 \t 97.57501740794845\n",
            "0.7000000000000001 \t \t 154.69488976903375 \t 124.91055862174942\n",
            "0.7500000000000001 \t \t 197.1019606972971 \t 159.9174432250759\n",
            "0.8000000000000002 \t \t 251.30074921244082 \t 204.75009182191636\n",
            "0.8500000000000002 \t \t 320.59003952715614 \t 262.16815589832964\n",
            "0.9000000000000002 \t \t 409.1938279431996 \t 335.70656384522334\n",
            "0.9500000000000003 \t \t 522.5210954558797 \t 429.8933457236092\n",
            "1.0000000000000002 \t \t 667.4985495129707 \t 550.5286617158054\n"
          ]
        },
        {
          "output_type": "display_data",
          "data": {
            "image/png": "[encoded data removed]",
            "text/plain": [
              "<Figure size 432x288 with 1 Axes>"
            ]
          },
          "metadata": {
            "needs_background": "light"
          }
        }
      ]
    },
    {
      "cell_type": "code",
      "metadata": {
        "colab": {
          "base_uri": "https://localhost:8080/",
          "height": 354
        },
        "id": "SZibC0k-P9du",
        "outputId": "a41aaa22-7ae8-48eb-ca12-392bdc195fab"
      },
      "source": [
        "import numpy as np\n",
        "from math import sqrt\n",
        "import matplotlib.pyplot as plt\n",
        "import numba\n",
        "import time\n",
        "start_time = time.clock()\n",
        "\n",
        "a=1\n",
        "b=1\n",
        "c=1\n",
        "d=1\n",
        "\n",
        "# Equations:\n",
        "@numba.jit()\n",
        "\n",
        "#du/dt=V(u,t)\n",
        "def V(u,t):\n",
        "    x, y, vx, vy = u\n",
        "    return np.array([vy,vx,a*x+b*y,c*x+d*y])\n",
        "\n",
        "def rk4(f, u0, t0, tf , n):\n",
        "    t = np.linspace(t0, tf, n+1)\n",
        "    u = np.array((n+1)*[u0])\n",
        "    h = t[1]-t[0]\n",
        "    for i in range(n):\n",
        "        k1 = h * f(u[i], t[i])    \n",
        "        k2 = h * f(u[i] + 0.5 * k1, t[i] + 0.5*h)\n",
        "        k3 = h * f(u[i] + 0.5 * k2, t[i] + 0.5*h)\n",
        "        k4 = h * f(u[i] + k3, t[i] + h)\n",
        "        u[i+1] = u[i] + (k1 + 2*(k2 + k3 ) + k4) / 6\n",
        "    return u, t\n",
        "\n",
        "u, t  = rk4(V, np.array([1., 0., 1. , 0.]) , 0. , 10. , 100000)\n",
        "x,y, vx,vy  = u.T\n",
        "# plt.plot(t, x, t,y)\n",
        "plt.semilogy(t, x, t,y)\n",
        "plt.grid('on')\n",
        "print(\"Execution time:\",time.clock() - start_time, \"seconds\")\n",
        "plt.show() "
      ],
      "execution_count": null,
      "outputs": [
        {
          "output_type": "stream",
          "name": "stderr",
          "text": [
            "/usr/local/lib/python3.7/dist-packages/ipykernel_launcher.py:6: DeprecationWarning: time.clock has been deprecated in Python 3.3 and will be removed from Python 3.8: use time.perf_counter or time.process_time instead\n",
            "  \n",
            "/usr/local/lib/python3.7/dist-packages/ipykernel_launcher.py:38: DeprecationWarning: time.clock has been deprecated in Python 3.3 and will be removed from Python 3.8: use time.perf_counter or time.process_time instead\n"
          ]
        },
        {
          "output_type": "stream",
          "name": "stdout",
          "text": [
            "Execution time: 2.965619000000004 seconds\n"
          ]
        },
        {
          "output_type": "display_data",
          "data": {
            "image/png": "[encoded data removed]",
            "text/plain": [
              "<Figure size 432x288 with 1 Axes>"
            ]
          },
          "metadata": {
            "needs_background": "light"
          }
        }
      ]
    },
    {
      "cell_type": "code",
      "metadata": {
        "id": "853tw_h_RPBe"
      },
      "source": [
        ""
      ],
      "execution_count": null,
      "outputs": []
    },
    {
      "cell_type": "code",
      "metadata": {
        "id": "N1KOIvcYRzjE"
      },
      "source": [
        ""
      ],
      "execution_count": null,
      "outputs": []
    },
    {
      "cell_type": "markdown",
      "metadata": {
        "id": "ZHuHsQvVV0My"
      },
      "source": [
        "## Linear Shooting Method"
      ]
    },
    {
      "cell_type": "code",
      "metadata": {
        "colab": {
          "base_uri": "https://localhost:8080/",
          "height": 282
        },
        "id": "dAsXYlPiRkNu",
        "outputId": "0bd8349d-f9d0-49fe-916f-2f65cb2599a9"
      },
      "source": [
        "#Linear Shooting Method\n",
        "\n",
        "fy = lambda t,x,y: 2*t/(1+t*t)*y - 2/(1+t*t)*x + 1\n",
        "fx = lambda t,x,y: y\n",
        "n = 100\n",
        "t = np.linspace(0,4,n)\n",
        "h = (t[n-1]-t[0])/n\n",
        "x = np.zeros(n)\n",
        "u = np.zeros(n)\n",
        "du = np.zeros(n)\n",
        "v = np.zeros(n)\n",
        "dv = np.zeros(n)\n",
        "u[0] = 1.25\n",
        "dv[0] = 1\n",
        "\n",
        "for i in range(n-1):\n",
        "  k1 = fx(t[i],u[i],du[i])\n",
        "  m1 = fy(t[i],u[i],du[i])\n",
        "  k2 = fx(t[i]+h/2,u[i] + h*k1/2,du[i] + h*m1/2)\n",
        "  m2 = fy(t[i]+h/2,u[i] + h*k1/2,du[i] + h*m1/2)\n",
        "  k3 = fx(t[i]+h/2,u[i] + h*k2/2,du[i] + h*m2/2)\n",
        "  m3 = fy(t[i]+h/2,u[i] + h*k2/2,du[i] + h*m2/2)\n",
        "  k4 = fx(t[i]+h,u[i] + h*k3,du[i] + h*m3)\n",
        "  m4 = fy(t[i]+h,u[i] + h*k3,du[i] + h*m3)\n",
        "  u[i+1] = u[i] + h/6*(k1+2*k2+2*k3+k4)\n",
        "  du[i+1] = du[i] + h/6*(m1+2*m2+2*m3+m4)\n",
        "\n",
        "for i in range(n-1):\n",
        "  k1 = fx(t[i],v[i],dv[i])\n",
        "  m1 = fy(t[i],v[i],dv[i])\n",
        "  k2 = fx(t[i]+h/2,v[i] + h*k1/2,dv[i] + h*m1/2)\n",
        "  m2 = fy(t[i]+h/2,v[i] + h*k1/2,dv[i] + h*m1/2)\n",
        "  k3 = fx(t[i]+h/2,v[i] + h*k2/2,dv[i] + h*m2/2)\n",
        "  m3 = fy(t[i]+h/2,v[i] + h*k2/2,dv[i] + h*m2/2)\n",
        "  k4 = fx(t[i]+h,v[i] + h*k3,dv[i] + h*m3)\n",
        "  m4 = fy(t[i]+h,v[i] + h*k3,dv[i] + h*m3)\n",
        "  v[i+1] = v[i] + h/6*(k1+2*k2+2*k3+k4)\n",
        "  dv[i+1] = dv[i] + h/6*(m1+2*m2+2*m3+m4)\n",
        "\n",
        "w = (-0.95 - u[n-1])/(v[n-1])*v\n",
        "x = u + w\n",
        "\n",
        "plt.plot(t,x)"
      ],
      "execution_count": null,
      "outputs": [
        {
          "output_type": "execute_result",
          "data": {
            "text/plain": [
              "[<matplotlib.lines.Line2D at 0x7f603378c8d0>]"
            ]
          },
          "metadata": {},
          "execution_count": 8
        },
        {
          "output_type": "display_data",
          "data": {
            "image/png": "[encoded data removed]",
            "text/plain": [
              "<Figure size 432x288 with 1 Axes>"
            ]
          },
          "metadata": {
            "needs_background": "light"
          }
        }
      ]
    },
    {
      "cell_type": "code",
      "metadata": {
        "id": "EU76DmVTV3Ks"
      },
      "source": [
        "# matlab\n",
        "\n",
        " p = @(x) ((2*x)/(1+x^2));  \n",
        " q = @(x) (-2/1 + x^2);\n",
        " r = @(x) (1); \n",
        " \n",
        " a=0; b=4; alpha =1.25; beta = -0.95;  n = 50;\n",
        "   \n",
        " fprintf('   x          w\\n');\n",
        " h = (b-a)/n;\n",
        " u1 = alpha;\n",
        " u2 = 0;\n",
        " v1 = 0;\n",
        " v2 = 1;\n",
        " u = zeros(2,n);\n",
        " v = zeros(2,n);\n",
        " \n",
        "\n",
        " for i = 1 : n \n",
        "   x = a+(i-1)*h;\n",
        "   t = x+0.5*h;\n",
        "   k11 = h*u2;\n",
        "   k12 = h*(p(x)*u2+q(x)*u1+r(x));\n",
        "   k21 = h*(u2+0.5*k12);\n",
        "   k22 = h*(p(t)*(u2+0.5*k12)+q(t)*(u1+0.5*k11)+r(t));\n",
        "   k31 = h*(u2+0.5*k22);\n",
        "   k32 = h*(p(t)*(u2+0.5*k22)+q(t)*(u1+0.5*k21)+r(t));\n",
        "   t = x+h;\n",
        "   k41 = h*(u2+k32);\n",
        "   k42 = h*(p(t)*(u2+k32)+q(t)*(u1+k31)+r(t));\n",
        "   u1 = u1+(k11+2*(k21+k31)+k41)/6;\n",
        "   u2 = u2+(k12+2*(k22+k32)+k42)/6;\n",
        "   k11 = h*v2;\n",
        "   k12 = h*(p(x)*v2+q(x)*v1);\n",
        "   t = x+0.5*h;\n",
        "   k21 = h*(v2+0.5*k12);\n",
        "   k22 = h*(p(t)*(v2+0.5*k12)+q(t)*(v1+0.5*k11));\n",
        "   k31 = h*(v2+0.5*k22);\n",
        "   k32 = h*(p(t)*(v2+0.5*k22)+q(t)*(v1+0.5*k21));\n",
        "   t = x+h;\n",
        "   k41 = h*(v2+k32);\n",
        "   k42 = h*(p(t)*(v2+k32)+q(t)*(v1+k31));\n",
        "   v1 = v1+(k11+2*(k21+k31)+k41)/6;\n",
        "   v2 = v2+(k12+2*(k22+k32)+k42)/6;\n",
        "   u(1,i) = u1;\n",
        "   u(2,i) = u2;\n",
        "   v(1,i) = v1;\n",
        "   v(2,i) = v2;\n",
        " end\n",
        " \n",
        " w1 = alpha;\n",
        " z = (beta-u(1,n))/v(1,n);\n",
        " x = a;\n",
        " i = 0;\n",
        " fprintf('%5.4f   %11.8f \\n', x, w1);\n",
        " \n",
        " for i = 1 : n \n",
        "   x = a+i*h;\n",
        "   w1 = u(1,i)+z*v(1,i);\n",
        "   w2 = u(2,i)+z*v(2,i);\n",
        "   fprintf('%5.4f   %11.8f \\n', x, w1);\n",
        "   plot(x,w1,'b*'); grid on; \n",
        "   xlabel('t values'); ylabel('w values');\n",
        "   hold on;\n",
        " end"
      ],
      "execution_count": null,
      "outputs": []
    },
    {
      "cell_type": "code",
      "metadata": {
        "id": "J8Ou3DU2b0wv"
      },
      "source": [
        "import numpy\n",
        "\n",
        "#-----------------------------------------------------------------------------\n",
        "\n",
        "def shoot( f, a, b, z1, z2, t, tol ):\n",
        "    \"\"\"Implements the shooting method to solve second order BVPs\n",
        "    USAGE:\n",
        "        y = shoot(f, a, b, z1, z2, t, tol)\n",
        "    INPUT:\n",
        "        f     - function dy/dt = f(y,t).  Since we are solving a second-\n",
        "                order boundary-value problem that has been transformed\n",
        "                into a first order system, this function should return a\n",
        "                1x2 array with the first entry equal to y and the second\n",
        "                entry equal to y'.\n",
        "        a     - solution value at the left boundary: a = y(t[0]).\n",
        "        b     - solution value at the right boundary: b = y(t[n-1]).\n",
        "        z1    - first initial estimate of y'(t[0]).\n",
        "        z1    - second initial estimate of y'(t[0]).\n",
        "        t     - array of n time values to determine y at.\n",
        "        tol   - allowable tolerance on right boundary: | b - y[n-1] | < tol\n",
        "    OUTPUT:\n",
        "        y     - array of solution function values corresponding to the\n",
        "                values in the supplied array t.\n",
        "    NOTE:\n",
        "        This function assumes that the second order BVP has been converted to\n",
        "        a first order system of two equations.  The secant method is used to\n",
        "        refine the initial values of y' used for the initial value problems.\n",
        "    \"\"\"\n",
        "\n",
        "    from diffeq import rk4\n",
        "\n",
        "    max_iter = 25   # Maximum number of shooting iterations\n",
        "\n",
        "    n = len( t )    # Determine the size of the arrays we will generate\n",
        "\n",
        "    # Compute solution to first initial value problem (IVP) with y'(a) = z1.\n",
        "    # Because we are using the secant method to refine our estimates of z =\n",
        "    # y', we don't really need all the solution of the IVP, just the last\n",
        "    # point of it -- this is saved in w1.\n",
        "\n",
        "    y = rk4( f, [a,z1], t )\n",
        "    w1 = y[n-1,0]\n",
        "\n",
        "    print(\"%2d: z = %10.3e, error = %10.3e\" % ( 0, z1, b - w1 ))\n",
        "\n",
        "    # Begin the main loop.  We will compute the solution of a second IVP and\n",
        "    # then use the both solutions to refine our estimate of y'(a).  This\n",
        "    # second solution then replaces the first and a new \"second\" solution is\n",
        "    # generated.  This process continues until we either solve the problem to\n",
        "    # within the specified tolerance or we exceed the maximum number of\n",
        "    # allowable iterations.\n",
        "\n",
        "    for i in range( max_iter ):\n",
        "\n",
        "        # Solve second initial value problem, using y'(a) = z2.  We need to\n",
        "        # retain the entire solution vector y since if y(t(n)) is close enough\n",
        "        # to b for us to stop then the first column of y becomes our solution\n",
        "        # vector.\n",
        "\n",
        "        y = rk4( f, [a,z2], t )\n",
        "        w2 = y[n-1,0]\n",
        "\n",
        "        print( \"%2d: z = %10.3e, error = %10.3e\" % ( i+1, z2, b - w2 ))\n",
        "\n",
        "        # Check to see if we are done...\n",
        "    \n",
        "        if abs( b - w2 ) < tol:\n",
        "            break\n",
        "\n",
        "        # Compute the new approximations to the initial value of the first\n",
        "        # derivative.  We compute z2 using a linear fit through (z1,w1) and\n",
        "        # (z2,w2) where w1 and w2 are the estimates at t=b of the initial\n",
        "        # value problems solved above with y1'(a) = z1 and y2'(a) = z2.  The\n",
        "        # new value for z1 is the old value of z2.\n",
        "\n",
        "        #z1, z2 = ( z2, z1 + ( z2 - z1 ) / ( w2 - w1 ) * ( b - w1 ) )\n",
        "        z1, z2 = ( z2, z2 + ( z2 - z1 ) / ( w2 - w1 ) * ( b - w2 ) )\n",
        "        w1 = w2\n",
        "\n",
        "    # All done.  Check to see if we really solved the problem, and then return\n",
        "    # the solution.\n",
        "\n",
        "    if abs( b - w2 ) >= tol:\n",
        "        print (\"\\a**** ERROR ****\")\n",
        "        print (\"Maximum number of iterations (%d) exceeded\" % max_iter)\n",
        "        print (\"Returned values may not have desired accuracy\")\n",
        "        print (\"Error estimate of returned solution is %e\" % ( b - w2 ))\n",
        "\n",
        "    return y[:,0]\n",
        "\n",
        "#-----------------------------------------------------------------------------\n",
        "\n",
        "def fd( u, v, w, t, a, b ):\n",
        "    \"\"\"Implements the shooting method to solve linear second order BVPs\n",
        "    Compute finite difference solution to the BVP\n",
        "        x'' = u(t) + v(t) x + w(t) x'\n",
        "        x(t[0]) = a, x(t[n-1]) = b\n",
        "    t should be passed in as an n element array.   u, v, and w should be\n",
        "    either n element arrays corresponding to u(t), v(t) and w(t) or\n",
        "    scalars, in which case an n element array with the given value is\n",
        "    generated for each of them.\n",
        "    USAGE:\n",
        "        x = fd(u, v, w, t, a, b)\n",
        "    INPUT:\n",
        "        u,v,w - arrays containing u(t), v(t), and w(t) values.  May be\n",
        "                specified as Python lists, NumPy arrays, or scalars.  In\n",
        "                each case they are converted to NumPy arrays.\n",
        "        t     - array of n time values to determine x at\n",
        "        a     - solution value at the left boundary: a = x(t[0])\n",
        "        b     - solution value at the right boundary: b = x(t[n-1])\n",
        "    OUTPUT:\n",
        "        x     - array of solution function values corresponding to the\n",
        "                values in the supplied array t.\n",
        "    \"\"\"\n",
        "\n",
        "    # Get the dimension of t and make sure that t is an n-element vector\n",
        "\n",
        "    if type( t ) != numpy.ndarray:\n",
        "        if type( t ) == list:\n",
        "            t = numpy.array( t )\n",
        "        else:\n",
        "            t = numpy.array( [ float( t ) ] )\n",
        "\n",
        "    n = len( t )\n",
        "\n",
        "    # Make sure that u, v, and w are either scalars or n-element vectors.\n",
        "    # If they are scalars then we create vectors with the scalar value in\n",
        "    # each position.\n",
        "\n",
        "    if type( u ) == int or type( u ) == float:\n",
        "        u = numpy.array( [ float( u ) ] * n )\n",
        "\n",
        "    if type( v ) == int or type( v ) == float:\n",
        "        v = numpy.array( [ float( v ) ] * n )\n",
        "\n",
        "    if type( w ) == int or type( w ) == float:\n",
        "        w = numpy.array( [ float( w ) ] * n )\n",
        "\n",
        "    # Compute the stepsize.  It is assumed that all elements in t are\n",
        "    # equally spaced.\n",
        "\n",
        "    h = t[1] - t[0];\n",
        "\n",
        "    # Construct tridiagonal system; boundary conditions appear as first and\n",
        "    # last equations in system.\n",
        "\n",
        "    A = -( 1.0 + w[1:n] * h / 2.0 )\n",
        "    A[-1] = 0.0\n",
        "\n",
        "    C = -( 1.0 - w[0:n-1] * h / 2.0 )\n",
        "    C[0] = 0.0\n",
        "\n",
        "    D = 2.0 + h * h * v\n",
        "    D[0] = D[n-1] = 1.0\n",
        "\n",
        "    B = - h * h * u\n",
        "    B[0] = a\n",
        "    B[n-1] = b\n",
        "\n",
        "    # Solve tridiagonal system\n",
        "\n",
        "    for i in range( 1, n ):\n",
        "        xmult = A[i-1] / D[i-1]\n",
        "        D[i] = D[i] - xmult * C[i-1]\n",
        "        B[i] = B[i] - xmult * B[i-1]\n",
        "\n",
        "    x = numpy.zeros( n )\n",
        "    x[n-1] = B[n-1] / D[n-1]\n",
        "\n",
        "    for i in range( n - 2, -1, -1 ):\n",
        "        x[i] = ( B[i] - C[i] * x[i+1] ) / D[i]\n",
        "\n",
        "    return x\n",
        "\n",
        "#-----------------------------------------------------------------------------\n",
        "\n",
        "if __name__ == \"__main__\":\n",
        "\n",
        "    import math\n",
        "    from pylab import *\n",
        "\n",
        "    # Solves x'' = x + 4exp(t), x(0)=1, x(1/2) = 2exp(1/2) using both the\n",
        "    # finite difference method and the shooting method.\n",
        "\n",
        "    # Set up interval.  We will solve the problem for both n=64 and n=128.\n",
        "\n",
        "    a = 1.25\n",
        "    b = -0.95\n",
        "    n1 = 64\n",
        "    n2 = 128\n",
        "    t1 = linspace( a, b, n1 )\n",
        "    t2 = linspace( a, b, n2 )\n",
        "\n",
        "    # Compute exact solutions.  The transpose of the solution is taken because\n",
        "    # both the finite difference function fd() and the shooting method function\n",
        "    # shoot() return nx1 vectors rather than 1xn vectors.\n",
        "\n",
        "    def exact(t):\n",
        "        return exp(t) * ( 1 + 2 * t )\n",
        "  \n",
        "    x1 = exact( t1 )\n",
        "    x2 = exact( t2 )\n",
        "\n",
        "    # Compute finite difference solutions\n",
        "\n",
        "    xfd1 = fd( 4 * exp( t1 ), 1, 0, t1, 1, 2 * exp( 0.5 ) )\n",
        "    xfd2 = fd( 4 * exp( t2 ), 1, 0, t2, 1, 2 * exp( 0.5 ) )\n",
        "\n",
        "    # Compute shooting method solutions\n",
        "\n",
        "    def f(x,t):\n",
        "        return array( [x[1], x[0]+4*exp(t)] )\n",
        "  \n",
        "    xs1 = shoot( f, exp(a), 2*exp(b), 3.0, 4.0, t1, 1e-5 )\n",
        "    xs2 = shoot( f, exp(a), 2*exp(b), 3.0, 4.0, t2, 1e-5 )\n",
        "\n",
        "    # Prepare for display; set interactive mode to true so each plot\n",
        "    # is shown as it is generated\n",
        "\n",
        "    interactive( True )\n",
        "\n",
        "    # Plot solutions\n",
        "\n",
        "    plot( t1, xfd1, 'ro', t2, xfd2, 'b-' )\n",
        "    title( 'Finite Difference Method' )\n",
        "    xlabel( '$t$' )\n",
        "    ylabel( '$x$' )\n",
        "    legend( ( '%3d points' % n1, '%3d points' % n2 ), loc='lower right' )\n",
        "    draw()\n",
        "    z = input( \"Press ENTER to continue...\" );\n",
        "\n",
        "    cla()\n",
        "    plot( t1, xs1, 'ro', t2, xs2, 'b-' )\n",
        "    title( 'Shooting Method' )\n",
        "    xlabel( '$t$' )\n",
        "    ylabel( '$x$' )\n",
        "    legend( ( '%3d points' % n1, '%3d points' % n2 ), loc='lower right' )\n",
        "    draw()\n",
        "    z = input( \"Press ENTER to continue...\" )\n",
        "\n",
        "    # Plot errors\n",
        "\n",
        "    cla()\n",
        "    plot( t1, xfd1 - x1, 'ro', t2, xfd2 - x2, 'b-' )\n",
        "    title( 'Finite Difference Errors' )\n",
        "    xlabel( '$t$' )\n",
        "    ylabel( '$x$' )\n",
        "    legend( ( '%3d points' % n1, '%3d points' % n2 ), loc='center' )\n",
        "    draw()\n",
        "    z = input( \"Press ENTER to continue...\" );\n",
        "\n",
        "    cla()\n",
        "    plot( t1, xs1 - x1, 'ro', t2, xs2 - x2, 'b-' )\n",
        "    title( 'Shooting Method Errors' )\n",
        "    xlabel( '$t$' )\n",
        "    ylabel( '$x$' )\n",
        "    legend( ( '%3d points' % n1, '%3d points' % n2 ), loc='center' )\n",
        "    draw()\n",
        "    z = input( \"Press ENTER to continue...\" );\n",
        "\n",
        "    cla() \n",
        "    plot( t1, xfd1 - x1, 'ro-', t1, xs1 - x1, 'b-' )\n",
        "    # fiddle with ymin value so that shooting method error is not at\n",
        "    # bottom of window\n",
        "    win = list( axis() )\n",
        "    win[2] = win[2] - 0.1 * ( win[3] - win[2] );\n",
        "    axis( tuple( win ) )\n",
        "    title( 'Finite Difference and Shooting Method Errors: %d points' % n1 )\n",
        "    xlabel( '$t$' )\n",
        "    ylabel( '$x$' )\n",
        "    legend( ( 'Finite Differences', 'Shooting' ), loc='center' )\n",
        "    draw()\n",
        "    z = input( \"Press ENTER to quit...\" );"
      ],
      "execution_count": null,
      "outputs": []
    },
    {
      "cell_type": "code",
      "metadata": {
        "id": "XT1GZBMnb2Mb"
      },
      "source": [
        "# diffeq\n",
        "from __future__ import print_function\n",
        "import numpy as np\n",
        "\n",
        "#-----------------------------------------------------------------------------\n",
        "\n",
        "def euler( f, x0, t ):\n",
        "    \"\"\"Euler's method to solve x' = f(x,t) with x(t[0]) = x0.\n",
        "    USAGE:\n",
        "        x = euler(f, x0, t)\n",
        "    INPUT:\n",
        "        f     - function of x and t equal to dx/dt.  x may be multivalued,\n",
        "                in which case it should a list or a NumPy array.  In this\n",
        "                case f must return a NumPy array with the same dimension\n",
        "                as x.\n",
        "        x0    - the initial condition(s).  Specifies the value of x when\n",
        "                t = t[0].  Can be either a scalar or a list or NumPy array\n",
        "                if a system of equations is being solved.\n",
        "        t     - list or NumPy array of t values to compute solution at.\n",
        "                t[0] is the the initial condition point, and the difference\n",
        "                h=t[i+1]-t[i] determines the step size h.\n",
        "    OUTPUT:\n",
        "        x     - NumPy array containing solution values corresponding to each\n",
        "                entry in t array.  If a system is being solved, x will be\n",
        "                an array of arrays.\n",
        "    \"\"\"\n",
        "\n",
        "    n = len( t )\n",
        "    x = np.array( [x0] * n )\n",
        "    for i in range( n - 1 ):\n",
        "        x[i+1] = x[i] + ( t[i+1] - t[i] ) * f( x[i], t[i] )\n",
        "\n",
        "    return x\n",
        "\n",
        "#-----------------------------------------------------------------------------\n",
        "\n",
        "def heun( f, x0, t ):\n",
        "    \"\"\"Heun's method to solve x' = f(x,t) with x(t[0]) = x0.\n",
        "    USAGE:\n",
        "        x = heun(f, x0, t)\n",
        "    INPUT:\n",
        "        f     - function of x and t equal to dx/dt.  x may be multivalued,\n",
        "                in which case it should a list or a NumPy array.  In this\n",
        "                case f must return a NumPy array with the same dimension\n",
        "                as x.\n",
        "        x0    - the initial condition(s).  Specifies the value of x when\n",
        "                t = t[0].  Can be either a scalar or a list or NumPy array\n",
        "                if a system of equations is being solved.\n",
        "        t     - list or NumPy array of t values to compute solution at.\n",
        "                t[0] is the the initial condition point, and the difference\n",
        "                h=t[i+1]-t[i] determines the step size h.\n",
        "    OUTPUT:\n",
        "        x     - NumPy array containing solution values corresponding to each\n",
        "                entry in t array.  If a system is being solved, x will be\n",
        "                an array of arrays.\n",
        "    \"\"\"\n",
        "    n = len( t )\n",
        "    x = np.array( [x0] * n )\n",
        "    for i in range( n - 1 ):\n",
        "        h = t[i+1] - t[i]\n",
        "        k1 = h * f( x[i], t[i] )\n",
        "        k2 = h * f( x[i] + k1, t[i+1] )\n",
        "        x[i+1] = x[i] + ( k1 + k2 ) / 2.0\n",
        "\n",
        "    return x\n",
        "\n",
        "#-----------------------------------------------------------------------------\n",
        "\n",
        "def rk2a( f, x0, t ):\n",
        "    \"\"\"Second-order Runge-Kutta method to solve x' = f(x,t) with x(t[0]) = x0.\n",
        "    USAGE:\n",
        "        x = rk2a(f, x0, t)\n",
        "    INPUT:\n",
        "        f     - function of x and t equal to dx/dt.  x may be multivalued,\n",
        "                in which case it should a list or a NumPy array.  In this\n",
        "                case f must return a NumPy array with the same dimension\n",
        "                as x.\n",
        "        x0    - the initial condition(s).  Specifies the value of x when\n",
        "                t = t[0].  Can be either a scalar or a list or NumPy array\n",
        "                if a system of equations is being solved.\n",
        "        t     - list or NumPy array of t values to compute solution at.\n",
        "                t[0] is the the initial condition point, and the difference\n",
        "                h=t[i+1]-t[i] determines the step size h.\n",
        "    OUTPUT:\n",
        "        x     - NumPy array containing solution values corresponding to each\n",
        "                entry in t array.  If a system is being solved, x will be\n",
        "                an array of arrays.\n",
        "    NOTES:\n",
        "        This version is based on the algorithm presented in \"Numerical\n",
        "        Analysis\", 6th Edition, by Burden and Faires, Brooks-Cole, 1997.\n",
        "    \"\"\"\n",
        "\n",
        "    n = len( t )\n",
        "    x = np.array( [ x0 ] * n )\n",
        "    for i in range( n - 1 ):\n",
        "        h = t[i+1] - t[i]\n",
        "        k1 = h * f( x[i], t[i] ) / 2.0\n",
        "        x[i+1] = x[i] + h * f( x[i] + k1, t[i] + h / 2.0 )\n",
        "\n",
        "    return x\n",
        "\n",
        "#-----------------------------------------------------------------------------\n",
        "\n",
        "def rk2b( f, x0, t ):\n",
        "    \"\"\"Second-order Runge-Kutta method to solve x' = f(x,t) with x(t[0]) = x0.\n",
        "    USAGE:\n",
        "        x = rk2b(f, x0, t)\n",
        "    INPUT:\n",
        "        f     - function of x and t equal to dx/dt.  x may be multivalued,\n",
        "                in which case it should a list or a NumPy array.  In this\n",
        "                case f must return a NumPy array with the same dimension\n",
        "                as x.\n",
        "        x0    - the initial condition(s).  Specifies the value of x when\n",
        "                t = t[0].  Can be either a scalar or a list or NumPy array\n",
        "                if a system of equations is being solved.\n",
        "        t     - list or NumPy array of t values to compute solution at.\n",
        "                t[0] is the the initial condition point, and the difference\n",
        "                h=t[i+1]-t[i] determines the step size h.\n",
        "    OUTPUT:\n",
        "        x     - NumPy array containing solution values corresponding to each\n",
        "                entry in t array.  If a system is being solved, x will be\n",
        "                an array of arrays.\n",
        "    NOTES:\n",
        "        This version is based on the algorithm presented in \"Numerical\n",
        "        Mathematics and Computing\" 4th Edition, by Cheney and Kincaid,\n",
        "        Brooks-Cole, 1999.\n",
        "    \"\"\"\n",
        "\n",
        "    n = len( t )\n",
        "    x = np.array( [ x0 ] * n )\n",
        "    for i in range( n - 1 ):\n",
        "        h = t[i+1] - t[i]\n",
        "        k1 = h * f( x[i], t[i] )\n",
        "        k2 = h * f( x[i] + k1, t[i+1] )\n",
        "        x[i+1] = x[i] + ( k1 + k2 ) / 2.0\n",
        "\n",
        "    return x\n",
        "\n",
        "#-----------------------------------------------------------------------------\n",
        "\n",
        "def rk4( f, x0, t ):\n",
        "    \"\"\"Fourth-order Runge-Kutta method to solve x' = f(x,t) with x(t[0]) = x0.\n",
        "    USAGE:\n",
        "        x = rk4(f, x0, t)\n",
        "    INPUT:\n",
        "        f     - function of x and t equal to dx/dt.  x may be multivalued,\n",
        "                in which case it should a list or a NumPy array.  In this\n",
        "                case f must return a NumPy array with the same dimension\n",
        "                as x.\n",
        "        x0    - the initial condition(s).  Specifies the value of x when\n",
        "                t = t[0].  Can be either a scalar or a list or NumPy array\n",
        "                if a system of equations is being solved.\n",
        "        t     - list or NumPy array of t values to compute solution at.\n",
        "                t[0] is the the initial condition point, and the difference\n",
        "                h=t[i+1]-t[i] determines the step size h.\n",
        "    OUTPUT:\n",
        "        x     - NumPy array containing solution values corresponding to each\n",
        "                entry in t array.  If a system is being solved, x will be\n",
        "                an array of arrays.\n",
        "    \"\"\"\n",
        "\n",
        "    n = len( t )\n",
        "    x = np.array( [ x0 ] * n )\n",
        "    for i in range( n - 1 ):\n",
        "        h = t[i+1] - t[i]\n",
        "        k1 = h * f( x[i], t[i] )\n",
        "        k2 = h * f( x[i] + 0.5 * k1, t[i] + 0.5 * h )\n",
        "        k3 = h * f( x[i] + 0.5 * k2, t[i] + 0.5 * h )\n",
        "        k4 = h * f( x[i] + k3, t[i+1] )\n",
        "        x[i+1] = x[i] + ( k1 + 2.0 * ( k2 + k3 ) + k4 ) / 6.0\n",
        "\n",
        "    return x\n",
        "\n",
        "#-----------------------------------------------------------------------------\n",
        "\n",
        "def rk45( f, x0, t ):\n",
        "    \"\"\"Fourth-order Runge-Kutta method with error estimate.\n",
        "    USAGE:\n",
        "        x, err = rk45(f, x0, t)\n",
        "    INPUT:\n",
        "        f     - function of x and t equal to dx/dt.  x may be multivalued,\n",
        "                in which case it should a list or a NumPy array.  In this\n",
        "                case f must return a NumPy array with the same dimension\n",
        "                as x.\n",
        "        x0    - the initial condition(s).  Specifies the value of x when\n",
        "                t = t[0].  Can be either a scalar or a list or NumPy array\n",
        "                if a system of equations is being solved.\n",
        "        t     - list or NumPy array of t values to compute solution at.\n",
        "                t[0] is the the initial condition point, and the difference\n",
        "                h=t[i+1]-t[i] determines the step size h.\n",
        "    OUTPUT:\n",
        "        x     - NumPy array containing solution values corresponding to each\n",
        "                entry in t array.  If a system is being solved, x will be\n",
        "                an array of arrays.\n",
        "        err   - NumPy array containing estimate of errors at each step.  If\n",
        "                a system is being solved, err will be an array of arrays.\n",
        "    NOTES:\n",
        "        This version is based on the algorithm presented in \"Numerical\n",
        "        Mathematics and Computing\" 6th Edition, by Cheney and Kincaid,\n",
        "        Brooks-Cole, 2008.\n",
        "    \"\"\"\n",
        "\n",
        "    # Coefficients used to compute the independent variable argument of f\n",
        "\n",
        "    c20  =   2.500000000000000e-01  #  1/4\n",
        "    c30  =   3.750000000000000e-01  #  3/8\n",
        "    c40  =   9.230769230769231e-01  #  12/13\n",
        "    c50  =   1.000000000000000e+00  #  1\n",
        "    c60  =   5.000000000000000e-01  #  1/2\n",
        "\n",
        "    # Coefficients used to compute the dependent variable argument of f\n",
        "\n",
        "    c21 =   2.500000000000000e-01  #  1/4\n",
        "    c31 =   9.375000000000000e-02  #  3/32\n",
        "    c32 =   2.812500000000000e-01  #  9/32\n",
        "    c41 =   8.793809740555303e-01  #  1932/2197\n",
        "    c42 =  -3.277196176604461e+00  # -7200/2197\n",
        "    c43 =   3.320892125625853e+00  #  7296/2197\n",
        "    c51 =   2.032407407407407e+00  #  439/216\n",
        "    c52 =  -8.000000000000000e+00  # -8\n",
        "    c53 =   7.173489278752436e+00  #  3680/513\n",
        "    c54 =  -2.058966861598441e-01  # -845/4104\n",
        "    c61 =  -2.962962962962963e-01  # -8/27\n",
        "    c62 =   2.000000000000000e+00  #  2\n",
        "    c63 =  -1.381676413255361e+00  # -3544/2565\n",
        "    c64 =   4.529727095516569e-01  #  1859/4104\n",
        "    c65 =  -2.750000000000000e-01  # -11/40\n",
        "\n",
        "    # Coefficients used to compute 4th order RK estimate\n",
        "\n",
        "    a1  =   1.157407407407407e-01  #  25/216\n",
        "    a2  =   0.000000000000000e-00  #  0\n",
        "    a3  =   5.489278752436647e-01  #  1408/2565\n",
        "    a4  =   5.353313840155945e-01  #  2197/4104\n",
        "    a5  =  -2.000000000000000e-01  # -1/5\n",
        "\n",
        "    b1  =   1.185185185185185e-01  #  16.0/135.0\n",
        "    b2  =   0.000000000000000e-00  #  0\n",
        "    b3  =   5.189863547758284e-01  #  6656.0/12825.0\n",
        "    b4  =   5.061314903420167e-01  #  28561.0/56430.0\n",
        "    b5  =  -1.800000000000000e-01  # -9.0/50.0\n",
        "    b6  =   3.636363636363636e-02  #  2.0/55.0\n",
        "\n",
        "    n = len( t )\n",
        "    x = np.array( [ x0 ] * n )\n",
        "    e = np.array( [ 0 * x0 ] * n )\n",
        "    for i in range( n - 1 ):\n",
        "        h = t[i+1] - t[i]\n",
        "        k1 = h * f( x[i], t[i] )\n",
        "        k2 = h * f( x[i] + c21 * k1, t[i] + c20 * h )\n",
        "        k3 = h * f( x[i] + c31 * k1 + c32 * k2, t[i] + c30 * h )\n",
        "        k4 = h * f( x[i] + c41 * k1 + c42 * k2 + c43 * k3, t[i] + c40 * h )\n",
        "        k5 = h * f( x[i] + c51 * k1 + c52 * k2 + c53 * k3 + c54 * k4, \\\n",
        "                        t[i] + h )\n",
        "        k6 = h * f( \\\n",
        "            x[i] + c61 * k1 + c62 * k2 + c63 * k3 + c64 * k4 + c65 * k5, \\\n",
        "            t[i] + c60 * h )\n",
        "\n",
        "        x[i+1] = x[i] + a1 * k1 + a3 * k3 + a4 * k4 + a5 * k5\n",
        "        x5 = x[i] + b1 * k1 + b3 * k3 + b4 * k4 + b5 * k5 + b6 * k6\n",
        "\n",
        "        e[i+1] = abs( x5 - x[i+1] )\n",
        "\n",
        "    return ( x, e )\n",
        "\n",
        "#-----------------------------------------------------------------------------\n",
        "\n",
        "def rkf( f, a, b, x0, tol, hmax, hmin ):\n",
        "    \"\"\"Runge-Kutta-Fehlberg method to solve x' = f(x,t) with x(t[0]) = x0.\n",
        "    USAGE:\n",
        "        t, x = rkf(f, a, b, x0, tol, hmax, hmin)\n",
        "    INPUT:\n",
        "        f     - function equal to dx/dt = f(x,t)\n",
        "        a     - left-hand endpoint of interval (initial condition is here)\n",
        "        b     - right-hand endpoint of interval\n",
        "        x0    - initial x value: x0 = x(a)\n",
        "        tol   - maximum value of local truncation error estimate\n",
        "        hmax  - maximum step size\n",
        "        hmin  - minimum step size\n",
        "    OUTPUT:\n",
        "        t     - NumPy array of independent variable values\n",
        "        x     - NumPy array of corresponding solution function values\n",
        "    NOTES:\n",
        "        This function implements 4th-5th order Runge-Kutta-Fehlberg Method\n",
        "        to solve the initial value problem\n",
        "           dx\n",
        "           -- = f(x,t),     x(a) = x0\n",
        "           dt\n",
        "        on the interval [a,b].\n",
        "        Based on pseudocode presented in \"Numerical Analysis\", 6th Edition,\n",
        "        by Burden and Faires, Brooks-Cole, 1997.\n",
        "    \"\"\"\n",
        "\n",
        "    # Coefficients used to compute the independent variable argument of f\n",
        "\n",
        "    a2  =   2.500000000000000e-01  #  1/4\n",
        "    a3  =   3.750000000000000e-01  #  3/8\n",
        "    a4  =   9.230769230769231e-01  #  12/13\n",
        "    a5  =   1.000000000000000e+00  #  1\n",
        "    a6  =   5.000000000000000e-01  #  1/2\n",
        "\n",
        "    # Coefficients used to compute the dependent variable argument of f\n",
        "\n",
        "    b21 =   2.500000000000000e-01  #  1/4\n",
        "    b31 =   9.375000000000000e-02  #  3/32\n",
        "    b32 =   2.812500000000000e-01  #  9/32\n",
        "    b41 =   8.793809740555303e-01  #  1932/2197\n",
        "    b42 =  -3.277196176604461e+00  # -7200/2197\n",
        "    b43 =   3.320892125625853e+00  #  7296/2197\n",
        "    b51 =   2.032407407407407e+00  #  439/216\n",
        "    b52 =  -8.000000000000000e+00  # -8\n",
        "    b53 =   7.173489278752436e+00  #  3680/513\n",
        "    b54 =  -2.058966861598441e-01  # -845/4104\n",
        "    b61 =  -2.962962962962963e-01  # -8/27\n",
        "    b62 =   2.000000000000000e+00  #  2\n",
        "    b63 =  -1.381676413255361e+00  # -3544/2565\n",
        "    b64 =   4.529727095516569e-01  #  1859/4104\n",
        "    b65 =  -2.750000000000000e-01  # -11/40\n",
        "\n",
        "    # Coefficients used to compute local truncation error estimate.  These\n",
        "    # come from subtracting a 4th order RK estimate from a 5th order RK\n",
        "    # estimate.\n",
        "\n",
        "    r1  =   2.777777777777778e-03  #  1/360\n",
        "    r3  =  -2.994152046783626e-02  # -128/4275\n",
        "    r4  =  -2.919989367357789e-02  # -2197/75240\n",
        "    r5  =   2.000000000000000e-02  #  1/50\n",
        "    r6  =   3.636363636363636e-02  #  2/55\n",
        "\n",
        "    # Coefficients used to compute 4th order RK estimate\n",
        "\n",
        "    c1  =   1.157407407407407e-01  #  25/216\n",
        "    c3  =   5.489278752436647e-01  #  1408/2565\n",
        "    c4  =   5.353313840155945e-01  #  2197/4104\n",
        "    c5  =  -2.000000000000000e-01  # -1/5\n",
        "\n",
        "    # Set t and x according to initial condition and assume that h starts\n",
        "    # with a value that is as large as possible.\n",
        "  \n",
        "    t = a\n",
        "    x = x0\n",
        "    h = hmax\n",
        "\n",
        "    # Initialize arrays that will be returned\n",
        "\n",
        "    T = np.array( [t] )\n",
        "    X = np.array( [x] )\n",
        "\n",
        "    while t < b:\n",
        "\n",
        "        # Adjust step size when we get to last interval\n",
        "\n",
        "        if t + h > b:\n",
        "            h = b - t;\n",
        "\n",
        "        # Compute values needed to compute truncation error estimate and\n",
        "        # the 4th order RK estimate.\n",
        "\n",
        "        k1 = h * f( x, t )\n",
        "        k2 = h * f( x + b21 * k1, t + a2 * h )\n",
        "        k3 = h * f( x + b31 * k1 + b32 * k2, t + a3 * h )\n",
        "        k4 = h * f( x + b41 * k1 + b42 * k2 + b43 * k3, t + a4 * h )\n",
        "        k5 = h * f( x + b51 * k1 + b52 * k2 + b53 * k3 + b54 * k4, t + a5 * h )\n",
        "        k6 = h * f( x + b61 * k1 + b62 * k2 + b63 * k3 + b64 * k4 + b65 * k5, \\\n",
        "                    t + a6 * h )\n",
        "\n",
        "        # Compute the estimate of the local truncation error.  If it's small\n",
        "        # enough then we accept this step and save the 4th order estimate.\n",
        "    \n",
        "        r = abs( r1 * k1 + r3 * k3 + r4 * k4 + r5 * k5 + r6 * k6 ) / h\n",
        "        if len( np.shape( r ) ) > 0:\n",
        "            r = max( r )\n",
        "        if r <= tol:\n",
        "            t = t + h\n",
        "            x = x + c1 * k1 + c3 * k3 + c4 * k4 + c5 * k5\n",
        "            T = np.append( T, t )\n",
        "            X = np.append( X, [x], 0 )\n",
        "\n",
        "        # Now compute next step size, and make sure that it is not too big or\n",
        "        # too small.\n",
        "\n",
        "        h = h * min( max( 0.84 * ( tol / r )**0.25, 0.1 ), 4.0 )\n",
        "\n",
        "        if h > hmax:\n",
        "            h = hmax\n",
        "        elif h < hmin:\n",
        "            print( \"Error: stepsize should be smaller than %e.\" % hmin )\n",
        "            break\n",
        "\n",
        "    # endwhile\n",
        "\n",
        "    return ( T, X )\n",
        "\n",
        "#-----------------------------------------------------------------------------\n",
        "\n",
        "def pc4( f, x0, t ):\n",
        "    \"\"\"Adams-Bashforth-Moulton 4th order predictor-corrector method\n",
        "    USAGE:\n",
        "        x = pc4(f, x0, t)\n",
        "    INPUT:\n",
        "        f     - function of x and t equal to dx/dt.  x may be multivalued,\n",
        "                in which case it should a list or a NumPy array.  In this\n",
        "                case f must return a NumPy array with the same dimension\n",
        "                as x.\n",
        "        x0    - the initial condition(s).  Specifies the value of x when\n",
        "                t = t[0].  Can be either a scalar or a list or NumPy array\n",
        "                if a system of equations is being solved.\n",
        "        t     - list or NumPy array of t values to compute solution at.\n",
        "                t[0] is the the initial condition point, and the difference\n",
        "                h=t[i+1]-t[i] determines the step size h.\n",
        "    OUTPUT:\n",
        "        x     - NumPy array containing solution values corresponding to each\n",
        "                entry in t array.  If a system is being solved, x will be\n",
        "                an array of arrays.\n",
        "    NOTES:\n",
        "        This function used the Adams-Bashforth-Moulton predictor-corrector\n",
        "        method to solve the initial value problem\n",
        "            dx\n",
        "            -- = f(x,t),     x(t(1)) = x0\n",
        "            dt\n",
        "        at the t values stored in the t array (so the interval of solution is\n",
        "        [t[0], t[N-1]].  The 4th-order Runge-Kutta method is used to generate\n",
        "        the first three values of the solution.  Notice that it works equally\n",
        "        well for scalar functions f(x,t) (in the case of a single 1st order\n",
        "        ODE) or for vector functions f(x,t) (in the case of multiple 1st order\n",
        "        ODEs).\n",
        "    \"\"\"\n",
        "\n",
        "    n = len( t )\n",
        "    x = np.array( [ x0 ] * n )\n",
        "\n",
        "    # Start up with 4th order Runge-Kutta (single-step method).  The extra\n",
        "    # code involving f0, f1, f2, and f3 helps us get ready for the multi-step\n",
        "    # method to follow in order to minimize the number of function evaluations\n",
        "    # needed.\n",
        "\n",
        "    f1 = f2 = f3 = 0\n",
        "    for i in range( min( 3, n - 1 ) ):\n",
        "        h = t[i+1] - t[i]\n",
        "        f0 = f( x[i], t[i] )\n",
        "        k1 = h * f0\n",
        "        k2 = h * f( x[i] + 0.5 * k1, t[i] + 0.5 * h )\n",
        "        k3 = h * f( x[i] + 0.5 * k2, t[i] + 0.5 * h )\n",
        "        k4 = h * f( x[i] + k3, t[i+1] )\n",
        "        x[i+1] = x[i] + ( k1 + 2.0 * ( k2 + k3 ) + k4 ) / 6.0\n",
        "        f1, f2, f3 = ( f0, f1, f2 )\n",
        "\n",
        "    # Begin Adams-Bashforth-Moulton steps\n",
        "\n",
        "    for i in range( 3, n - 1 ):\n",
        "        h = t[i+1] - t[i]\n",
        "        f0 = f( x[i], t[i] )\n",
        "        w = x[i] + h * ( 55.0 * f0 - 59.0 * f1 + 37.0 * f2 - 9.0 * f3 ) / 24.0\n",
        "        fw = f( w, t[i+1] )\n",
        "        x[i+1] = x[i] + h * ( 9.0 * fw + 19.0 * f0 - 5.0 * f1 + f2 ) / 24.0\n",
        "        f1, f2, f3 = ( f0, f1, f2 )\n",
        "\n",
        "    return x\n",
        "\n",
        "#-----------------------------------------------------------------------------\n",
        "#-----------------------------------------------------------------------------\n",
        "\n",
        "if __name__ == \"__main__\":\n",
        "    from pylab import *\n",
        "\n",
        "    def f( x, t ):\n",
        "        return x * np.sin( t )\n",
        "\n",
        "    a, b = ( 0.0, 10.0 )\n",
        "    x0 = -1.0\n",
        "\n",
        "    n = 51\n",
        "    t = np.linspace( a, b, n )\n",
        "    h = t[1] - t[0];\n",
        "    tol = 1e-6\n",
        "\n",
        "    # compute various numerical solutions\n",
        "    x_euler = euler( f, x0, t )\n",
        "    x_heun = heun( f, x0, t )\n",
        "    x_rk2 = rk2a( f, x0, t )\n",
        "    x_rk4 = rk4( f, x0, t )\n",
        "    x_pc4 = pc4( f, x0, t )\n",
        "    t_rkf, x_rkf = rkf( f, a, b, x0, tol, 1.0, 0.01 ) # unequally spaced t\n",
        "\n",
        "    # compute true solution values in equal spaced and unequally spaced cases\n",
        "    x = -np.exp( 1.0 - np.cos( t ) )\n",
        "    xrkf = -np.exp( 1.0 - np.cos( t_rkf ) )\n",
        "\n",
        "#   figure( 1 )\n",
        "    subplot( 2, 2, 1 )\n",
        "    plot( t, x_euler, 'b-o', t, x_heun, 'g-o', t, x_rk2, 'r-o' )\n",
        "    xlabel( '$t$' )\n",
        "    ylabel( '$x$' )\n",
        "    title( 'Solutions of $dx/dt = x\\,\\sin t$, $x(0)=-1$ ($h = %4.2f$)' % h )\n",
        "    legend( ( 'Euler $O(h)$', 'Heun $O(h^2)$', 'Runge-Kutta $O(h^2)$' ),\n",
        "            loc='lower left' )\n",
        "\n",
        "#   figure( 2 )\n",
        "    subplot( 2, 2, 2 )\n",
        "    plot( t, x_euler - x, 'b-o', t, x_heun - x, 'g-o', t, x_rk2 - x, 'r-o' )\n",
        "    xlabel( '$t$' )\n",
        "    ylabel( '$x - x^*$' )\n",
        "    title( 'Errors in solutions of $dx/dt = x\\,\\sin t$, $x(0)=-1$ ($h = %4.2f$)'\n",
        "           % h )\n",
        "    legend( ( 'Euler $O(h)$', 'Heun $O(h^2)$', 'Runge-Kutta $O(h^2)$' ),\n",
        "            loc='upper left' )\n",
        "\n",
        "#   figure( 3 )\n",
        "    subplot( 2, 2, 3 )\n",
        "    plot( t, x_rk4, 'b-o', t, x_pc4, 'g-o', t_rkf, x_rkf, 'r-o' )\n",
        "    xlabel( '$t$' )\n",
        "    ylabel( '$x$' )\n",
        "    title( 'Solutions of $dx/dt = x\\,\\sin t$, $x(0)=-1$ ($h = %4.2f$)' % h )\n",
        "    legend( ( 'Runge-Kutta $O(h^4)$', 'Predictor-Corrector $O(h^4)$', \\\n",
        "              'Runge-Kutta-Fehlberg' ), loc='lower left' )\n",
        "\n",
        "#   figure( 4 )\n",
        "    subplot( 2, 2, 4 )\n",
        "    plot( t, x_rk4 - x, 'b-o', t, x_pc4 - x, 'g-o', t_rkf, x_rkf - xrkf, 'r-o' )\n",
        "    xlabel( '$t$' )\n",
        "    ylabel( '$x - x^*$' )\n",
        "    title( 'Errors in solutions of $dx/dt = x\\,\\sin t$, $x(0)=-1$ ($h = %4.2f$)'\n",
        "           % h )\n",
        "    legend( ( 'Runge-Kutta $O(h^4)$', 'Predictor-Corrector $O(h^4)$', \\\n",
        "              'Runge-Kutta-Fehlberg' ), loc='lower left' )\n",
        "\n",
        "    show()"
      ],
      "execution_count": null,
      "outputs": []
    },
    {
      "cell_type": "markdown",
      "metadata": {
        "id": "3ZeIWUK5SDjR"
      },
      "source": [
        "#### Finite Differences"
      ]
    },
    {
      "cell_type": "code",
      "metadata": {
        "id": "Mzy2p2vEb6Gl",
        "colab": {
          "base_uri": "https://localhost:8080/",
          "height": 282
        },
        "outputId": "eb02616b-8496-4e84-f6f8-fc323faeadb6"
      },
      "source": [
        "#Finite Differences Method\n",
        "\n",
        "n = 50\n",
        "t = np.linspace(0,4,n)\n",
        "h = 4/n\n",
        "p = 2*t/(1+t*t)\n",
        "q = -2/(1+t*t)\n",
        "A = np.zeros((n-1,n-1))\n",
        "B = np.zeros(n-1)\n",
        "x = np.zeros(n)\n",
        "\n",
        "for i in range(n-2):\n",
        "  A[i,i] = 2 + h*h*q[i]\n",
        "  A[i,i+1] = h/2 *p[i] - 1\n",
        "  A[i+1,i] = -h/2*p[i+1] -1 \n",
        "  B[i] = -h*h\n",
        "A[n-2,n-2] = 2 + h*h*q[n-2]\n",
        "B[0] = -h*h + (h/2*p[0] +1)*1.25\n",
        "B[n-2] = -h*h + (-h/2*p[n-2]+1)*(-0.95)\n",
        "x = np.linalg.solve(A,B)\n",
        "\n",
        "plt.plot(t[:-1],x)"
      ],
      "execution_count": null,
      "outputs": [
        {
          "output_type": "execute_result",
          "data": {
            "text/plain": [
              "[<matplotlib.lines.Line2D at 0x7f60336fdb50>]"
            ]
          },
          "metadata": {},
          "execution_count": 9
        },
        {
          "output_type": "display_data",
          "data": {
            "image/png": "[encoded data removed]",
            "text/plain": [
              "<Figure size 432x288 with 1 Axes>"
            ]
          },
          "metadata": {
            "needs_background": "light"
          }
        }
      ]
    },
    {
      "cell_type": "markdown",
      "metadata": {
        "id": "wfZHEw6Goe4M"
      },
      "source": [
        "# Lab 3"
      ]
    },
    {
      "cell_type": "markdown",
      "metadata": {
        "id": "ohbvPA_jopGb"
      },
      "source": [
        "### Problem 1\n",
        "\n",
        "Use Finite Difference method to solve the wave equation\n",
        "$ u_{tt}(x,t) = 4 u_{xx}(x,t)$\n",
        "for\n",
        "\n",
        "$0 < x <1 $"
      ]
    },
    {
      "cell_type": "code",
      "metadata": {
        "colab": {
          "base_uri": "https://localhost:8080/",
          "height": 336
        },
        "id": "jvQfAg4wRzHR",
        "outputId": "55814fbd-bae8-4f8f-c6a9-050969536a11"
      },
      "source": [
        "# Finite Difference Wave Eqaution\n",
        "from mpl_toolkits.mplot3d import Axes3D\n",
        "h = 0.1\n",
        "k = 0.05\n",
        "c = 2\n",
        "r = c*k/h\n",
        "n = 10\n",
        "u = np.zeros((n,n))\n",
        "t = np.arange(0,0.5,k)\n",
        "x = np.arange(0,1,h)\n",
        "A = np.zeros((n-2,n-2))\n",
        "B = np.zeros(n-2)\n",
        "u[:,0] = np.sin(np.pi*x) + np.sin(2*np.pi*x)\n",
        "u[:,1] = u[:,0]\n",
        "for i in range(n-3):\n",
        "  A[i,i] = 0\n",
        "  A[i,i+1] = 1\n",
        "  A[i+1,i] = 1\n",
        "#for i in range(1,n-1):\n",
        " # u[i,1] = (u[i+1,0] + u[i-1,0])/2\n",
        "#for i in range(1,n-1):\n",
        "#  u[1:n-1,i+1] = np.dot(A,u[1:n-1,i]) - u[1:n-1,i-1]\n",
        "for j in range(1,n-1):\n",
        "  for i in range(1,n-1):\n",
        "    u[i,j+1] = u[i-1,j] + u[i+1,j] -u[i,j-1] \n",
        "X,Y = np.meshgrid(x,t)\n",
        "Z = np.sin(np.pi*X)*np.cos(2*np.pi*Y) + np.sin(2*np.pi*X)*np.cos(4*np.pi*Y)\n",
        "fig = plt.figure()\n",
        "ax = Axes3D(fig)\n",
        "ax.plot_wireframe(X,Y,Z,'-o',linewidth=0.75)\n",
        "#ax.view_init(45, 120)\n"
      ],
      "execution_count": null,
      "outputs": [
        {
          "output_type": "execute_result",
          "data": {
            "text/plain": [
              "<mpl_toolkits.mplot3d.art3d.Line3DCollection at 0x7f602b684d90>"
            ]
          },
          "metadata": {},
          "execution_count": 10
        },
        {
          "output_type": "display_data",
          "data": {
            "image/png": "[encoded data removed]",
            "text/plain": [
              "<Figure size 432x288 with 1 Axes>"
            ]
          },
          "metadata": {
            "needs_background": "light"
          }
        }
      ]
    },
    {
      "cell_type": "code",
      "metadata": {
        "id": "v2B4y5Rkogr-"
      },
      "source": [
        "clc;\n",
        "clear;\n",
        "close all;\n",
        "\n",
        "\n",
        "nx = 10;\n",
        "nt = 30;\n",
        "a = 0;\n",
        "b = 1;\n",
        "t0 = 0;\n",
        "tf = 0.5;\n",
        "\n",
        "dx = (b-a)/(nx-1);\n",
        "dt = (tf- t0)/(nt-1);\n",
        "\n",
        "x = a:dx:b;\n",
        "t = t0:dt:tf;\n",
        "\n",
        "s = dt^2/dx^2;\n",
        "c = 2;\n",
        "\n",
        "\n",
        "%% AnalyticalSolution\n",
        "\n",
        "UA = zeros(nx,nt);\n",
        "\n",
        "for i = 1:nx\n",
        "    for j = 1:nt\n",
        "        UA(i,j) = sin(pi*x(i)) * cos(2*pi*t(j)) + sin(2*pi*x(i)) * cos(4*pi*t(j));\n",
        "    end\n",
        "end\n",
        "\n",
        "figure()\n",
        "contourf(UA,200,'linecolor', 'non')\n",
        "title('Analytical Solution')\n",
        "xlabel('t')\n",
        "ylabel('x')\n",
        "colormap(jet(256))\n",
        "colorbar\n",
        "\n",
        "\n",
        "\n",
        "%% Numerical Solution\n",
        "\n",
        "UN = zeros(nx, nt);\n",
        "\n",
        "UN(:,1) = sin(pi*x) + sin(2*pi*x);\n",
        "UN(:,2) = (sin(pi*x) + sin(2*pi*x)) * (1+dt);\n",
        "\n",
        "for j = 2:nt-1\n",
        "    for i = 2:nx-1 \n",
        "        UN (i, j+1) = (4)*s*(UN(i-1,j) - 2*UN(i,j) + UN(i+1,j)) + 2*UN(i,j) - UN(i, j-1);\n",
        "    end\n",
        "end\n",
        "\n",
        "figure()\n",
        "contourf(UN,200,'linecolor', 'non')\n",
        "title(' Numerical Solution')\n",
        "xlabel('t')\n",
        "ylabel('x')\n",
        "colormap(jet(256))\n",
        "colorbar\n",
        "\n",
        "\n",
        "%% Error\n",
        "E = abs(UA - UN);\n",
        "\n",
        "figure()\n",
        "contourf(E,200,'linecolor', 'non')\n",
        "title(' Error')\n",
        "xlabel('t')\n",
        "ylabel('x')\n",
        "colormap(jet(256))\n",
        "colorbar\n"
      ],
      "execution_count": null,
      "outputs": []
    },
    {
      "cell_type": "markdown",
      "metadata": {
        "id": "-4T6ajcOqlhq"
      },
      "source": [
        "### Problem 2"
      ]
    },
    {
      "cell_type": "code",
      "metadata": {
        "colab": {
          "base_uri": "https://localhost:8080/",
          "height": 298
        },
        "id": "C312H0Ydo62y",
        "outputId": "40fcc168-c276-46f4-80ce-b074eef2c0ae"
      },
      "source": [
        "from numpy import *\n",
        "import numpy as np, matplotlib.pyplot as plt\n",
        "import matplotlib.animation as animation\n",
        "from IPython import display\n",
        "\n",
        "alpha = 0.5\n",
        "dx = 0.0050251\n",
        "dt = 0.0050251\n",
        "rho = 0.01\n",
        "ten = 40.\n",
        "c = sqrt(ten/rho)     # Density, tension \n",
        "c1 = c\n",
        "ratio =  0.5           # CFL criterium = 1\n",
        "xi = np.zeros((101,3), float)                  # Declaration \n",
        "k = range(0,101)\n",
        "\n",
        "def Initialize():                            # Initial conditions\n",
        "   for i in range(0, 61):\n",
        "       xi[i, 0] = 0.00125*i         \n",
        "   for i in range (61, 101):\n",
        "       xi[i, 0] = 0.1 - 0.005*(i - 80)          \n",
        " \n",
        "def animate(num):                                \n",
        "    for i in range(1, 100):              \n",
        "       xi[i,2] = ratio*(xi[i+1,1]+ xi[i-1,1] - 2*xi[i,1]) + alpha*dt**2/dx*(xi[i+1,1] - xi[i,1]) - xi[i,0] + 2*xi[i,1]\n",
        "    line.set_data(k,xi[k,2])          # Data to plot ,x,y           \n",
        "    for m in range (0,101):                                \n",
        "       xi[m, 0] = xi[m, 1]            # Recycle array \n",
        "       xi[m, 1] = xi[m, 2]\n",
        "    return line        \n",
        "         \n",
        "Initialize()                         # Plot initial string   \n",
        "fig = plt.figure()                            \n",
        "ax = fig.add_subplot(111, autoscale_on=False, xlim=(0, 101), \n",
        "\tylim=(-15, 15))\n",
        "ax.grid()                                     # Plot  grid\n",
        "plt.title(\"Vibrating String\")\n",
        "line, = ax.plot(k, xi[k,0], lw=2)                 \n",
        "for i in range(1,100): \n",
        "    xi[i,1] = ratio*(xi[i+1,0]+ xi[i-1,0] - 2*xi[i,0]) + alpha*dt**2/dx*(xi[i+1,0] - xi[i,0]) - xi[i,0]   \n",
        "ani = animation.FuncAnimation(fig, animate,1)    # Dummy 1       \n",
        "\n",
        "writervideo = animation.FFMpegWriter(fps=60)\n",
        "ani.save('wave.mp4', writer=writervideo)  \n",
        "plt.show()         \n",
        "print(\"finished\")"
      ],
      "execution_count": null,
      "outputs": [
        {
          "output_type": "display_data",
          "data": {
            "image/png": "[encoded data removed]",
            "text/plain": [
              "<Figure size 432x288 with 1 Axes>"
            ]
          },
          "metadata": {
            "needs_background": "light"
          }
        },
        {
          "output_type": "stream",
          "name": "stdout",
          "text": [
            "finished\n"
          ]
        }
      ]
    },
    {
      "cell_type": "code",
      "metadata": {
        "id": "bWEel8WhrYm3"
      },
      "source": [
        "#FTCS\n",
        "\n",
        "D = 1\n",
        "h = 0.2\n",
        "k = 0.02\n",
        "r = 2*D*k/(h**2)\n",
        "t = np.linspace(0,0.2,10)\n",
        "x = np.linspace(0,1,5)\n",
        "A = np.zeros((4,4))\n"
      ],
      "execution_count": null,
      "outputs": []
    },
    {
      "cell_type": "code",
      "metadata": {
        "colab": {
          "base_uri": "https://localhost:8080/"
        },
        "id": "MCfmwlxNSeAi",
        "outputId": "3488bd12-6f9f-4555-e19e-09e0d3715a6e"
      },
      "source": [
        "#Laplace\n",
        "\n",
        "n = 5\n",
        "x = np.linspace(0,4,5)\n",
        "y = np.linspace(0,4,5)\n",
        "a = np.diagflat(-4*np.ones(3)) + np.diagflat(np.ones(2),1) + np.diagflat(np.ones(2),-1)\n",
        "A = np.kron(np.eye(3),a) + np.diagflat(np.ones(6),3) + np.diagflat(np.ones(6),-3) \n",
        "u = [-100,-20,-20,-80,0,0,-260,-180,-180]\n",
        "p = np.linalg.solve(A,u)\n",
        "p"
      ],
      "execution_count": null,
      "outputs": [
        {
          "output_type": "execute_result",
          "data": {
            "text/plain": [
              "array([ 55.71428571,  43.21428571,  27.14285714,  79.64285714,\n",
              "        70.        ,  45.35714286, 112.85714286, 111.78571429,\n",
              "        84.28571429])"
            ]
          },
          "metadata": {},
          "execution_count": 12
        }
      ]
    },
    {
      "cell_type": "code",
      "metadata": {
        "colab": {
          "base_uri": "https://localhost:8080/"
        },
        "id": "mCMqOQrwSgip",
        "outputId": "dd70125c-820f-43ab-90fa-9311cfdd6c55"
      },
      "source": [
        "# Laplace Neumann\n",
        "\n",
        "n = 5\n",
        "x = np.linspace(0,4,5)\n",
        "y = np.linspace(0,4,5)\n",
        "a = np.diagflat(-4*np.ones(3)) + np.diagflat(np.ones(2),1) + np.diagflat(np.ones(2),-1)\n",
        "A = np.kron(np.eye(4),a) + np.diagflat([2,2,2,1,1,1,1,1,1],3) + np.diagflat(np.ones(9),-3) \n",
        "u = [-80,0,0,-80,0,0,-80,0,0,-260,-180,-180]\n",
        "p = np.linalg.solve(A,u)\n",
        "p"
      ],
      "execution_count": null,
      "outputs": [
        {
          "output_type": "execute_result",
          "data": {
            "text/plain": [
              "array([ 71.82182413,  56.85429572,  32.23419526,  75.2165004 ,\n",
              "        61.68058174,  36.04124267,  87.36359573,  78.61028818,\n",
              "        50.25019366, 115.62759433, 115.14678158,  86.34924381])"
            ]
          },
          "metadata": {},
          "execution_count": 13
        }
      ]
    },
    {
      "cell_type": "code",
      "metadata": {
        "colab": {
          "base_uri": "https://localhost:8080/",
          "height": 336
        },
        "id": "TxV1B3QGSiqO",
        "outputId": "b35f3eb6-32c6-4e9f-91ad-b586eb57adc3"
      },
      "source": [
        "# SOR\n",
        "from mpl_toolkits.mplot3d import Axes3D\n",
        "#import plotly.express as px\n",
        "n = 10\n",
        "x = np.linspace(0,4,n)\n",
        "y = np.linspace(0,4,n)\n",
        "u = 70*np.ones((n,n))\n",
        "w = 1.44646\n",
        "r = 1\n",
        "\n",
        "for i in range(1,n-2):\n",
        "  u[i,n-1] = 180\n",
        "  u[i,0] = 20\n",
        "  u[n-1,i]=0\n",
        "  u[0,i] = 80\n",
        "u[1,1] = 50\n",
        "u[9,1] = 10\n",
        "u[1,9] = 130\n",
        "u[9,9] = 90\n",
        "count = 0\n",
        "while np.absolute(r)>0.001: \n",
        "  for i in range(1,n-2):\n",
        "    for j in range(1,n-2):\n",
        "      r = (u[i+1,j] + u[i-1,j] + u[i,j+1] + u[i,j-1] - 4*u[i,j])/4\n",
        "      u[i,j] = u[i,j] + w*r\n",
        "      count = count + 1\n",
        "\n",
        "X,Y = np.meshgrid(x,y)\n",
        "fig = plt.figure()\n",
        "ax = Axes3D(fig)\n",
        "ax.plot_wireframe(X,Y,u,'-o',linewidth=0.75)\n",
        "#ax.view_init(-140,35)"
      ],
      "execution_count": null,
      "outputs": [
        {
          "output_type": "execute_result",
          "data": {
            "text/plain": [
              "<mpl_toolkits.mplot3d.art3d.Line3DCollection at 0x7f6029e26710>"
            ]
          },
          "metadata": {},
          "execution_count": 14
        },
        {
          "output_type": "display_data",
          "data": {
            "image/png": "[encoded data removed]",
            "text/plain": [
              "<Figure size 432x288 with 1 Axes>"
            ]
          },
          "metadata": {
            "needs_background": "light"
          }
        }
      ]
    },
    {
      "cell_type": "code",
      "metadata": {
        "colab": {
          "base_uri": "https://localhost:8080/",
          "height": 286
        },
        "id": "-Y49aSRVSlHq",
        "outputId": "d6d9ad22-c3df-4f73-9f7c-e1557b5a7f4d"
      },
      "source": [
        "# SOR Neumann\n",
        "from mpl_toolkits.mplot3d import Axes3D\n",
        "#import plotly.express as px\n",
        "n = 10\n",
        "x = np.linspace(0,4,n)\n",
        "y = np.linspace(0,4,n)\n",
        "u = 70*np.ones((n,n))\n",
        "w = 1.44646\n",
        "r = 1\n",
        "\n",
        "for i in range(1,n-2):\n",
        "  u[i,n-1] = 180\n",
        "  u[n-1,i]=0\n",
        "  u[0,i] = 80\n",
        "u[1,1] = 50\n",
        "u[9,1] = 10\n",
        "u[1,9] = 130\n",
        "u[9,9] = 90\n",
        "count = 0\n",
        "while np.absolute(r)>0.001: \n",
        "  for i in range(1,n-2):\n",
        "    r = (u[i+1,0] + u[i-1,0] + 2*u[i,1] - 4*u[i,0])/4\n",
        "    for j in range(1,n-2):\n",
        "      r = (u[i+1,j] + u[i-1,j] + u[i,j+1] + u[i,j-1] - 4*u[i,j])/4\n",
        "      u[i,j] = u[i,j] + w*r\n",
        "      count = count + 1\n",
        "\n",
        "X,Y = np.meshgrid(x,y)\n",
        "#fig = plt.figure()\n",
        "#ax = Axes3D(fig)\n",
        "#ax.plot_wireframe(X,Y,u,'-o',linewidth=0.75)\n",
        "plt.pcolormesh(x,y,u)\n",
        "#ax.view_init(-140,35)"
      ],
      "execution_count": null,
      "outputs": [
        {
          "output_type": "execute_result",
          "data": {
            "text/plain": [
              "<matplotlib.collections.QuadMesh at 0x7f6029d41550>"
            ]
          },
          "metadata": {},
          "execution_count": 15
        },
        {
          "output_type": "display_data",
          "data": {
            "image/png": "[encoded data removed]",
            "text/plain": [
              "<Figure size 432x288 with 1 Axes>"
            ]
          },
          "metadata": {
            "needs_background": "light"
          }
        }
      ]
    },
    {
      "cell_type": "code",
      "metadata": {
        "id": "iYnPiyw1SoWW"
      },
      "source": [
        ""
      ],
      "execution_count": null,
      "outputs": []
    },
    {
      "cell_type": "markdown",
      "metadata": {
        "id": "Hirfk1UnXHkE"
      },
      "source": [
        "# Lab 4"
      ]
    },
    {
      "cell_type": "markdown",
      "metadata": {
        "id": "KqOngwoLaXoR"
      },
      "source": [
        "#### Heat Equation solve\n",
        "\n",
        "using MATLAB"
      ]
    },
    {
      "cell_type": "code",
      "metadata": {
        "id": "B38FpJn4XIge"
      },
      "source": [
        "clc\n",
        "clear\n",
        "close all\n",
        "\n",
        "nx = 10; \n",
        "nt = 10;\n",
        "a = 0;\n",
        "b = 1;\n",
        "\n",
        "t0 = 0;\n",
        "tf = 0.2;\n",
        "\n",
        "dx = (b-a)/(nx-1);\n",
        "dt = (tf- t0)/(nt-1);\n",
        "\n",
        "x = a:dx:b;\n",
        "t = t0:dt:tf;\n",
        "\n",
        "s = dt/dx^2;\n",
        "\n",
        "\n",
        "\n",
        "%% Numerical \n",
        "UN = zeros (nx, nt);\n",
        "\n",
        "% Initial\n",
        "\n",
        "UN(:,1) = 4*x - 4*(x.*x);\n",
        "\n",
        "for j = 1:nt-1\n",
        "    for i = 2:nx-1\n",
        "        UN(i,j+1) = s*UN (i-1,j) + (1-2*s)*UN(i,j) + s*UN(i+1,j);\n",
        "    end\n",
        "end\n",
        "figure()\n",
        "contourf(UN,200,'linecolor', 'non')\n",
        "title('Numerical Solution')\n",
        "xlabel('x')\n",
        "ylabel('t')\n",
        "colormap(jet(256))\n",
        "colorbar\n",
        "caxis([0,1])\n",
        "\n",
        "\n",
        "\n",
        "\n"
      ],
      "execution_count": null,
      "outputs": []
    },
    {
      "cell_type": "markdown",
      "metadata": {
        "id": "jasTGbxYagb9"
      },
      "source": [
        "## DFT and FFT"
      ]
    },
    {
      "cell_type": "code",
      "metadata": {
        "colab": {
          "base_uri": "https://localhost:8080/"
        },
        "id": "cWWh1oD6ahrJ",
        "outputId": "07c655c4-1788-45d9-b718-be9faa1d964c"
      },
      "source": [
        "import numpy as np\n",
        "\n",
        "\n",
        "def dft(x):\n",
        "    x = np.asarray(x, dtype=float)\n",
        "    N = x.shape[0]\n",
        "    n = np.arange(N)\n",
        "    k = n.reshape((N, 1))\n",
        "    M = np.exp(-2j * np.pi * k * n / N)\n",
        "    return np.dot(M, x)\n",
        "\n",
        "\"\"\"\n",
        "We can ensure our implementation is correct by comparing \n",
        "the results with those obtained from numpy’s fft function.\n",
        "\"\"\"\n",
        "x = np.random.random(1024)\n",
        "np.allclose(dft(x), np.fft.fft(x))\n",
        "\n",
        "\n",
        "# check time\n",
        "%timeit dft(x)\n",
        "%timeit np.fft.fft(x)\n",
        "\n",
        "\n",
        "\n",
        "\n"
      ],
      "execution_count": null,
      "outputs": [
        {
          "output_type": "stream",
          "name": "stdout",
          "text": [
            "10 loops, best of 5: 125 ms per loop\n",
            "The slowest run took 4.98 times longer than the fastest. This could mean that an intermediate result is being cached.\n",
            "10000 loops, best of 5: 16.1 µs per loop\n"
          ]
        }
      ]
    },
    {
      "cell_type": "code",
      "metadata": {
        "colab": {
          "base_uri": "https://localhost:8080/"
        },
        "id": "TMyZvB42dQwA",
        "outputId": "0f1421ab-f160-43f3-a8d1-e53c5c3818f2"
      },
      "source": [
        "def fft(x):\n",
        "    x = np.asarray(x, dtype=float)\n",
        "    N = x.shape[0]\n",
        "    if N % 2 > 0:\n",
        "        raise ValueError(\"must be a power of 2\")\n",
        "    elif N <= 2:\n",
        "        return dft(x)\n",
        "    else:\n",
        "        X_even = fft(x[::2])\n",
        "        X_odd = fft(x[1::2])\n",
        "        terms = np.exp(-2j * np.pi * np.arange(N) / N)\n",
        "        return np.concatenate([X_even + terms[:int(N/2)] * X_odd,\n",
        "                               X_even + terms[int(N/2):] * X_odd])\n",
        "\n",
        "\n",
        "\n",
        "x = np.random.random(1024)\n",
        "np.allclose(fft(x), np.fft.fft(x))\n",
        "\n",
        "\n",
        "\n",
        "%timeit dft(x)\n",
        "%timeit fft(x)\n",
        "%timeit np.fft.fft(x)"
      ],
      "execution_count": null,
      "outputs": [
        {
          "output_type": "stream",
          "name": "stdout",
          "text": [
            "10 loops, best of 5: 125 ms per loop\n",
            "10 loops, best of 5: 14.2 ms per loop\n",
            "The slowest run took 6.52 times longer than the fastest. This could mean that an intermediate result is being cached.\n",
            "100000 loops, best of 5: 16.1 µs per loop\n"
          ]
        }
      ]
    },
    {
      "cell_type": "markdown",
      "metadata": {
        "id": "RdXNoG-4eXhU"
      },
      "source": [
        "We define another function to compute the Fourier Transform. Only this time around, we make use of vector operations instead of recursion"
      ]
    },
    {
      "cell_type": "code",
      "metadata": {
        "id": "a9DBvkGTeTGf"
      },
      "source": [
        "def fft_v(x):\n",
        "    x = np.asarray(x, dtype=float)\n",
        "    N = x.shape[0]\n",
        "    if np.log2(N) % 1 > 0:\n",
        "        raise ValueError(\"must be a power of 2\")\n",
        "        \n",
        "    N_min = min(N, 2)\n",
        "    \n",
        "    n = np.arange(N_min)\n",
        "    k = n[:, None]\n",
        "    M = np.exp(-2j * np.pi * n * k / N_min)\n",
        "    X = np.dot(M, x.reshape((N_min, -1)))\n",
        "    while X.shape[0] < N:\n",
        "        X_even = X[:, :int(X.shape[1] / 2)]\n",
        "        X_odd = X[:, int(X.shape[1] / 2):]\n",
        "        terms = np.exp(-1j * np.pi * np.arange(X.shape[0])\n",
        "                        / X.shape[0])[:, None]\n",
        "        X = np.vstack([X_even + terms * X_odd,\n",
        "                       X_even - terms * X_odd])\n",
        "    return X.ravel()\n"
      ],
      "execution_count": null,
      "outputs": []
    },
    {
      "cell_type": "markdown",
      "metadata": {
        "id": "sysVattWerMc"
      },
      "source": [
        "we can ensure we obtained the correct results by comparing them with those from the numpy library."
      ]
    },
    {
      "cell_type": "code",
      "metadata": {
        "colab": {
          "base_uri": "https://localhost:8080/"
        },
        "id": "OnjjeUEHeWvA",
        "outputId": "4951fcbc-a537-4a70-92d5-5370ffb8a321"
      },
      "source": [
        "x = np.random.random(1024)\n",
        "np.allclose(fft_v(x), np.fft.fft(x))"
      ],
      "execution_count": null,
      "outputs": [
        {
          "output_type": "execute_result",
          "data": {
            "text/plain": [
              "True"
            ]
          },
          "metadata": {},
          "execution_count": 27
        }
      ]
    },
    {
      "cell_type": "code",
      "metadata": {
        "colab": {
          "base_uri": "https://localhost:8080/"
        },
        "id": "b_Ok8xcOeqaF",
        "outputId": "0484d595-d4bc-4d8f-f584-94b4bc3a8c12"
      },
      "source": [
        "%timeit fft(x)\n",
        "%timeit fft_v(x)\n",
        "%timeit np.fft.fft(x)"
      ],
      "execution_count": null,
      "outputs": [
        {
          "output_type": "stream",
          "name": "stdout",
          "text": [
            "100 loops, best of 5: 14.5 ms per loop\n",
            "The slowest run took 4.33 times longer than the fastest. This could mean that an intermediate result is being cached.\n",
            "1000 loops, best of 5: 371 µs per loop\n",
            "The slowest run took 9.66 times longer than the fastest. This could mean that an intermediate result is being cached.\n",
            "100000 loops, best of 5: 16.2 µs per loop\n"
          ]
        }
      ]
    },
    {
      "cell_type": "markdown",
      "metadata": {
        "id": "-nUzXWS7e_mr"
      },
      "source": [
        "## Forward Time Difference Heat Equation"
      ]
    },
    {
      "cell_type": "code",
      "metadata": {
        "id": "8P7IdL7feuo2"
      },
      "source": [
        "## matlab\n",
        "\n",
        "L = 0.1;  % wall thickness\n",
        "n = 10;   % number of simulation nodes\n",
        "T0 = 0;  % initial temperature of the wall\n",
        "T1s = 40;  % surface 1 temp\n",
        "T2s = 20;  % surface 2 temperature\n",
        "\n",
        "\n",
        "dx = L/n;   % node thickness\n",
        "\n",
        "alpha = 0.0001;   % thermal diffusivity\n",
        "\n",
        "t_final = 60 ;   % simulation time\n",
        "\n",
        "dt = 0.1; % fixed time step\n",
        "\n",
        "x = dx/2:dx:L-dx/2;\n",
        "\n",
        "T = ones(n,1)*T0;\n",
        "\n",
        "dTdt = zeros(n,1);\n",
        "\n",
        "t = 0:dt:t_final;\n",
        "\n",
        "for j = 1:length(t)\n",
        "    for i = 2:n-1\n",
        "        dTdt(i) = alpha*(-(T(i) - T(i-1))/ dx^2 + (T(i+1)- T(i))/ dx^2);\n",
        "    end\n",
        "    dTdt(1) = alpha*(-(T(1) - T1s)/ dx^2 + (T(2)- T(1))/ dx^2);\n",
        "    dTdt(n) = alpha*(-(T(n) - T(n-1))/ dx^2 + (T2s- T(n))/ dx^2);\n",
        "    T = T+dTdt*dt;\n",
        "\n",
        "    figure(1)\n",
        "    plot(x,T,'Linewidth', 3)\n",
        "    axis([0 L 0 50])\n",
        "    xlabel('Distance ')\n",
        "    ylabel('Temperature(\\circC)')\n",
        "    pause(0.1)\n",
        "end\n",
        "\n",
        " "
      ],
      "execution_count": null,
      "outputs": []
    },
    {
      "cell_type": "markdown",
      "metadata": {
        "id": "5_msWm3OiZWS"
      },
      "source": [
        "## Crank-Nicolsan"
      ]
    },
    {
      "cell_type": "code",
      "metadata": {
        "id": "bT-3qb8NiaxR"
      },
      "source": [
        "# matlab\n",
        "% heat with crank\n",
        "\n",
        "clear;\n",
        "\n",
        "cond = 1/2;   % heat conductivity\n",
        "L = 1;    % length of the wire\n",
        "T = 1;  %final time\n",
        "\n",
        "\n",
        "\n",
        "Nt = 2500; % number of time steps\n",
        "Dt = T/Nt;   % Time step\n",
        "Nx = 50;   % number of space steps\n",
        "Dx = L/Nx;    % space step\n",
        "b = cond*Dt/(Dx*Dx);     % alpha parameter in the fd impleme\n",
        "\n",
        "\n",
        "\n",
        "% the initial condition the initial temperature is of the sine function\n",
        "\n",
        "for n = 1:Nx+1\n",
        "    x(n) = (n-1)*Dx;   \n",
        "    u(n,1) = sin(pi*x(n));\n",
        "\n",
        "end\n",
        "\n",
        "% boundary conditions\n",
        "for j = 1:Nt+1   % vector t\n",
        "    u(1,j) = 0;\n",
        "    u(Nx+1, j) = 0;\n",
        "    t(j) = (j-1)*Dt;  % vector t due to time discrete\n",
        "\n",
        "end\n",
        "\n",
        "% Defining the M_right and M_left matrices in the crank nic methd\n",
        "% as Mr and Ml are tridiagonal matrices , we first define the three\n",
        "% diagnols and then build the matrices\n",
        "aal(1:Nx-2) = -b; \n",
        "bbl(1:Nx-1) = 2.+2.*b;\n",
        "ccl(1:Nx-2) = -b;\n",
        "MMl = diag(bbl,0) + diag(aal, -1)+ diag(ccl,1);\n",
        "\n",
        "aar(1:Nx-2) = b; \n",
        "bbr(1:Nx-1) = 2.-2.*b;\n",
        "ccr(1:Nx-2) = b;\n",
        "MMr = diag(bbr,0) + diag(aar, -1)+ diag(ccr,1);\n",
        "\n",
        "\n",
        "\n",
        "\n",
        "% Implementing the method\n",
        "for j = 1:Nt\n",
        "    u(2:Nx, j+1) = inv(MMl)*MMr*u(2:Nx,j);\n",
        "end\n",
        "\n",
        "% graph\n",
        "figure(1)\n",
        "plot(x,u(:,1), '-b', x,u(:,round(Nt/100)),'--g',x,u(:,round(Nt/10)), ':b',x,u(:,Nt),'-.r')\n",
        "\n",
        "title(\"temperature using crank\")\n",
        "\n",
        "xlabel('X')\n",
        "ylabel('T')\n",
        "\n",
        "\n",
        "\n",
        "% 3d\n",
        "figure(2)\n",
        "mesh(t,x,u)\n",
        "\n",
        "title('Temperature with crank')\n",
        "xlabel('t')\n",
        "ylabel('x')\n"
      ],
      "execution_count": null,
      "outputs": []
    },
    {
      "cell_type": "markdown",
      "metadata": {
        "id": "CjkBSuqlxdiR"
      },
      "source": [
        "## Laplace"
      ]
    },
    {
      "cell_type": "code",
      "metadata": {
        "id": "GcIYPoXNxe34"
      },
      "source": [
        "%%%% define the rectangle and grid parameters\n",
        "Lx = 1; % rectangle dimension\n",
        "Ly = 1;\n",
        "Ny = 100;\n",
        "Nx = 100; % of gridpoints in x,y direction\n",
        "ny = Ny+1;\n",
        "nx = Nx+1;\n",
        "dx = Lx/Nx;\n",
        "dy = Ly/Ny;\n",
        "x = (0:Nx)*dx;\n",
        "y = (0:Ny)*dy;\n",
        "\n",
        "\n",
        "boundary_index= [      1:nx,       1:nx:1+(ny-1)*nx, ....\n",
        "    1+(ny-1)*nx:nx*ny,     nx:nx:nx*ny                ];\n",
        "\n",
        "\n",
        "diagonals = [4*ones(nx*ny,1), -ones(nx*ny,4)];\n",
        "A = spdiags(diagonals, [0 -1  1 -nx  nx], nx*ny, nx*ny);\n",
        "I = speye(nx*ny);\n",
        "A(boundary_index,:) = I(boundary_index,:);\n",
        "\n",
        "\n",
        "%% set up boundary \n",
        "b= zeros(nx, ny);\n",
        "b(:,1) = 0;\n",
        "b(1,:) = 0;\n",
        "b(:,ny) = 4*x.*(1-x);\n",
        "b(nx,:) = 0;\n",
        "b = reshape(b, nx*ny,1);\n",
        "\n",
        "\n",
        "Phi = A\\b;\n",
        "Phi = reshape(Phi, nx,ny);\n",
        "\n",
        "\n",
        "[X,Y] = meshgrid(x,y);\n",
        "\n",
        "v = [0.8  0.6  0.4  0.2  0.1  0.05  0.01];\n",
        "contour(X,Y, Phi',v,'ShowText','on');\n",
        "axis equal;\n",
        "\n",
        "set(gca, 'YTick', [0  0.2  0.4  0.6  0.8  1]);\n",
        "set(gca,  'XTick', [0  0.2  0.4   0.6  0.8  1]);\n",
        "\n",
        "xlabel('$x$', 'Interpreter', 'latex','FontSize', 14);\n",
        "ylabel('$y$', 'Interpreter', 'latex','FontSize', 14);\n",
        "title('Solution of the Laplace equation','Interpreter', 'latex', 'FontSize',16);\n",
        "\n"
      ],
      "execution_count": null,
      "outputs": []
    }
  ]
}