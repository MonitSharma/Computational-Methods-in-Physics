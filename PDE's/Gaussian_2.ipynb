{
  "nbformat": 4,
  "nbformat_minor": 0,
  "metadata": {
    "anaconda-cloud": {},
    "kernelspec": {
      "display_name": "Python 3",
      "language": "python",
      "name": "python3"
    },
    "language_info": {
      "codemirror_mode": {
        "name": "ipython",
        "version": 3
      },
      "file_extension": ".py",
      "mimetype": "text/x-python",
      "name": "python",
      "nbconvert_exporter": "python",
      "pygments_lexer": "ipython3",
      "version": "3.6.5"
    },
    "colab": {
      "name": "Gaussian_2.ipynb",
      "provenance": []
    }
  },
  "cells": [
    {
      "cell_type": "markdown",
      "metadata": {
        "id": "9YHBOzPRgw9V"
      },
      "source": [
        "Computational Physics II"
      ]
    },
    {
      "cell_type": "markdown",
      "metadata": {
        "id": "-RQ4HolIgw9z"
      },
      "source": [
        "#### This notebook covers the following aspects:\n",
        "\n",
        "* Implementation of the 1D acoustic wave equation \n",
        "* Understanding the input parameters for the simulation and the plots that are generated\n",
        "* Understanding the concepts of stability (Courant criterion)\n",
        "* Modifying source and receiver locations and observing the effects on the seismograms\n",
        "\n",
        "#### Exercises:\n",
        "\n",
        "* Check out the FD algorithm in the last cell\n",
        "* Modify the frequency of the source wave let (e.g. in the interval 10 to 100 Hz) and observe how the solution accuracy changes\n",
        "* Increase the time step dt and observe what happens (at some point the solution gets unstable).\n",
        "\n",
        "\n",
        "* Error in the source time function and filter calculation corrected\n"
      ]
    },
    {
      "cell_type": "markdown",
      "metadata": {
        "id": "Rt1pF68Kgw93"
      },
      "source": [
        "#### Numerical Solution (Finite Differences Method)\n",
        "\n",
        "The acoustic wave equation in 1D with constant density \n",
        "\n",
        "$$\n",
        "\\partial^2_t p(x,t) \\ = \\ c(x)^2 \\partial_x^2 p(x,t) + s(x,t)\n",
        "$$\n",
        "\n",
        "with pressure $p$, acoustic velocity $c$, and source term $s$ contains two second derivatives that can be approximated with a difference formula such as\n",
        "\n",
        "$$\n",
        "\\partial^2_t p(x,t) \\ \\approx \\ \\frac{p(x,t+dt) - 2 p(x,t) + p(x,t-dt)}{dt^2} \n",
        "$$\n",
        "\n",
        "and equivalently for the space derivative. Injecting these approximations into the wave equation allows us to formulate the pressure p(x) for the time step $t+dt$ (the future) as a function of the pressure at time $t$ (now) and $t-dt$ (the past). This is called an explicit scheme allowing the $extrapolation$ of the space-dependent field into the future only looking at the nearest neighbourhood.\n",
        "\n",
        "We replace the time-dependent (upper index time, lower indices space) part by\n",
        "\n",
        "$$\n",
        " \\frac{p_{i}^{n+1} - 2 p_{i}^n + p_{i}^{n-1}}{\\mathrm{d}t^2} \\ = \\ c^2 ( \\partial_x^2 p) \\ + s_{i}^n\n",
        "$$\n",
        "\n",
        "solving for $p_{i}^{n+1}$.\n",
        "\n",
        "The extrapolation scheme is\n",
        "\n",
        "$$\n",
        "p_{i}^{n+1} \\ = \\ c_i^2 \\mathrm{d}t^2 \\left[ \\partial_x^2 p \\right]\n",
        "+ 2p_{i}^n - p_{i}^{n-1} + \\mathrm{d}t^2 s_{i}^n\n",
        "$$\n",
        "\n",
        "The  space derivatives are determined by \n",
        "\n",
        "$$\n",
        "\\partial_x^2 p \\ = \\ \\frac{p_{i+1}^{n} - 2 p_{i}^n + p_{i-1}^{n}}{\\mathrm{d}x^2}\n",
        "$$"
      ]
    },
    {
      "cell_type": "code",
      "metadata": {
        "ExecuteTime": {
          "end_time": "2018-12-28T11:48:29.368827Z",
          "start_time": "2018-12-28T11:48:29.361505Z"
        },
        "code_folding": [
          0
        ],
        "id": "QQrK1ED0gw97"
      },
      "source": [
        "# Import Libraries \n",
        "# ----------------------------------------------\n",
        "import numpy as np\n",
        "import matplotlib\n",
        "# Show Plot in The Notebook\n",
        "matplotlib.use(\"nbagg\")\n",
        "import matplotlib.pyplot as plt\n",
        "\n",
        "# Sub-plot Configuration\n",
        "# ----------------------\n",
        "from matplotlib import gridspec \n",
        "\n",
        "# Ignore Warning Messages\n",
        "# -----------------------\n",
        "import warnings\n",
        "warnings.filterwarnings(\"ignore\")"
      ],
      "execution_count": 1,
      "outputs": []
    },
    {
      "cell_type": "code",
      "metadata": {
        "ExecuteTime": {
          "end_time": "2018-12-28T11:48:29.384751Z",
          "start_time": "2018-12-28T11:48:29.374899Z"
        },
        "code_folding": [
          0
        ],
        "scrolled": false,
        "id": "QeBInhQqgw-D"
      },
      "source": [
        "# Parameter Configuration \n",
        "# -----------------------\n",
        "\n",
        "nx   = 10000        # number of grid points in x-direction\n",
        "xmax = 10000        # physical domain (m)\n",
        "dx   = xmax/(nx-1)  # grid point distance in x-direction\n",
        "c0   = 334.         # wave speed in medium (m/s)\n",
        "isrc = int(nx/2)    # source location in grid in x-direction\n",
        "#ir   = isrc + 100          # receiver location in grid in x-direction\n",
        "nt   = 1001         # maximum number of time steps\n",
        "dt   = 0.0010       # time step\n",
        "\n",
        "# Source time function parameters\n",
        "f0   = 25. # dominant frequency of the source (Hz)\n",
        "t0   = 4. / f0 # source time shift\n",
        "\n",
        "# Snapshot\n",
        "idisp = 5 # display frequency"
      ],
      "execution_count": 2,
      "outputs": []
    },
    {
      "cell_type": "code",
      "metadata": {
        "ExecuteTime": {
          "end_time": "2018-12-28T11:48:29.401368Z",
          "start_time": "2018-12-28T11:48:29.388700Z"
        },
        "code_folding": [
          0
        ],
        "id": "lgqyjGfDgw-F"
      },
      "source": [
        "# Plot Source Time Function\n",
        "# -------------------------\n",
        "\n",
        "# Source time function (Gaussian)\n",
        "# -------------------------------\n",
        "src  = np.zeros(nt + 1)\n",
        "time = np.linspace(0 * dt, nt * dt, nt)\n",
        "# 1st derivative of a Gaussian\n",
        "src  = -8. * (time - t0) * f0 * (np.exp(-1.0 * (4*f0) ** 2 * (time - t0) ** 2))\n",
        "\n"
      ],
      "execution_count": 3,
      "outputs": []
    },
    {
      "cell_type": "code",
      "metadata": {
        "ExecuteTime": {
          "end_time": "2018-12-28T11:48:29.482130Z",
          "start_time": "2018-12-28T11:48:29.409462Z"
        },
        "code_folding": [
          0
        ],
        "scrolled": false,
        "colab": {
          "base_uri": "https://localhost:8080/",
          "height": 404
        },
        "id": "gGpS8QlXgw-I",
        "outputId": "53b2914d-f0c3-48ab-ea25-9227644511a9"
      },
      "source": [
        "# Plot source time function\n",
        "\n",
        "# Plot position configuration\n",
        "# ---------------------------\n",
        "plt.ion()\n",
        "fig1 = plt.figure(figsize=(10, 6))\n",
        "gs1  = gridspec.GridSpec(1, 2, width_ratios=[1, 1], hspace=0.3, wspace=0.3)\n",
        "\n",
        "# Plot source time function\n",
        "# -------------------------\n",
        "ax1  = plt.subplot(gs1[0])\n",
        "ax1.plot(time, src) # plot source time function\n",
        "ax1.set_title('Source Time Function')\n",
        "ax1.set_xlim(time[0], time[-1])\n",
        "ax1.set_xlabel('Time (s)')\n",
        "ax1.set_ylabel('Amplitude')\n",
        "\n",
        "# Plot source spectrum\n",
        "# --------------------\n",
        "ax2  = plt.subplot(gs1[1])\n",
        "spec = np.fft.fft(src) # source time function in frequency domain\n",
        "freq = np.fft.fftfreq(spec.size, d = dt ) # time domain to frequency domain\n",
        "ax2.plot(np.abs(freq), np.abs(spec)) # plot frequency and amplitude\n",
        "ax2.set_xlim(0, 250) # only display frequency from 0 to 250 Hz\n",
        "ax2.set_title('Source Spectrum')\n",
        "ax2.set_xlabel('Frequency (Hz)')\n",
        "ax2.set_ylabel('Amplitude')\n",
        "\n",
        "ax2.yaxis.tick_right()\n",
        "ax2.yaxis.set_label_position(\"right\")\n",
        "\n",
        "plt.show()"
      ],
      "execution_count": 4,
      "outputs": [
        {
          "output_type": "display_data",
          "data": {
            "image/png": "[encoded data removed]",
            "text/plain": [
              "<Figure size 720x432 with 2 Axes>"
            ]
          },
          "metadata": {
            "needs_background": "light"
          }
        }
      ]
    },
    {
      "cell_type": "code",
      "metadata": {
        "ExecuteTime": {
          "end_time": "2018-12-28T11:48:29.605248Z",
          "start_time": "2018-12-28T11:48:29.492309Z"
        },
        "code_folding": [
          0
        ],
        "scrolled": false,
        "colab": {
          "base_uri": "https://localhost:8080/",
          "height": 404
        },
        "id": "fG-h1Ibvgw-P",
        "outputId": "3c60d83b-119e-412d-fa42-d96105c2a2f6"
      },
      "source": [
        "# Plot Snapshot & Seismogram \n",
        "# ---------------------------------------------------------------------------\n",
        "\n",
        "# Initialize empty pressure\n",
        "# -------------------------\n",
        "p    = np.zeros(nx) # p at time n (now)\n",
        "pold = np.zeros(nx) # p at time n-1 (past)\n",
        "pnew = np.zeros(nx) # p at time n+1 (present)\n",
        "d2px = np.zeros(nx) # 2nd space derivative of p\n",
        "\n",
        "# Initialize model (assume homogeneous model)\n",
        "# -------------------------------------------\n",
        "c    = np.zeros(nx)\n",
        "c    = c + c0       # initialize wave velocity in model\n",
        "\n",
        "# Initialize coordinate\n",
        "# ---------------------\n",
        "x    = np.arange(nx)\n",
        "x    = x * dx       # coordinate in x-direction\n",
        "\n",
        "\n",
        "# Plot position configuration\n",
        "# ---------------------------\n",
        "plt.ion()\n",
        "fig2  = plt.figure(figsize=(10, 6))\n",
        "gs2   = gridspec.GridSpec(1,1,width_ratios=[1],hspace=0.3, wspace=0.3)\n",
        "\n",
        "# Plot 1D wave propagation\n",
        "# ------------------------\n",
        "# Note: comma is needed to update the variable\n",
        "ax3  = plt.subplot(gs2[0])\n",
        "leg1,= ax3.plot(isrc, 0, 'r*', markersize=11) # plot position of the source in snapshot\n",
        "#leg2,= ax3.plot(ir, 0, 'k^', markersize=8) # plot position of the receiver in snapshot\n",
        "up31,= ax3.plot(p) # plot pressure update each time step\n",
        "ax3.set_xlim(0, xmax)\n",
        "ax3.set_ylim(-np.max(p), np.max(p))\n",
        "ax3.set_title('Time Step (nt) = 0')\n",
        "ax3.set_xlabel('x (m)')\n",
        "ax3.set_ylabel('Pressure Amplitude')\n",
        "#ax3.legend((leg1, leg2), ('Source', 'Receiver'), loc='upper right', fontsize=10, numpoints=1)\n",
        "\n",
        "\n",
        "plt.show()"
      ],
      "execution_count": 5,
      "outputs": [
        {
          "output_type": "display_data",
          "data": {
            "image/png": "[encoded data removed]",
            "text/plain": [
              "<Figure size 720x432 with 1 Axes>"
            ]
          },
          "metadata": {
            "needs_background": "light"
          }
        }
      ]
    },
    {
      "cell_type": "code",
      "metadata": {
        "ExecuteTime": {
          "end_time": "2018-12-28T11:48:40.895017Z",
          "start_time": "2018-12-28T11:48:29.608396Z"
        },
        "code_folding": [
          0
        ],
        "colab": {
          "base_uri": "https://localhost:8080/",
          "height": 34
        },
        "id": "Z-NnAtW_gw-S",
        "outputId": "593d1652-0841-4764-f90f-3fa48316b5a9"
      },
      "source": [
        "# 1D Wave Propagation (Finite Difference Solution) \n",
        "# ------------------------------------------------\n",
        "\n",
        "# Loop over time\n",
        "for it in range(nt):\n",
        "\n",
        "    # 2nd derivative in space\n",
        "    for i in range(1, nx - 1):\n",
        "        d2px[i] = (p[i + 1] - 2 * p[i] + p[i - 1]) / dx ** 2\n",
        "\n",
        "\n",
        "    # Time Extrapolation\n",
        "    # ------------------\n",
        "    pnew = 2 * p - pold + c ** 2 * dt ** 2 * d2px\n",
        "\n",
        "    # Add Source Term at isrc\n",
        "    # -----------------------\n",
        "    # Absolute pressure w.r.t analytical solution\n",
        "    pnew[isrc] = pnew[isrc] + src[it] / (dx) * dt ** 2\n",
        "    \n",
        "            \n",
        "    # Remap Time Levels\n",
        "    # -----------------\n",
        "    pold, p = p, pnew\n",
        "    \n",
        "    # Plot pressure field\n",
        "    # -------------------------------------\n",
        "    if (it % idisp) == 0:\n",
        "        ax3.set_title('Time Step (nt) = %d' % it)\n",
        "        ax3.set_ylim(-1.1*np.max(abs(p)), 1.1*np.max(abs(p)))\n",
        "        # plot around propagating wave\n",
        "        window=100;xshift=25\n",
        "        ax3.set_xlim(isrc*dx+c0*it*dt-window*dx-xshift, isrc*dx+c0*it*dt+window*dx-xshift)\n",
        "        up31.set_ydata(p)\n",
        "        plt.gcf().canvas.draw()"
      ],
      "execution_count": 6,
      "outputs": [
        {
          "output_type": "display_data",
          "data": {
            "text/plain": [
              "<Figure size 432x288 with 0 Axes>"
            ]
          },
          "metadata": {}
        }
      ]
    },
    {
      "cell_type": "code",
      "metadata": {
        "id": "ZEJGmwuqhMNA"
      },
      "source": [
        ""
      ],
      "execution_count": null,
      "outputs": []
    }
  ]
}